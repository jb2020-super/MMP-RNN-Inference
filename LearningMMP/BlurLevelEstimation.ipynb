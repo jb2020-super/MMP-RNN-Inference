{
 "cells": [
  {
   "cell_type": "code",
   "execution_count": 1,
   "metadata": {},
   "outputs": [],
   "source": [
    "import os\n",
    "os.environ[\"KMP_DUPLICATE_LIB_OK\"]=\"TRUE\""
   ]
  },
  {
   "cell_type": "code",
   "execution_count": 2,
   "metadata": {},
   "outputs": [],
   "source": [
    "import sys\n",
    "sys.path.append('core')\n",
    "\n",
    "import argparse\n",
    "import os\n",
    "import cv2\n",
    "import glob\n",
    "import numpy as np\n",
    "import torch\n",
    "from PIL import Image\n",
    "\n",
    "from raft import RAFT\n",
    "from utils import flow_viz\n",
    "from utils.utils import InputPadder\n",
    "\n",
    "DEVICE = 'cuda'"
   ]
  },
  {
   "cell_type": "code",
   "execution_count": 3,
   "metadata": {},
   "outputs": [
    {
     "data": {
      "text/plain": [
       "_StoreTrueAction(option_strings=['--alternate_corr'], dest='alternate_corr', nargs=0, const=True, default=False, type=None, choices=None, help='use efficent correlation implementation', metavar=None)"
      ]
     },
     "execution_count": 3,
     "metadata": {},
     "output_type": "execute_result"
    }
   ],
   "source": [
    "path='E:/gopro/GOPRO_Large_all/train/GOPR0374_11_01/'\n",
    "parser = argparse.ArgumentParser()\n",
    "\n",
    "parser.add_argument('--model',default='raft-small.pth', help=\"restore checkpoint\")\n",
    "parser.add_argument('--path',default=path, help=\"dataset for evaluation\")\n",
    "parser.add_argument('--small', action='store_false', help='use small model')\n",
    "parser.add_argument('--mixed_precision', action='store_true', help='use mixed precision')\n",
    "parser.add_argument('--alternate_corr', action='store_true', help='use efficent correlation implementation')"
   ]
  },
  {
   "cell_type": "code",
   "execution_count": 4,
   "metadata": {},
   "outputs": [],
   "source": [
    "args = parser.parse_args(args=[])"
   ]
  },
  {
   "cell_type": "code",
   "execution_count": 5,
   "metadata": {},
   "outputs": [],
   "source": [
    "def load_image(imfile):\n",
    "    img = np.array(Image.open(imfile)).astype(np.uint8)\n",
    "    img = torch.from_numpy(img).permute(2, 0, 1).float()\n",
    "    return img[None].to(DEVICE)"
   ]
  },
  {
   "cell_type": "markdown",
   "metadata": {},
   "source": [
    "## UNet"
   ]
  },
  {
   "cell_type": "code",
   "execution_count": 6,
   "metadata": {},
   "outputs": [],
   "source": [
    "import torch\n",
    "import torch.nn as nn\n",
    "import torch.nn.functional as F\n",
    "import numpy as np\n",
    "import random\n",
    "\n",
    "torch.manual_seed(39)\n",
    "torch.cuda.manual_seed(39)\n",
    "random.seed(39)\n",
    "np.random.seed(39)\n",
    "\n",
    "class DoubleConv(nn.Module):\n",
    "    \"\"\"(convolution => [BN] => ReLU) * 2\"\"\"\n",
    "\n",
    "    def __init__(self, in_channels, out_channels, mid_channels=None):\n",
    "        super().__init__()\n",
    "        if not mid_channels:\n",
    "            mid_channels = out_channels\n",
    "        self.double_conv = nn.Sequential(\n",
    "            nn.Conv2d(in_channels, mid_channels, kernel_size=3, padding=1),\n",
    "            nn.BatchNorm2d(mid_channels),\n",
    "            nn.ReLU(inplace=True),\n",
    "            nn.Conv2d(mid_channels, out_channels, kernel_size=3, padding=1),\n",
    "            nn.BatchNorm2d(out_channels),\n",
    "            nn.ReLU(inplace=True)\n",
    "        )\n",
    "\n",
    "    def forward(self, x):\n",
    "        return self.double_conv(x)\n",
    "    \n",
    "class SingleConv(nn.Module):\n",
    "    \"\"\"(convolution => [BN] => ReLU) * 2\"\"\"\n",
    "\n",
    "    def __init__(self, in_channels, out_channels):\n",
    "        super().__init__()\n",
    "        self.single_conv = nn.Sequential(\n",
    "            nn.Conv2d(in_channels, out_channels, kernel_size=3, padding=1),\n",
    "            nn.BatchNorm2d(out_channels),\n",
    "            nn.ReLU(inplace=True),\n",
    "        )\n",
    "\n",
    "    def forward(self, x):\n",
    "        return self.single_conv(x)\n",
    "\n",
    "\n",
    "class Down(nn.Module):\n",
    "    \"\"\"Downscaling with maxpool then double conv\"\"\"\n",
    "\n",
    "    def __init__(self, in_channels, out_channels):\n",
    "        super().__init__()\n",
    "        self.maxpool_conv = nn.Sequential(\n",
    "            nn.MaxPool2d(2),\n",
    "            DoubleConv(in_channels, out_channels)\n",
    "        )\n",
    "\n",
    "    def forward(self, x):\n",
    "        return self.maxpool_conv(x)\n",
    "\n",
    "\n",
    "class Up(nn.Module):\n",
    "    \"\"\"Upscaling then double conv\"\"\"\n",
    "\n",
    "    def __init__(self, in_channels, out_channels, bilinear=True):\n",
    "        super().__init__()\n",
    "\n",
    "        # if bilinear, use the normal convolutions to reduce the number of channels\n",
    "        if bilinear:\n",
    "            self.up = nn.Upsample(scale_factor=2, mode='bilinear', align_corners=True)\n",
    "            self.conv = DoubleConv(in_channels, out_channels)\n",
    "        else:\n",
    "            self.up = nn.ConvTranspose2d(in_channels , in_channels // 2, kernel_size=2, stride=2)\n",
    "            self.conv = DoubleConv(in_channels, out_channels)\n",
    "\n",
    "\n",
    "    def forward(self, x1, x2):\n",
    "        x1 = self.up(x1)\n",
    "        # input is CHW\n",
    "        diffY = x2.size()[2] - x1.size()[2]\n",
    "        diffX = x2.size()[3] - x1.size()[3]\n",
    "\n",
    "        x1 = F.pad(x1, [diffX // 2, diffX - diffX // 2,\n",
    "                        diffY // 2, diffY - diffY // 2])\n",
    "        # if you have padding issues, see\n",
    "        # https://github.com/HaiyongJiang/U-Net-Pytorch-Unstructured-Buggy/commit/0e854509c2cea854e247a9c615f175f76fbb2e3a\n",
    "        # https://github.com/xiaopeng-liao/Pytorch-UNet/commit/8ebac70e633bac59fc22bb5195e513d5832fb3bd\n",
    "        x = torch.cat([x2, x1], dim=1)\n",
    "        return self.conv(x)\n",
    "\n",
    "\n",
    "class OutConv(nn.Module):\n",
    "    def __init__(self, in_channels, out_channels):\n",
    "        super(OutConv, self).__init__()\n",
    "        self.conv = nn.Conv2d(in_channels, out_channels, kernel_size=1)\n",
    "\n",
    "    def forward(self, x):\n",
    "        return self.conv(x)"
   ]
  },
  {
   "cell_type": "code",
   "execution_count": 7,
   "metadata": {},
   "outputs": [],
   "source": [
    "def conv3x3(in_channels, out_channels, stride=1):\n",
    "    return nn.Conv2d(in_channels, out_channels, kernel_size=3, stride=stride, padding=1, bias=True)\n",
    "\n",
    "def conv1x1(in_channels, out_channels, stride=1):\n",
    "    return nn.Conv2d(in_channels, out_channels, kernel_size=1, stride=stride, padding=0, bias=True)\n",
    "\n",
    "def actFunc(act, *args, **kwargs):\n",
    "    act = act.lower()\n",
    "    if act == 'relu':\n",
    "        return nn.ReLU()\n",
    "    elif act == 'relu6':\n",
    "        return nn.ReLU6()\n",
    "    elif act == 'leakyrelu':\n",
    "        return nn.LeakyReLU(0.1)\n",
    "    elif act == 'prelu':\n",
    "        return nn.PReLU()\n",
    "    elif act == 'rrelu':\n",
    "        return nn.RReLU(0.1, 0.3)\n",
    "    elif act == 'selu':\n",
    "        return nn.SELU()\n",
    "    elif act == 'celu':\n",
    "        return nn.CELU()\n",
    "    elif act == 'elu':\n",
    "        return nn.ELU()\n",
    "    elif act == 'gelu':\n",
    "        return nn.GELU()\n",
    "    elif act == 'tanh':\n",
    "        return nn.Tanh()\n",
    "    else:\n",
    "        raise NotImplementedError"
   ]
  },
  {
   "cell_type": "code",
   "execution_count": 8,
   "metadata": {},
   "outputs": [],
   "source": [
    "# Dense layer\n",
    "class dense_layer(nn.Module):\n",
    "    def __init__(self, in_channels, growthRate, activation='gelu'):\n",
    "        super(dense_layer, self).__init__()\n",
    "        self.conv = conv3x3(in_channels, growthRate)\n",
    "        self.act = actFunc(activation)\n",
    "\n",
    "    def forward(self, x):\n",
    "        out = self.act(self.conv(x))\n",
    "        out = torch.cat((x, out), 1)\n",
    "        return out\n",
    "\n",
    "# Residual dense block\n",
    "class RDB(nn.Module):\n",
    "    def __init__(self, in_channels, growthRate, num_layer, activation='gelu'):\n",
    "        super(RDB, self).__init__()\n",
    "        in_channels_ = in_channels\n",
    "        modules = []\n",
    "        \n",
    "        for i in range(num_layer):\n",
    "            modules.append(dense_layer(in_channels_, growthRate, activation))\n",
    "            in_channels_ += growthRate\n",
    "        self.dense_layers = nn.Sequential(*modules)\n",
    "        self.conv1x1 = conv1x1(in_channels_, in_channels)\n",
    "        \n",
    "\n",
    "    def forward(self, x):\n",
    "        out = self.dense_layers(x)\n",
    "       \n",
    "        out = self.conv1x1(out)\n",
    "        out += x\n",
    "        return out\n",
    "\n",
    "# Middle network of residual dense blocks\n",
    "class RDNet(nn.Module):\n",
    "    def __init__(self, in_channels, growthRate, num_layer, num_blocks, activation='gelu'):\n",
    "        super(RDNet, self).__init__()\n",
    "        self.num_blocks = num_blocks\n",
    "        self.RDBs = nn.ModuleList()\n",
    "        for i in range(num_blocks):\n",
    "            self.RDBs.append(RDB(in_channels, growthRate, num_layer, activation))\n",
    "        self.conv1x1 = conv1x1(num_blocks * in_channels, in_channels)\n",
    "        self.conv3x3 = conv3x3(in_channels, in_channels)\n",
    "\n",
    "    def forward(self, x):\n",
    "        out = []\n",
    "        h = x\n",
    "        for i in range(self.num_blocks):\n",
    "            h = self.RDBs[i](h)\n",
    "            out.append(h)\n",
    "        out = torch.cat(out, dim=1)\n",
    "        out = self.conv1x1(out)\n",
    "        out = self.conv3x3(out)\n",
    "        return out"
   ]
  },
  {
   "cell_type": "code",
   "execution_count": 9,
   "metadata": {},
   "outputs": [],
   "source": [
    "class UNet(nn.Module):\n",
    "    def __init__(self, n_channels=3, n_classes=1, bilinear=True):\n",
    "        super(UNet, self).__init__()\n",
    "        self.n_channels = n_channels\n",
    "        self.n_classes = n_classes\n",
    "        self.bilinear = bilinear\n",
    "        \n",
    "        self.conv9x9 = nn.Conv2d(3,16, kernel_size=9, stride=1, padding=4, bias =True)\n",
    "        self.inc = DoubleConv(16, 32)\n",
    "        self.down1 = Down(32, 64)\n",
    "        self.down2 = Down(64, 128)\n",
    "        self.down3 = Down(128, 256)\n",
    "        factor = 2 if bilinear else 1\n",
    "        self.down4 = Down(256, 512 // factor)\n",
    "        self.up1 = Up(512, 256 // factor, bilinear)\n",
    "        self.up2 = Up(256, 128 // factor, bilinear)\n",
    "        self.up3 = Up(128, 64 // factor, bilinear)\n",
    "        self.up4 = Up(64, 32, bilinear)\n",
    "        self.refine = RDB(32,16,3)\n",
    "        self.outc = OutConv(32, n_classes)\n",
    "        #self.depth_layer = SoftAttnDepth()\n",
    "\n",
    "    def forward(self, x):\n",
    "        x = self.conv9x9(x)\n",
    "        x1 = self.inc(x)\n",
    "        x2 = self.down1(x1)\n",
    "        x3 = self.down2(x2)\n",
    "        x4 = self.down3(x3)\n",
    "        x5 = self.down4(x4)\n",
    "        x = self.up1(x5, x4)\n",
    "        x = self.up2(x, x3)\n",
    "        x = self.up3(x, x2)\n",
    "        x = self.up4(x, x1)\n",
    "        x = self.refine(x)\n",
    "        x = self.outc(x)\n",
    "        x = F.sigmoid(x)\n",
    "        #x,pr = self.depth_layer(x)\n",
    "        return x"
   ]
  },
  {
   "cell_type": "code",
   "execution_count": 10,
   "metadata": {},
   "outputs": [],
   "source": [
    "x = torch.randn(1, 3, 720, 1280).cuda()"
   ]
  },
  {
   "cell_type": "code",
   "execution_count": 11,
   "metadata": {},
   "outputs": [
    {
     "name": "stdout",
     "output_type": "stream",
     "text": [
      "[INFO] Register count_convNd() for <class 'torch.nn.modules.conv.Conv2d'>.\n",
      "[INFO] Register count_bn() for <class 'torch.nn.modules.batchnorm.BatchNorm2d'>.\n",
      "[INFO] Register zero_ops() for <class 'torch.nn.modules.activation.ReLU'>.\n",
      "\u001b[91m[WARN] Cannot find rule for <class 'torch.nn.modules.container.Sequential'>. Treat it as zero Macs and zero Params.\u001b[00m\n",
      "\u001b[91m[WARN] Cannot find rule for <class '__main__.DoubleConv'>. Treat it as zero Macs and zero Params.\u001b[00m\n",
      "[INFO] Register zero_ops() for <class 'torch.nn.modules.pooling.MaxPool2d'>.\n",
      "\u001b[91m[WARN] Cannot find rule for <class '__main__.Down'>. Treat it as zero Macs and zero Params.\u001b[00m\n",
      "[INFO] Register count_upsample() for <class 'torch.nn.modules.upsampling.Upsample'>.\n",
      "\u001b[91m[WARN] Cannot find rule for <class '__main__.Up'>. Treat it as zero Macs and zero Params.\u001b[00m\n",
      "\u001b[91m[WARN] Cannot find rule for <class 'torch.nn.modules.activation.GELU'>. Treat it as zero Macs and zero Params.\u001b[00m\n",
      "\u001b[91m[WARN] Cannot find rule for <class '__main__.dense_layer'>. Treat it as zero Macs and zero Params.\u001b[00m\n",
      "\u001b[91m[WARN] Cannot find rule for <class '__main__.RDB'>. Treat it as zero Macs and zero Params.\u001b[00m\n",
      "\u001b[91m[WARN] Cannot find rule for <class '__main__.OutConv'>. Treat it as zero Macs and zero Params.\u001b[00m\n",
      "\u001b[91m[WARN] Cannot find rule for <class '__main__.UNet'>. Treat it as zero Macs and zero Params.\u001b[00m\n",
      "138.910G\n"
     ]
    },
    {
     "name": "stderr",
     "output_type": "stream",
     "text": [
      "C:\\ProgramData\\Anaconda3\\lib\\site-packages\\torch\\nn\\functional.py:1614: UserWarning: nn.functional.sigmoid is deprecated. Use torch.sigmoid instead.\n",
      "  warnings.warn(\"nn.functional.sigmoid is deprecated. Use torch.sigmoid instead.\")\n"
     ]
    }
   ],
   "source": [
    "from thop import clever_format\n",
    "from thop import profile\n",
    "\n",
    "model=UNet()\n",
    "\n",
    "input = torch.randn(1, 3, 720, 1280)\n",
    "flops, params = profile(model, inputs=(input, ))\n",
    "flops, params = clever_format([flops, params], \"%.3f\")\n",
    "print(flops)"
   ]
  },
  {
   "cell_type": "markdown",
   "metadata": {},
   "source": [
    "## Data generation"
   ]
  },
  {
   "cell_type": "code",
   "execution_count": 14,
   "metadata": {},
   "outputs": [],
   "source": [
    "pathlist_train=[]\n",
    "pathlist_test=[]\n",
    "pathlist_train.append('E:/gopro/BLE_raw_bi_large/train/GOPR0372_07_00/')\n",
    "pathlist_train.append('E:/gopro/BLE_raw_bi_large/train/GOPR0372_07_01/')\n",
    "pathlist_train.append('E:/gopro/BLE_raw_bi_large/train/GOPR0374_11_00/')\n",
    "pathlist_train.append('E:/gopro/BLE_raw_bi_large/train/GOPR0374_11_01/')\n",
    "pathlist_train.append('E:/gopro/BLE_raw_bi_large/train/GOPR0374_11_02/')\n",
    "pathlist_train.append('E:/gopro/BLE_raw_bi_large/train/GOPR0374_11_03/')\n",
    "pathlist_train.append('E:/gopro/BLE_raw_bi_large/train/GOPR0378_13_00/')\n",
    "pathlist_train.append('E:/gopro/BLE_raw_bi_large/train/GOPR0379_11_00/')\n",
    "pathlist_train.append('E:/gopro/BLE_raw_bi_large/train/GOPR0380_11_00/')\n",
    "pathlist_train.append('E:/gopro/BLE_raw_bi_large/train/GOPR0384_11_01/')\n",
    "pathlist_train.append('E:/gopro/BLE_raw_bi_large/train/GOPR0384_11_02/')\n",
    "pathlist_train.append('E:/gopro/BLE_raw_bi_large/train/GOPR0384_11_03/')\n",
    "pathlist_train.append('E:/gopro/BLE_raw_bi_large/train/GOPR0384_11_04/')\n",
    "pathlist_train.append('E:/gopro/BLE_raw_bi_large/train/GOPR0385_11_00/')\n",
    "pathlist_train.append('E:/gopro/BLE_raw_bi_large/train/GOPR0386_11_00/')\n",
    "pathlist_train.append('E:/gopro/BLE_raw_bi_large/train/GOPR0477_11_00/')\n",
    "pathlist_train.append('E:/gopro/BLE_raw_bi_large/train/GOPR0857_11_00/')\n",
    "pathlist_train.append('E:/gopro/BLE_raw_bi_large/train/GOPR0868_11_01/')\n",
    "pathlist_train.append('E:/gopro/BLE_raw_bi_large/train/GOPR0868_11_02/')\n",
    "pathlist_train.append('E:/gopro/BLE_raw_bi_large/train/GOPR0871_11_01/')\n",
    "pathlist_train.append('E:/gopro/BLE_raw_bi_large/train/GOPR0881_11_00/')\n",
    "pathlist_train.append('E:/gopro/BLE_raw_bi_large/train/GOPR0884_11_00/')\n",
    "pathlist_test.append('E:/gopro/BLE_raw_bi/test/GOPR0384_11_00/')\n",
    "pathlist_test.append('E:/gopro/BLE_raw_bi/test/GOPR0384_11_05/')\n",
    "pathlist_test.append('E:/gopro/BLE_raw_bi/test/GOPR0385_11_01/')\n",
    "pathlist_test.append('E:/gopro/BLE_raw_bi/test/GOPR0396_11_00/')\n",
    "pathlist_test.append('E:/gopro/BLE_raw_bi/test/GOPR0410_11_00/')\n",
    "pathlist_test.append('E:/gopro/BLE_raw_bi/test/GOPR0854_11_00/')\n",
    "pathlist_test.append('E:/gopro/BLE_raw_bi/test/GOPR0862_11_00/')\n",
    "pathlist_test.append('E:/gopro/BLE_raw_bi/test/GOPR0868_11_00/')\n",
    "pathlist_test.append('E:/gopro/BLE_raw_bi/test/GOPR0869_11_00/')\n",
    "pathlist_test.append('E:/gopro/BLE_raw_bi/test/GOPR0871_11_00/')\n",
    "pathlist_test.append('E:/gopro/BLE_raw_bi/test/GOPR0881_11_01/')"
   ]
  },
  {
   "cell_type": "code",
   "execution_count": 15,
   "metadata": {},
   "outputs": [
    {
     "name": "stdout",
     "output_type": "stream",
     "text": [
      "E:/gopro/BLE_raw_bi_large/bl_train/GOPR0372_07_00/*.npy\n",
      "E:/gopro/BLE_raw_bi_large/bl_train/GOPR0372_07_01/*.npy\n",
      "E:/gopro/BLE_raw_bi_large/bl_train/GOPR0374_11_00/*.npy\n",
      "E:/gopro/BLE_raw_bi_large/bl_train/GOPR0374_11_01/*.npy\n",
      "E:/gopro/BLE_raw_bi_large/bl_train/GOPR0374_11_02/*.npy\n",
      "E:/gopro/BLE_raw_bi_large/bl_train/GOPR0374_11_03/*.npy\n",
      "E:/gopro/BLE_raw_bi_large/bl_train/GOPR0378_13_00/*.npy\n",
      "E:/gopro/BLE_raw_bi_large/bl_train/GOPR0379_11_00/*.npy\n",
      "E:/gopro/BLE_raw_bi_large/bl_train/GOPR0380_11_00/*.npy\n",
      "E:/gopro/BLE_raw_bi_large/bl_train/GOPR0384_11_01/*.npy\n",
      "E:/gopro/BLE_raw_bi_large/bl_train/GOPR0384_11_02/*.npy\n",
      "E:/gopro/BLE_raw_bi_large/bl_train/GOPR0384_11_03/*.npy\n",
      "E:/gopro/BLE_raw_bi_large/bl_train/GOPR0384_11_04/*.npy\n",
      "E:/gopro/BLE_raw_bi_large/bl_train/GOPR0385_11_00/*.npy\n",
      "E:/gopro/BLE_raw_bi_large/bl_train/GOPR0386_11_00/*.npy\n",
      "E:/gopro/BLE_raw_bi_large/bl_train/GOPR0477_11_00/*.npy\n",
      "E:/gopro/BLE_raw_bi_large/bl_train/GOPR0857_11_00/*.npy\n",
      "E:/gopro/BLE_raw_bi_large/bl_train/GOPR0868_11_01/*.npy\n",
      "E:/gopro/BLE_raw_bi_large/bl_train/GOPR0868_11_02/*.npy\n",
      "E:/gopro/BLE_raw_bi_large/bl_train/GOPR0871_11_01/*.npy\n",
      "E:/gopro/BLE_raw_bi_large/bl_train/GOPR0881_11_00/*.npy\n",
      "E:/gopro/BLE_raw_bi_large/bl_train/GOPR0884_11_00/*.npy\n"
     ]
    }
   ],
   "source": [
    "import glob\n",
    "from sklearn.model_selection import train_test_split\n",
    "path_train=[]\n",
    "write_path=\"E:/gopro/BLE_raw_bi_large/train.txt\"\n",
    "for path in pathlist_train:\n",
    "    files=path+\"*.png\"\n",
    "    blur=glob.glob(files)\n",
    "    blur.sort()\n",
    "    files=files.replace(\"train\",\"bl_train\")\n",
    "    files=files.replace(\"*.png\",\"*.npy\")\n",
    "    print(files)\n",
    "    ble=glob.glob(files)\n",
    "    ble.sort()\n",
    "    for i in range(len(ble)):\n",
    "        #print(i)\n",
    "        #print(blur[i])\n",
    "        line=blur[i]+' '+ble[i]\n",
    "        path_train.append(line)\n",
    "        \n",
    "path_train_trim,_=train_test_split(path_train,train_size=0.7,shuffle=True)\n",
    "f=open(write_path,mode=\"w\")\n",
    "for line in path_train_trim:\n",
    "    f.write(line)\n",
    "    f.write('\\n')\n",
    "f.close()    "
   ]
  },
  {
   "cell_type": "code",
   "execution_count": 16,
   "metadata": {},
   "outputs": [
    {
     "name": "stdout",
     "output_type": "stream",
     "text": [
      "22417\n",
      "15691\n"
     ]
    }
   ],
   "source": [
    "print(len(path_train))\n",
    "print(len(path_train_trim))"
   ]
  },
  {
   "cell_type": "code",
   "execution_count": null,
   "metadata": {},
   "outputs": [],
   "source": []
  },
  {
   "cell_type": "code",
   "execution_count": 30,
   "metadata": {},
   "outputs": [
    {
     "name": "stdout",
     "output_type": "stream",
     "text": [
      "E:/gopro/GOPRO_Large/test/GOPR0384_11_00/blur_gamma/*.png\n",
      "E:/gopro/GOPRO_Large/test/GOPR0384_11_05/blur_gamma/*.png\n",
      "E:/gopro/GOPRO_Large/test/GOPR0385_11_01/blur_gamma/*.png\n",
      "E:/gopro/GOPRO_Large/test/GOPR0396_11_00/blur_gamma/*.png\n",
      "E:/gopro/GOPRO_Large/test/GOPR0410_11_00/blur_gamma/*.png\n",
      "E:/gopro/GOPRO_Large/test/GOPR0854_11_00/blur_gamma/*.png\n",
      "E:/gopro/GOPRO_Large/test/GOPR0862_11_00/blur_gamma/*.png\n",
      "E:/gopro/GOPRO_Large/test/GOPR0868_11_00/blur_gamma/*.png\n",
      "E:/gopro/GOPRO_Large/test/GOPR0869_11_00/blur_gamma/*.png\n",
      "E:/gopro/GOPRO_Large/test/GOPR0871_11_00/blur_gamma/*.png\n",
      "E:/gopro/GOPRO_Large/test/GOPR0881_11_01/blur_gamma/*.png\n"
     ]
    }
   ],
   "source": [
    "import glob\n",
    "from sklearn.model_selection import train_test_split\n",
    "path_test=[]\n",
    "save_path = \"E:/gopro/BLE_raw_bi_large/test.txt\"\n",
    "write_path=\"E:/gopro/BLE_raw_bi/test.txt\"\n",
    "for path in pathlist_test:\n",
    "    files=path+\"*.npy\"\n",
    "    ble=glob.glob(files)\n",
    "    ble.sort()\n",
    "    files=files.replace(\"BLE_raw_bi\",\"GOPRO_Large\")\n",
    "    files=files.replace(\"*.npy\",\"blur_gamma/*.png\")\n",
    "    print(files)\n",
    "    blur=glob.glob(files)\n",
    "    blur.sort()\n",
    "    for i in range(len(ble)):\n",
    "        #print(blur[i])\n",
    "        line=blur[i]+' '+ble[i]\n",
    "        path_test.append(line)\n",
    "        \n",
    "#path_train_trim,_=train_test_split(path_train,train_size=0.5,shuffle=True)\n",
    "f=open(save_path,mode=\"w\")\n",
    "for line in path_test:\n",
    "    f.write(line)\n",
    "    f.write('\\n')\n",
    "f.close()  "
   ]
  },
  {
   "cell_type": "code",
   "execution_count": 29,
   "metadata": {},
   "outputs": [
    {
     "ename": "ValueError",
     "evalue": "With n_samples=0, test_size=None and train_size=0.5, the resulting train set will be empty. Adjust any of the aforementioned parameters.",
     "output_type": "error",
     "traceback": [
      "\u001b[1;31m---------------------------------------------------------------------------\u001b[0m",
      "\u001b[1;31mValueError\u001b[0m                                Traceback (most recent call last)",
      "\u001b[1;32m<ipython-input-29-717ac9faed1f>\u001b[0m in \u001b[0;36m<module>\u001b[1;34m\u001b[0m\n\u001b[0;32m     14\u001b[0m         \u001b[0mpath_test\u001b[0m\u001b[1;33m.\u001b[0m\u001b[0mappend\u001b[0m\u001b[1;33m(\u001b[0m\u001b[0mline\u001b[0m\u001b[1;33m)\u001b[0m\u001b[1;33m\u001b[0m\u001b[1;33m\u001b[0m\u001b[0m\n\u001b[0;32m     15\u001b[0m \u001b[1;33m\u001b[0m\u001b[0m\n\u001b[1;32m---> 16\u001b[1;33m \u001b[0mpath_test_trim\u001b[0m\u001b[1;33m,\u001b[0m\u001b[0m_\u001b[0m\u001b[1;33m=\u001b[0m\u001b[0mtrain_test_split\u001b[0m\u001b[1;33m(\u001b[0m\u001b[0mpath_test\u001b[0m\u001b[1;33m,\u001b[0m\u001b[0mtrain_size\u001b[0m\u001b[1;33m=\u001b[0m\u001b[1;36m0.5\u001b[0m\u001b[1;33m,\u001b[0m\u001b[0mshuffle\u001b[0m\u001b[1;33m=\u001b[0m\u001b[1;32mTrue\u001b[0m\u001b[1;33m)\u001b[0m\u001b[1;33m\u001b[0m\u001b[1;33m\u001b[0m\u001b[0m\n\u001b[0m\u001b[0;32m     17\u001b[0m \u001b[0mf\u001b[0m\u001b[1;33m=\u001b[0m\u001b[0mopen\u001b[0m\u001b[1;33m(\u001b[0m\u001b[0msave_path\u001b[0m\u001b[1;33m,\u001b[0m\u001b[0mmode\u001b[0m\u001b[1;33m=\u001b[0m\u001b[1;34m\"w\"\u001b[0m\u001b[1;33m)\u001b[0m\u001b[1;33m\u001b[0m\u001b[1;33m\u001b[0m\u001b[0m\n\u001b[0;32m     18\u001b[0m \u001b[1;32mfor\u001b[0m \u001b[0mline\u001b[0m \u001b[1;32min\u001b[0m \u001b[0mpath_test_trim\u001b[0m\u001b[1;33m:\u001b[0m\u001b[1;33m\u001b[0m\u001b[1;33m\u001b[0m\u001b[0m\n",
      "\u001b[1;32mC:\\ProgramData\\Anaconda3\\lib\\site-packages\\sklearn\\model_selection\\_split.py\u001b[0m in \u001b[0;36mtrain_test_split\u001b[1;34m(*arrays, **options)\u001b[0m\n\u001b[0;32m   2128\u001b[0m \u001b[1;33m\u001b[0m\u001b[0m\n\u001b[0;32m   2129\u001b[0m     \u001b[0mn_samples\u001b[0m \u001b[1;33m=\u001b[0m \u001b[0m_num_samples\u001b[0m\u001b[1;33m(\u001b[0m\u001b[0marrays\u001b[0m\u001b[1;33m[\u001b[0m\u001b[1;36m0\u001b[0m\u001b[1;33m]\u001b[0m\u001b[1;33m)\u001b[0m\u001b[1;33m\u001b[0m\u001b[1;33m\u001b[0m\u001b[0m\n\u001b[1;32m-> 2130\u001b[1;33m     n_train, n_test = _validate_shuffle_split(n_samples, test_size, train_size,\n\u001b[0m\u001b[0;32m   2131\u001b[0m                                               default_test_size=0.25)\n\u001b[0;32m   2132\u001b[0m \u001b[1;33m\u001b[0m\u001b[0m\n",
      "\u001b[1;32mC:\\ProgramData\\Anaconda3\\lib\\site-packages\\sklearn\\model_selection\\_split.py\u001b[0m in \u001b[0;36m_validate_shuffle_split\u001b[1;34m(n_samples, test_size, train_size, default_test_size)\u001b[0m\n\u001b[0;32m   1808\u001b[0m \u001b[1;33m\u001b[0m\u001b[0m\n\u001b[0;32m   1809\u001b[0m     \u001b[1;32mif\u001b[0m \u001b[0mn_train\u001b[0m \u001b[1;33m==\u001b[0m \u001b[1;36m0\u001b[0m\u001b[1;33m:\u001b[0m\u001b[1;33m\u001b[0m\u001b[1;33m\u001b[0m\u001b[0m\n\u001b[1;32m-> 1810\u001b[1;33m         raise ValueError(\n\u001b[0m\u001b[0;32m   1811\u001b[0m             \u001b[1;34m'With n_samples={}, test_size={} and train_size={}, the '\u001b[0m\u001b[1;33m\u001b[0m\u001b[1;33m\u001b[0m\u001b[0m\n\u001b[0;32m   1812\u001b[0m             \u001b[1;34m'resulting train set will be empty. Adjust any of the '\u001b[0m\u001b[1;33m\u001b[0m\u001b[1;33m\u001b[0m\u001b[0m\n",
      "\u001b[1;31mValueError\u001b[0m: With n_samples=0, test_size=None and train_size=0.5, the resulting train set will be empty. Adjust any of the aforementioned parameters."
     ]
    }
   ],
   "source": [
    "import glob\n",
    "from sklearn.model_selection import train_test_split\n",
    "path_test=[]\n",
    "save_path = \"E:/gopro/BLE_raw_bi_large/test.txt\"\n",
    "write_path=\"E:/gopro/BLE_raw_bi/test.txt\"\n",
    "\n",
    "for path in pathlist_test:\n",
    "    files=path+\"*.png\"\n",
    "    blur=glob.glob(files)\n",
    "    blur.sort()\n",
    "    for i in range(len(blur)):\n",
    "        ble=blur[i].replace(\"test\",\"bl_test\")\n",
    "        line=blur[i]+' '+ble\n",
    "        path_test.append(line)\n",
    "\n",
    "path_test_trim,_=train_test_split(path_test,train_size=0.5,shuffle=True)        \n",
    "f=open(save_path,mode=\"w\")\n",
    "for line in path_test_trim:\n",
    "    f.write(line)\n",
    "    f.write('\\n')\n",
    "f.close()   \n"
   ]
  },
  {
   "cell_type": "code",
   "execution_count": 22,
   "metadata": {},
   "outputs": [
    {
     "name": "stdout",
     "output_type": "stream",
     "text": [
      "1111\n"
     ]
    }
   ],
   "source": [
    "print(len(path_test))\n",
    "#print(len(path_test_trim))"
   ]
  },
  {
   "cell_type": "markdown",
   "metadata": {},
   "source": [
    "## Dataset"
   ]
  },
  {
   "cell_type": "code",
   "execution_count": 17,
   "metadata": {},
   "outputs": [],
   "source": [
    "import numpy as np\n",
    "import torch\n",
    "\n",
    "class Crop(object):\n",
    "    \"\"\"\n",
    "    Crop randomly the image in a sample.\n",
    "    Args: output_size (tuple or int): Desired output size. If int, square crop is made.\n",
    "    \"\"\"\n",
    "\n",
    "    def __init__(self, output_size):\n",
    "        assert isinstance(output_size, (int, tuple, list))\n",
    "        if isinstance(output_size, int):\n",
    "            self.output_size = (output_size, output_size)\n",
    "        else:\n",
    "            assert len(output_size) == 2\n",
    "            self.output_size = output_size\n",
    "\n",
    "    def __call__(self, sample):\n",
    "        image, label = sample['image'], sample['label']\n",
    "        top, left = sample['top'], sample['left']\n",
    "        new_h, new_w = self.output_size\n",
    "        sample['image'] = image[top: top + new_h,\n",
    "                          left: left + new_w]\n",
    "        sample['label'] = label[top: top + new_h,\n",
    "                          left: left + new_w]\n",
    "\n",
    "        return sample\n",
    "\n",
    "\n",
    "class Flip(object):\n",
    "    \"\"\"\n",
    "    shape is (h,w,c)\n",
    "    \"\"\"\n",
    "\n",
    "    def __call__(self, sample):\n",
    "        flag_lr = sample['flip_lr']\n",
    "        flag_ud = sample['flip_ud']\n",
    "        if flag_lr == 1:\n",
    "            sample['image'] = np.fliplr(sample['image'])\n",
    "            sample['label'] = np.fliplr(sample['label'])\n",
    "        if flag_ud == 1:\n",
    "            sample['image'] = np.flipud(sample['image'])\n",
    "            sample['label'] = np.flipud(sample['label'])\n",
    "\n",
    "        return sample\n",
    "\n",
    "\n",
    "class Rotate(object):\n",
    "    \"\"\"\n",
    "    shape is (h,w,c)\n",
    "    \"\"\"\n",
    "\n",
    "    def __call__(self, sample):\n",
    "        flag = sample['rotate']\n",
    "        if flag == 1:\n",
    "            sample['image'] = sample['image'].transpose(1, 0, 2)\n",
    "            sample['label'] = sample['label'].transpose(1, 0, 2)\n",
    "\n",
    "        return sample\n",
    "\n",
    "\n",
    "class ToTensor(object):\n",
    "    \"\"\"\n",
    "    Convert ndarrays in sample to Tensors.\n",
    "    \"\"\"\n",
    "\n",
    "    def __call__(self, sample):\n",
    "        image, label = sample['image'], sample['label']\n",
    "        # swap color axis because\n",
    "        # numpy image: H x W x C\n",
    "        # torch image: C X H X W\n",
    "        image = np.ascontiguousarray(image.transpose((2, 0, 1)))\n",
    "        label = np.ascontiguousarray(label.transpose((2, 0, 1)))\n",
    "        sample['image'] = torch.from_numpy(image).float()/255.0-0.5\n",
    "        sample['label'] = torch.from_numpy(label).float()\n",
    "        return sample\n",
    "\n"
   ]
  },
  {
   "cell_type": "code",
   "execution_count": 18,
   "metadata": {},
   "outputs": [],
   "source": [
    "from PIL import Image, ImageOps\n",
    "import torch\n",
    "import torch.nn as nn\n",
    "import torch.nn.functional as F\n",
    "from torch.utils.data import Dataset\n",
    "import torchvision.transforms as transforms\n",
    "import os\n",
    "import numpy as np\n",
    "import matplotlib.pyplot as plt\n",
    "from torchvision.transforms.functional import to_pil_image\n",
    "from PIL import Image, ImageOps\n",
    "#from skimage import filters\n",
    "from PIL import ImageFilter\n",
    "import random\n",
    "\n",
    "\n",
    "torch.manual_seed(3)\n",
    "\n",
    "class BLEDataset(Dataset):\n",
    "    def __init__(self,label_dir,train=True):\n",
    "        \n",
    "        self.train = train\n",
    "        self.crop_size=512\n",
    "        self.crop_h=self.crop_size\n",
    "        self.crop_w=self.crop_size\n",
    "        self.W = 1280\n",
    "        self.H = 720\n",
    "        self.C = 3\n",
    "        self.transform = transforms.Compose([Crop(self.crop_size), Flip(), ToTensor()])\n",
    "        \n",
    "        \n",
    "        with open(label_dir) as f:\n",
    "            lines = f.readlines()\n",
    "            self.length = len(lines)\n",
    "            self.path2blurlist = []\n",
    "            self.path2blelist=[]\n",
    "            \n",
    "            \n",
    "        \n",
    "            for data in lines:\n",
    "                data = data.strip('\\n')\n",
    "                path2blur,path2ble= data.split(' ')\n",
    "                self.path2blurlist.append(path2blur)\n",
    "                self.path2blelist.append(path2ble)\n",
    "                \n",
    "    def __len__(self):\n",
    "        return self.length\n",
    "\n",
    "    def __getitem__(self,idx):\n",
    "     \n",
    "        blur = Image.open(self.path2blurlist[idx])\n",
    "        ble =  np.load(self.path2blelist[idx])\n",
    "        \n",
    "        \n",
    "\n",
    "\n",
    "        \n",
    "        #blur = blur.resize((960,540))\n",
    "        #ble = ble.resize((960,540))\n",
    "        \n",
    "       \n",
    "        \n",
    "        if self.train:\n",
    "            \n",
    "            top = random.randint(0, self.H - self.crop_h)\n",
    "            left = random.randint(0, self.W - self.crop_w)\n",
    "            flip_lr_flag = random.randint(0, 1)\n",
    "            flip_ud_flag = random.randint(0, 1)\n",
    "            sample = {'top': top, 'left': left, 'flip_lr': flip_lr_flag, 'flip_ud': flip_ud_flag}\n",
    "            blur =  np.asarray(blur)\n",
    "            #blurr = blur[:,:,::-1]\n",
    "            sample['image']=blur\n",
    "            ble=np.asarray(ble)\n",
    "            sample['label'] = np.asarray(ble[:,:,np.newaxis])\n",
    "            sample = self.transform(sample)\n",
    "            \n",
    "        else:\n",
    "            \n",
    "            top = (self.H - self.crop_h)//2\n",
    "            left = (self.W - self.crop_w)//2\n",
    "            flip_lr_flag = 0\n",
    "            flip_ud_flag = 0\n",
    "            sample = {'top': top, 'left': left, 'flip_lr': flip_lr_flag, 'flip_ud': flip_ud_flag}\n",
    "            blur =  np.asarray(blur)\n",
    "            #blurr = blur[:,:,::-1]\n",
    "            sample['image']=blur\n",
    "            ble=np.asarray(ble)\n",
    "            sample['label'] = np.asarray(ble[:,:,np.newaxis])\n",
    "            sample = self.transform(sample)\n",
    "          \n",
    "        return sample['image'], sample['label']"
   ]
  },
  {
   "cell_type": "code",
   "execution_count": 19,
   "metadata": {},
   "outputs": [
    {
     "name": "stdout",
     "output_type": "stream",
     "text": [
      "torch.Size([3, 512, 512])\n",
      "torch.Size([1, 512, 512])\n",
      "tensor([[[ 0.1431,  0.1353,  0.1353,  ...,  0.0137,  0.0137,  0.0137],\n",
      "         [ 0.1392,  0.1353,  0.1353,  ...,  0.0137,  0.0137,  0.0137],\n",
      "         [ 0.1392,  0.1353,  0.1353,  ...,  0.0176,  0.0137,  0.0137],\n",
      "         ...,\n",
      "         [-0.1941, -0.1863, -0.1824,  ...,  0.0686,  0.0843,  0.1000],\n",
      "         [-0.1824, -0.1784, -0.1784,  ...,  0.0804,  0.0922,  0.1039],\n",
      "         [-0.1667, -0.1627, -0.1588,  ...,  0.0922,  0.0961,  0.0961]],\n",
      "\n",
      "        [[ 0.1784,  0.1784,  0.1784,  ...,  0.0529,  0.0529,  0.0490],\n",
      "         [ 0.1784,  0.1784,  0.1784,  ...,  0.0529,  0.0529,  0.0490],\n",
      "         [ 0.1784,  0.1784,  0.1784,  ...,  0.0569,  0.0529,  0.0490],\n",
      "         ...,\n",
      "         [-0.2686, -0.2686, -0.2647,  ..., -0.0529, -0.0333, -0.0176],\n",
      "         [-0.2647, -0.2647, -0.2647,  ..., -0.0373, -0.0255, -0.0176],\n",
      "         [-0.2529, -0.2529, -0.2490,  ..., -0.0255, -0.0216, -0.0216]],\n",
      "\n",
      "        [[ 0.1941,  0.1863,  0.1863,  ...,  0.0569,  0.0529,  0.0529],\n",
      "         [ 0.1863,  0.1863,  0.1863,  ...,  0.0569,  0.0529,  0.0529],\n",
      "         [ 0.1902,  0.1863,  0.1863,  ...,  0.0608,  0.0569,  0.0529],\n",
      "         ...,\n",
      "         [-0.2961, -0.2961, -0.2922,  ..., -0.1824, -0.1627, -0.1431],\n",
      "         [-0.2922, -0.2922, -0.2922,  ..., -0.1627, -0.1510, -0.1392],\n",
      "         [-0.2765, -0.2725, -0.2686,  ..., -0.1510, -0.1471, -0.1471]]])\n",
      "tensor([[[0.1306, 0.1306, 0.1306,  ..., 0.1412, 0.1412, 0.1413],\n",
      "         [0.1306, 0.1306, 0.1306,  ..., 0.1411, 0.1412, 0.1412],\n",
      "         [0.1306, 0.1306, 0.1306,  ..., 0.1411, 0.1411, 0.1412],\n",
      "         ...,\n",
      "         [0.1379, 0.1378, 0.1378,  ..., 0.1516, 0.1516, 0.1516],\n",
      "         [0.1379, 0.1378, 0.1378,  ..., 0.1515, 0.1515, 0.1516],\n",
      "         [0.1379, 0.1378, 0.1378,  ..., 0.1515, 0.1515, 0.1515]]])\n"
     ]
    },
    {
     "data": {
      "image/png": "[encoded data removed]",
      "text/plain": [
       "<Figure size 432x288 with 2 Axes>"
      ]
     },
     "metadata": {
      "needs_background": "light"
     },
     "output_type": "display_data"
    }
   ],
   "source": [
    "\n",
    "ble_dataset = BLEDataset(label_dir='E:/gopro/BLE_raw_bi_large/train.txt',train=True)\n",
    "blur,ble=ble_dataset[7500]\n",
    "print(blur.shape)\n",
    "print(ble.shape)\n",
    "plt.figure()\n",
    "plt.subplot(1,2,1)\n",
    "plt.imshow((blur.permute(1,2,0)+0.5))\n",
    "plt.subplot(1,2,2)\n",
    "plt.imshow(ble.squeeze())\n",
    "print(blur)\n",
    "print(ble)\n"
   ]
  },
  {
   "cell_type": "code",
   "execution_count": 20,
   "metadata": {},
   "outputs": [],
   "source": [
    "from torch.utils.data import DataLoader\n",
    "\n",
    "ble_dataset_train = BLEDataset(label_dir='E:/gopro/BLE_raw_bi_large/train.txt',train=True)\n",
    "ble_dataset_test = BLEDataset(label_dir='E:/gopro/BLE_raw_bi_large/test.txt',train=False)\n",
    "train_dl = DataLoader(ble_dataset_train,batch_size=8,shuffle=True)\n",
    "test_dl = DataLoader(ble_dataset_test,batch_size=8,shuffle=False)"
   ]
  },
  {
   "cell_type": "markdown",
   "metadata": {},
   "source": [
    "## Training settings"
   ]
  },
  {
   "cell_type": "code",
   "execution_count": 21,
   "metadata": {},
   "outputs": [],
   "source": [
    "import os\n",
    "import shutil\n",
    "from datetime import datetime\n",
    "from os.path import dirname, join\n",
    "\n",
    "import torch\n",
    "\n",
    "\n",
    "class Logger():\n",
    "    def __init__(self):\n",
    "        model_name=\"flownet\"\n",
    "        dataset_name=\"BLE\"\n",
    "        save_dir=\"E:/gopro/experiment\"\n",
    "        now = datetime.now() \n",
    "        now = now.strftime(\"%Y_%m_%d_%H_%M_%S\")\n",
    "        mark = model_name + '_' + dataset_name\n",
    "        file_path = join(save_dir, now + '_' + mark, 'log.txt')\n",
    "        self.save_dir = dirname(file_path)\n",
    "        self.check_dir(file_path)\n",
    "        self.logger = open(file_path, 'a+')\n",
    "        # variable register\n",
    "        self.register_dict = {}\n",
    "        # tensorboard\n",
    "\n",
    "    \n",
    "\n",
    "    def check_dir(self, file_path):\n",
    "        dir = dirname(file_path)\n",
    "        os.makedirs(dir, exist_ok=True)\n",
    "\n",
    "    def __call__(self, *args, verbose=True, prefix='', timestamp=True):\n",
    "        if timestamp:\n",
    "            now = datetime.now()\n",
    "            now = now.strftime(\"%Y/%m/%d, %H:%M:%S - \")\n",
    "        else:\n",
    "            now = ''\n",
    "        info = prefix + now\n",
    "        for msg in args:\n",
    "            if not isinstance(msg, str):\n",
    "                msg = str(msg)\n",
    "            info += msg + '\\n'\n",
    "        self.logger.write(info)\n",
    "        if verbose:\n",
    "            print(info, end='')\n",
    "        self.logger.flush()\n",
    "\n",
    "    def __del__(self):\n",
    "        self.logger.close()\n",
    "\n",
    "    # register values for each epoch, such as loss, PSNR etc.\n",
    "    def register(self, name, epoch, value):\n",
    "        if name in self.register_dict:\n",
    "            self.register_dict[name][epoch] = value\n",
    "            if value > self.register_dict[name]['max']:\n",
    "                self.register_dict[name]['max'] = value\n",
    "            if value < self.register_dict[name]['min']:\n",
    "                self.register_dict[name]['min'] = value\n",
    "        else:\n",
    "            self.register_dict[name] = {}\n",
    "            self.register_dict[name][epoch] = value\n",
    "            self.register_dict[name]['max'] = value\n",
    "            self.register_dict[name]['min'] = value\n",
    "\n",
    "    def report(self, items, state, epoch):\n",
    "        # items - [['MSE', 'min'], ['PSNR', 'max'] ... ]\n",
    "        msg = '[{}] '.format(state.lower())\n",
    "        state = '_' + state.lower()\n",
    "        for i in range(len(items)):\n",
    "            item, best = items[i]\n",
    "            msg += '{} : {:.4f} (best {:.4f})'.format(\n",
    "                item,\n",
    "                self.register_dict[item + state][epoch],\n",
    "                self.register_dict[item + state][best]\n",
    "            )\n",
    "            if i < len(items) - 1:\n",
    "                msg += ', '\n",
    "        self(msg, timestamp=False)\n",
    "\n",
    "    def is_best(self, epoch):\n",
    "        item = self.register_dict['L1' + '_valid']\n",
    "        return item[epoch] == item['min']\n",
    "\n",
    "    def save(self, state, filename='checkpoint.pth.tar'):\n",
    "        path = join(self.save_dir, filename)\n",
    "        torch.save(state, path)\n",
    "        if self.is_best(state['epoch']):\n",
    "            copy_path = join(self.save_dir, 'model_best.pth.tar')\n",
    "            shutil.copy(path, copy_path)"
   ]
  },
  {
   "cell_type": "code",
   "execution_count": 22,
   "metadata": {},
   "outputs": [],
   "source": [
    "from importlib import import_module\n",
    "\n",
    "import torch.optim.lr_scheduler as lr_scheduler\n",
    "\n",
    "class Optimizer:\n",
    "    def __init__(self, target):\n",
    "        # create optimizer\n",
    "        # trainable = filter(lambda x: x.requires_grad, target.parameters())\n",
    "        trainable = target.parameters()\n",
    "        optimizer_name = 'Adam'\n",
    "        lr = 3e-4\n",
    "        module = import_module('torch.optim')\n",
    "        self.optimizer = getattr(module, optimizer_name)(trainable, lr=lr)\n",
    "        # create scheduler\n",
    "        milestones = [200]\n",
    "        gamma = 0.5\n",
    "        \n",
    "        self.scheduler = lr_scheduler.MultiStepLR(self.optimizer, milestones=milestones, gamma=gamma)\n",
    "            \n",
    "\n",
    "    def get_lr(self):\n",
    "        return self.optimizer.param_groups[0]['lr']\n",
    "\n",
    "    def step(self):\n",
    "        self.optimizer.step()\n",
    "\n",
    "    def zero_grad(self):\n",
    "        self.optimizer.zero_grad()\n",
    "\n",
    "    def lr_schedule(self):\n",
    "        self.scheduler.step()"
   ]
  },
  {
   "cell_type": "code",
   "execution_count": 23,
   "metadata": {},
   "outputs": [],
   "source": [
    "import torch\n",
    "import torch.nn as nn\n",
    "import torch.nn.functional as F\n",
    "import torch.optim as optim\n",
    "import torchvision.models as models\n",
    "from torch.nn.modules.loss import _Loss\n",
    "\n",
    "\n",
    "def MSE(para):\n",
    "    \"\"\"\n",
    "    L2 loss\n",
    "    \"\"\"\n",
    "    return nn.MSELoss()\n",
    "\n",
    "\n",
    "def L1(para):\n",
    "    \"\"\"\n",
    "    L1 loss\n",
    "    \"\"\"\n",
    "    return nn.L1Loss()\n",
    "\n",
    "\n",
    "class L1GradientLoss(_Loss):\n",
    "    \"\"\"\n",
    "    Gradient loss\n",
    "    \"\"\"\n",
    "\n",
    "    def __init__(self):\n",
    "        super(L1GradientLoss, self).__init__()\n",
    "        self.get_grad = Gradient()\n",
    "        self.L1 = nn.L1Loss()\n",
    "\n",
    "    def forward(self, x, y):\n",
    "        grad_x = self.get_grad(x)\n",
    "        grad_y = self.get_grad(y)\n",
    "        loss = self.L1(grad_x, grad_y)\n",
    "        return loss\n",
    "\n",
    "class Gradient(nn.Module):\n",
    "    def __init__(self):\n",
    "        super(Gradient, self).__init__()\n",
    "        kernel_v = [[0, -1, 0],\n",
    "                    [0, 0, 0],\n",
    "                    [0, 1, 0]]\n",
    "        kernel_h = [[0, 0, 0],\n",
    "                    [-1, 0, 1],\n",
    "                    [0, 0, 0]]\n",
    "        kernel_h = torch.FloatTensor(kernel_h).unsqueeze(0).unsqueeze(0)\n",
    "        kernel_v = torch.FloatTensor(kernel_v).unsqueeze(0).unsqueeze(0)\n",
    "        self.weight_h = nn.Parameter(data=kernel_h, requires_grad=False).cuda()\n",
    "        self.weight_v = nn.Parameter(data=kernel_v, requires_grad=False).cuda()\n",
    "\n",
    "    def forward(self, x):\n",
    "        x0 = x[:, 0]\n",
    "        #x1 = x[:, 1]\n",
    "        #x2 = x[:, 2]\n",
    "        x0_v = F.conv2d(x0.unsqueeze(1), self.weight_v, padding=2)\n",
    "        x0_h = F.conv2d(x0.unsqueeze(1), self.weight_h, padding=2)\n",
    "\n",
    "        #x1_v = F.conv2d(x1.unsqueeze(1), self.weight_v, padding=2)\n",
    "        #x1_h = F.conv2d(x1.unsqueeze(1), self.weight_h, padding=2)\n",
    "\n",
    "        #x2_v = F.conv2d(x2.unsqueeze(1), self.weight_v, padding=2)\n",
    "        #x2_h = F.conv2d(x2.unsqueeze(1), self.weight_h, padding=2)\n",
    "\n",
    "        x0 = torch.sqrt(torch.pow(x0_v, 2) + torch.pow(x0_h, 2) + 1e-6)\n",
    "        #x1 = torch.sqrt(torch.pow(x1_v, 2) + torch.pow(x1_h, 2) + 1e-6)\n",
    "        #x2 = torch.sqrt(torch.pow(x2_v, 2) + torch.pow(x2_h, 2) + 1e-6)\n",
    "\n",
    "        #x = torch.cat([x0, x1, x2], dim=1)\n",
    "        x = x0\n",
    "        return x\n",
    "    \n"
   ]
  },
  {
   "cell_type": "code",
   "execution_count": 24,
   "metadata": {},
   "outputs": [],
   "source": [
    "class AverageMeter(object):\n",
    "    \"\"\"\n",
    "    computes and stores the average and current value\n",
    "    \"\"\"\n",
    "\n",
    "    def __init__(self):\n",
    "        self.reset()\n",
    "\n",
    "    def reset(self):\n",
    "        self.val = 0\n",
    "        self.avg = 0\n",
    "        self.sum = 0\n",
    "        self.count = 0\n",
    "\n",
    "    def update(self, val, n=1):\n",
    "        self.val = val\n",
    "        self.sum += val * n\n",
    "        self.count += n\n",
    "        self.avg = self.sum / self.count"
   ]
  },
  {
   "cell_type": "code",
   "execution_count": 25,
   "metadata": {},
   "outputs": [
    {
     "name": "stderr",
     "output_type": "stream",
     "text": [
      "\r",
      "  0%|                                                 | 0/15691 [00:00<?, ?it/s]"
     ]
    },
    {
     "name": "stdout",
     "output_type": "stream",
     "text": [
      "2022/03/10, 19:00:55 - building {} model ...\n",
      "\n",
      "2022/03/10, 19:00:55 - [Epoch 0 / lr 3.00e-04]\n"
     ]
    },
    {
     "name": "stderr",
     "output_type": "stream",
     "text": [
      "C:\\ProgramData\\Anaconda3\\lib\\site-packages\\torch\\nn\\functional.py:1614: UserWarning: nn.functional.sigmoid is deprecated. Use torch.sigmoid instead.\n",
      "  warnings.warn(\"nn.functional.sigmoid is deprecated. Use torch.sigmoid instead.\")\n",
      "100%|█████████████████████████████████████| 15691/15691 [43:47<00:00,  5.97it/s]\n",
      "  0%|                                                  | 0/1111 [00:00<?, ?it/s]"
     ]
    },
    {
     "name": "stdout",
     "output_type": "stream",
     "text": [
      "[train] epoch time: 2627.01s, average batch time: 1.34s\n",
      "[train] L1 : 0.0603 (best 0.0603), L1 : 0.0603 (best 0.0603)\n"
     ]
    },
    {
     "name": "stderr",
     "output_type": "stream",
     "text": [
      "100%|███████████████████████████████████████| 1111/1111 [02:21<00:00,  7.87it/s]\n",
      "  0%|                                                 | 0/15691 [00:00<?, ?it/s]"
     ]
    },
    {
     "name": "stdout",
     "output_type": "stream",
     "text": [
      "[valid] epoch time: 141.16s, average batch time: 1.02s\n",
      "[valid] L1 : 0.0370 (best 0.0370), L1 : 0.0370 (best 0.0370)\n",
      "\n",
      "2022/03/10, 19:47:03 - [Epoch 1 / lr 3.00e-04]\n"
     ]
    },
    {
     "name": "stderr",
     "output_type": "stream",
     "text": [
      "100%|█████████████████████████████████████| 15691/15691 [34:52<00:00,  7.50it/s]\n",
      "  0%|                                                  | 0/1111 [00:00<?, ?it/s]"
     ]
    },
    {
     "name": "stdout",
     "output_type": "stream",
     "text": [
      "[train] epoch time: 2092.81s, average batch time: 1.07s\n",
      "[train] L1 : 0.0498 (best 0.0498), L1 : 0.0498 (best 0.0498)\n"
     ]
    },
    {
     "name": "stderr",
     "output_type": "stream",
     "text": [
      "100%|███████████████████████████████████████| 1111/1111 [01:17<00:00, 14.36it/s]\n",
      "  0%|                                                 | 0/15691 [00:00<?, ?it/s]"
     ]
    },
    {
     "name": "stdout",
     "output_type": "stream",
     "text": [
      "[valid] epoch time: 77.35s, average batch time: 0.56s\n",
      "[valid] L1 : 0.0325 (best 0.0325), L1 : 0.0325 (best 0.0325)\n",
      "\n",
      "2022/03/10, 20:23:13 - [Epoch 2 / lr 3.00e-04]\n"
     ]
    },
    {
     "name": "stderr",
     "output_type": "stream",
     "text": [
      "100%|█████████████████████████████████████| 15691/15691 [29:05<00:00,  8.99it/s]\n",
      "  0%|                                                  | 0/1111 [00:00<?, ?it/s]"
     ]
    },
    {
     "name": "stdout",
     "output_type": "stream",
     "text": [
      "[train] epoch time: 1745.51s, average batch time: 0.89s\n",
      "[train] L1 : 0.0445 (best 0.0445), L1 : 0.0445 (best 0.0445)\n"
     ]
    },
    {
     "name": "stderr",
     "output_type": "stream",
     "text": [
      "100%|███████████████████████████████████████| 1111/1111 [01:46<00:00, 10.43it/s]\n",
      "  0%|                                                 | 0/15691 [00:00<?, ?it/s]"
     ]
    },
    {
     "name": "stdout",
     "output_type": "stream",
     "text": [
      "[valid] epoch time: 106.48s, average batch time: 0.77s\n",
      "[valid] L1 : 0.0307 (best 0.0307), L1 : 0.0307 (best 0.0307)\n",
      "\n",
      "2022/03/10, 20:54:05 - [Epoch 3 / lr 3.00e-04]\n"
     ]
    },
    {
     "name": "stderr",
     "output_type": "stream",
     "text": [
      "100%|█████████████████████████████████████| 15691/15691 [28:59<00:00,  9.02it/s]\n",
      "  0%|                                                  | 0/1111 [00:00<?, ?it/s]"
     ]
    },
    {
     "name": "stdout",
     "output_type": "stream",
     "text": [
      "[train] epoch time: 1739.78s, average batch time: 0.89s\n",
      "[train] L1 : 0.0408 (best 0.0408), L1 : 0.0408 (best 0.0408)\n"
     ]
    },
    {
     "name": "stderr",
     "output_type": "stream",
     "text": [
      "100%|███████████████████████████████████████| 1111/1111 [01:53<00:00,  9.78it/s]\n",
      "  0%|                                                 | 0/15691 [00:00<?, ?it/s]"
     ]
    },
    {
     "name": "stdout",
     "output_type": "stream",
     "text": [
      "[valid] epoch time: 113.54s, average batch time: 0.82s\n",
      "[valid] L1 : 0.0370 (best 0.0307), L1 : 0.0370 (best 0.0307)\n",
      "\n",
      "2022/03/10, 21:24:59 - [Epoch 4 / lr 3.00e-04]\n"
     ]
    },
    {
     "name": "stderr",
     "output_type": "stream",
     "text": [
      "100%|█████████████████████████████████████| 15691/15691 [29:32<00:00,  8.85it/s]\n",
      "  0%|                                                  | 0/1111 [00:00<?, ?it/s]"
     ]
    },
    {
     "name": "stdout",
     "output_type": "stream",
     "text": [
      "[train] epoch time: 1772.56s, average batch time: 0.90s\n",
      "[train] L1 : 0.0379 (best 0.0379), L1 : 0.0379 (best 0.0379)\n"
     ]
    },
    {
     "name": "stderr",
     "output_type": "stream",
     "text": [
      "100%|███████████████████████████████████████| 1111/1111 [01:45<00:00, 10.50it/s]\n",
      "  0%|                                                 | 0/15691 [00:00<?, ?it/s]"
     ]
    },
    {
     "name": "stdout",
     "output_type": "stream",
     "text": [
      "[valid] epoch time: 105.86s, average batch time: 0.76s\n",
      "[valid] L1 : 0.0285 (best 0.0285), L1 : 0.0285 (best 0.0285)\n",
      "\n",
      "2022/03/10, 21:56:17 - [Epoch 5 / lr 3.00e-04]\n"
     ]
    },
    {
     "name": "stderr",
     "output_type": "stream",
     "text": [
      "100%|█████████████████████████████████████| 15691/15691 [29:44<00:00,  8.79it/s]\n",
      "  0%|                                                  | 0/1111 [00:00<?, ?it/s]"
     ]
    },
    {
     "name": "stdout",
     "output_type": "stream",
     "text": [
      "[train] epoch time: 1784.76s, average batch time: 0.91s\n",
      "[train] L1 : 0.0356 (best 0.0356), L1 : 0.0356 (best 0.0356)\n"
     ]
    },
    {
     "name": "stderr",
     "output_type": "stream",
     "text": [
      "100%|███████████████████████████████████████| 1111/1111 [01:50<00:00, 10.01it/s]\n",
      "  0%|                                                 | 0/15691 [00:00<?, ?it/s]"
     ]
    },
    {
     "name": "stdout",
     "output_type": "stream",
     "text": [
      "[valid] epoch time: 110.98s, average batch time: 0.80s\n",
      "[valid] L1 : 0.0283 (best 0.0283), L1 : 0.0283 (best 0.0283)\n",
      "\n",
      "2022/03/10, 22:27:53 - [Epoch 6 / lr 3.00e-04]\n"
     ]
    },
    {
     "name": "stderr",
     "output_type": "stream",
     "text": [
      "100%|█████████████████████████████████████| 15691/15691 [28:51<00:00,  9.06it/s]\n",
      "  0%|                                                  | 0/1111 [00:00<?, ?it/s]"
     ]
    },
    {
     "name": "stdout",
     "output_type": "stream",
     "text": [
      "[train] epoch time: 1731.98s, average batch time: 0.88s\n",
      "[train] L1 : 0.0342 (best 0.0342), L1 : 0.0342 (best 0.0342)\n"
     ]
    },
    {
     "name": "stderr",
     "output_type": "stream",
     "text": [
      "100%|███████████████████████████████████████| 1111/1111 [01:45<00:00, 10.58it/s]\n",
      "  0%|                                                 | 0/15691 [00:00<?, ?it/s]"
     ]
    },
    {
     "name": "stdout",
     "output_type": "stream",
     "text": [
      "[valid] epoch time: 105.02s, average batch time: 0.76s\n",
      "[valid] L1 : 0.0263 (best 0.0263), L1 : 0.0263 (best 0.0263)\n",
      "\n",
      "2022/03/10, 22:58:30 - [Epoch 7 / lr 3.00e-04]\n"
     ]
    },
    {
     "name": "stderr",
     "output_type": "stream",
     "text": [
      "100%|█████████████████████████████████████| 15691/15691 [29:18<00:00,  8.92it/s]\n",
      "  0%|                                                  | 0/1111 [00:00<?, ?it/s]"
     ]
    },
    {
     "name": "stdout",
     "output_type": "stream",
     "text": [
      "[train] epoch time: 1758.91s, average batch time: 0.90s\n",
      "[train] L1 : 0.0326 (best 0.0326), L1 : 0.0326 (best 0.0326)\n"
     ]
    },
    {
     "name": "stderr",
     "output_type": "stream",
     "text": [
      "100%|███████████████████████████████████████| 1111/1111 [01:51<00:00, 10.00it/s]\n",
      "  0%|                                                 | 0/15691 [00:00<?, ?it/s]"
     ]
    },
    {
     "name": "stdout",
     "output_type": "stream",
     "text": [
      "[valid] epoch time: 111.05s, average batch time: 0.80s\n",
      "[valid] L1 : 0.0269 (best 0.0263), L1 : 0.0269 (best 0.0263)\n",
      "\n",
      "2022/03/10, 23:29:40 - [Epoch 8 / lr 3.00e-04]\n"
     ]
    },
    {
     "name": "stderr",
     "output_type": "stream",
     "text": [
      "100%|█████████████████████████████████████| 15691/15691 [28:27<00:00,  9.19it/s]\n",
      "  0%|                                                  | 0/1111 [00:00<?, ?it/s]"
     ]
    },
    {
     "name": "stdout",
     "output_type": "stream",
     "text": [
      "[train] epoch time: 1707.79s, average batch time: 0.87s\n",
      "[train] L1 : 0.0314 (best 0.0314), L1 : 0.0314 (best 0.0314)\n"
     ]
    },
    {
     "name": "stderr",
     "output_type": "stream",
     "text": [
      "100%|███████████████████████████████████████| 1111/1111 [01:46<00:00, 10.46it/s]\n",
      "  0%|                                                 | 0/15691 [00:00<?, ?it/s]"
     ]
    },
    {
     "name": "stdout",
     "output_type": "stream",
     "text": [
      "[valid] epoch time: 106.22s, average batch time: 0.76s\n",
      "[valid] L1 : 0.0261 (best 0.0261), L1 : 0.0261 (best 0.0261)\n",
      "\n",
      "2022/03/10, 23:59:54 - [Epoch 9 / lr 3.00e-04]\n"
     ]
    },
    {
     "name": "stderr",
     "output_type": "stream",
     "text": [
      "100%|█████████████████████████████████████| 15691/15691 [29:18<00:00,  8.92it/s]\n",
      "  0%|                                                  | 0/1111 [00:00<?, ?it/s]"
     ]
    },
    {
     "name": "stdout",
     "output_type": "stream",
     "text": [
      "[train] epoch time: 1758.18s, average batch time: 0.90s\n",
      "[train] L1 : 0.0302 (best 0.0302), L1 : 0.0302 (best 0.0302)\n"
     ]
    },
    {
     "name": "stderr",
     "output_type": "stream",
     "text": [
      "100%|███████████████████████████████████████| 1111/1111 [01:56<00:00,  9.57it/s]\n",
      "  0%|                                                 | 0/15691 [00:00<?, ?it/s]"
     ]
    },
    {
     "name": "stdout",
     "output_type": "stream",
     "text": [
      "[valid] epoch time: 116.14s, average batch time: 0.84s\n",
      "[valid] L1 : 0.0246 (best 0.0246), L1 : 0.0246 (best 0.0246)\n",
      "\n",
      "2022/03/11, 00:31:09 - [Epoch 10 / lr 3.00e-04]\n"
     ]
    },
    {
     "name": "stderr",
     "output_type": "stream",
     "text": [
      "100%|█████████████████████████████████████| 15691/15691 [29:05<00:00,  8.99it/s]\n",
      "  0%|                                                  | 0/1111 [00:00<?, ?it/s]"
     ]
    },
    {
     "name": "stdout",
     "output_type": "stream",
     "text": [
      "[train] epoch time: 1745.29s, average batch time: 0.89s\n",
      "[train] L1 : 0.0295 (best 0.0295), L1 : 0.0295 (best 0.0295)\n"
     ]
    },
    {
     "name": "stderr",
     "output_type": "stream",
     "text": [
      "100%|███████████████████████████████████████| 1111/1111 [01:34<00:00, 11.80it/s]\n",
      "  0%|                                                 | 0/15691 [00:00<?, ?it/s]"
     ]
    },
    {
     "name": "stdout",
     "output_type": "stream",
     "text": [
      "[valid] epoch time: 94.13s, average batch time: 0.68s\n",
      "[valid] L1 : 0.0247 (best 0.0246), L1 : 0.0247 (best 0.0246)\n",
      "\n",
      "2022/03/11, 01:01:48 - [Epoch 11 / lr 3.00e-04]\n"
     ]
    },
    {
     "name": "stderr",
     "output_type": "stream",
     "text": [
      "100%|█████████████████████████████████████| 15691/15691 [29:17<00:00,  8.93it/s]\n",
      "  0%|                                                  | 0/1111 [00:00<?, ?it/s]"
     ]
    },
    {
     "name": "stdout",
     "output_type": "stream",
     "text": [
      "[train] epoch time: 1757.96s, average batch time: 0.90s\n",
      "[train] L1 : 0.0283 (best 0.0283), L1 : 0.0283 (best 0.0283)\n"
     ]
    },
    {
     "name": "stderr",
     "output_type": "stream",
     "text": [
      "100%|███████████████████████████████████████| 1111/1111 [01:57<00:00,  9.47it/s]\n",
      "  0%|                                                 | 0/15691 [00:00<?, ?it/s]"
     ]
    },
    {
     "name": "stdout",
     "output_type": "stream",
     "text": [
      "[valid] epoch time: 117.27s, average batch time: 0.84s\n",
      "[valid] L1 : 0.0240 (best 0.0240), L1 : 0.0240 (best 0.0240)\n",
      "\n",
      "2022/03/11, 01:33:04 - [Epoch 12 / lr 3.00e-04]\n"
     ]
    },
    {
     "name": "stderr",
     "output_type": "stream",
     "text": [
      "100%|█████████████████████████████████████| 15691/15691 [29:13<00:00,  8.95it/s]\n",
      "  0%|                                                  | 0/1111 [00:00<?, ?it/s]"
     ]
    },
    {
     "name": "stdout",
     "output_type": "stream",
     "text": [
      "[train] epoch time: 1753.12s, average batch time: 0.89s\n",
      "[train] L1 : 0.0277 (best 0.0277), L1 : 0.0277 (best 0.0277)\n"
     ]
    },
    {
     "name": "stderr",
     "output_type": "stream",
     "text": [
      "100%|███████████████████████████████████████| 1111/1111 [01:38<00:00, 11.33it/s]\n",
      "  0%|                                                 | 0/15691 [00:00<?, ?it/s]"
     ]
    },
    {
     "name": "stdout",
     "output_type": "stream",
     "text": [
      "[valid] epoch time: 98.10s, average batch time: 0.71s\n",
      "[valid] L1 : 0.0242 (best 0.0240), L1 : 0.0242 (best 0.0240)\n",
      "\n",
      "2022/03/11, 02:03:55 - [Epoch 13 / lr 3.00e-04]\n"
     ]
    },
    {
     "name": "stderr",
     "output_type": "stream",
     "text": [
      "100%|█████████████████████████████████████| 15691/15691 [29:03<00:00,  9.00it/s]\n",
      "  0%|                                                  | 0/1111 [00:00<?, ?it/s]"
     ]
    },
    {
     "name": "stdout",
     "output_type": "stream",
     "text": [
      "[train] epoch time: 1743.11s, average batch time: 0.89s\n",
      "[train] L1 : 0.0268 (best 0.0268), L1 : 0.0268 (best 0.0268)\n"
     ]
    },
    {
     "name": "stderr",
     "output_type": "stream",
     "text": [
      "100%|███████████████████████████████████████| 1111/1111 [01:57<00:00,  9.46it/s]\n",
      "  0%|                                                 | 0/15691 [00:00<?, ?it/s]"
     ]
    },
    {
     "name": "stdout",
     "output_type": "stream",
     "text": [
      "[valid] epoch time: 117.45s, average batch time: 0.84s\n",
      "[valid] L1 : 0.0235 (best 0.0235), L1 : 0.0235 (best 0.0235)\n",
      "\n",
      "2022/03/11, 02:34:56 - [Epoch 14 / lr 3.00e-04]\n"
     ]
    },
    {
     "name": "stderr",
     "output_type": "stream",
     "text": [
      "100%|█████████████████████████████████████| 15691/15691 [28:58<00:00,  9.03it/s]\n",
      "  0%|                                                  | 0/1111 [00:00<?, ?it/s]"
     ]
    },
    {
     "name": "stdout",
     "output_type": "stream",
     "text": [
      "[train] epoch time: 1738.39s, average batch time: 0.89s\n",
      "[train] L1 : 0.0260 (best 0.0260), L1 : 0.0260 (best 0.0260)\n"
     ]
    },
    {
     "name": "stderr",
     "output_type": "stream",
     "text": [
      "100%|███████████████████████████████████████| 1111/1111 [01:38<00:00, 11.29it/s]\n",
      "  0%|                                                 | 0/15691 [00:00<?, ?it/s]"
     ]
    },
    {
     "name": "stdout",
     "output_type": "stream",
     "text": [
      "[valid] epoch time: 98.37s, average batch time: 0.71s\n",
      "[valid] L1 : 0.0225 (best 0.0225), L1 : 0.0225 (best 0.0225)\n",
      "\n",
      "2022/03/11, 03:05:32 - [Epoch 15 / lr 3.00e-04]\n"
     ]
    },
    {
     "name": "stderr",
     "output_type": "stream",
     "text": [
      "100%|█████████████████████████████████████| 15691/15691 [28:59<00:00,  9.02it/s]\n",
      "  0%|                                                  | 0/1111 [00:00<?, ?it/s]"
     ]
    },
    {
     "name": "stdout",
     "output_type": "stream",
     "text": [
      "[train] epoch time: 1739.94s, average batch time: 0.89s\n",
      "[train] L1 : 0.0253 (best 0.0253), L1 : 0.0253 (best 0.0253)\n"
     ]
    },
    {
     "name": "stderr",
     "output_type": "stream",
     "text": [
      "100%|███████████████████████████████████████| 1111/1111 [01:56<00:00,  9.53it/s]\n",
      "  0%|                                                 | 0/15691 [00:00<?, ?it/s]"
     ]
    },
    {
     "name": "stdout",
     "output_type": "stream",
     "text": [
      "[valid] epoch time: 116.59s, average batch time: 0.84s\n",
      "[valid] L1 : 0.0246 (best 0.0225), L1 : 0.0246 (best 0.0225)\n",
      "\n",
      "2022/03/11, 03:36:29 - [Epoch 16 / lr 3.00e-04]\n"
     ]
    },
    {
     "name": "stderr",
     "output_type": "stream",
     "text": [
      "100%|█████████████████████████████████████| 15691/15691 [29:13<00:00,  8.95it/s]\n",
      "  0%|                                                  | 0/1111 [00:00<?, ?it/s]"
     ]
    },
    {
     "name": "stdout",
     "output_type": "stream",
     "text": [
      "[train] epoch time: 1753.44s, average batch time: 0.89s\n",
      "[train] L1 : 0.0246 (best 0.0246), L1 : 0.0246 (best 0.0246)\n"
     ]
    },
    {
     "name": "stderr",
     "output_type": "stream",
     "text": [
      "100%|███████████████████████████████████████| 1111/1111 [01:39<00:00, 11.18it/s]\n",
      "  0%|                                                 | 0/15691 [00:00<?, ?it/s]"
     ]
    },
    {
     "name": "stdout",
     "output_type": "stream",
     "text": [
      "[valid] epoch time: 99.36s, average batch time: 0.71s\n",
      "[valid] L1 : 0.0215 (best 0.0215), L1 : 0.0215 (best 0.0215)\n",
      "\n",
      "2022/03/11, 04:07:22 - [Epoch 17 / lr 3.00e-04]\n"
     ]
    },
    {
     "name": "stderr",
     "output_type": "stream",
     "text": [
      "100%|█████████████████████████████████████| 15691/15691 [29:10<00:00,  8.96it/s]\n",
      "  0%|                                                  | 0/1111 [00:00<?, ?it/s]"
     ]
    },
    {
     "name": "stdout",
     "output_type": "stream",
     "text": [
      "[train] epoch time: 1750.33s, average batch time: 0.89s\n",
      "[train] L1 : 0.0238 (best 0.0238), L1 : 0.0238 (best 0.0238)\n"
     ]
    },
    {
     "name": "stderr",
     "output_type": "stream",
     "text": [
      "100%|███████████████████████████████████████| 1111/1111 [01:58<00:00,  9.34it/s]\n",
      "  0%|                                                 | 0/15691 [00:00<?, ?it/s]"
     ]
    },
    {
     "name": "stdout",
     "output_type": "stream",
     "text": [
      "[valid] epoch time: 118.97s, average batch time: 0.86s\n",
      "[valid] L1 : 0.0217 (best 0.0215), L1 : 0.0217 (best 0.0215)\n",
      "\n",
      "2022/03/11, 04:38:31 - [Epoch 18 / lr 3.00e-04]\n"
     ]
    },
    {
     "name": "stderr",
     "output_type": "stream",
     "text": [
      "100%|█████████████████████████████████████| 15691/15691 [28:58<00:00,  9.03it/s]\n",
      "  0%|                                                  | 0/1111 [00:00<?, ?it/s]"
     ]
    },
    {
     "name": "stdout",
     "output_type": "stream",
     "text": [
      "[train] epoch time: 1738.29s, average batch time: 0.89s\n",
      "[train] L1 : 0.0231 (best 0.0231), L1 : 0.0231 (best 0.0231)\n"
     ]
    },
    {
     "name": "stderr",
     "output_type": "stream",
     "text": [
      "100%|███████████████████████████████████████| 1111/1111 [01:35<00:00, 11.66it/s]\n",
      "  0%|                                                 | 0/15691 [00:00<?, ?it/s]"
     ]
    },
    {
     "name": "stdout",
     "output_type": "stream",
     "text": [
      "[valid] epoch time: 95.29s, average batch time: 0.69s\n",
      "[valid] L1 : 0.0209 (best 0.0209), L1 : 0.0209 (best 0.0209)\n",
      "\n",
      "2022/03/11, 05:09:05 - [Epoch 19 / lr 3.00e-04]\n"
     ]
    },
    {
     "name": "stderr",
     "output_type": "stream",
     "text": [
      "100%|█████████████████████████████████████| 15691/15691 [29:21<00:00,  8.91it/s]\n",
      "  0%|                                                  | 0/1111 [00:00<?, ?it/s]"
     ]
    },
    {
     "name": "stdout",
     "output_type": "stream",
     "text": [
      "[train] epoch time: 1761.24s, average batch time: 0.90s\n",
      "[train] L1 : 0.0230 (best 0.0230), L1 : 0.0230 (best 0.0230)\n"
     ]
    },
    {
     "name": "stderr",
     "output_type": "stream",
     "text": [
      "100%|███████████████████████████████████████| 1111/1111 [01:47<00:00, 10.31it/s]\n",
      "  0%|                                                 | 0/15691 [00:00<?, ?it/s]"
     ]
    },
    {
     "name": "stdout",
     "output_type": "stream",
     "text": [
      "[valid] epoch time: 107.75s, average batch time: 0.78s\n",
      "[valid] L1 : 0.0232 (best 0.0209), L1 : 0.0232 (best 0.0209)\n",
      "\n",
      "2022/03/11, 05:40:14 - [Epoch 20 / lr 3.00e-04]\n"
     ]
    },
    {
     "name": "stderr",
     "output_type": "stream",
     "text": [
      "100%|█████████████████████████████████████| 15691/15691 [29:53<00:00,  8.75it/s]\n",
      "  0%|                                                  | 0/1111 [00:00<?, ?it/s]"
     ]
    },
    {
     "name": "stdout",
     "output_type": "stream",
     "text": [
      "[train] epoch time: 1793.53s, average batch time: 0.91s\n",
      "[train] L1 : 0.0224 (best 0.0224), L1 : 0.0224 (best 0.0224)\n"
     ]
    },
    {
     "name": "stderr",
     "output_type": "stream",
     "text": [
      "100%|███████████████████████████████████████| 1111/1111 [01:50<00:00, 10.02it/s]\n",
      "  0%|                                                 | 0/15691 [00:00<?, ?it/s]"
     ]
    },
    {
     "name": "stdout",
     "output_type": "stream",
     "text": [
      "[valid] epoch time: 110.93s, average batch time: 0.80s\n",
      "[valid] L1 : 0.0205 (best 0.0205), L1 : 0.0205 (best 0.0205)\n",
      "\n",
      "2022/03/11, 06:11:59 - [Epoch 21 / lr 3.00e-04]\n"
     ]
    },
    {
     "name": "stderr",
     "output_type": "stream",
     "text": [
      "100%|█████████████████████████████████████| 15691/15691 [29:07<00:00,  8.98it/s]\n",
      "  0%|                                                  | 0/1111 [00:00<?, ?it/s]"
     ]
    },
    {
     "name": "stdout",
     "output_type": "stream",
     "text": [
      "[train] epoch time: 1747.87s, average batch time: 0.89s\n",
      "[train] L1 : 0.0217 (best 0.0217), L1 : 0.0217 (best 0.0217)\n"
     ]
    },
    {
     "name": "stderr",
     "output_type": "stream",
     "text": [
      "100%|███████████████████████████████████████| 1111/1111 [01:46<00:00, 10.47it/s]\n",
      "  0%|                                                 | 0/15691 [00:00<?, ?it/s]"
     ]
    },
    {
     "name": "stdout",
     "output_type": "stream",
     "text": [
      "[valid] epoch time: 106.15s, average batch time: 0.76s\n",
      "[valid] L1 : 0.0222 (best 0.0205), L1 : 0.0222 (best 0.0205)\n",
      "\n",
      "2022/03/11, 06:42:53 - [Epoch 22 / lr 3.00e-04]\n"
     ]
    },
    {
     "name": "stderr",
     "output_type": "stream",
     "text": [
      "100%|█████████████████████████████████████| 15691/15691 [29:14<00:00,  8.94it/s]\n",
      "  0%|                                                  | 0/1111 [00:00<?, ?it/s]"
     ]
    },
    {
     "name": "stdout",
     "output_type": "stream",
     "text": [
      "[train] epoch time: 1754.74s, average batch time: 0.89s\n",
      "[train] L1 : 0.0213 (best 0.0213), L1 : 0.0213 (best 0.0213)\n"
     ]
    },
    {
     "name": "stderr",
     "output_type": "stream",
     "text": [
      "100%|███████████████████████████████████████| 1111/1111 [01:50<00:00, 10.05it/s]\n",
      "  0%|                                                 | 0/15691 [00:00<?, ?it/s]"
     ]
    },
    {
     "name": "stdout",
     "output_type": "stream",
     "text": [
      "[valid] epoch time: 110.59s, average batch time: 0.80s\n",
      "[valid] L1 : 0.0196 (best 0.0196), L1 : 0.0196 (best 0.0196)\n",
      "\n",
      "2022/03/11, 07:13:58 - [Epoch 23 / lr 3.00e-04]\n"
     ]
    },
    {
     "name": "stderr",
     "output_type": "stream",
     "text": [
      "100%|█████████████████████████████████████| 15691/15691 [29:04<00:00,  8.99it/s]\n",
      "  0%|                                                  | 0/1111 [00:00<?, ?it/s]"
     ]
    },
    {
     "name": "stdout",
     "output_type": "stream",
     "text": [
      "[train] epoch time: 1744.58s, average batch time: 0.89s\n",
      "[train] L1 : 0.0210 (best 0.0210), L1 : 0.0210 (best 0.0210)\n"
     ]
    },
    {
     "name": "stderr",
     "output_type": "stream",
     "text": [
      "100%|███████████████████████████████████████| 1111/1111 [01:47<00:00, 10.38it/s]\n",
      "  0%|                                                 | 0/15691 [00:00<?, ?it/s]"
     ]
    },
    {
     "name": "stdout",
     "output_type": "stream",
     "text": [
      "[valid] epoch time: 107.00s, average batch time: 0.77s\n",
      "[valid] L1 : 0.0189 (best 0.0189), L1 : 0.0189 (best 0.0189)\n",
      "\n",
      "2022/03/11, 07:44:50 - [Epoch 24 / lr 3.00e-04]\n"
     ]
    },
    {
     "name": "stderr",
     "output_type": "stream",
     "text": [
      "100%|█████████████████████████████████████| 15691/15691 [29:28<00:00,  8.87it/s]\n",
      "  0%|                                                  | 0/1111 [00:00<?, ?it/s]"
     ]
    },
    {
     "name": "stdout",
     "output_type": "stream",
     "text": [
      "[train] epoch time: 1768.18s, average batch time: 0.90s\n",
      "[train] L1 : 0.0207 (best 0.0207), L1 : 0.0207 (best 0.0207)\n"
     ]
    },
    {
     "name": "stderr",
     "output_type": "stream",
     "text": [
      "100%|███████████████████████████████████████| 1111/1111 [01:51<00:00,  9.95it/s]\n",
      "  0%|                                                 | 0/15691 [00:00<?, ?it/s]"
     ]
    },
    {
     "name": "stdout",
     "output_type": "stream",
     "text": [
      "[valid] epoch time: 111.68s, average batch time: 0.80s\n",
      "[valid] L1 : 0.0198 (best 0.0189), L1 : 0.0198 (best 0.0189)\n",
      "\n",
      "2022/03/11, 08:16:10 - [Epoch 25 / lr 3.00e-04]\n"
     ]
    },
    {
     "name": "stderr",
     "output_type": "stream",
     "text": [
      "100%|█████████████████████████████████████| 15691/15691 [29:37<00:00,  8.83it/s]\n",
      "  0%|                                                  | 0/1111 [00:00<?, ?it/s]"
     ]
    },
    {
     "name": "stdout",
     "output_type": "stream",
     "text": [
      "[train] epoch time: 1777.37s, average batch time: 0.91s\n",
      "[train] L1 : 0.0203 (best 0.0203), L1 : 0.0203 (best 0.0203)\n"
     ]
    },
    {
     "name": "stderr",
     "output_type": "stream",
     "text": [
      "100%|███████████████████████████████████████| 1111/1111 [01:46<00:00, 10.44it/s]\n",
      "  0%|                                                 | 0/15691 [00:00<?, ?it/s]"
     ]
    },
    {
     "name": "stdout",
     "output_type": "stream",
     "text": [
      "[valid] epoch time: 106.46s, average batch time: 0.77s\n",
      "[valid] L1 : 0.0181 (best 0.0181), L1 : 0.0181 (best 0.0181)\n",
      "\n",
      "2022/03/11, 08:47:34 - [Epoch 26 / lr 3.00e-04]\n"
     ]
    },
    {
     "name": "stderr",
     "output_type": "stream",
     "text": [
      "100%|█████████████████████████████████████| 15691/15691 [29:11<00:00,  8.96it/s]\n",
      "  0%|                                                  | 0/1111 [00:00<?, ?it/s]"
     ]
    },
    {
     "name": "stdout",
     "output_type": "stream",
     "text": [
      "[train] epoch time: 1751.27s, average batch time: 0.89s\n",
      "[train] L1 : 0.0200 (best 0.0200), L1 : 0.0200 (best 0.0200)\n"
     ]
    },
    {
     "name": "stderr",
     "output_type": "stream",
     "text": [
      "100%|███████████████████████████████████████| 1111/1111 [01:49<00:00, 10.16it/s]\n",
      "  0%|                                                 | 0/15691 [00:00<?, ?it/s]"
     ]
    },
    {
     "name": "stdout",
     "output_type": "stream",
     "text": [
      "[valid] epoch time: 109.38s, average batch time: 0.79s\n",
      "[valid] L1 : 0.0183 (best 0.0181), L1 : 0.0183 (best 0.0181)\n",
      "\n",
      "2022/03/11, 09:18:34 - [Epoch 27 / lr 3.00e-04]\n"
     ]
    },
    {
     "name": "stderr",
     "output_type": "stream",
     "text": [
      "100%|█████████████████████████████████████| 15691/15691 [30:01<00:00,  8.71it/s]\n",
      "  0%|                                                  | 0/1111 [00:00<?, ?it/s]"
     ]
    },
    {
     "name": "stdout",
     "output_type": "stream",
     "text": [
      "[train] epoch time: 1801.74s, average batch time: 0.92s\n",
      "[train] L1 : 0.0197 (best 0.0197), L1 : 0.0197 (best 0.0197)\n"
     ]
    },
    {
     "name": "stderr",
     "output_type": "stream",
     "text": [
      "100%|███████████████████████████████████████| 1111/1111 [01:47<00:00, 10.32it/s]\n",
      "  0%|                                                 | 0/15691 [00:00<?, ?it/s]"
     ]
    },
    {
     "name": "stdout",
     "output_type": "stream",
     "text": [
      "[valid] epoch time: 107.62s, average batch time: 0.77s\n",
      "[valid] L1 : 0.0191 (best 0.0181), L1 : 0.0191 (best 0.0181)\n",
      "\n",
      "2022/03/11, 09:50:24 - [Epoch 28 / lr 3.00e-04]\n"
     ]
    },
    {
     "name": "stderr",
     "output_type": "stream",
     "text": [
      "100%|█████████████████████████████████████| 15691/15691 [29:21<00:00,  8.91it/s]\n",
      "  0%|                                                  | 0/1111 [00:00<?, ?it/s]"
     ]
    },
    {
     "name": "stdout",
     "output_type": "stream",
     "text": [
      "[train] epoch time: 1761.75s, average batch time: 0.90s\n",
      "[train] L1 : 0.0195 (best 0.0195), L1 : 0.0195 (best 0.0195)\n"
     ]
    },
    {
     "name": "stderr",
     "output_type": "stream",
     "text": [
      "100%|███████████████████████████████████████| 1111/1111 [01:49<00:00, 10.13it/s]\n",
      "  0%|                                                 | 0/15691 [00:00<?, ?it/s]"
     ]
    },
    {
     "name": "stdout",
     "output_type": "stream",
     "text": [
      "[valid] epoch time: 109.68s, average batch time: 0.79s\n",
      "[valid] L1 : 0.0184 (best 0.0181), L1 : 0.0184 (best 0.0181)\n",
      "\n",
      "2022/03/11, 10:21:35 - [Epoch 29 / lr 3.00e-04]\n"
     ]
    },
    {
     "name": "stderr",
     "output_type": "stream",
     "text": [
      "100%|█████████████████████████████████████| 15691/15691 [29:02<00:00,  9.00it/s]\n",
      "  0%|                                                  | 0/1111 [00:00<?, ?it/s]"
     ]
    },
    {
     "name": "stdout",
     "output_type": "stream",
     "text": [
      "[train] epoch time: 1742.70s, average batch time: 0.89s\n",
      "[train] L1 : 0.0191 (best 0.0191), L1 : 0.0191 (best 0.0191)\n"
     ]
    },
    {
     "name": "stderr",
     "output_type": "stream",
     "text": [
      "100%|███████████████████████████████████████| 1111/1111 [01:49<00:00, 10.12it/s]\n",
      "  0%|                                                 | 0/15691 [00:00<?, ?it/s]"
     ]
    },
    {
     "name": "stdout",
     "output_type": "stream",
     "text": [
      "[valid] epoch time: 109.77s, average batch time: 0.79s\n",
      "[valid] L1 : 0.0207 (best 0.0181), L1 : 0.0207 (best 0.0181)\n",
      "\n",
      "2022/03/11, 10:52:28 - [Epoch 30 / lr 3.00e-04]\n"
     ]
    },
    {
     "name": "stderr",
     "output_type": "stream",
     "text": [
      "100%|█████████████████████████████████████| 15691/15691 [29:34<00:00,  8.84it/s]\n",
      "  0%|                                                  | 0/1111 [00:00<?, ?it/s]"
     ]
    },
    {
     "name": "stdout",
     "output_type": "stream",
     "text": [
      "[train] epoch time: 1774.47s, average batch time: 0.90s\n",
      "[train] L1 : 0.0189 (best 0.0189), L1 : 0.0189 (best 0.0189)\n"
     ]
    },
    {
     "name": "stderr",
     "output_type": "stream",
     "text": [
      "100%|███████████████████████████████████████| 1111/1111 [01:47<00:00, 10.35it/s]\n",
      "  0%|                                                 | 0/15691 [00:00<?, ?it/s]"
     ]
    },
    {
     "name": "stdout",
     "output_type": "stream",
     "text": [
      "[valid] epoch time: 107.32s, average batch time: 0.77s\n",
      "[valid] L1 : 0.0199 (best 0.0181), L1 : 0.0199 (best 0.0181)\n",
      "\n",
      "2022/03/11, 11:23:50 - [Epoch 31 / lr 3.00e-04]\n"
     ]
    },
    {
     "name": "stderr",
     "output_type": "stream",
     "text": [
      "100%|█████████████████████████████████████| 15691/15691 [28:50<00:00,  9.07it/s]\n",
      "  0%|                                                  | 0/1111 [00:00<?, ?it/s]"
     ]
    },
    {
     "name": "stdout",
     "output_type": "stream",
     "text": [
      "[train] epoch time: 1730.79s, average batch time: 0.88s\n",
      "[train] L1 : 0.0185 (best 0.0185), L1 : 0.0185 (best 0.0185)\n"
     ]
    },
    {
     "name": "stderr",
     "output_type": "stream",
     "text": [
      "100%|███████████████████████████████████████| 1111/1111 [01:42<00:00, 10.87it/s]\n",
      "  0%|                                                 | 0/15691 [00:00<?, ?it/s]"
     ]
    },
    {
     "name": "stdout",
     "output_type": "stream",
     "text": [
      "[valid] epoch time: 102.22s, average batch time: 0.74s\n",
      "[valid] L1 : 0.0177 (best 0.0177), L1 : 0.0177 (best 0.0177)\n",
      "\n",
      "2022/03/11, 11:54:23 - [Epoch 32 / lr 3.00e-04]\n"
     ]
    },
    {
     "name": "stderr",
     "output_type": "stream",
     "text": [
      "100%|█████████████████████████████████████| 15691/15691 [29:49<00:00,  8.77it/s]\n",
      "  0%|                                                  | 0/1111 [00:00<?, ?it/s]"
     ]
    },
    {
     "name": "stdout",
     "output_type": "stream",
     "text": [
      "[train] epoch time: 1789.39s, average batch time: 0.91s\n",
      "[train] L1 : 0.0186 (best 0.0185), L1 : 0.0186 (best 0.0185)\n"
     ]
    },
    {
     "name": "stderr",
     "output_type": "stream",
     "text": [
      "100%|███████████████████████████████████████| 1111/1111 [01:54<00:00,  9.74it/s]\n",
      "  0%|                                                 | 0/15691 [00:00<?, ?it/s]"
     ]
    },
    {
     "name": "stdout",
     "output_type": "stream",
     "text": [
      "[valid] epoch time: 114.04s, average batch time: 0.82s\n",
      "[valid] L1 : 0.0198 (best 0.0177), L1 : 0.0198 (best 0.0177)\n",
      "\n",
      "2022/03/11, 12:26:06 - [Epoch 33 / lr 3.00e-04]\n"
     ]
    },
    {
     "name": "stderr",
     "output_type": "stream",
     "text": [
      "100%|█████████████████████████████████████| 15691/15691 [29:41<00:00,  8.81it/s]\n",
      "  0%|                                                  | 0/1111 [00:00<?, ?it/s]"
     ]
    },
    {
     "name": "stdout",
     "output_type": "stream",
     "text": [
      "[train] epoch time: 1781.17s, average batch time: 0.91s\n",
      "[train] L1 : 0.0180 (best 0.0180), L1 : 0.0180 (best 0.0180)\n"
     ]
    },
    {
     "name": "stderr",
     "output_type": "stream",
     "text": [
      "100%|███████████████████████████████████████| 1111/1111 [01:44<00:00, 10.66it/s]\n",
      "  0%|                                                 | 0/15691 [00:00<?, ?it/s]"
     ]
    },
    {
     "name": "stdout",
     "output_type": "stream",
     "text": [
      "[valid] epoch time: 104.16s, average batch time: 0.75s\n",
      "[valid] L1 : 0.0182 (best 0.0177), L1 : 0.0182 (best 0.0177)\n",
      "\n",
      "2022/03/11, 12:57:32 - [Epoch 34 / lr 3.00e-04]\n"
     ]
    },
    {
     "name": "stderr",
     "output_type": "stream",
     "text": [
      "100%|█████████████████████████████████████| 15691/15691 [29:49<00:00,  8.77it/s]\n",
      "  0%|                                                  | 0/1111 [00:00<?, ?it/s]"
     ]
    },
    {
     "name": "stdout",
     "output_type": "stream",
     "text": [
      "[train] epoch time: 1789.84s, average batch time: 0.91s\n",
      "[train] L1 : 0.0178 (best 0.0178), L1 : 0.0178 (best 0.0178)\n"
     ]
    },
    {
     "name": "stderr",
     "output_type": "stream",
     "text": [
      "100%|███████████████████████████████████████| 1111/1111 [01:49<00:00, 10.19it/s]\n",
      "  0%|                                                 | 0/15691 [00:00<?, ?it/s]"
     ]
    },
    {
     "name": "stdout",
     "output_type": "stream",
     "text": [
      "[valid] epoch time: 109.01s, average batch time: 0.78s\n",
      "[valid] L1 : 0.0185 (best 0.0177), L1 : 0.0185 (best 0.0177)\n",
      "\n",
      "2022/03/11, 13:29:11 - [Epoch 35 / lr 3.00e-04]\n"
     ]
    },
    {
     "name": "stderr",
     "output_type": "stream",
     "text": [
      "100%|█████████████████████████████████████| 15691/15691 [29:00<00:00,  9.01it/s]\n",
      "  0%|                                                  | 0/1111 [00:00<?, ?it/s]"
     ]
    },
    {
     "name": "stdout",
     "output_type": "stream",
     "text": [
      "[train] epoch time: 1740.85s, average batch time: 0.89s\n",
      "[train] L1 : 0.0175 (best 0.0175), L1 : 0.0175 (best 0.0175)\n"
     ]
    },
    {
     "name": "stderr",
     "output_type": "stream",
     "text": [
      "100%|███████████████████████████████████████| 1111/1111 [01:48<00:00, 10.22it/s]\n",
      "  0%|                                                 | 0/15691 [00:00<?, ?it/s]"
     ]
    },
    {
     "name": "stdout",
     "output_type": "stream",
     "text": [
      "[valid] epoch time: 108.67s, average batch time: 0.78s\n",
      "[valid] L1 : 0.0171 (best 0.0171), L1 : 0.0171 (best 0.0171)\n",
      "\n",
      "2022/03/11, 14:00:00 - [Epoch 36 / lr 3.00e-04]\n"
     ]
    },
    {
     "name": "stderr",
     "output_type": "stream",
     "text": [
      "100%|█████████████████████████████████████| 15691/15691 [30:33<00:00,  8.56it/s]\n",
      "  0%|                                                  | 0/1111 [00:00<?, ?it/s]"
     ]
    },
    {
     "name": "stdout",
     "output_type": "stream",
     "text": [
      "[train] epoch time: 1833.57s, average batch time: 0.93s\n",
      "[train] L1 : 0.0174 (best 0.0174), L1 : 0.0174 (best 0.0174)\n"
     ]
    },
    {
     "name": "stderr",
     "output_type": "stream",
     "text": [
      "100%|███████████████████████████████████████| 1111/1111 [02:21<00:00,  7.88it/s]\n",
      "  0%|                                                 | 0/15691 [00:00<?, ?it/s]"
     ]
    },
    {
     "name": "stdout",
     "output_type": "stream",
     "text": [
      "[valid] epoch time: 141.03s, average batch time: 1.01s\n",
      "[valid] L1 : 0.0179 (best 0.0171), L1 : 0.0179 (best 0.0171)\n",
      "\n",
      "2022/03/11, 14:32:55 - [Epoch 37 / lr 3.00e-04]\n"
     ]
    },
    {
     "name": "stderr",
     "output_type": "stream",
     "text": [
      "100%|█████████████████████████████████████| 15691/15691 [36:27<00:00,  7.17it/s]\n",
      "  0%|                                                  | 0/1111 [00:00<?, ?it/s]"
     ]
    },
    {
     "name": "stdout",
     "output_type": "stream",
     "text": [
      "[train] epoch time: 2187.77s, average batch time: 1.12s\n",
      "[train] L1 : 0.0171 (best 0.0171), L1 : 0.0171 (best 0.0171)\n"
     ]
    },
    {
     "name": "stderr",
     "output_type": "stream",
     "text": [
      "100%|███████████████████████████████████████| 1111/1111 [01:48<00:00, 10.24it/s]\n",
      "  0%|                                                 | 0/15691 [00:00<?, ?it/s]"
     ]
    },
    {
     "name": "stdout",
     "output_type": "stream",
     "text": [
      "[valid] epoch time: 108.51s, average batch time: 0.78s\n",
      "[valid] L1 : 0.0184 (best 0.0171), L1 : 0.0184 (best 0.0171)\n",
      "\n",
      "2022/03/11, 15:11:11 - [Epoch 38 / lr 3.00e-04]\n"
     ]
    },
    {
     "name": "stderr",
     "output_type": "stream",
     "text": [
      "100%|█████████████████████████████████████| 15691/15691 [30:01<00:00,  8.71it/s]\n",
      "  0%|                                                  | 0/1111 [00:00<?, ?it/s]"
     ]
    },
    {
     "name": "stdout",
     "output_type": "stream",
     "text": [
      "[train] epoch time: 1801.84s, average batch time: 0.92s\n",
      "[train] L1 : 0.0171 (best 0.0171), L1 : 0.0171 (best 0.0171)\n"
     ]
    },
    {
     "name": "stderr",
     "output_type": "stream",
     "text": [
      "100%|███████████████████████████████████████| 1111/1111 [01:49<00:00, 10.18it/s]\n",
      "  0%|                                                 | 0/15691 [00:00<?, ?it/s]"
     ]
    },
    {
     "name": "stdout",
     "output_type": "stream",
     "text": [
      "[valid] epoch time: 109.10s, average batch time: 0.78s\n",
      "[valid] L1 : 0.0185 (best 0.0171), L1 : 0.0185 (best 0.0171)\n",
      "\n",
      "2022/03/11, 15:43:02 - [Epoch 39 / lr 3.00e-04]\n"
     ]
    },
    {
     "name": "stderr",
     "output_type": "stream",
     "text": [
      "100%|█████████████████████████████████████| 15691/15691 [29:05<00:00,  8.99it/s]\n",
      "  0%|                                                  | 0/1111 [00:00<?, ?it/s]"
     ]
    },
    {
     "name": "stdout",
     "output_type": "stream",
     "text": [
      "[train] epoch time: 1745.84s, average batch time: 0.89s\n",
      "[train] L1 : 0.0169 (best 0.0169), L1 : 0.0169 (best 0.0169)\n"
     ]
    },
    {
     "name": "stderr",
     "output_type": "stream",
     "text": [
      "100%|███████████████████████████████████████| 1111/1111 [01:47<00:00, 10.35it/s]\n",
      "  0%|                                                 | 0/15691 [00:00<?, ?it/s]"
     ]
    },
    {
     "name": "stdout",
     "output_type": "stream",
     "text": [
      "[valid] epoch time: 107.30s, average batch time: 0.77s\n",
      "[valid] L1 : 0.0191 (best 0.0171), L1 : 0.0191 (best 0.0171)\n",
      "\n",
      "2022/03/11, 16:13:55 - [Epoch 40 / lr 3.00e-04]\n"
     ]
    },
    {
     "name": "stderr",
     "output_type": "stream",
     "text": [
      "100%|█████████████████████████████████████| 15691/15691 [28:56<00:00,  9.03it/s]\n",
      "  0%|                                                  | 0/1111 [00:00<?, ?it/s]"
     ]
    },
    {
     "name": "stdout",
     "output_type": "stream",
     "text": [
      "[train] epoch time: 1737.00s, average batch time: 0.89s\n",
      "[train] L1 : 0.0165 (best 0.0165), L1 : 0.0165 (best 0.0165)\n"
     ]
    },
    {
     "name": "stderr",
     "output_type": "stream",
     "text": [
      "100%|███████████████████████████████████████| 1111/1111 [01:56<00:00,  9.56it/s]\n",
      "  0%|                                                 | 0/15691 [00:00<?, ?it/s]"
     ]
    },
    {
     "name": "stdout",
     "output_type": "stream",
     "text": [
      "[valid] epoch time: 116.22s, average batch time: 0.84s\n",
      "[valid] L1 : 0.0188 (best 0.0171), L1 : 0.0188 (best 0.0171)\n",
      "\n",
      "2022/03/11, 16:44:49 - [Epoch 41 / lr 3.00e-04]\n"
     ]
    },
    {
     "name": "stderr",
     "output_type": "stream",
     "text": [
      "100%|█████████████████████████████████████| 15691/15691 [29:15<00:00,  8.94it/s]\n",
      "  0%|                                                  | 0/1111 [00:00<?, ?it/s]"
     ]
    },
    {
     "name": "stdout",
     "output_type": "stream",
     "text": [
      "[train] epoch time: 1755.90s, average batch time: 0.89s\n",
      "[train] L1 : 0.0164 (best 0.0164), L1 : 0.0164 (best 0.0164)\n"
     ]
    },
    {
     "name": "stderr",
     "output_type": "stream",
     "text": [
      "100%|███████████████████████████████████████| 1111/1111 [01:47<00:00, 10.38it/s]\n",
      "  0%|                                                 | 0/15691 [00:00<?, ?it/s]"
     ]
    },
    {
     "name": "stdout",
     "output_type": "stream",
     "text": [
      "[valid] epoch time: 107.06s, average batch time: 0.77s\n",
      "[valid] L1 : 0.0177 (best 0.0171), L1 : 0.0177 (best 0.0171)\n",
      "\n",
      "2022/03/11, 17:15:52 - [Epoch 42 / lr 3.00e-04]\n"
     ]
    },
    {
     "name": "stderr",
     "output_type": "stream",
     "text": [
      "100%|█████████████████████████████████████| 15691/15691 [29:27<00:00,  8.88it/s]\n",
      "  0%|                                                  | 0/1111 [00:00<?, ?it/s]"
     ]
    },
    {
     "name": "stdout",
     "output_type": "stream",
     "text": [
      "[train] epoch time: 1767.27s, average batch time: 0.90s\n",
      "[train] L1 : 0.0162 (best 0.0162), L1 : 0.0162 (best 0.0162)\n"
     ]
    },
    {
     "name": "stderr",
     "output_type": "stream",
     "text": [
      "100%|███████████████████████████████████████| 1111/1111 [01:50<00:00, 10.06it/s]\n",
      "  0%|                                                 | 0/15691 [00:00<?, ?it/s]"
     ]
    },
    {
     "name": "stdout",
     "output_type": "stream",
     "text": [
      "[valid] epoch time: 110.43s, average batch time: 0.79s\n",
      "[valid] L1 : 0.0171 (best 0.0171), L1 : 0.0171 (best 0.0171)\n",
      "\n",
      "2022/03/11, 17:47:09 - [Epoch 43 / lr 3.00e-04]\n"
     ]
    },
    {
     "name": "stderr",
     "output_type": "stream",
     "text": [
      "100%|█████████████████████████████████████| 15691/15691 [29:06<00:00,  8.98it/s]\n",
      "  0%|                                                  | 0/1111 [00:00<?, ?it/s]"
     ]
    },
    {
     "name": "stdout",
     "output_type": "stream",
     "text": [
      "[train] epoch time: 1746.45s, average batch time: 0.89s\n",
      "[train] L1 : 0.0160 (best 0.0160), L1 : 0.0160 (best 0.0160)\n"
     ]
    },
    {
     "name": "stderr",
     "output_type": "stream",
     "text": [
      "100%|███████████████████████████████████████| 1111/1111 [01:48<00:00, 10.25it/s]\n",
      "  0%|                                                 | 0/15691 [00:00<?, ?it/s]"
     ]
    },
    {
     "name": "stdout",
     "output_type": "stream",
     "text": [
      "[valid] epoch time: 108.41s, average batch time: 0.78s\n",
      "[valid] L1 : 0.0182 (best 0.0171), L1 : 0.0182 (best 0.0171)\n",
      "\n",
      "2022/03/11, 18:18:04 - [Epoch 44 / lr 3.00e-04]\n"
     ]
    },
    {
     "name": "stderr",
     "output_type": "stream",
     "text": [
      "100%|█████████████████████████████████████| 15691/15691 [29:18<00:00,  8.93it/s]\n",
      "  0%|                                                  | 0/1111 [00:00<?, ?it/s]"
     ]
    },
    {
     "name": "stdout",
     "output_type": "stream",
     "text": [
      "[train] epoch time: 1758.04s, average batch time: 0.90s\n",
      "[train] L1 : 0.0158 (best 0.0158), L1 : 0.0158 (best 0.0158)\n"
     ]
    },
    {
     "name": "stderr",
     "output_type": "stream",
     "text": [
      "100%|███████████████████████████████████████| 1111/1111 [01:50<00:00, 10.02it/s]\n",
      "  0%|                                                 | 0/15691 [00:00<?, ?it/s]"
     ]
    },
    {
     "name": "stdout",
     "output_type": "stream",
     "text": [
      "[valid] epoch time: 110.93s, average batch time: 0.80s\n",
      "[valid] L1 : 0.0188 (best 0.0171), L1 : 0.0188 (best 0.0171)\n",
      "\n",
      "2022/03/11, 18:49:14 - [Epoch 45 / lr 3.00e-04]\n"
     ]
    },
    {
     "name": "stderr",
     "output_type": "stream",
     "text": [
      "100%|█████████████████████████████████████| 15691/15691 [29:21<00:00,  8.91it/s]\n",
      "  0%|                                                  | 0/1111 [00:00<?, ?it/s]"
     ]
    },
    {
     "name": "stdout",
     "output_type": "stream",
     "text": [
      "[train] epoch time: 1761.79s, average batch time: 0.90s\n",
      "[train] L1 : 0.0158 (best 0.0158), L1 : 0.0158 (best 0.0158)\n"
     ]
    },
    {
     "name": "stderr",
     "output_type": "stream",
     "text": [
      "100%|███████████████████████████████████████| 1111/1111 [01:47<00:00, 10.34it/s]\n",
      "  0%|                                                 | 0/15691 [00:00<?, ?it/s]"
     ]
    },
    {
     "name": "stdout",
     "output_type": "stream",
     "text": [
      "[valid] epoch time: 107.42s, average batch time: 0.77s\n",
      "[valid] L1 : 0.0190 (best 0.0171), L1 : 0.0190 (best 0.0171)\n",
      "\n",
      "2022/03/11, 19:20:23 - [Epoch 46 / lr 3.00e-04]\n"
     ]
    },
    {
     "name": "stderr",
     "output_type": "stream",
     "text": [
      "100%|█████████████████████████████████████| 15691/15691 [31:50<00:00,  8.21it/s]\n",
      "  0%|                                                  | 0/1111 [00:00<?, ?it/s]"
     ]
    },
    {
     "name": "stdout",
     "output_type": "stream",
     "text": [
      "[train] epoch time: 1910.33s, average batch time: 0.97s\n",
      "[train] L1 : 0.0155 (best 0.0155), L1 : 0.0155 (best 0.0155)\n"
     ]
    },
    {
     "name": "stderr",
     "output_type": "stream",
     "text": [
      "100%|███████████████████████████████████████| 1111/1111 [02:22<00:00,  7.80it/s]\n",
      "  0%|                                                 | 0/15691 [00:00<?, ?it/s]"
     ]
    },
    {
     "name": "stdout",
     "output_type": "stream",
     "text": [
      "[valid] epoch time: 142.36s, average batch time: 1.02s\n",
      "[valid] L1 : 0.0187 (best 0.0171), L1 : 0.0187 (best 0.0171)\n",
      "\n",
      "2022/03/11, 19:54:36 - [Epoch 47 / lr 3.00e-04]\n"
     ]
    },
    {
     "name": "stderr",
     "output_type": "stream",
     "text": [
      "100%|█████████████████████████████████████| 15691/15691 [33:00<00:00,  7.92it/s]\n",
      "  0%|                                                  | 0/1111 [00:00<?, ?it/s]"
     ]
    },
    {
     "name": "stdout",
     "output_type": "stream",
     "text": [
      "[train] epoch time: 1980.92s, average batch time: 1.01s\n",
      "[train] L1 : 0.0155 (best 0.0155), L1 : 0.0155 (best 0.0155)\n"
     ]
    },
    {
     "name": "stderr",
     "output_type": "stream",
     "text": [
      "100%|███████████████████████████████████████| 1111/1111 [01:47<00:00, 10.29it/s]\n",
      "  0%|                                                 | 0/15691 [00:00<?, ?it/s]"
     ]
    },
    {
     "name": "stdout",
     "output_type": "stream",
     "text": [
      "[valid] epoch time: 107.99s, average batch time: 0.78s\n",
      "[valid] L1 : 0.0183 (best 0.0171), L1 : 0.0183 (best 0.0171)\n",
      "\n",
      "2022/03/11, 20:29:25 - [Epoch 48 / lr 3.00e-04]\n"
     ]
    },
    {
     "name": "stderr",
     "output_type": "stream",
     "text": [
      "100%|█████████████████████████████████████| 15691/15691 [29:35<00:00,  8.84it/s]\n",
      "  0%|                                                  | 0/1111 [00:00<?, ?it/s]"
     ]
    },
    {
     "name": "stdout",
     "output_type": "stream",
     "text": [
      "[train] epoch time: 1775.20s, average batch time: 0.90s\n",
      "[train] L1 : 0.0151 (best 0.0151), L1 : 0.0151 (best 0.0151)\n"
     ]
    },
    {
     "name": "stderr",
     "output_type": "stream",
     "text": [
      "100%|███████████████████████████████████████| 1111/1111 [01:49<00:00, 10.12it/s]\n",
      "  0%|                                                 | 0/15691 [00:00<?, ?it/s]"
     ]
    },
    {
     "name": "stdout",
     "output_type": "stream",
     "text": [
      "[valid] epoch time: 109.82s, average batch time: 0.79s\n",
      "[valid] L1 : 0.0206 (best 0.0171), L1 : 0.0206 (best 0.0171)\n",
      "\n",
      "2022/03/11, 21:00:50 - [Epoch 49 / lr 3.00e-04]\n"
     ]
    },
    {
     "name": "stderr",
     "output_type": "stream",
     "text": [
      "100%|█████████████████████████████████████| 15691/15691 [29:47<00:00,  8.78it/s]\n",
      "  0%|                                                  | 0/1111 [00:00<?, ?it/s]"
     ]
    },
    {
     "name": "stdout",
     "output_type": "stream",
     "text": [
      "[train] epoch time: 1787.92s, average batch time: 0.91s\n",
      "[train] L1 : 0.0151 (best 0.0151), L1 : 0.0151 (best 0.0151)\n"
     ]
    },
    {
     "name": "stderr",
     "output_type": "stream",
     "text": [
      "100%|███████████████████████████████████████| 1111/1111 [01:49<00:00, 10.18it/s]\n",
      "  0%|                                                 | 0/15691 [00:00<?, ?it/s]"
     ]
    },
    {
     "name": "stdout",
     "output_type": "stream",
     "text": [
      "[valid] epoch time: 109.12s, average batch time: 0.79s\n",
      "[valid] L1 : 0.0163 (best 0.0163), L1 : 0.0163 (best 0.0163)\n",
      "\n",
      "2022/03/11, 21:32:27 - [Epoch 50 / lr 3.00e-04]\n"
     ]
    },
    {
     "name": "stderr",
     "output_type": "stream",
     "text": [
      "100%|█████████████████████████████████████| 15691/15691 [29:59<00:00,  8.72it/s]\n",
      "  0%|                                                  | 0/1111 [00:00<?, ?it/s]"
     ]
    },
    {
     "name": "stdout",
     "output_type": "stream",
     "text": [
      "[train] epoch time: 1799.80s, average batch time: 0.92s\n",
      "[train] L1 : 0.0149 (best 0.0149), L1 : 0.0149 (best 0.0149)\n"
     ]
    },
    {
     "name": "stderr",
     "output_type": "stream",
     "text": [
      "100%|███████████████████████████████████████| 1111/1111 [01:51<00:00,  9.96it/s]\n",
      "  0%|                                                 | 0/15691 [00:00<?, ?it/s]"
     ]
    },
    {
     "name": "stdout",
     "output_type": "stream",
     "text": [
      "[valid] epoch time: 111.58s, average batch time: 0.80s\n",
      "[valid] L1 : 0.0165 (best 0.0163), L1 : 0.0165 (best 0.0163)\n",
      "\n",
      "2022/03/11, 22:04:18 - [Epoch 51 / lr 3.00e-04]\n"
     ]
    },
    {
     "name": "stderr",
     "output_type": "stream",
     "text": [
      "100%|█████████████████████████████████████| 15691/15691 [29:24<00:00,  8.89it/s]\n",
      "  0%|                                                  | 0/1111 [00:00<?, ?it/s]"
     ]
    },
    {
     "name": "stdout",
     "output_type": "stream",
     "text": [
      "[train] epoch time: 1764.36s, average batch time: 0.90s\n",
      "[train] L1 : 0.0149 (best 0.0149), L1 : 0.0149 (best 0.0149)\n"
     ]
    },
    {
     "name": "stderr",
     "output_type": "stream",
     "text": [
      "100%|███████████████████████████████████████| 1111/1111 [01:40<00:00, 11.00it/s]\n",
      "  0%|                                                 | 0/15691 [00:00<?, ?it/s]"
     ]
    },
    {
     "name": "stdout",
     "output_type": "stream",
     "text": [
      "[valid] epoch time: 100.98s, average batch time: 0.73s\n",
      "[valid] L1 : 0.0184 (best 0.0163), L1 : 0.0184 (best 0.0163)\n",
      "\n",
      "2022/03/11, 22:35:24 - [Epoch 52 / lr 3.00e-04]\n"
     ]
    },
    {
     "name": "stderr",
     "output_type": "stream",
     "text": [
      "100%|█████████████████████████████████████| 15691/15691 [29:28<00:00,  8.87it/s]\n",
      "  0%|                                                  | 0/1111 [00:00<?, ?it/s]"
     ]
    },
    {
     "name": "stdout",
     "output_type": "stream",
     "text": [
      "[train] epoch time: 1768.62s, average batch time: 0.90s\n",
      "[train] L1 : 0.0149 (best 0.0149), L1 : 0.0149 (best 0.0149)\n"
     ]
    },
    {
     "name": "stderr",
     "output_type": "stream",
     "text": [
      "100%|███████████████████████████████████████| 1111/1111 [01:38<00:00, 11.32it/s]\n",
      "  0%|                                                 | 0/15691 [00:00<?, ?it/s]"
     ]
    },
    {
     "name": "stdout",
     "output_type": "stream",
     "text": [
      "[valid] epoch time: 98.10s, average batch time: 0.71s\n",
      "[valid] L1 : 0.0186 (best 0.0163), L1 : 0.0186 (best 0.0163)\n",
      "\n",
      "2022/03/11, 23:06:30 - [Epoch 53 / lr 3.00e-04]\n"
     ]
    },
    {
     "name": "stderr",
     "output_type": "stream",
     "text": [
      "100%|█████████████████████████████████████| 15691/15691 [28:54<00:00,  9.05it/s]\n",
      "  0%|                                                  | 0/1111 [00:00<?, ?it/s]"
     ]
    },
    {
     "name": "stdout",
     "output_type": "stream",
     "text": [
      "[train] epoch time: 1734.46s, average batch time: 0.88s\n",
      "[train] L1 : 0.0146 (best 0.0146), L1 : 0.0146 (best 0.0146)\n"
     ]
    },
    {
     "name": "stderr",
     "output_type": "stream",
     "text": [
      "100%|███████████████████████████████████████| 1111/1111 [02:01<00:00,  9.18it/s]\n",
      "  0%|                                                 | 0/15691 [00:00<?, ?it/s]"
     ]
    },
    {
     "name": "stdout",
     "output_type": "stream",
     "text": [
      "[valid] epoch time: 121.08s, average batch time: 0.87s\n",
      "[valid] L1 : 0.0176 (best 0.0163), L1 : 0.0176 (best 0.0163)\n",
      "\n",
      "2022/03/11, 23:37:26 - [Epoch 54 / lr 3.00e-04]\n"
     ]
    },
    {
     "name": "stderr",
     "output_type": "stream",
     "text": [
      "100%|█████████████████████████████████████| 15691/15691 [29:26<00:00,  8.88it/s]\n",
      "  0%|                                                  | 0/1111 [00:00<?, ?it/s]"
     ]
    },
    {
     "name": "stdout",
     "output_type": "stream",
     "text": [
      "[train] epoch time: 1766.14s, average batch time: 0.90s\n",
      "[train] L1 : 0.0145 (best 0.0145), L1 : 0.0145 (best 0.0145)\n"
     ]
    },
    {
     "name": "stderr",
     "output_type": "stream",
     "text": [
      "100%|███████████████████████████████████████| 1111/1111 [01:36<00:00, 11.49it/s]\n",
      "  0%|                                                 | 0/15691 [00:00<?, ?it/s]"
     ]
    },
    {
     "name": "stdout",
     "output_type": "stream",
     "text": [
      "[valid] epoch time: 96.67s, average batch time: 0.70s\n",
      "[valid] L1 : 0.0190 (best 0.0163), L1 : 0.0190 (best 0.0163)\n",
      "\n",
      "2022/03/12, 00:08:29 - [Epoch 55 / lr 3.00e-04]\n"
     ]
    },
    {
     "name": "stderr",
     "output_type": "stream",
     "text": [
      "100%|█████████████████████████████████████| 15691/15691 [29:10<00:00,  8.96it/s]\n",
      "  0%|                                                  | 0/1111 [00:00<?, ?it/s]"
     ]
    },
    {
     "name": "stdout",
     "output_type": "stream",
     "text": [
      "[train] epoch time: 1750.49s, average batch time: 0.89s\n",
      "[train] L1 : 0.0144 (best 0.0144), L1 : 0.0144 (best 0.0144)\n"
     ]
    },
    {
     "name": "stderr",
     "output_type": "stream",
     "text": [
      "100%|███████████████████████████████████████| 1111/1111 [01:55<00:00,  9.58it/s]\n",
      "  0%|                                                 | 0/15691 [00:00<?, ?it/s]"
     ]
    },
    {
     "name": "stdout",
     "output_type": "stream",
     "text": [
      "[valid] epoch time: 115.93s, average batch time: 0.83s\n",
      "[valid] L1 : 0.0160 (best 0.0160), L1 : 0.0160 (best 0.0160)\n",
      "\n",
      "2022/03/12, 00:39:35 - [Epoch 56 / lr 3.00e-04]\n"
     ]
    },
    {
     "name": "stderr",
     "output_type": "stream",
     "text": [
      "100%|█████████████████████████████████████| 15691/15691 [29:28<00:00,  8.87it/s]\n",
      "  0%|                                                  | 0/1111 [00:00<?, ?it/s]"
     ]
    },
    {
     "name": "stdout",
     "output_type": "stream",
     "text": [
      "[train] epoch time: 1768.75s, average batch time: 0.90s\n",
      "[train] L1 : 0.0142 (best 0.0142), L1 : 0.0142 (best 0.0142)\n"
     ]
    },
    {
     "name": "stderr",
     "output_type": "stream",
     "text": [
      "100%|███████████████████████████████████████| 1111/1111 [01:40<00:00, 11.02it/s]\n",
      "  0%|                                                 | 0/15691 [00:00<?, ?it/s]"
     ]
    },
    {
     "name": "stdout",
     "output_type": "stream",
     "text": [
      "[valid] epoch time: 100.82s, average batch time: 0.73s\n",
      "[valid] L1 : 0.0180 (best 0.0160), L1 : 0.0180 (best 0.0160)\n",
      "\n",
      "2022/03/12, 01:10:45 - [Epoch 57 / lr 3.00e-04]\n"
     ]
    },
    {
     "name": "stderr",
     "output_type": "stream",
     "text": [
      "100%|█████████████████████████████████████| 15691/15691 [29:04<00:00,  9.00it/s]\n",
      "  0%|                                                  | 0/1111 [00:00<?, ?it/s]"
     ]
    },
    {
     "name": "stdout",
     "output_type": "stream",
     "text": [
      "[train] epoch time: 1744.25s, average batch time: 0.89s\n",
      "[train] L1 : 0.0141 (best 0.0141), L1 : 0.0141 (best 0.0141)\n"
     ]
    },
    {
     "name": "stderr",
     "output_type": "stream",
     "text": [
      "100%|███████████████████████████████████████| 1111/1111 [02:13<00:00,  8.35it/s]\n",
      "  0%|                                                 | 0/15691 [00:00<?, ?it/s]"
     ]
    },
    {
     "name": "stdout",
     "output_type": "stream",
     "text": [
      "[valid] epoch time: 133.07s, average batch time: 0.96s\n",
      "[valid] L1 : 0.0190 (best 0.0160), L1 : 0.0190 (best 0.0160)\n",
      "\n",
      "2022/03/12, 01:42:02 - [Epoch 58 / lr 3.00e-04]\n"
     ]
    },
    {
     "name": "stderr",
     "output_type": "stream",
     "text": [
      "100%|█████████████████████████████████████| 15691/15691 [28:58<00:00,  9.03it/s]\n",
      "  0%|                                                  | 0/1111 [00:00<?, ?it/s]"
     ]
    },
    {
     "name": "stdout",
     "output_type": "stream",
     "text": [
      "[train] epoch time: 1738.46s, average batch time: 0.89s\n",
      "[train] L1 : 0.0139 (best 0.0139), L1 : 0.0139 (best 0.0139)\n"
     ]
    },
    {
     "name": "stderr",
     "output_type": "stream",
     "text": [
      "100%|███████████████████████████████████████| 1111/1111 [01:38<00:00, 11.33it/s]\n",
      "  0%|                                                 | 0/15691 [00:00<?, ?it/s]"
     ]
    },
    {
     "name": "stdout",
     "output_type": "stream",
     "text": [
      "[valid] epoch time: 98.08s, average batch time: 0.71s\n",
      "[valid] L1 : 0.0166 (best 0.0160), L1 : 0.0166 (best 0.0160)\n",
      "\n",
      "2022/03/12, 02:12:39 - [Epoch 59 / lr 3.00e-04]\n"
     ]
    },
    {
     "name": "stderr",
     "output_type": "stream",
     "text": [
      "100%|█████████████████████████████████████| 15691/15691 [29:54<00:00,  8.75it/s]\n",
      "  0%|                                                  | 0/1111 [00:00<?, ?it/s]"
     ]
    },
    {
     "name": "stdout",
     "output_type": "stream",
     "text": [
      "[train] epoch time: 1794.12s, average batch time: 0.91s\n",
      "[train] L1 : 0.0141 (best 0.0139), L1 : 0.0141 (best 0.0139)\n"
     ]
    },
    {
     "name": "stderr",
     "output_type": "stream",
     "text": [
      "100%|███████████████████████████████████████| 1111/1111 [01:48<00:00, 10.20it/s]\n",
      "  0%|                                                 | 0/15691 [00:00<?, ?it/s]"
     ]
    },
    {
     "name": "stdout",
     "output_type": "stream",
     "text": [
      "[valid] epoch time: 108.98s, average batch time: 0.78s\n",
      "[valid] L1 : 0.0157 (best 0.0157), L1 : 0.0157 (best 0.0157)\n",
      "\n",
      "2022/03/12, 02:44:22 - [Epoch 60 / lr 3.00e-04]\n"
     ]
    },
    {
     "name": "stderr",
     "output_type": "stream",
     "text": [
      "100%|█████████████████████████████████████| 15691/15691 [29:25<00:00,  8.89it/s]\n",
      "  0%|                                                  | 0/1111 [00:00<?, ?it/s]"
     ]
    },
    {
     "name": "stdout",
     "output_type": "stream",
     "text": [
      "[train] epoch time: 1765.66s, average batch time: 0.90s\n",
      "[train] L1 : 0.0139 (best 0.0139), L1 : 0.0139 (best 0.0139)\n"
     ]
    },
    {
     "name": "stderr",
     "output_type": "stream",
     "text": [
      "100%|███████████████████████████████████████| 1111/1111 [01:48<00:00, 10.21it/s]\n",
      "  0%|                                                 | 0/15691 [00:00<?, ?it/s]"
     ]
    },
    {
     "name": "stdout",
     "output_type": "stream",
     "text": [
      "[valid] epoch time: 108.83s, average batch time: 0.78s\n",
      "[valid] L1 : 0.0168 (best 0.0157), L1 : 0.0168 (best 0.0157)\n",
      "\n",
      "2022/03/12, 03:15:37 - [Epoch 61 / lr 3.00e-04]\n"
     ]
    },
    {
     "name": "stderr",
     "output_type": "stream",
     "text": [
      "100%|█████████████████████████████████████| 15691/15691 [29:33<00:00,  8.85it/s]\n",
      "  0%|                                                  | 0/1111 [00:00<?, ?it/s]"
     ]
    },
    {
     "name": "stdout",
     "output_type": "stream",
     "text": [
      "[train] epoch time: 1773.60s, average batch time: 0.90s\n",
      "[train] L1 : 0.0138 (best 0.0138), L1 : 0.0138 (best 0.0138)\n"
     ]
    },
    {
     "name": "stderr",
     "output_type": "stream",
     "text": [
      "100%|███████████████████████████████████████| 1111/1111 [01:50<00:00, 10.08it/s]\n",
      "  0%|                                                 | 0/15691 [00:00<?, ?it/s]"
     ]
    },
    {
     "name": "stdout",
     "output_type": "stream",
     "text": [
      "[valid] epoch time: 110.21s, average batch time: 0.79s\n",
      "[valid] L1 : 0.0165 (best 0.0157), L1 : 0.0165 (best 0.0157)\n",
      "\n",
      "2022/03/12, 03:47:01 - [Epoch 62 / lr 3.00e-04]\n"
     ]
    },
    {
     "name": "stderr",
     "output_type": "stream",
     "text": [
      "100%|█████████████████████████████████████| 15691/15691 [29:11<00:00,  8.96it/s]\n",
      "  0%|                                                  | 0/1111 [00:00<?, ?it/s]"
     ]
    },
    {
     "name": "stdout",
     "output_type": "stream",
     "text": [
      "[train] epoch time: 1751.65s, average batch time: 0.89s\n",
      "[train] L1 : 0.0136 (best 0.0136), L1 : 0.0136 (best 0.0136)\n"
     ]
    },
    {
     "name": "stderr",
     "output_type": "stream",
     "text": [
      "100%|███████████████████████████████████████| 1111/1111 [01:48<00:00, 10.20it/s]\n",
      "  0%|                                                 | 0/15691 [00:00<?, ?it/s]"
     ]
    },
    {
     "name": "stdout",
     "output_type": "stream",
     "text": [
      "[valid] epoch time: 108.92s, average batch time: 0.78s\n",
      "[valid] L1 : 0.0183 (best 0.0157), L1 : 0.0183 (best 0.0157)\n",
      "\n",
      "2022/03/12, 04:18:01 - [Epoch 63 / lr 3.00e-04]\n"
     ]
    },
    {
     "name": "stderr",
     "output_type": "stream",
     "text": [
      "100%|█████████████████████████████████████| 15691/15691 [28:38<00:00,  9.13it/s]\n",
      "  0%|                                                  | 0/1111 [00:00<?, ?it/s]"
     ]
    },
    {
     "name": "stdout",
     "output_type": "stream",
     "text": [
      "[train] epoch time: 1718.86s, average batch time: 0.88s\n",
      "[train] L1 : 0.0135 (best 0.0135), L1 : 0.0135 (best 0.0135)\n"
     ]
    },
    {
     "name": "stderr",
     "output_type": "stream",
     "text": [
      "100%|███████████████████████████████████████| 1111/1111 [01:48<00:00, 10.24it/s]\n",
      "  0%|                                                 | 0/15691 [00:00<?, ?it/s]"
     ]
    },
    {
     "name": "stdout",
     "output_type": "stream",
     "text": [
      "[valid] epoch time: 108.52s, average batch time: 0.78s\n",
      "[valid] L1 : 0.0160 (best 0.0157), L1 : 0.0160 (best 0.0157)\n",
      "\n",
      "2022/03/12, 04:48:29 - [Epoch 64 / lr 3.00e-04]\n"
     ]
    },
    {
     "name": "stderr",
     "output_type": "stream",
     "text": [
      "100%|█████████████████████████████████████| 15691/15691 [29:08<00:00,  8.97it/s]\n",
      "  0%|                                                  | 0/1111 [00:00<?, ?it/s]"
     ]
    },
    {
     "name": "stdout",
     "output_type": "stream",
     "text": [
      "[train] epoch time: 1748.70s, average batch time: 0.89s\n",
      "[train] L1 : 0.0135 (best 0.0135), L1 : 0.0135 (best 0.0135)\n"
     ]
    },
    {
     "name": "stderr",
     "output_type": "stream",
     "text": [
      "100%|███████████████████████████████████████| 1111/1111 [01:48<00:00, 10.23it/s]\n",
      "  0%|                                                 | 0/15691 [00:00<?, ?it/s]"
     ]
    },
    {
     "name": "stdout",
     "output_type": "stream",
     "text": [
      "[valid] epoch time: 108.56s, average batch time: 0.78s\n",
      "[valid] L1 : 0.0159 (best 0.0157), L1 : 0.0159 (best 0.0157)\n",
      "\n",
      "2022/03/12, 05:19:26 - [Epoch 65 / lr 3.00e-04]\n"
     ]
    },
    {
     "name": "stderr",
     "output_type": "stream",
     "text": [
      "100%|█████████████████████████████████████| 15691/15691 [28:57<00:00,  9.03it/s]\n",
      "  0%|                                                  | 0/1111 [00:00<?, ?it/s]"
     ]
    },
    {
     "name": "stdout",
     "output_type": "stream",
     "text": [
      "[train] epoch time: 1737.55s, average batch time: 0.89s\n",
      "[train] L1 : 0.0134 (best 0.0134), L1 : 0.0134 (best 0.0134)\n"
     ]
    },
    {
     "name": "stderr",
     "output_type": "stream",
     "text": [
      "100%|███████████████████████████████████████| 1111/1111 [01:48<00:00, 10.28it/s]\n",
      "  0%|                                                 | 0/15691 [00:00<?, ?it/s]"
     ]
    },
    {
     "name": "stdout",
     "output_type": "stream",
     "text": [
      "[valid] epoch time: 108.10s, average batch time: 0.78s\n",
      "[valid] L1 : 0.0176 (best 0.0157), L1 : 0.0176 (best 0.0157)\n",
      "\n",
      "2022/03/12, 05:50:12 - [Epoch 66 / lr 3.00e-04]\n"
     ]
    },
    {
     "name": "stderr",
     "output_type": "stream",
     "text": [
      "100%|█████████████████████████████████████| 15691/15691 [29:31<00:00,  8.86it/s]\n",
      "  0%|                                                  | 0/1111 [00:00<?, ?it/s]"
     ]
    },
    {
     "name": "stdout",
     "output_type": "stream",
     "text": [
      "[train] epoch time: 1771.16s, average batch time: 0.90s\n",
      "[train] L1 : 0.0133 (best 0.0133), L1 : 0.0133 (best 0.0133)\n"
     ]
    },
    {
     "name": "stderr",
     "output_type": "stream",
     "text": [
      "100%|███████████████████████████████████████| 1111/1111 [01:48<00:00, 10.22it/s]\n",
      "  0%|                                                 | 0/15691 [00:00<?, ?it/s]"
     ]
    },
    {
     "name": "stdout",
     "output_type": "stream",
     "text": [
      "[valid] epoch time: 108.76s, average batch time: 0.78s\n",
      "[valid] L1 : 0.0172 (best 0.0157), L1 : 0.0172 (best 0.0157)\n",
      "\n",
      "2022/03/12, 06:21:32 - [Epoch 67 / lr 3.00e-04]\n"
     ]
    },
    {
     "name": "stderr",
     "output_type": "stream",
     "text": [
      "100%|█████████████████████████████████████| 15691/15691 [29:27<00:00,  8.88it/s]\n",
      "  0%|                                                  | 0/1111 [00:00<?, ?it/s]"
     ]
    },
    {
     "name": "stdout",
     "output_type": "stream",
     "text": [
      "[train] epoch time: 1767.95s, average batch time: 0.90s\n",
      "[train] L1 : 0.0132 (best 0.0132), L1 : 0.0132 (best 0.0132)\n"
     ]
    },
    {
     "name": "stderr",
     "output_type": "stream",
     "text": [
      "100%|███████████████████████████████████████| 1111/1111 [01:48<00:00, 10.27it/s]\n",
      "  0%|                                                 | 0/15691 [00:00<?, ?it/s]"
     ]
    },
    {
     "name": "stdout",
     "output_type": "stream",
     "text": [
      "[valid] epoch time: 108.25s, average batch time: 0.78s\n",
      "[valid] L1 : 0.0165 (best 0.0157), L1 : 0.0165 (best 0.0157)\n",
      "\n",
      "2022/03/12, 06:52:48 - [Epoch 68 / lr 3.00e-04]\n"
     ]
    },
    {
     "name": "stderr",
     "output_type": "stream",
     "text": [
      "100%|█████████████████████████████████████| 15691/15691 [29:17<00:00,  8.93it/s]\n",
      "  0%|                                                  | 0/1111 [00:00<?, ?it/s]"
     ]
    },
    {
     "name": "stdout",
     "output_type": "stream",
     "text": [
      "[train] epoch time: 1757.11s, average batch time: 0.90s\n",
      "[train] L1 : 0.0134 (best 0.0132), L1 : 0.0134 (best 0.0132)\n"
     ]
    },
    {
     "name": "stderr",
     "output_type": "stream",
     "text": [
      "100%|███████████████████████████████████████| 1111/1111 [01:52<00:00,  9.89it/s]\n",
      "  0%|                                                 | 0/15691 [00:00<?, ?it/s]"
     ]
    },
    {
     "name": "stdout",
     "output_type": "stream",
     "text": [
      "[valid] epoch time: 112.35s, average batch time: 0.81s\n",
      "[valid] L1 : 0.0170 (best 0.0157), L1 : 0.0170 (best 0.0157)\n",
      "\n",
      "2022/03/12, 07:23:58 - [Epoch 69 / lr 3.00e-04]\n"
     ]
    },
    {
     "name": "stderr",
     "output_type": "stream",
     "text": [
      "100%|█████████████████████████████████████| 15691/15691 [29:28<00:00,  8.87it/s]\n",
      "  0%|                                                  | 0/1111 [00:00<?, ?it/s]"
     ]
    },
    {
     "name": "stdout",
     "output_type": "stream",
     "text": [
      "[train] epoch time: 1768.37s, average batch time: 0.90s\n",
      "[train] L1 : 0.0130 (best 0.0130), L1 : 0.0130 (best 0.0130)\n"
     ]
    },
    {
     "name": "stderr",
     "output_type": "stream",
     "text": [
      "100%|███████████████████████████████████████| 1111/1111 [01:48<00:00, 10.22it/s]\n",
      "  0%|                                                 | 0/15691 [00:00<?, ?it/s]"
     ]
    },
    {
     "name": "stdout",
     "output_type": "stream",
     "text": [
      "[valid] epoch time: 108.70s, average batch time: 0.78s\n",
      "[valid] L1 : 0.0180 (best 0.0157), L1 : 0.0180 (best 0.0157)\n",
      "\n",
      "2022/03/12, 07:55:15 - [Epoch 70 / lr 3.00e-04]\n"
     ]
    },
    {
     "name": "stderr",
     "output_type": "stream",
     "text": [
      "100%|█████████████████████████████████████| 15691/15691 [28:39<00:00,  9.13it/s]\n",
      "  0%|                                                  | 0/1111 [00:00<?, ?it/s]"
     ]
    },
    {
     "name": "stdout",
     "output_type": "stream",
     "text": [
      "[train] epoch time: 1719.50s, average batch time: 0.88s\n",
      "[train] L1 : 0.0130 (best 0.0130), L1 : 0.0130 (best 0.0130)\n"
     ]
    },
    {
     "name": "stderr",
     "output_type": "stream",
     "text": [
      "100%|███████████████████████████████████████| 1111/1111 [01:52<00:00,  9.88it/s]\n",
      "  0%|                                                 | 0/15691 [00:00<?, ?it/s]"
     ]
    },
    {
     "name": "stdout",
     "output_type": "stream",
     "text": [
      "[valid] epoch time: 112.48s, average batch time: 0.81s\n",
      "[valid] L1 : 0.0182 (best 0.0157), L1 : 0.0182 (best 0.0157)\n",
      "\n",
      "2022/03/12, 08:25:47 - [Epoch 71 / lr 3.00e-04]\n"
     ]
    },
    {
     "name": "stderr",
     "output_type": "stream",
     "text": [
      "100%|█████████████████████████████████████| 15691/15691 [29:45<00:00,  8.79it/s]\n",
      "  0%|                                                  | 0/1111 [00:00<?, ?it/s]"
     ]
    },
    {
     "name": "stdout",
     "output_type": "stream",
     "text": [
      "[train] epoch time: 1785.11s, average batch time: 0.91s\n",
      "[train] L1 : 0.0129 (best 0.0129), L1 : 0.0129 (best 0.0129)\n"
     ]
    },
    {
     "name": "stderr",
     "output_type": "stream",
     "text": [
      "100%|███████████████████████████████████████| 1111/1111 [02:10<00:00,  8.50it/s]\n",
      "  0%|                                                 | 0/15691 [00:00<?, ?it/s]"
     ]
    },
    {
     "name": "stdout",
     "output_type": "stream",
     "text": [
      "[valid] epoch time: 130.66s, average batch time: 0.94s\n",
      "[valid] L1 : 0.0161 (best 0.0157), L1 : 0.0161 (best 0.0157)\n",
      "\n",
      "2022/03/12, 08:57:43 - [Epoch 72 / lr 3.00e-04]\n"
     ]
    },
    {
     "name": "stderr",
     "output_type": "stream",
     "text": [
      "100%|█████████████████████████████████████| 15691/15691 [29:20<00:00,  8.91it/s]\n",
      "  0%|                                                  | 0/1111 [00:00<?, ?it/s]"
     ]
    },
    {
     "name": "stdout",
     "output_type": "stream",
     "text": [
      "[train] epoch time: 1760.34s, average batch time: 0.90s\n",
      "[train] L1 : 0.0129 (best 0.0129), L1 : 0.0129 (best 0.0129)\n"
     ]
    },
    {
     "name": "stderr",
     "output_type": "stream",
     "text": [
      "100%|███████████████████████████████████████| 1111/1111 [02:16<00:00,  8.14it/s]\n",
      "  0%|                                                 | 0/15691 [00:00<?, ?it/s]"
     ]
    },
    {
     "name": "stdout",
     "output_type": "stream",
     "text": [
      "[valid] epoch time: 136.49s, average batch time: 0.98s\n",
      "[valid] L1 : 0.0175 (best 0.0157), L1 : 0.0175 (best 0.0157)\n",
      "\n",
      "2022/03/12, 09:29:20 - [Epoch 73 / lr 3.00e-04]\n"
     ]
    },
    {
     "name": "stderr",
     "output_type": "stream",
     "text": [
      "100%|█████████████████████████████████████| 15691/15691 [29:19<00:00,  8.92it/s]\n",
      "  0%|                                                  | 0/1111 [00:00<?, ?it/s]"
     ]
    },
    {
     "name": "stdout",
     "output_type": "stream",
     "text": [
      "[train] epoch time: 1759.26s, average batch time: 0.90s\n",
      "[train] L1 : 0.0128 (best 0.0128), L1 : 0.0128 (best 0.0128)\n"
     ]
    },
    {
     "name": "stderr",
     "output_type": "stream",
     "text": [
      "100%|███████████████████████████████████████| 1111/1111 [01:45<00:00, 10.56it/s]\n",
      "  0%|                                                 | 0/15691 [00:00<?, ?it/s]"
     ]
    },
    {
     "name": "stdout",
     "output_type": "stream",
     "text": [
      "[valid] epoch time: 105.17s, average batch time: 0.76s\n",
      "[valid] L1 : 0.0174 (best 0.0157), L1 : 0.0174 (best 0.0157)\n",
      "\n",
      "2022/03/12, 10:00:24 - [Epoch 74 / lr 3.00e-04]\n"
     ]
    },
    {
     "name": "stderr",
     "output_type": "stream",
     "text": [
      "100%|█████████████████████████████████████| 15691/15691 [29:22<00:00,  8.90it/s]\n",
      "  0%|                                                  | 0/1111 [00:00<?, ?it/s]"
     ]
    },
    {
     "name": "stdout",
     "output_type": "stream",
     "text": [
      "[train] epoch time: 1762.40s, average batch time: 0.90s\n",
      "[train] L1 : 0.0127 (best 0.0127), L1 : 0.0127 (best 0.0127)\n"
     ]
    },
    {
     "name": "stderr",
     "output_type": "stream",
     "text": [
      "100%|███████████████████████████████████████| 1111/1111 [01:52<00:00,  9.85it/s]\n",
      "  0%|                                                 | 0/15691 [00:00<?, ?it/s]"
     ]
    },
    {
     "name": "stdout",
     "output_type": "stream",
     "text": [
      "[valid] epoch time: 112.82s, average batch time: 0.81s\n",
      "[valid] L1 : 0.0169 (best 0.0157), L1 : 0.0169 (best 0.0157)\n",
      "\n",
      "2022/03/12, 10:31:39 - [Epoch 75 / lr 3.00e-04]\n"
     ]
    },
    {
     "name": "stderr",
     "output_type": "stream",
     "text": [
      "100%|█████████████████████████████████████| 15691/15691 [29:32<00:00,  8.85it/s]\n",
      "  0%|                                                  | 0/1111 [00:00<?, ?it/s]"
     ]
    },
    {
     "name": "stdout",
     "output_type": "stream",
     "text": [
      "[train] epoch time: 1772.85s, average batch time: 0.90s\n",
      "[train] L1 : 0.0127 (best 0.0127), L1 : 0.0127 (best 0.0127)\n"
     ]
    },
    {
     "name": "stderr",
     "output_type": "stream",
     "text": [
      "100%|███████████████████████████████████████| 1111/1111 [01:44<00:00, 10.65it/s]\n",
      "  0%|                                                 | 0/15691 [00:00<?, ?it/s]"
     ]
    },
    {
     "name": "stdout",
     "output_type": "stream",
     "text": [
      "[valid] epoch time: 104.34s, average batch time: 0.75s\n",
      "[valid] L1 : 0.0176 (best 0.0157), L1 : 0.0176 (best 0.0157)\n",
      "\n",
      "2022/03/12, 11:02:57 - [Epoch 76 / lr 3.00e-04]\n"
     ]
    },
    {
     "name": "stderr",
     "output_type": "stream",
     "text": [
      "100%|█████████████████████████████████████| 15691/15691 [29:33<00:00,  8.85it/s]\n",
      "  0%|                                                  | 0/1111 [00:00<?, ?it/s]"
     ]
    },
    {
     "name": "stdout",
     "output_type": "stream",
     "text": [
      "[train] epoch time: 1773.52s, average batch time: 0.90s\n",
      "[train] L1 : 0.0126 (best 0.0126), L1 : 0.0126 (best 0.0126)\n"
     ]
    },
    {
     "name": "stderr",
     "output_type": "stream",
     "text": [
      "100%|███████████████████████████████████████| 1111/1111 [01:52<00:00,  9.89it/s]\n",
      "  0%|                                                 | 0/15691 [00:00<?, ?it/s]"
     ]
    },
    {
     "name": "stdout",
     "output_type": "stream",
     "text": [
      "[valid] epoch time: 112.38s, average batch time: 0.81s\n",
      "[valid] L1 : 0.0172 (best 0.0157), L1 : 0.0172 (best 0.0157)\n",
      "\n",
      "2022/03/12, 11:34:23 - [Epoch 77 / lr 3.00e-04]\n"
     ]
    },
    {
     "name": "stderr",
     "output_type": "stream",
     "text": [
      "100%|█████████████████████████████████████| 15691/15691 [29:07<00:00,  8.98it/s]\n",
      "  0%|                                                  | 0/1111 [00:00<?, ?it/s]"
     ]
    },
    {
     "name": "stdout",
     "output_type": "stream",
     "text": [
      "[train] epoch time: 1747.34s, average batch time: 0.89s\n",
      "[train] L1 : 0.0126 (best 0.0126), L1 : 0.0126 (best 0.0126)\n"
     ]
    },
    {
     "name": "stderr",
     "output_type": "stream",
     "text": [
      "100%|███████████████████████████████████████| 1111/1111 [01:44<00:00, 10.61it/s]\n",
      "  0%|                                                 | 0/15691 [00:00<?, ?it/s]"
     ]
    },
    {
     "name": "stdout",
     "output_type": "stream",
     "text": [
      "[valid] epoch time: 104.76s, average batch time: 0.75s\n",
      "[valid] L1 : 0.0164 (best 0.0157), L1 : 0.0164 (best 0.0157)\n",
      "\n",
      "2022/03/12, 12:05:15 - [Epoch 78 / lr 3.00e-04]\n"
     ]
    },
    {
     "name": "stderr",
     "output_type": "stream",
     "text": [
      "100%|█████████████████████████████████████| 15691/15691 [29:05<00:00,  8.99it/s]\n",
      "  0%|                                                  | 0/1111 [00:00<?, ?it/s]"
     ]
    },
    {
     "name": "stdout",
     "output_type": "stream",
     "text": [
      "[train] epoch time: 1745.11s, average batch time: 0.89s\n",
      "[train] L1 : 0.0125 (best 0.0125), L1 : 0.0125 (best 0.0125)\n"
     ]
    },
    {
     "name": "stderr",
     "output_type": "stream",
     "text": [
      "100%|███████████████████████████████████████| 1111/1111 [01:51<00:00,  9.93it/s]\n",
      "  0%|                                                 | 0/15691 [00:00<?, ?it/s]"
     ]
    },
    {
     "name": "stdout",
     "output_type": "stream",
     "text": [
      "[valid] epoch time: 111.93s, average batch time: 0.81s\n",
      "[valid] L1 : 0.0209 (best 0.0157), L1 : 0.0209 (best 0.0157)\n",
      "\n",
      "2022/03/12, 12:36:12 - [Epoch 79 / lr 3.00e-04]\n"
     ]
    },
    {
     "name": "stderr",
     "output_type": "stream",
     "text": [
      "100%|█████████████████████████████████████| 15691/15691 [36:54<00:00,  7.09it/s]\n",
      "  0%|                                                  | 0/1111 [00:00<?, ?it/s]"
     ]
    },
    {
     "name": "stdout",
     "output_type": "stream",
     "text": [
      "[train] epoch time: 2214.13s, average batch time: 1.13s\n",
      "[train] L1 : 0.0125 (best 0.0125), L1 : 0.0125 (best 0.0125)\n"
     ]
    },
    {
     "name": "stderr",
     "output_type": "stream",
     "text": [
      "100%|███████████████████████████████████████| 1111/1111 [02:26<00:00,  7.61it/s]\n",
      "  0%|                                                 | 0/15691 [00:00<?, ?it/s]"
     ]
    },
    {
     "name": "stdout",
     "output_type": "stream",
     "text": [
      "[valid] epoch time: 146.09s, average batch time: 1.05s\n",
      "[valid] L1 : 0.0167 (best 0.0157), L1 : 0.0167 (best 0.0157)\n",
      "\n",
      "2022/03/12, 13:15:32 - [Epoch 80 / lr 3.00e-04]\n"
     ]
    },
    {
     "name": "stderr",
     "output_type": "stream",
     "text": [
      "100%|█████████████████████████████████████| 15691/15691 [30:39<00:00,  8.53it/s]\n",
      "  0%|                                                  | 0/1111 [00:00<?, ?it/s]"
     ]
    },
    {
     "name": "stdout",
     "output_type": "stream",
     "text": [
      "[train] epoch time: 1839.87s, average batch time: 0.94s\n",
      "[train] L1 : 0.0124 (best 0.0124), L1 : 0.0124 (best 0.0124)\n"
     ]
    },
    {
     "name": "stderr",
     "output_type": "stream",
     "text": [
      "100%|███████████████████████████████████████| 1111/1111 [01:47<00:00, 10.35it/s]\n",
      "  0%|                                                 | 0/15691 [00:00<?, ?it/s]"
     ]
    },
    {
     "name": "stdout",
     "output_type": "stream",
     "text": [
      "[valid] epoch time: 107.39s, average batch time: 0.77s\n",
      "[valid] L1 : 0.0158 (best 0.0157), L1 : 0.0158 (best 0.0157)\n",
      "\n",
      "2022/03/12, 13:48:00 - [Epoch 81 / lr 3.00e-04]\n"
     ]
    },
    {
     "name": "stderr",
     "output_type": "stream",
     "text": [
      "100%|█████████████████████████████████████| 15691/15691 [28:56<00:00,  9.03it/s]\n",
      "  0%|                                                  | 0/1111 [00:00<?, ?it/s]"
     ]
    },
    {
     "name": "stdout",
     "output_type": "stream",
     "text": [
      "[train] epoch time: 1736.76s, average batch time: 0.89s\n",
      "[train] L1 : 0.0123 (best 0.0123), L1 : 0.0123 (best 0.0123)\n"
     ]
    },
    {
     "name": "stderr",
     "output_type": "stream",
     "text": [
      "100%|███████████████████████████████████████| 1111/1111 [01:41<00:00, 11.00it/s]\n",
      "  0%|                                                 | 0/15691 [00:00<?, ?it/s]"
     ]
    },
    {
     "name": "stdout",
     "output_type": "stream",
     "text": [
      "[valid] epoch time: 101.04s, average batch time: 0.73s\n",
      "[valid] L1 : 0.0164 (best 0.0157), L1 : 0.0164 (best 0.0157)\n",
      "\n",
      "2022/03/12, 14:18:37 - [Epoch 82 / lr 3.00e-04]\n"
     ]
    },
    {
     "name": "stderr",
     "output_type": "stream",
     "text": [
      "100%|█████████████████████████████████████| 15691/15691 [29:29<00:00,  8.87it/s]\n",
      "  0%|                                                  | 0/1111 [00:00<?, ?it/s]"
     ]
    },
    {
     "name": "stdout",
     "output_type": "stream",
     "text": [
      "[train] epoch time: 1769.76s, average batch time: 0.90s\n",
      "[train] L1 : 0.0123 (best 0.0123), L1 : 0.0123 (best 0.0123)\n"
     ]
    },
    {
     "name": "stderr",
     "output_type": "stream",
     "text": [
      "100%|███████████████████████████████████████| 1111/1111 [01:44<00:00, 10.60it/s]\n",
      "  0%|                                                 | 0/15691 [00:00<?, ?it/s]"
     ]
    },
    {
     "name": "stdout",
     "output_type": "stream",
     "text": [
      "[valid] epoch time: 104.78s, average batch time: 0.75s\n",
      "[valid] L1 : 0.0150 (best 0.0150), L1 : 0.0150 (best 0.0150)\n",
      "\n",
      "2022/03/12, 14:49:52 - [Epoch 83 / lr 3.00e-04]\n"
     ]
    },
    {
     "name": "stderr",
     "output_type": "stream",
     "text": [
      "100%|█████████████████████████████████████| 15691/15691 [30:00<00:00,  8.71it/s]\n",
      "  0%|                                                  | 0/1111 [00:00<?, ?it/s]"
     ]
    },
    {
     "name": "stdout",
     "output_type": "stream",
     "text": [
      "[train] epoch time: 1800.56s, average batch time: 0.92s\n",
      "[train] L1 : 0.0122 (best 0.0122), L1 : 0.0122 (best 0.0122)\n"
     ]
    },
    {
     "name": "stderr",
     "output_type": "stream",
     "text": [
      "100%|███████████████████████████████████████| 1111/1111 [01:52<00:00,  9.84it/s]\n",
      "  0%|                                                 | 0/15691 [00:00<?, ?it/s]"
     ]
    },
    {
     "name": "stdout",
     "output_type": "stream",
     "text": [
      "[valid] epoch time: 112.84s, average batch time: 0.81s\n",
      "[valid] L1 : 0.0190 (best 0.0150), L1 : 0.0190 (best 0.0150)\n",
      "\n",
      "2022/03/12, 15:21:46 - [Epoch 84 / lr 3.00e-04]\n"
     ]
    },
    {
     "name": "stderr",
     "output_type": "stream",
     "text": [
      "100%|█████████████████████████████████████| 15691/15691 [28:35<00:00,  9.15it/s]\n",
      "  0%|                                                  | 0/1111 [00:00<?, ?it/s]"
     ]
    },
    {
     "name": "stdout",
     "output_type": "stream",
     "text": [
      "[train] epoch time: 1715.66s, average batch time: 0.87s\n",
      "[train] L1 : 0.0121 (best 0.0121), L1 : 0.0121 (best 0.0121)\n"
     ]
    },
    {
     "name": "stderr",
     "output_type": "stream",
     "text": [
      "100%|███████████████████████████████████████| 1111/1111 [01:44<00:00, 10.61it/s]\n",
      "  0%|                                                 | 0/15691 [00:00<?, ?it/s]"
     ]
    },
    {
     "name": "stdout",
     "output_type": "stream",
     "text": [
      "[valid] epoch time: 104.75s, average batch time: 0.75s\n",
      "[valid] L1 : 0.0171 (best 0.0150), L1 : 0.0171 (best 0.0150)\n",
      "\n",
      "2022/03/12, 15:52:06 - [Epoch 85 / lr 3.00e-04]\n"
     ]
    },
    {
     "name": "stderr",
     "output_type": "stream",
     "text": [
      "100%|█████████████████████████████████████| 15691/15691 [29:48<00:00,  8.77it/s]\n",
      "  0%|                                                  | 0/1111 [00:00<?, ?it/s]"
     ]
    },
    {
     "name": "stdout",
     "output_type": "stream",
     "text": [
      "[train] epoch time: 1788.72s, average batch time: 0.91s\n",
      "[train] L1 : 0.0122 (best 0.0121), L1 : 0.0122 (best 0.0121)\n"
     ]
    },
    {
     "name": "stderr",
     "output_type": "stream",
     "text": [
      "100%|███████████████████████████████████████| 1111/1111 [01:51<00:00,  9.96it/s]\n",
      "  0%|                                                 | 0/15691 [00:00<?, ?it/s]"
     ]
    },
    {
     "name": "stdout",
     "output_type": "stream",
     "text": [
      "[valid] epoch time: 111.52s, average batch time: 0.80s\n",
      "[valid] L1 : 0.0157 (best 0.0150), L1 : 0.0157 (best 0.0150)\n",
      "\n",
      "2022/03/12, 16:23:46 - [Epoch 86 / lr 3.00e-04]\n"
     ]
    },
    {
     "name": "stderr",
     "output_type": "stream",
     "text": [
      "100%|█████████████████████████████████████| 15691/15691 [29:10<00:00,  8.96it/s]\n",
      "  0%|                                                  | 0/1111 [00:00<?, ?it/s]"
     ]
    },
    {
     "name": "stdout",
     "output_type": "stream",
     "text": [
      "[train] epoch time: 1750.56s, average batch time: 0.89s\n",
      "[train] L1 : 0.0122 (best 0.0121), L1 : 0.0122 (best 0.0121)\n"
     ]
    },
    {
     "name": "stderr",
     "output_type": "stream",
     "text": [
      "100%|███████████████████████████████████████| 1111/1111 [01:44<00:00, 10.63it/s]\n",
      "  0%|                                                 | 0/15691 [00:00<?, ?it/s]"
     ]
    },
    {
     "name": "stdout",
     "output_type": "stream",
     "text": [
      "[valid] epoch time: 104.50s, average batch time: 0.75s\n",
      "[valid] L1 : 0.0152 (best 0.0150), L1 : 0.0152 (best 0.0150)\n",
      "\n",
      "2022/03/12, 16:54:41 - [Epoch 87 / lr 3.00e-04]\n"
     ]
    },
    {
     "name": "stderr",
     "output_type": "stream",
     "text": [
      "100%|█████████████████████████████████████| 15691/15691 [29:29<00:00,  8.87it/s]\n",
      "  0%|                                                  | 0/1111 [00:00<?, ?it/s]"
     ]
    },
    {
     "name": "stdout",
     "output_type": "stream",
     "text": [
      "[train] epoch time: 1769.80s, average batch time: 0.90s\n",
      "[train] L1 : 0.0120 (best 0.0120), L1 : 0.0120 (best 0.0120)\n"
     ]
    },
    {
     "name": "stderr",
     "output_type": "stream",
     "text": [
      "100%|███████████████████████████████████████| 1111/1111 [01:52<00:00,  9.89it/s]\n",
      "  0%|                                                 | 0/15691 [00:00<?, ?it/s]"
     ]
    },
    {
     "name": "stdout",
     "output_type": "stream",
     "text": [
      "[valid] epoch time: 112.28s, average batch time: 0.81s\n",
      "[valid] L1 : 0.0175 (best 0.0150), L1 : 0.0175 (best 0.0150)\n",
      "\n",
      "2022/03/12, 17:26:04 - [Epoch 88 / lr 3.00e-04]\n"
     ]
    },
    {
     "name": "stderr",
     "output_type": "stream",
     "text": [
      "100%|█████████████████████████████████████| 15691/15691 [29:03<00:00,  9.00it/s]\n",
      "  0%|                                                  | 0/1111 [00:00<?, ?it/s]"
     ]
    },
    {
     "name": "stdout",
     "output_type": "stream",
     "text": [
      "[train] epoch time: 1743.51s, average batch time: 0.89s\n",
      "[train] L1 : 0.0120 (best 0.0120), L1 : 0.0120 (best 0.0120)\n"
     ]
    },
    {
     "name": "stderr",
     "output_type": "stream",
     "text": [
      "100%|███████████████████████████████████████| 1111/1111 [01:45<00:00, 10.53it/s]\n",
      "  0%|                                                 | 0/15691 [00:00<?, ?it/s]"
     ]
    },
    {
     "name": "stdout",
     "output_type": "stream",
     "text": [
      "[valid] epoch time: 105.54s, average batch time: 0.76s\n",
      "[valid] L1 : 0.0166 (best 0.0150), L1 : 0.0166 (best 0.0150)\n",
      "\n",
      "2022/03/12, 17:56:53 - [Epoch 89 / lr 3.00e-04]\n"
     ]
    },
    {
     "name": "stderr",
     "output_type": "stream",
     "text": [
      "100%|█████████████████████████████████████| 15691/15691 [29:59<00:00,  8.72it/s]\n",
      "  0%|                                                  | 0/1111 [00:00<?, ?it/s]"
     ]
    },
    {
     "name": "stdout",
     "output_type": "stream",
     "text": [
      "[train] epoch time: 1799.84s, average batch time: 0.92s\n",
      "[train] L1 : 0.0118 (best 0.0118), L1 : 0.0118 (best 0.0118)\n"
     ]
    },
    {
     "name": "stderr",
     "output_type": "stream",
     "text": [
      "100%|███████████████████████████████████████| 1111/1111 [01:54<00:00,  9.67it/s]\n",
      "  0%|                                                 | 0/15691 [00:00<?, ?it/s]"
     ]
    },
    {
     "name": "stdout",
     "output_type": "stream",
     "text": [
      "[valid] epoch time: 114.87s, average batch time: 0.83s\n",
      "[valid] L1 : 0.0168 (best 0.0150), L1 : 0.0168 (best 0.0150)\n",
      "\n",
      "2022/03/12, 18:28:48 - [Epoch 90 / lr 3.00e-04]\n"
     ]
    },
    {
     "name": "stderr",
     "output_type": "stream",
     "text": [
      "100%|█████████████████████████████████████| 15691/15691 [30:08<00:00,  8.68it/s]\n",
      "  0%|                                                  | 0/1111 [00:00<?, ?it/s]"
     ]
    },
    {
     "name": "stdout",
     "output_type": "stream",
     "text": [
      "[train] epoch time: 1808.64s, average batch time: 0.92s\n",
      "[train] L1 : 0.0120 (best 0.0118), L1 : 0.0120 (best 0.0118)\n"
     ]
    },
    {
     "name": "stderr",
     "output_type": "stream",
     "text": [
      "100%|███████████████████████████████████████| 1111/1111 [01:49<00:00, 10.10it/s]\n",
      "  0%|                                                 | 0/15691 [00:00<?, ?it/s]"
     ]
    },
    {
     "name": "stdout",
     "output_type": "stream",
     "text": [
      "[valid] epoch time: 109.97s, average batch time: 0.79s\n",
      "[valid] L1 : 0.0159 (best 0.0150), L1 : 0.0159 (best 0.0150)\n",
      "\n",
      "2022/03/12, 19:00:46 - [Epoch 91 / lr 3.00e-04]\n"
     ]
    },
    {
     "name": "stderr",
     "output_type": "stream",
     "text": [
      "100%|█████████████████████████████████████| 15691/15691 [29:51<00:00,  8.76it/s]\n",
      "  0%|                                                  | 0/1111 [00:00<?, ?it/s]"
     ]
    },
    {
     "name": "stdout",
     "output_type": "stream",
     "text": [
      "[train] epoch time: 1791.77s, average batch time: 0.91s\n",
      "[train] L1 : 0.0119 (best 0.0118), L1 : 0.0119 (best 0.0118)\n"
     ]
    },
    {
     "name": "stderr",
     "output_type": "stream",
     "text": [
      "100%|███████████████████████████████████████| 1111/1111 [01:50<00:00, 10.01it/s]\n",
      "  0%|                                                 | 0/15691 [00:00<?, ?it/s]"
     ]
    },
    {
     "name": "stdout",
     "output_type": "stream",
     "text": [
      "[valid] epoch time: 110.97s, average batch time: 0.80s\n",
      "[valid] L1 : 0.0163 (best 0.0150), L1 : 0.0163 (best 0.0150)\n",
      "\n",
      "2022/03/12, 19:32:29 - [Epoch 92 / lr 3.00e-04]\n"
     ]
    },
    {
     "name": "stderr",
     "output_type": "stream",
     "text": [
      "100%|█████████████████████████████████████| 15691/15691 [30:21<00:00,  8.61it/s]\n",
      "  0%|                                                  | 0/1111 [00:00<?, ?it/s]"
     ]
    },
    {
     "name": "stdout",
     "output_type": "stream",
     "text": [
      "[train] epoch time: 1821.79s, average batch time: 0.93s\n",
      "[train] L1 : 0.0118 (best 0.0118), L1 : 0.0118 (best 0.0118)\n"
     ]
    },
    {
     "name": "stderr",
     "output_type": "stream",
     "text": [
      "100%|███████████████████████████████████████| 1111/1111 [01:45<00:00, 10.53it/s]\n",
      "  0%|                                                 | 0/15691 [00:00<?, ?it/s]"
     ]
    },
    {
     "name": "stdout",
     "output_type": "stream",
     "text": [
      "[valid] epoch time: 105.49s, average batch time: 0.76s\n",
      "[valid] L1 : 0.0153 (best 0.0150), L1 : 0.0153 (best 0.0150)\n",
      "\n",
      "2022/03/12, 20:04:36 - [Epoch 93 / lr 3.00e-04]\n"
     ]
    },
    {
     "name": "stderr",
     "output_type": "stream",
     "text": [
      "100%|█████████████████████████████████████| 15691/15691 [30:23<00:00,  8.61it/s]\n",
      "  0%|                                                  | 0/1111 [00:00<?, ?it/s]"
     ]
    },
    {
     "name": "stdout",
     "output_type": "stream",
     "text": [
      "[train] epoch time: 1823.08s, average batch time: 0.93s\n",
      "[train] L1 : 0.0118 (best 0.0118), L1 : 0.0118 (best 0.0118)\n"
     ]
    },
    {
     "name": "stderr",
     "output_type": "stream",
     "text": [
      "100%|███████████████████████████████████████| 1111/1111 [01:43<00:00, 10.69it/s]\n",
      "  0%|                                                 | 0/15691 [00:00<?, ?it/s]"
     ]
    },
    {
     "name": "stdout",
     "output_type": "stream",
     "text": [
      "[valid] epoch time: 103.93s, average batch time: 0.75s\n",
      "[valid] L1 : 0.0159 (best 0.0150), L1 : 0.0159 (best 0.0150)\n",
      "\n",
      "2022/03/12, 20:36:43 - [Epoch 94 / lr 3.00e-04]\n"
     ]
    },
    {
     "name": "stderr",
     "output_type": "stream",
     "text": [
      "100%|█████████████████████████████████████| 15691/15691 [30:12<00:00,  8.66it/s]\n",
      "  0%|                                                  | 0/1111 [00:00<?, ?it/s]"
     ]
    },
    {
     "name": "stdout",
     "output_type": "stream",
     "text": [
      "[train] epoch time: 1812.93s, average batch time: 0.92s\n",
      "[train] L1 : 0.0118 (best 0.0118), L1 : 0.0118 (best 0.0118)\n"
     ]
    },
    {
     "name": "stderr",
     "output_type": "stream",
     "text": [
      "100%|███████████████████████████████████████| 1111/1111 [01:58<00:00,  9.40it/s]\n",
      "  0%|                                                 | 0/15691 [00:00<?, ?it/s]"
     ]
    },
    {
     "name": "stdout",
     "output_type": "stream",
     "text": [
      "[valid] epoch time: 118.25s, average batch time: 0.85s\n",
      "[valid] L1 : 0.0197 (best 0.0150), L1 : 0.0197 (best 0.0150)\n",
      "\n",
      "2022/03/12, 21:08:55 - [Epoch 95 / lr 3.00e-04]\n"
     ]
    },
    {
     "name": "stderr",
     "output_type": "stream",
     "text": [
      "100%|█████████████████████████████████████| 15691/15691 [29:47<00:00,  8.78it/s]\n",
      "  0%|                                                  | 0/1111 [00:00<?, ?it/s]"
     ]
    },
    {
     "name": "stdout",
     "output_type": "stream",
     "text": [
      "[train] epoch time: 1787.98s, average batch time: 0.91s\n",
      "[train] L1 : 0.0117 (best 0.0117), L1 : 0.0117 (best 0.0117)\n"
     ]
    },
    {
     "name": "stderr",
     "output_type": "stream",
     "text": [
      "100%|███████████████████████████████████████| 1111/1111 [01:52<00:00,  9.91it/s]\n",
      "  0%|                                                 | 0/15691 [00:00<?, ?it/s]"
     ]
    },
    {
     "name": "stdout",
     "output_type": "stream",
     "text": [
      "[valid] epoch time: 112.10s, average batch time: 0.81s\n",
      "[valid] L1 : 0.0162 (best 0.0150), L1 : 0.0162 (best 0.0150)\n",
      "\n",
      "2022/03/12, 21:40:35 - [Epoch 96 / lr 3.00e-04]\n"
     ]
    },
    {
     "name": "stderr",
     "output_type": "stream",
     "text": [
      "100%|█████████████████████████████████████| 15691/15691 [30:20<00:00,  8.62it/s]\n",
      "  0%|                                                  | 0/1111 [00:00<?, ?it/s]"
     ]
    },
    {
     "name": "stdout",
     "output_type": "stream",
     "text": [
      "[train] epoch time: 1820.46s, average batch time: 0.93s\n",
      "[train] L1 : 0.0116 (best 0.0116), L1 : 0.0116 (best 0.0116)\n"
     ]
    },
    {
     "name": "stderr",
     "output_type": "stream",
     "text": [
      "100%|███████████████████████████████████████| 1111/1111 [01:48<00:00, 10.26it/s]\n",
      "  0%|                                                 | 0/15691 [00:00<?, ?it/s]"
     ]
    },
    {
     "name": "stdout",
     "output_type": "stream",
     "text": [
      "[valid] epoch time: 108.31s, average batch time: 0.78s\n",
      "[valid] L1 : 0.0160 (best 0.0150), L1 : 0.0160 (best 0.0150)\n",
      "\n",
      "2022/03/12, 22:12:44 - [Epoch 97 / lr 3.00e-04]\n"
     ]
    },
    {
     "name": "stderr",
     "output_type": "stream",
     "text": [
      "100%|█████████████████████████████████████| 15691/15691 [29:59<00:00,  8.72it/s]\n",
      "  0%|                                                  | 0/1111 [00:00<?, ?it/s]"
     ]
    },
    {
     "name": "stdout",
     "output_type": "stream",
     "text": [
      "[train] epoch time: 1799.31s, average batch time: 0.92s\n",
      "[train] L1 : 0.0116 (best 0.0116), L1 : 0.0116 (best 0.0116)\n"
     ]
    },
    {
     "name": "stderr",
     "output_type": "stream",
     "text": [
      "100%|███████████████████████████████████████| 1111/1111 [01:28<00:00, 12.52it/s]\n",
      "  0%|                                                 | 0/15691 [00:00<?, ?it/s]"
     ]
    },
    {
     "name": "stdout",
     "output_type": "stream",
     "text": [
      "[valid] epoch time: 88.72s, average batch time: 0.64s\n",
      "[valid] L1 : 0.0164 (best 0.0150), L1 : 0.0164 (best 0.0150)\n",
      "\n",
      "2022/03/12, 22:44:12 - [Epoch 98 / lr 3.00e-04]\n"
     ]
    },
    {
     "name": "stderr",
     "output_type": "stream",
     "text": [
      "100%|█████████████████████████████████████| 15691/15691 [30:25<00:00,  8.59it/s]\n",
      "  0%|                                                  | 0/1111 [00:00<?, ?it/s]"
     ]
    },
    {
     "name": "stdout",
     "output_type": "stream",
     "text": [
      "[train] epoch time: 1825.81s, average batch time: 0.93s\n",
      "[train] L1 : 0.0116 (best 0.0116), L1 : 0.0116 (best 0.0116)\n"
     ]
    },
    {
     "name": "stderr",
     "output_type": "stream",
     "text": [
      "100%|███████████████████████████████████████| 1111/1111 [02:08<00:00,  8.67it/s]\n",
      "  0%|                                                 | 0/15691 [00:00<?, ?it/s]"
     ]
    },
    {
     "name": "stdout",
     "output_type": "stream",
     "text": [
      "[valid] epoch time: 128.11s, average batch time: 0.92s\n",
      "[valid] L1 : 0.0148 (best 0.0148), L1 : 0.0148 (best 0.0148)\n",
      "\n",
      "2022/03/12, 23:16:46 - [Epoch 99 / lr 3.00e-04]\n"
     ]
    },
    {
     "name": "stderr",
     "output_type": "stream",
     "text": [
      "100%|█████████████████████████████████████| 15691/15691 [30:10<00:00,  8.67it/s]\n",
      "  0%|                                                  | 0/1111 [00:00<?, ?it/s]"
     ]
    },
    {
     "name": "stdout",
     "output_type": "stream",
     "text": [
      "[train] epoch time: 1810.84s, average batch time: 0.92s\n",
      "[train] L1 : 0.0115 (best 0.0115), L1 : 0.0115 (best 0.0115)\n"
     ]
    },
    {
     "name": "stderr",
     "output_type": "stream",
     "text": [
      "100%|███████████████████████████████████████| 1111/1111 [01:34<00:00, 11.80it/s]\n",
      "  0%|                                                 | 0/15691 [00:00<?, ?it/s]"
     ]
    },
    {
     "name": "stdout",
     "output_type": "stream",
     "text": [
      "[valid] epoch time: 94.18s, average batch time: 0.68s\n",
      "[valid] L1 : 0.0195 (best 0.0148), L1 : 0.0195 (best 0.0148)\n",
      "\n",
      "2022/03/12, 23:48:31 - [Epoch 100 / lr 3.00e-04]\n"
     ]
    },
    {
     "name": "stderr",
     "output_type": "stream",
     "text": [
      "100%|█████████████████████████████████████| 15691/15691 [29:24<00:00,  8.89it/s]\n",
      "  0%|                                                  | 0/1111 [00:00<?, ?it/s]"
     ]
    },
    {
     "name": "stdout",
     "output_type": "stream",
     "text": [
      "[train] epoch time: 1764.45s, average batch time: 0.90s\n",
      "[train] L1 : 0.0114 (best 0.0114), L1 : 0.0114 (best 0.0114)\n"
     ]
    },
    {
     "name": "stderr",
     "output_type": "stream",
     "text": [
      "100%|███████████████████████████████████████| 1111/1111 [02:07<00:00,  8.71it/s]\n",
      "  0%|                                                 | 0/15691 [00:00<?, ?it/s]"
     ]
    },
    {
     "name": "stdout",
     "output_type": "stream",
     "text": [
      "[valid] epoch time: 127.59s, average batch time: 0.92s\n",
      "[valid] L1 : 0.0161 (best 0.0148), L1 : 0.0161 (best 0.0148)\n",
      "\n",
      "2022/03/13, 00:20:03 - [Epoch 101 / lr 3.00e-04]\n"
     ]
    },
    {
     "name": "stderr",
     "output_type": "stream",
     "text": [
      "100%|█████████████████████████████████████| 15691/15691 [29:58<00:00,  8.73it/s]\n",
      "  0%|                                                  | 0/1111 [00:00<?, ?it/s]"
     ]
    },
    {
     "name": "stdout",
     "output_type": "stream",
     "text": [
      "[train] epoch time: 1798.01s, average batch time: 0.92s\n",
      "[train] L1 : 0.0114 (best 0.0114), L1 : 0.0114 (best 0.0114)\n"
     ]
    },
    {
     "name": "stderr",
     "output_type": "stream",
     "text": [
      "100%|███████████████████████████████████████| 1111/1111 [01:33<00:00, 11.84it/s]\n",
      "  0%|                                                 | 0/15691 [00:00<?, ?it/s]"
     ]
    },
    {
     "name": "stdout",
     "output_type": "stream",
     "text": [
      "[valid] epoch time: 93.85s, average batch time: 0.68s\n",
      "[valid] L1 : 0.0179 (best 0.0148), L1 : 0.0179 (best 0.0148)\n",
      "\n",
      "2022/03/13, 00:51:35 - [Epoch 102 / lr 3.00e-04]\n"
     ]
    },
    {
     "name": "stderr",
     "output_type": "stream",
     "text": [
      "100%|█████████████████████████████████████| 15691/15691 [29:23<00:00,  8.90it/s]\n",
      "  0%|                                                  | 0/1111 [00:00<?, ?it/s]"
     ]
    },
    {
     "name": "stdout",
     "output_type": "stream",
     "text": [
      "[train] epoch time: 1764.00s, average batch time: 0.90s\n",
      "[train] L1 : 0.0115 (best 0.0114), L1 : 0.0115 (best 0.0114)\n"
     ]
    },
    {
     "name": "stderr",
     "output_type": "stream",
     "text": [
      "100%|███████████████████████████████████████| 1111/1111 [02:07<00:00,  8.70it/s]\n",
      "  0%|                                                 | 0/15691 [00:00<?, ?it/s]"
     ]
    },
    {
     "name": "stdout",
     "output_type": "stream",
     "text": [
      "[valid] epoch time: 127.77s, average batch time: 0.92s\n",
      "[valid] L1 : 0.0149 (best 0.0148), L1 : 0.0149 (best 0.0148)\n",
      "\n",
      "2022/03/13, 01:23:07 - [Epoch 103 / lr 3.00e-04]\n"
     ]
    },
    {
     "name": "stderr",
     "output_type": "stream",
     "text": [
      "100%|█████████████████████████████████████| 15691/15691 [30:19<00:00,  8.62it/s]\n",
      "  0%|                                                  | 0/1111 [00:00<?, ?it/s]"
     ]
    },
    {
     "name": "stdout",
     "output_type": "stream",
     "text": [
      "[train] epoch time: 1819.35s, average batch time: 0.93s\n",
      "[train] L1 : 0.0113 (best 0.0113), L1 : 0.0113 (best 0.0113)\n"
     ]
    },
    {
     "name": "stderr",
     "output_type": "stream",
     "text": [
      "100%|███████████████████████████████████████| 1111/1111 [01:34<00:00, 11.78it/s]\n",
      "  0%|                                                 | 0/15691 [00:00<?, ?it/s]"
     ]
    },
    {
     "name": "stdout",
     "output_type": "stream",
     "text": [
      "[valid] epoch time: 94.32s, average batch time: 0.68s\n",
      "[valid] L1 : 0.0161 (best 0.0148), L1 : 0.0161 (best 0.0148)\n",
      "\n",
      "2022/03/13, 01:55:01 - [Epoch 104 / lr 3.00e-04]\n"
     ]
    },
    {
     "name": "stderr",
     "output_type": "stream",
     "text": [
      "100%|█████████████████████████████████████| 15691/15691 [32:00<00:00,  8.17it/s]\n",
      "  0%|                                                  | 0/1111 [00:00<?, ?it/s]"
     ]
    },
    {
     "name": "stdout",
     "output_type": "stream",
     "text": [
      "[train] epoch time: 1920.73s, average batch time: 0.98s\n",
      "[train] L1 : 0.0113 (best 0.0113), L1 : 0.0113 (best 0.0113)\n"
     ]
    },
    {
     "name": "stderr",
     "output_type": "stream",
     "text": [
      "100%|███████████████████████████████████████| 1111/1111 [01:27<00:00, 12.69it/s]\n",
      "  0%|                                                 | 0/15691 [00:00<?, ?it/s]"
     ]
    },
    {
     "name": "stdout",
     "output_type": "stream",
     "text": [
      "[valid] epoch time: 87.52s, average batch time: 0.63s\n",
      "[valid] L1 : 0.0180 (best 0.0148), L1 : 0.0180 (best 0.0148)\n",
      "\n",
      "2022/03/13, 02:28:29 - [Epoch 105 / lr 3.00e-04]\n"
     ]
    },
    {
     "name": "stderr",
     "output_type": "stream",
     "text": [
      "100%|█████████████████████████████████████| 15691/15691 [33:31<00:00,  7.80it/s]\n",
      "  0%|                                                  | 0/1111 [00:00<?, ?it/s]"
     ]
    },
    {
     "name": "stdout",
     "output_type": "stream",
     "text": [
      "[train] epoch time: 2011.89s, average batch time: 1.03s\n",
      "[train] L1 : 0.0112 (best 0.0112), L1 : 0.0112 (best 0.0112)\n"
     ]
    },
    {
     "name": "stderr",
     "output_type": "stream",
     "text": [
      "100%|███████████████████████████████████████| 1111/1111 [01:18<00:00, 14.14it/s]\n",
      "  0%|                                                 | 0/15691 [00:00<?, ?it/s]"
     ]
    },
    {
     "name": "stdout",
     "output_type": "stream",
     "text": [
      "[valid] epoch time: 78.54s, average batch time: 0.57s\n",
      "[valid] L1 : 0.0151 (best 0.0148), L1 : 0.0151 (best 0.0148)\n",
      "\n",
      "2022/03/13, 03:03:19 - [Epoch 106 / lr 3.00e-04]\n"
     ]
    },
    {
     "name": "stderr",
     "output_type": "stream",
     "text": [
      "100%|█████████████████████████████████████| 15691/15691 [31:42<00:00,  8.25it/s]\n",
      "  0%|                                                  | 0/1111 [00:00<?, ?it/s]"
     ]
    },
    {
     "name": "stdout",
     "output_type": "stream",
     "text": [
      "[train] epoch time: 1902.51s, average batch time: 0.97s\n",
      "[train] L1 : 0.0114 (best 0.0112), L1 : 0.0114 (best 0.0112)\n"
     ]
    },
    {
     "name": "stderr",
     "output_type": "stream",
     "text": [
      "100%|███████████████████████████████████████| 1111/1111 [01:19<00:00, 13.99it/s]\n",
      "  0%|                                                 | 0/15691 [00:00<?, ?it/s]"
     ]
    },
    {
     "name": "stdout",
     "output_type": "stream",
     "text": [
      "[valid] epoch time: 79.43s, average batch time: 0.57s\n",
      "[valid] L1 : 0.0179 (best 0.0148), L1 : 0.0179 (best 0.0148)\n",
      "\n",
      "2022/03/13, 03:36:22 - [Epoch 107 / lr 3.00e-04]\n"
     ]
    },
    {
     "name": "stderr",
     "output_type": "stream",
     "text": [
      "100%|█████████████████████████████████████| 15691/15691 [31:36<00:00,  8.27it/s]\n",
      "  0%|                                                  | 0/1111 [00:00<?, ?it/s]"
     ]
    },
    {
     "name": "stdout",
     "output_type": "stream",
     "text": [
      "[train] epoch time: 1896.71s, average batch time: 0.97s\n",
      "[train] L1 : 0.0112 (best 0.0112), L1 : 0.0112 (best 0.0112)\n"
     ]
    },
    {
     "name": "stderr",
     "output_type": "stream",
     "text": [
      "100%|███████████████████████████████████████| 1111/1111 [01:18<00:00, 14.09it/s]\n",
      "  0%|                                                 | 0/15691 [00:00<?, ?it/s]"
     ]
    },
    {
     "name": "stdout",
     "output_type": "stream",
     "text": [
      "[valid] epoch time: 78.83s, average batch time: 0.57s\n",
      "[valid] L1 : 0.0159 (best 0.0148), L1 : 0.0159 (best 0.0148)\n",
      "\n",
      "2022/03/13, 04:09:17 - [Epoch 108 / lr 3.00e-04]\n"
     ]
    },
    {
     "name": "stderr",
     "output_type": "stream",
     "text": [
      "100%|█████████████████████████████████████| 15691/15691 [31:27<00:00,  8.31it/s]\n",
      "  0%|                                                  | 0/1111 [00:00<?, ?it/s]"
     ]
    },
    {
     "name": "stdout",
     "output_type": "stream",
     "text": [
      "[train] epoch time: 1887.57s, average batch time: 0.96s\n",
      "[train] L1 : 0.0112 (best 0.0112), L1 : 0.0112 (best 0.0112)\n"
     ]
    },
    {
     "name": "stderr",
     "output_type": "stream",
     "text": [
      "100%|███████████████████████████████████████| 1111/1111 [01:17<00:00, 14.40it/s]\n",
      "  0%|                                                 | 0/15691 [00:00<?, ?it/s]"
     ]
    },
    {
     "name": "stdout",
     "output_type": "stream",
     "text": [
      "[valid] epoch time: 77.16s, average batch time: 0.56s\n",
      "[valid] L1 : 0.0145 (best 0.0145), L1 : 0.0145 (best 0.0145)\n",
      "\n",
      "2022/03/13, 04:42:02 - [Epoch 109 / lr 3.00e-04]\n"
     ]
    },
    {
     "name": "stderr",
     "output_type": "stream",
     "text": [
      "100%|█████████████████████████████████████| 15691/15691 [31:34<00:00,  8.28it/s]\n",
      "  0%|                                                  | 0/1111 [00:00<?, ?it/s]"
     ]
    },
    {
     "name": "stdout",
     "output_type": "stream",
     "text": [
      "[train] epoch time: 1894.70s, average batch time: 0.97s\n",
      "[train] L1 : 0.0111 (best 0.0111), L1 : 0.0111 (best 0.0111)\n"
     ]
    },
    {
     "name": "stderr",
     "output_type": "stream",
     "text": [
      "100%|███████████████████████████████████████| 1111/1111 [01:17<00:00, 14.30it/s]\n",
      "  0%|                                                 | 0/15691 [00:00<?, ?it/s]"
     ]
    },
    {
     "name": "stdout",
     "output_type": "stream",
     "text": [
      "[valid] epoch time: 77.71s, average batch time: 0.56s\n",
      "[valid] L1 : 0.0158 (best 0.0145), L1 : 0.0158 (best 0.0145)\n",
      "\n",
      "2022/03/13, 05:14:54 - [Epoch 110 / lr 3.00e-04]\n"
     ]
    },
    {
     "name": "stderr",
     "output_type": "stream",
     "text": [
      "100%|█████████████████████████████████████| 15691/15691 [30:57<00:00,  8.45it/s]\n",
      "  0%|                                                  | 0/1111 [00:00<?, ?it/s]"
     ]
    },
    {
     "name": "stdout",
     "output_type": "stream",
     "text": [
      "[train] epoch time: 1857.62s, average batch time: 0.95s\n",
      "[train] L1 : 0.0111 (best 0.0111), L1 : 0.0111 (best 0.0111)\n"
     ]
    },
    {
     "name": "stderr",
     "output_type": "stream",
     "text": [
      "100%|███████████████████████████████████████| 1111/1111 [01:17<00:00, 14.38it/s]\n",
      "  0%|                                                 | 0/15691 [00:00<?, ?it/s]"
     ]
    },
    {
     "name": "stdout",
     "output_type": "stream",
     "text": [
      "[valid] epoch time: 77.25s, average batch time: 0.56s\n",
      "[valid] L1 : 0.0152 (best 0.0145), L1 : 0.0152 (best 0.0145)\n",
      "\n",
      "2022/03/13, 05:47:09 - [Epoch 111 / lr 3.00e-04]\n"
     ]
    },
    {
     "name": "stderr",
     "output_type": "stream",
     "text": [
      "100%|█████████████████████████████████████| 15691/15691 [30:41<00:00,  8.52it/s]\n",
      "  0%|                                                  | 0/1111 [00:00<?, ?it/s]"
     ]
    },
    {
     "name": "stdout",
     "output_type": "stream",
     "text": [
      "[train] epoch time: 1841.72s, average batch time: 0.94s\n",
      "[train] L1 : 0.0110 (best 0.0110), L1 : 0.0110 (best 0.0110)\n"
     ]
    },
    {
     "name": "stderr",
     "output_type": "stream",
     "text": [
      "100%|███████████████████████████████████████| 1111/1111 [01:20<00:00, 13.77it/s]\n",
      "  0%|                                                 | 0/15691 [00:00<?, ?it/s]"
     ]
    },
    {
     "name": "stdout",
     "output_type": "stream",
     "text": [
      "[valid] epoch time: 80.68s, average batch time: 0.58s\n",
      "[valid] L1 : 0.0169 (best 0.0145), L1 : 0.0169 (best 0.0145)\n",
      "\n",
      "2022/03/13, 06:19:12 - [Epoch 112 / lr 3.00e-04]\n"
     ]
    },
    {
     "name": "stderr",
     "output_type": "stream",
     "text": [
      "100%|█████████████████████████████████████| 15691/15691 [30:13<00:00,  8.65it/s]\n",
      "  0%|                                                  | 0/1111 [00:00<?, ?it/s]"
     ]
    },
    {
     "name": "stdout",
     "output_type": "stream",
     "text": [
      "[train] epoch time: 1813.02s, average batch time: 0.92s\n",
      "[train] L1 : 0.0110 (best 0.0110), L1 : 0.0110 (best 0.0110)\n"
     ]
    },
    {
     "name": "stderr",
     "output_type": "stream",
     "text": [
      "100%|███████████████████████████████████████| 1111/1111 [01:17<00:00, 14.41it/s]\n",
      "  0%|                                                 | 0/15691 [00:00<?, ?it/s]"
     ]
    },
    {
     "name": "stdout",
     "output_type": "stream",
     "text": [
      "[valid] epoch time: 77.13s, average batch time: 0.55s\n",
      "[valid] L1 : 0.0157 (best 0.0145), L1 : 0.0157 (best 0.0145)\n",
      "\n",
      "2022/03/13, 06:50:42 - [Epoch 113 / lr 3.00e-04]\n"
     ]
    },
    {
     "name": "stderr",
     "output_type": "stream",
     "text": [
      "100%|█████████████████████████████████████| 15691/15691 [30:45<00:00,  8.50it/s]\n",
      "  0%|                                                  | 0/1111 [00:00<?, ?it/s]"
     ]
    },
    {
     "name": "stdout",
     "output_type": "stream",
     "text": [
      "[train] epoch time: 1845.30s, average batch time: 0.94s\n",
      "[train] L1 : 0.0110 (best 0.0110), L1 : 0.0110 (best 0.0110)\n"
     ]
    },
    {
     "name": "stderr",
     "output_type": "stream",
     "text": [
      "100%|███████████████████████████████████████| 1111/1111 [01:15<00:00, 14.66it/s]\n",
      "  0%|                                                 | 0/15691 [00:00<?, ?it/s]"
     ]
    },
    {
     "name": "stdout",
     "output_type": "stream",
     "text": [
      "[valid] epoch time: 75.80s, average batch time: 0.55s\n",
      "[valid] L1 : 0.0161 (best 0.0145), L1 : 0.0161 (best 0.0145)\n",
      "\n",
      "2022/03/13, 07:22:43 - [Epoch 114 / lr 3.00e-04]\n"
     ]
    },
    {
     "name": "stderr",
     "output_type": "stream",
     "text": [
      "100%|█████████████████████████████████████| 15691/15691 [30:27<00:00,  8.59it/s]\n",
      "  0%|                                                  | 0/1111 [00:00<?, ?it/s]"
     ]
    },
    {
     "name": "stdout",
     "output_type": "stream",
     "text": [
      "[train] epoch time: 1827.28s, average batch time: 0.93s\n",
      "[train] L1 : 0.0110 (best 0.0110), L1 : 0.0110 (best 0.0110)\n"
     ]
    },
    {
     "name": "stderr",
     "output_type": "stream",
     "text": [
      "100%|███████████████████████████████████████| 1111/1111 [01:17<00:00, 14.30it/s]\n",
      "  0%|                                                 | 0/15691 [00:00<?, ?it/s]"
     ]
    },
    {
     "name": "stdout",
     "output_type": "stream",
     "text": [
      "[valid] epoch time: 77.72s, average batch time: 0.56s\n",
      "[valid] L1 : 0.0164 (best 0.0145), L1 : 0.0164 (best 0.0145)\n",
      "\n",
      "2022/03/13, 07:54:28 - [Epoch 115 / lr 3.00e-04]\n"
     ]
    },
    {
     "name": "stderr",
     "output_type": "stream",
     "text": [
      "100%|█████████████████████████████████████| 15691/15691 [31:47<00:00,  8.23it/s]\n",
      "  0%|                                                  | 0/1111 [00:00<?, ?it/s]"
     ]
    },
    {
     "name": "stdout",
     "output_type": "stream",
     "text": [
      "[train] epoch time: 1907.26s, average batch time: 0.97s\n",
      "[train] L1 : 0.0110 (best 0.0110), L1 : 0.0110 (best 0.0110)\n"
     ]
    },
    {
     "name": "stderr",
     "output_type": "stream",
     "text": [
      "100%|███████████████████████████████████████| 1111/1111 [01:16<00:00, 14.61it/s]\n",
      "  0%|                                                 | 0/15691 [00:00<?, ?it/s]"
     ]
    },
    {
     "name": "stdout",
     "output_type": "stream",
     "text": [
      "[valid] epoch time: 76.07s, average batch time: 0.55s\n",
      "[valid] L1 : 0.0154 (best 0.0145), L1 : 0.0154 (best 0.0145)\n",
      "\n",
      "2022/03/13, 08:27:32 - [Epoch 116 / lr 3.00e-04]\n"
     ]
    },
    {
     "name": "stderr",
     "output_type": "stream",
     "text": [
      "100%|█████████████████████████████████████| 15691/15691 [31:44<00:00,  8.24it/s]\n",
      "  0%|                                                  | 0/1111 [00:00<?, ?it/s]"
     ]
    },
    {
     "name": "stdout",
     "output_type": "stream",
     "text": [
      "[train] epoch time: 1904.78s, average batch time: 0.97s\n",
      "[train] L1 : 0.0108 (best 0.0108), L1 : 0.0108 (best 0.0108)\n"
     ]
    },
    {
     "name": "stderr",
     "output_type": "stream",
     "text": [
      "100%|███████████████████████████████████████| 1111/1111 [01:16<00:00, 14.52it/s]\n",
      "  0%|                                                 | 0/15691 [00:00<?, ?it/s]"
     ]
    },
    {
     "name": "stdout",
     "output_type": "stream",
     "text": [
      "[valid] epoch time: 76.53s, average batch time: 0.55s\n",
      "[valid] L1 : 0.0156 (best 0.0145), L1 : 0.0156 (best 0.0145)\n",
      "\n",
      "2022/03/13, 09:00:33 - [Epoch 117 / lr 3.00e-04]\n"
     ]
    },
    {
     "name": "stderr",
     "output_type": "stream",
     "text": [
      "100%|█████████████████████████████████████| 15691/15691 [31:00<00:00,  8.44it/s]\n",
      "  0%|                                                  | 0/1111 [00:00<?, ?it/s]"
     ]
    },
    {
     "name": "stdout",
     "output_type": "stream",
     "text": [
      "[train] epoch time: 1860.02s, average batch time: 0.95s\n",
      "[train] L1 : 0.0109 (best 0.0108), L1 : 0.0109 (best 0.0108)\n"
     ]
    },
    {
     "name": "stderr",
     "output_type": "stream",
     "text": [
      "100%|███████████████████████████████████████| 1111/1111 [01:20<00:00, 13.87it/s]\n",
      "  0%|                                                 | 0/15691 [00:00<?, ?it/s]"
     ]
    },
    {
     "name": "stdout",
     "output_type": "stream",
     "text": [
      "[valid] epoch time: 80.08s, average batch time: 0.58s\n",
      "[valid] L1 : 0.0148 (best 0.0145), L1 : 0.0148 (best 0.0145)\n",
      "\n",
      "2022/03/13, 09:32:53 - [Epoch 118 / lr 3.00e-04]\n"
     ]
    },
    {
     "name": "stderr",
     "output_type": "stream",
     "text": [
      "100%|█████████████████████████████████████| 15691/15691 [30:30<00:00,  8.57it/s]\n",
      "  0%|                                                  | 0/1111 [00:00<?, ?it/s]"
     ]
    },
    {
     "name": "stdout",
     "output_type": "stream",
     "text": [
      "[train] epoch time: 1830.55s, average batch time: 0.93s\n",
      "[train] L1 : 0.0109 (best 0.0108), L1 : 0.0109 (best 0.0108)\n"
     ]
    },
    {
     "name": "stderr",
     "output_type": "stream",
     "text": [
      "100%|███████████████████████████████████████| 1111/1111 [01:18<00:00, 14.22it/s]\n",
      "  0%|                                                 | 0/15691 [00:00<?, ?it/s]"
     ]
    },
    {
     "name": "stdout",
     "output_type": "stream",
     "text": [
      "[valid] epoch time: 78.14s, average batch time: 0.56s\n",
      "[valid] L1 : 0.0172 (best 0.0145), L1 : 0.0172 (best 0.0145)\n",
      "\n",
      "2022/03/13, 10:04:42 - [Epoch 119 / lr 3.00e-04]\n"
     ]
    },
    {
     "name": "stderr",
     "output_type": "stream",
     "text": [
      "100%|█████████████████████████████████████| 15691/15691 [30:48<00:00,  8.49it/s]\n",
      "  0%|                                                  | 0/1111 [00:00<?, ?it/s]"
     ]
    },
    {
     "name": "stdout",
     "output_type": "stream",
     "text": [
      "[train] epoch time: 1848.28s, average batch time: 0.94s\n",
      "[train] L1 : 0.0108 (best 0.0108), L1 : 0.0108 (best 0.0108)\n"
     ]
    },
    {
     "name": "stderr",
     "output_type": "stream",
     "text": [
      "100%|███████████████████████████████████████| 1111/1111 [01:17<00:00, 14.31it/s]\n",
      "  0%|                                                 | 0/15691 [00:00<?, ?it/s]"
     ]
    },
    {
     "name": "stdout",
     "output_type": "stream",
     "text": [
      "[valid] epoch time: 77.64s, average batch time: 0.56s\n",
      "[valid] L1 : 0.0158 (best 0.0145), L1 : 0.0158 (best 0.0145)\n",
      "\n",
      "2022/03/13, 10:36:48 - [Epoch 120 / lr 3.00e-04]\n"
     ]
    },
    {
     "name": "stderr",
     "output_type": "stream",
     "text": [
      "100%|█████████████████████████████████████| 15691/15691 [37:18<00:00,  7.01it/s]\n",
      "  0%|                                                  | 0/1111 [00:00<?, ?it/s]"
     ]
    },
    {
     "name": "stdout",
     "output_type": "stream",
     "text": [
      "[train] epoch time: 2238.35s, average batch time: 1.14s\n",
      "[train] L1 : 0.0107 (best 0.0107), L1 : 0.0107 (best 0.0107)\n"
     ]
    },
    {
     "name": "stderr",
     "output_type": "stream",
     "text": [
      "100%|███████████████████████████████████████| 1111/1111 [02:21<00:00,  7.84it/s]\n",
      "  0%|                                                 | 0/15691 [00:00<?, ?it/s]"
     ]
    },
    {
     "name": "stdout",
     "output_type": "stream",
     "text": [
      "[valid] epoch time: 141.74s, average batch time: 1.02s\n",
      "[valid] L1 : 0.0161 (best 0.0145), L1 : 0.0161 (best 0.0145)\n",
      "\n",
      "2022/03/13, 11:16:28 - [Epoch 121 / lr 3.00e-04]\n"
     ]
    },
    {
     "name": "stderr",
     "output_type": "stream",
     "text": [
      "100%|█████████████████████████████████████| 15691/15691 [31:21<00:00,  8.34it/s]\n",
      "  0%|                                                  | 0/1111 [00:00<?, ?it/s]"
     ]
    },
    {
     "name": "stdout",
     "output_type": "stream",
     "text": [
      "[train] epoch time: 1881.31s, average batch time: 0.96s\n",
      "[train] L1 : 0.0107 (best 0.0107), L1 : 0.0107 (best 0.0107)\n"
     ]
    },
    {
     "name": "stderr",
     "output_type": "stream",
     "text": [
      "100%|███████████████████████████████████████| 1111/1111 [01:15<00:00, 14.67it/s]\n",
      "  0%|                                                 | 0/15691 [00:00<?, ?it/s]"
     ]
    },
    {
     "name": "stdout",
     "output_type": "stream",
     "text": [
      "[valid] epoch time: 75.71s, average batch time: 0.54s\n",
      "[valid] L1 : 0.0151 (best 0.0145), L1 : 0.0151 (best 0.0145)\n",
      "\n",
      "2022/03/13, 11:49:05 - [Epoch 122 / lr 3.00e-04]\n"
     ]
    },
    {
     "name": "stderr",
     "output_type": "stream",
     "text": [
      "100%|█████████████████████████████████████| 15691/15691 [29:44<00:00,  8.79it/s]\n",
      "  0%|                                                  | 0/1111 [00:00<?, ?it/s]"
     ]
    },
    {
     "name": "stdout",
     "output_type": "stream",
     "text": [
      "[train] epoch time: 1784.61s, average batch time: 0.91s\n",
      "[train] L1 : 0.0108 (best 0.0107), L1 : 0.0108 (best 0.0107)\n"
     ]
    },
    {
     "name": "stderr",
     "output_type": "stream",
     "text": [
      "100%|███████████████████████████████████████| 1111/1111 [01:17<00:00, 14.40it/s]\n",
      "  0%|                                                 | 0/15691 [00:00<?, ?it/s]"
     ]
    },
    {
     "name": "stdout",
     "output_type": "stream",
     "text": [
      "[valid] epoch time: 77.17s, average batch time: 0.56s\n",
      "[valid] L1 : 0.0143 (best 0.0143), L1 : 0.0143 (best 0.0143)\n",
      "\n",
      "2022/03/13, 12:20:07 - [Epoch 123 / lr 3.00e-04]\n"
     ]
    },
    {
     "name": "stderr",
     "output_type": "stream",
     "text": [
      "100%|█████████████████████████████████████| 15691/15691 [29:22<00:00,  8.90it/s]\n",
      "  0%|                                                  | 0/1111 [00:00<?, ?it/s]"
     ]
    },
    {
     "name": "stdout",
     "output_type": "stream",
     "text": [
      "[train] epoch time: 1762.72s, average batch time: 0.90s\n",
      "[train] L1 : 0.0106 (best 0.0106), L1 : 0.0106 (best 0.0106)\n"
     ]
    },
    {
     "name": "stderr",
     "output_type": "stream",
     "text": [
      "100%|███████████████████████████████████████| 1111/1111 [02:13<00:00,  8.32it/s]\n",
      "  0%|                                                 | 0/15691 [00:00<?, ?it/s]"
     ]
    },
    {
     "name": "stdout",
     "output_type": "stream",
     "text": [
      "[valid] epoch time: 133.46s, average batch time: 0.96s\n",
      "[valid] L1 : 0.0165 (best 0.0143), L1 : 0.0165 (best 0.0143)\n",
      "\n",
      "2022/03/13, 12:51:43 - [Epoch 124 / lr 3.00e-04]\n"
     ]
    },
    {
     "name": "stderr",
     "output_type": "stream",
     "text": [
      "100%|█████████████████████████████████████| 15691/15691 [29:53<00:00,  8.75it/s]\n",
      "  0%|                                                  | 0/1111 [00:00<?, ?it/s]"
     ]
    },
    {
     "name": "stdout",
     "output_type": "stream",
     "text": [
      "[train] epoch time: 1793.95s, average batch time: 0.91s\n",
      "[train] L1 : 0.0106 (best 0.0106), L1 : 0.0106 (best 0.0106)\n"
     ]
    },
    {
     "name": "stderr",
     "output_type": "stream",
     "text": [
      "100%|███████████████████████████████████████| 1111/1111 [01:23<00:00, 13.25it/s]\n",
      "  0%|                                                 | 0/15691 [00:00<?, ?it/s]"
     ]
    },
    {
     "name": "stdout",
     "output_type": "stream",
     "text": [
      "[valid] epoch time: 83.84s, average batch time: 0.60s\n",
      "[valid] L1 : 0.0168 (best 0.0143), L1 : 0.0168 (best 0.0143)\n",
      "\n",
      "2022/03/13, 13:23:01 - [Epoch 125 / lr 3.00e-04]\n"
     ]
    },
    {
     "name": "stderr",
     "output_type": "stream",
     "text": [
      "100%|█████████████████████████████████████| 15691/15691 [30:57<00:00,  8.45it/s]\n",
      "  0%|                                                  | 0/1111 [00:00<?, ?it/s]"
     ]
    },
    {
     "name": "stdout",
     "output_type": "stream",
     "text": [
      "[train] epoch time: 1857.81s, average batch time: 0.95s\n",
      "[train] L1 : 0.0106 (best 0.0106), L1 : 0.0106 (best 0.0106)\n"
     ]
    },
    {
     "name": "stderr",
     "output_type": "stream",
     "text": [
      "100%|███████████████████████████████████████| 1111/1111 [01:46<00:00, 10.45it/s]\n",
      "  0%|                                                 | 0/15691 [00:00<?, ?it/s]"
     ]
    },
    {
     "name": "stdout",
     "output_type": "stream",
     "text": [
      "[valid] epoch time: 106.36s, average batch time: 0.77s\n",
      "[valid] L1 : 0.0186 (best 0.0143), L1 : 0.0186 (best 0.0143)\n",
      "\n",
      "2022/03/13, 13:55:45 - [Epoch 126 / lr 3.00e-04]\n"
     ]
    },
    {
     "name": "stderr",
     "output_type": "stream",
     "text": [
      "100%|█████████████████████████████████████| 15691/15691 [30:23<00:00,  8.60it/s]\n",
      "  0%|                                                  | 0/1111 [00:00<?, ?it/s]"
     ]
    },
    {
     "name": "stdout",
     "output_type": "stream",
     "text": [
      "[train] epoch time: 1823.88s, average batch time: 0.93s\n",
      "[train] L1 : 0.0105 (best 0.0105), L1 : 0.0105 (best 0.0105)\n"
     ]
    },
    {
     "name": "stderr",
     "output_type": "stream",
     "text": [
      "100%|███████████████████████████████████████| 1111/1111 [01:48<00:00, 10.21it/s]\n",
      "  0%|                                                 | 0/15691 [00:00<?, ?it/s]"
     ]
    },
    {
     "name": "stdout",
     "output_type": "stream",
     "text": [
      "[valid] epoch time: 108.82s, average batch time: 0.78s\n",
      "[valid] L1 : 0.0160 (best 0.0143), L1 : 0.0160 (best 0.0143)\n",
      "\n",
      "2022/03/13, 14:27:58 - [Epoch 127 / lr 3.00e-04]\n"
     ]
    },
    {
     "name": "stderr",
     "output_type": "stream",
     "text": [
      "100%|█████████████████████████████████████| 15691/15691 [28:33<00:00,  9.16it/s]\n",
      "  0%|                                                  | 0/1111 [00:00<?, ?it/s]"
     ]
    },
    {
     "name": "stdout",
     "output_type": "stream",
     "text": [
      "[train] epoch time: 1713.35s, average batch time: 0.87s\n",
      "[train] L1 : 0.0106 (best 0.0105), L1 : 0.0106 (best 0.0105)\n"
     ]
    },
    {
     "name": "stderr",
     "output_type": "stream",
     "text": [
      "100%|███████████████████████████████████████| 1111/1111 [02:16<00:00,  8.13it/s]\n",
      "  0%|                                                 | 0/15691 [00:00<?, ?it/s]"
     ]
    },
    {
     "name": "stdout",
     "output_type": "stream",
     "text": [
      "[valid] epoch time: 136.73s, average batch time: 0.98s\n",
      "[valid] L1 : 0.0172 (best 0.0143), L1 : 0.0172 (best 0.0143)\n",
      "\n",
      "2022/03/13, 14:58:48 - [Epoch 128 / lr 3.00e-04]\n"
     ]
    },
    {
     "name": "stderr",
     "output_type": "stream",
     "text": [
      "100%|█████████████████████████████████████| 15691/15691 [29:11<00:00,  8.96it/s]\n",
      "  0%|                                                  | 0/1111 [00:00<?, ?it/s]"
     ]
    },
    {
     "name": "stdout",
     "output_type": "stream",
     "text": [
      "[train] epoch time: 1751.24s, average batch time: 0.89s\n",
      "[train] L1 : 0.0105 (best 0.0105), L1 : 0.0105 (best 0.0105)\n"
     ]
    },
    {
     "name": "stderr",
     "output_type": "stream",
     "text": [
      "100%|███████████████████████████████████████| 1111/1111 [01:34<00:00, 11.77it/s]\n",
      "  0%|                                                 | 0/15691 [00:00<?, ?it/s]"
     ]
    },
    {
     "name": "stdout",
     "output_type": "stream",
     "text": [
      "[valid] epoch time: 94.42s, average batch time: 0.68s\n",
      "[valid] L1 : 0.0151 (best 0.0143), L1 : 0.0151 (best 0.0143)\n",
      "\n",
      "2022/03/13, 15:29:34 - [Epoch 129 / lr 3.00e-04]\n"
     ]
    },
    {
     "name": "stderr",
     "output_type": "stream",
     "text": [
      "100%|█████████████████████████████████████| 15691/15691 [28:46<00:00,  9.09it/s]\n",
      "  0%|                                                  | 0/1111 [00:00<?, ?it/s]"
     ]
    },
    {
     "name": "stdout",
     "output_type": "stream",
     "text": [
      "[train] epoch time: 1726.26s, average batch time: 0.88s\n",
      "[train] L1 : 0.0107 (best 0.0105), L1 : 0.0107 (best 0.0105)\n"
     ]
    },
    {
     "name": "stderr",
     "output_type": "stream",
     "text": [
      "100%|███████████████████████████████████████| 1111/1111 [01:41<00:00, 10.91it/s]\n",
      "  0%|                                                 | 0/15691 [00:00<?, ?it/s]"
     ]
    },
    {
     "name": "stdout",
     "output_type": "stream",
     "text": [
      "[valid] epoch time: 101.81s, average batch time: 0.73s\n",
      "[valid] L1 : 0.0168 (best 0.0143), L1 : 0.0168 (best 0.0143)\n",
      "\n",
      "2022/03/13, 16:00:02 - [Epoch 130 / lr 3.00e-04]\n"
     ]
    },
    {
     "name": "stderr",
     "output_type": "stream",
     "text": [
      "100%|█████████████████████████████████████| 15691/15691 [29:24<00:00,  8.89it/s]\n",
      "  0%|                                                  | 0/1111 [00:00<?, ?it/s]"
     ]
    },
    {
     "name": "stdout",
     "output_type": "stream",
     "text": [
      "[train] epoch time: 1764.67s, average batch time: 0.90s\n",
      "[train] L1 : 0.0105 (best 0.0105), L1 : 0.0105 (best 0.0105)\n"
     ]
    },
    {
     "name": "stderr",
     "output_type": "stream",
     "text": [
      "100%|███████████████████████████████████████| 1111/1111 [01:55<00:00,  9.62it/s]\n",
      "  0%|                                                 | 0/15691 [00:00<?, ?it/s]"
     ]
    },
    {
     "name": "stdout",
     "output_type": "stream",
     "text": [
      "[valid] epoch time: 115.55s, average batch time: 0.83s\n",
      "[valid] L1 : 0.0148 (best 0.0143), L1 : 0.0148 (best 0.0143)\n",
      "\n",
      "2022/03/13, 16:31:23 - [Epoch 131 / lr 3.00e-04]\n"
     ]
    },
    {
     "name": "stderr",
     "output_type": "stream",
     "text": [
      "100%|█████████████████████████████████████| 15691/15691 [29:38<00:00,  8.82it/s]\n",
      "  0%|                                                  | 0/1111 [00:00<?, ?it/s]"
     ]
    },
    {
     "name": "stdout",
     "output_type": "stream",
     "text": [
      "[train] epoch time: 1778.66s, average batch time: 0.91s\n",
      "[train] L1 : 0.0104 (best 0.0104), L1 : 0.0104 (best 0.0104)\n"
     ]
    },
    {
     "name": "stderr",
     "output_type": "stream",
     "text": [
      "100%|███████████████████████████████████████| 1111/1111 [01:41<00:00, 10.94it/s]\n",
      "  0%|                                                 | 0/15691 [00:00<?, ?it/s]"
     ]
    },
    {
     "name": "stdout",
     "output_type": "stream",
     "text": [
      "[valid] epoch time: 101.53s, average batch time: 0.73s\n",
      "[valid] L1 : 0.0164 (best 0.0143), L1 : 0.0164 (best 0.0143)\n",
      "\n",
      "2022/03/13, 17:02:43 - [Epoch 132 / lr 3.00e-04]\n"
     ]
    },
    {
     "name": "stderr",
     "output_type": "stream",
     "text": [
      "100%|█████████████████████████████████████| 15691/15691 [29:06<00:00,  8.99it/s]\n",
      "  0%|                                                  | 0/1111 [00:00<?, ?it/s]"
     ]
    },
    {
     "name": "stdout",
     "output_type": "stream",
     "text": [
      "[train] epoch time: 1746.16s, average batch time: 0.89s\n",
      "[train] L1 : 0.0104 (best 0.0104), L1 : 0.0104 (best 0.0104)\n"
     ]
    },
    {
     "name": "stderr",
     "output_type": "stream",
     "text": [
      "100%|███████████████████████████████████████| 1111/1111 [02:18<00:00,  8.03it/s]\n",
      "  0%|                                                 | 0/15691 [00:00<?, ?it/s]"
     ]
    },
    {
     "name": "stdout",
     "output_type": "stream",
     "text": [
      "[valid] epoch time: 138.32s, average batch time: 1.00s\n",
      "[valid] L1 : 0.0144 (best 0.0143), L1 : 0.0144 (best 0.0143)\n",
      "\n",
      "2022/03/13, 17:34:07 - [Epoch 133 / lr 3.00e-04]\n"
     ]
    },
    {
     "name": "stderr",
     "output_type": "stream",
     "text": [
      "100%|█████████████████████████████████████| 15691/15691 [29:05<00:00,  8.99it/s]\n",
      "  0%|                                                  | 0/1111 [00:00<?, ?it/s]"
     ]
    },
    {
     "name": "stdout",
     "output_type": "stream",
     "text": [
      "[train] epoch time: 1745.57s, average batch time: 0.89s\n",
      "[train] L1 : 0.0105 (best 0.0104), L1 : 0.0105 (best 0.0104)\n"
     ]
    },
    {
     "name": "stderr",
     "output_type": "stream",
     "text": [
      "100%|███████████████████████████████████████| 1111/1111 [01:27<00:00, 12.67it/s]\n",
      "  0%|                                                 | 0/15691 [00:00<?, ?it/s]"
     ]
    },
    {
     "name": "stdout",
     "output_type": "stream",
     "text": [
      "[valid] epoch time: 87.69s, average batch time: 0.63s\n",
      "[valid] L1 : 0.0154 (best 0.0143), L1 : 0.0154 (best 0.0143)\n",
      "\n",
      "2022/03/13, 18:04:41 - [Epoch 134 / lr 3.00e-04]\n"
     ]
    },
    {
     "name": "stderr",
     "output_type": "stream",
     "text": [
      "100%|█████████████████████████████████████| 15691/15691 [29:40<00:00,  8.81it/s]\n",
      "  0%|                                                  | 0/1111 [00:00<?, ?it/s]"
     ]
    },
    {
     "name": "stdout",
     "output_type": "stream",
     "text": [
      "[train] epoch time: 1780.19s, average batch time: 0.91s\n",
      "[train] L1 : 0.0104 (best 0.0104), L1 : 0.0104 (best 0.0104)\n"
     ]
    },
    {
     "name": "stderr",
     "output_type": "stream",
     "text": [
      "100%|███████████████████████████████████████| 1111/1111 [01:46<00:00, 10.47it/s]\n",
      "  0%|                                                 | 0/15691 [00:00<?, ?it/s]"
     ]
    },
    {
     "name": "stdout",
     "output_type": "stream",
     "text": [
      "[valid] epoch time: 106.07s, average batch time: 0.76s\n",
      "[valid] L1 : 0.0142 (best 0.0142), L1 : 0.0142 (best 0.0142)\n",
      "\n",
      "2022/03/13, 18:36:07 - [Epoch 135 / lr 3.00e-04]\n"
     ]
    },
    {
     "name": "stderr",
     "output_type": "stream",
     "text": [
      "100%|█████████████████████████████████████| 15691/15691 [28:54<00:00,  9.05it/s]\n",
      "  0%|                                                  | 0/1111 [00:00<?, ?it/s]"
     ]
    },
    {
     "name": "stdout",
     "output_type": "stream",
     "text": [
      "[train] epoch time: 1734.12s, average batch time: 0.88s\n",
      "[train] L1 : 0.0104 (best 0.0104), L1 : 0.0104 (best 0.0104)\n"
     ]
    },
    {
     "name": "stderr",
     "output_type": "stream",
     "text": [
      "100%|███████████████████████████████████████| 1111/1111 [02:08<00:00,  8.62it/s]\n",
      "  0%|                                                 | 0/15691 [00:00<?, ?it/s]"
     ]
    },
    {
     "name": "stdout",
     "output_type": "stream",
     "text": [
      "[valid] epoch time: 128.83s, average batch time: 0.93s\n",
      "[valid] L1 : 0.0156 (best 0.0142), L1 : 0.0156 (best 0.0142)\n",
      "\n",
      "2022/03/13, 19:07:10 - [Epoch 136 / lr 3.00e-04]\n"
     ]
    },
    {
     "name": "stderr",
     "output_type": "stream",
     "text": [
      "100%|█████████████████████████████████████| 15691/15691 [29:11<00:00,  8.96it/s]\n",
      "  0%|                                                  | 0/1111 [00:00<?, ?it/s]"
     ]
    },
    {
     "name": "stdout",
     "output_type": "stream",
     "text": [
      "[train] epoch time: 1751.91s, average batch time: 0.89s\n",
      "[train] L1 : 0.0104 (best 0.0104), L1 : 0.0104 (best 0.0104)\n"
     ]
    },
    {
     "name": "stderr",
     "output_type": "stream",
     "text": [
      "100%|███████████████████████████████████████| 1111/1111 [02:10<00:00,  8.54it/s]\n",
      "  0%|                                                 | 0/15691 [00:00<?, ?it/s]"
     ]
    },
    {
     "name": "stdout",
     "output_type": "stream",
     "text": [
      "[valid] epoch time: 130.10s, average batch time: 0.94s\n",
      "[valid] L1 : 0.0166 (best 0.0142), L1 : 0.0166 (best 0.0142)\n",
      "\n",
      "2022/03/13, 19:38:32 - [Epoch 137 / lr 3.00e-04]\n"
     ]
    },
    {
     "name": "stderr",
     "output_type": "stream",
     "text": [
      "100%|█████████████████████████████████████| 15691/15691 [38:28<00:00,  6.80it/s]\n",
      "  0%|                                                  | 0/1111 [00:00<?, ?it/s]"
     ]
    },
    {
     "name": "stdout",
     "output_type": "stream",
     "text": [
      "[train] epoch time: 2308.62s, average batch time: 1.18s\n",
      "[train] L1 : 0.0103 (best 0.0103), L1 : 0.0103 (best 0.0103)\n"
     ]
    },
    {
     "name": "stderr",
     "output_type": "stream",
     "text": [
      "100%|███████████████████████████████████████| 1111/1111 [01:41<00:00, 10.90it/s]\n",
      "  0%|                                                 | 0/15691 [00:00<?, ?it/s]"
     ]
    },
    {
     "name": "stdout",
     "output_type": "stream",
     "text": [
      "[valid] epoch time: 101.92s, average batch time: 0.73s\n",
      "[valid] L1 : 0.0175 (best 0.0142), L1 : 0.0175 (best 0.0142)\n",
      "\n",
      "2022/03/13, 20:18:43 - [Epoch 138 / lr 3.00e-04]\n"
     ]
    },
    {
     "name": "stderr",
     "output_type": "stream",
     "text": [
      "100%|█████████████████████████████████████| 15691/15691 [29:27<00:00,  8.88it/s]\n",
      "  0%|                                                  | 0/1111 [00:00<?, ?it/s]"
     ]
    },
    {
     "name": "stdout",
     "output_type": "stream",
     "text": [
      "[train] epoch time: 1767.38s, average batch time: 0.90s\n",
      "[train] L1 : 0.0103 (best 0.0103), L1 : 0.0103 (best 0.0103)\n"
     ]
    },
    {
     "name": "stderr",
     "output_type": "stream",
     "text": [
      "100%|███████████████████████████████████████| 1111/1111 [01:55<00:00,  9.59it/s]\n",
      "  0%|                                                 | 0/15691 [00:00<?, ?it/s]"
     ]
    },
    {
     "name": "stdout",
     "output_type": "stream",
     "text": [
      "[valid] epoch time: 115.90s, average batch time: 0.83s\n",
      "[valid] L1 : 0.0171 (best 0.0142), L1 : 0.0171 (best 0.0142)\n",
      "\n",
      "2022/03/13, 20:50:06 - [Epoch 139 / lr 3.00e-04]\n"
     ]
    },
    {
     "name": "stderr",
     "output_type": "stream",
     "text": [
      "100%|█████████████████████████████████████| 15691/15691 [29:16<00:00,  8.93it/s]\n",
      "  0%|                                                  | 0/1111 [00:00<?, ?it/s]"
     ]
    },
    {
     "name": "stdout",
     "output_type": "stream",
     "text": [
      "[train] epoch time: 1756.37s, average batch time: 0.90s\n",
      "[train] L1 : 0.0103 (best 0.0103), L1 : 0.0103 (best 0.0103)\n"
     ]
    },
    {
     "name": "stderr",
     "output_type": "stream",
     "text": [
      "100%|███████████████████████████████████████| 1111/1111 [01:41<00:00, 10.96it/s]\n",
      "  0%|                                                 | 0/15691 [00:00<?, ?it/s]"
     ]
    },
    {
     "name": "stdout",
     "output_type": "stream",
     "text": [
      "[valid] epoch time: 101.41s, average batch time: 0.73s\n",
      "[valid] L1 : 0.0151 (best 0.0142), L1 : 0.0151 (best 0.0142)\n",
      "\n",
      "2022/03/13, 21:21:04 - [Epoch 140 / lr 3.00e-04]\n"
     ]
    },
    {
     "name": "stderr",
     "output_type": "stream",
     "text": [
      "100%|█████████████████████████████████████| 15691/15691 [29:36<00:00,  8.83it/s]\n",
      "  0%|                                                  | 0/1111 [00:00<?, ?it/s]"
     ]
    },
    {
     "name": "stdout",
     "output_type": "stream",
     "text": [
      "[train] epoch time: 1776.03s, average batch time: 0.91s\n",
      "[train] L1 : 0.0103 (best 0.0103), L1 : 0.0103 (best 0.0103)\n"
     ]
    },
    {
     "name": "stderr",
     "output_type": "stream",
     "text": [
      "100%|███████████████████████████████████████| 1111/1111 [01:56<00:00,  9.55it/s]\n",
      "  0%|                                                 | 0/15691 [00:00<?, ?it/s]"
     ]
    },
    {
     "name": "stdout",
     "output_type": "stream",
     "text": [
      "[valid] epoch time: 116.33s, average batch time: 0.84s\n",
      "[valid] L1 : 0.0149 (best 0.0142), L1 : 0.0149 (best 0.0142)\n",
      "\n",
      "2022/03/13, 21:52:36 - [Epoch 141 / lr 3.00e-04]\n"
     ]
    },
    {
     "name": "stderr",
     "output_type": "stream",
     "text": [
      "100%|█████████████████████████████████████| 15691/15691 [28:59<00:00,  9.02it/s]\n",
      "  0%|                                                  | 0/1111 [00:00<?, ?it/s]"
     ]
    },
    {
     "name": "stdout",
     "output_type": "stream",
     "text": [
      "[train] epoch time: 1739.26s, average batch time: 0.89s\n",
      "[train] L1 : 0.0102 (best 0.0102), L1 : 0.0102 (best 0.0102)\n"
     ]
    },
    {
     "name": "stderr",
     "output_type": "stream",
     "text": [
      "100%|███████████████████████████████████████| 1111/1111 [02:07<00:00,  8.72it/s]\n",
      "  0%|                                                 | 0/15691 [00:00<?, ?it/s]"
     ]
    },
    {
     "name": "stdout",
     "output_type": "stream",
     "text": [
      "[valid] epoch time: 127.46s, average batch time: 0.92s\n",
      "[valid] L1 : 0.0143 (best 0.0142), L1 : 0.0143 (best 0.0142)\n",
      "\n",
      "2022/03/13, 22:23:43 - [Epoch 142 / lr 3.00e-04]\n"
     ]
    },
    {
     "name": "stderr",
     "output_type": "stream",
     "text": [
      "100%|█████████████████████████████████████| 15691/15691 [29:07<00:00,  8.98it/s]\n",
      "  0%|                                                  | 0/1111 [00:00<?, ?it/s]"
     ]
    },
    {
     "name": "stdout",
     "output_type": "stream",
     "text": [
      "[train] epoch time: 1747.35s, average batch time: 0.89s\n",
      "[train] L1 : 0.0103 (best 0.0102), L1 : 0.0103 (best 0.0102)\n"
     ]
    },
    {
     "name": "stderr",
     "output_type": "stream",
     "text": [
      "100%|███████████████████████████████████████| 1111/1111 [01:38<00:00, 11.29it/s]\n",
      "  0%|                                                 | 0/15691 [00:00<?, ?it/s]"
     ]
    },
    {
     "name": "stdout",
     "output_type": "stream",
     "text": [
      "[valid] epoch time: 98.40s, average batch time: 0.71s\n",
      "[valid] L1 : 0.0158 (best 0.0142), L1 : 0.0158 (best 0.0142)\n",
      "\n",
      "2022/03/13, 22:54:29 - [Epoch 143 / lr 3.00e-04]\n"
     ]
    },
    {
     "name": "stderr",
     "output_type": "stream",
     "text": [
      "100%|█████████████████████████████████████| 15691/15691 [29:35<00:00,  8.84it/s]\n",
      "  0%|                                                  | 0/1111 [00:00<?, ?it/s]"
     ]
    },
    {
     "name": "stdout",
     "output_type": "stream",
     "text": [
      "[train] epoch time: 1775.94s, average batch time: 0.91s\n",
      "[train] L1 : 0.0102 (best 0.0102), L1 : 0.0102 (best 0.0102)\n"
     ]
    },
    {
     "name": "stderr",
     "output_type": "stream",
     "text": [
      "100%|███████████████████████████████████████| 1111/1111 [01:46<00:00, 10.40it/s]\n",
      "  0%|                                                 | 0/15691 [00:00<?, ?it/s]"
     ]
    },
    {
     "name": "stdout",
     "output_type": "stream",
     "text": [
      "[valid] epoch time: 106.85s, average batch time: 0.77s\n",
      "[valid] L1 : 0.0170 (best 0.0142), L1 : 0.0170 (best 0.0142)\n",
      "\n",
      "2022/03/13, 23:25:52 - [Epoch 144 / lr 3.00e-04]\n"
     ]
    },
    {
     "name": "stderr",
     "output_type": "stream",
     "text": [
      "100%|█████████████████████████████████████| 15691/15691 [29:10<00:00,  8.96it/s]\n",
      "  0%|                                                  | 0/1111 [00:00<?, ?it/s]"
     ]
    },
    {
     "name": "stdout",
     "output_type": "stream",
     "text": [
      "[train] epoch time: 1750.61s, average batch time: 0.89s\n",
      "[train] L1 : 0.0102 (best 0.0102), L1 : 0.0102 (best 0.0102)\n"
     ]
    },
    {
     "name": "stderr",
     "output_type": "stream",
     "text": [
      "100%|███████████████████████████████████████| 1111/1111 [01:48<00:00, 10.22it/s]\n",
      "  0%|                                                 | 0/15691 [00:00<?, ?it/s]"
     ]
    },
    {
     "name": "stdout",
     "output_type": "stream",
     "text": [
      "[valid] epoch time: 108.66s, average batch time: 0.78s\n",
      "[valid] L1 : 0.0159 (best 0.0142), L1 : 0.0159 (best 0.0142)\n",
      "\n",
      "2022/03/13, 23:56:51 - [Epoch 145 / lr 3.00e-04]\n"
     ]
    },
    {
     "name": "stderr",
     "output_type": "stream",
     "text": [
      "100%|█████████████████████████████████████| 15691/15691 [29:35<00:00,  8.84it/s]\n",
      "  0%|                                                  | 0/1111 [00:00<?, ?it/s]"
     ]
    },
    {
     "name": "stdout",
     "output_type": "stream",
     "text": [
      "[train] epoch time: 1775.90s, average batch time: 0.91s\n",
      "[train] L1 : 0.0101 (best 0.0101), L1 : 0.0101 (best 0.0101)\n"
     ]
    },
    {
     "name": "stderr",
     "output_type": "stream",
     "text": [
      "100%|███████████████████████████████████████| 1111/1111 [01:59<00:00,  9.28it/s]\n",
      "  0%|                                                 | 0/15691 [00:00<?, ?it/s]"
     ]
    },
    {
     "name": "stdout",
     "output_type": "stream",
     "text": [
      "[valid] epoch time: 119.69s, average batch time: 0.86s\n",
      "[valid] L1 : 0.0151 (best 0.0142), L1 : 0.0151 (best 0.0142)\n",
      "\n",
      "2022/03/14, 00:28:27 - [Epoch 146 / lr 3.00e-04]\n"
     ]
    },
    {
     "name": "stderr",
     "output_type": "stream",
     "text": [
      "100%|█████████████████████████████████████| 15691/15691 [29:11<00:00,  8.96it/s]\n",
      "  0%|                                                  | 0/1111 [00:00<?, ?it/s]"
     ]
    },
    {
     "name": "stdout",
     "output_type": "stream",
     "text": [
      "[train] epoch time: 1751.72s, average batch time: 0.89s\n",
      "[train] L1 : 0.0101 (best 0.0101), L1 : 0.0101 (best 0.0101)\n"
     ]
    },
    {
     "name": "stderr",
     "output_type": "stream",
     "text": [
      "100%|███████████████████████████████████████| 1111/1111 [02:16<00:00,  8.13it/s]\n",
      "  0%|                                                 | 0/15691 [00:00<?, ?it/s]"
     ]
    },
    {
     "name": "stdout",
     "output_type": "stream",
     "text": [
      "[valid] epoch time: 136.69s, average batch time: 0.98s\n",
      "[valid] L1 : 0.0148 (best 0.0142), L1 : 0.0148 (best 0.0142)\n",
      "\n",
      "2022/03/14, 00:59:55 - [Epoch 147 / lr 3.00e-04]\n"
     ]
    },
    {
     "name": "stderr",
     "output_type": "stream",
     "text": [
      "100%|█████████████████████████████████████| 15691/15691 [29:13<00:00,  8.95it/s]\n",
      "  0%|                                                  | 0/1111 [00:00<?, ?it/s]"
     ]
    },
    {
     "name": "stdout",
     "output_type": "stream",
     "text": [
      "[train] epoch time: 1753.08s, average batch time: 0.89s\n",
      "[train] L1 : 0.0100 (best 0.0100), L1 : 0.0100 (best 0.0100)\n"
     ]
    },
    {
     "name": "stderr",
     "output_type": "stream",
     "text": [
      "100%|███████████████████████████████████████| 1111/1111 [01:32<00:00, 11.97it/s]\n",
      "  0%|                                                 | 0/15691 [00:00<?, ?it/s]"
     ]
    },
    {
     "name": "stdout",
     "output_type": "stream",
     "text": [
      "[valid] epoch time: 92.85s, average batch time: 0.67s\n",
      "[valid] L1 : 0.0141 (best 0.0141), L1 : 0.0141 (best 0.0141)\n",
      "\n",
      "2022/03/14, 01:30:42 - [Epoch 148 / lr 3.00e-04]\n"
     ]
    },
    {
     "name": "stderr",
     "output_type": "stream",
     "text": [
      "100%|█████████████████████████████████████| 15691/15691 [29:38<00:00,  8.82it/s]\n",
      "  0%|                                                  | 0/1111 [00:00<?, ?it/s]"
     ]
    },
    {
     "name": "stdout",
     "output_type": "stream",
     "text": [
      "[train] epoch time: 1778.02s, average batch time: 0.91s\n",
      "[train] L1 : 0.0101 (best 0.0100), L1 : 0.0101 (best 0.0100)\n"
     ]
    },
    {
     "name": "stderr",
     "output_type": "stream",
     "text": [
      "100%|███████████████████████████████████████| 1111/1111 [01:41<00:00, 10.98it/s]\n",
      "  0%|                                                 | 0/15691 [00:00<?, ?it/s]"
     ]
    },
    {
     "name": "stdout",
     "output_type": "stream",
     "text": [
      "[valid] epoch time: 101.16s, average batch time: 0.73s\n",
      "[valid] L1 : 0.0161 (best 0.0141), L1 : 0.0161 (best 0.0141)\n",
      "\n",
      "2022/03/14, 02:02:01 - [Epoch 149 / lr 3.00e-04]\n"
     ]
    },
    {
     "name": "stderr",
     "output_type": "stream",
     "text": [
      "100%|█████████████████████████████████████| 15691/15691 [29:51<00:00,  8.76it/s]\n",
      "  0%|                                                  | 0/1111 [00:00<?, ?it/s]"
     ]
    },
    {
     "name": "stdout",
     "output_type": "stream",
     "text": [
      "[train] epoch time: 1791.08s, average batch time: 0.91s\n",
      "[train] L1 : 0.0101 (best 0.0100), L1 : 0.0101 (best 0.0100)\n"
     ]
    },
    {
     "name": "stderr",
     "output_type": "stream",
     "text": [
      "100%|███████████████████████████████████████| 1111/1111 [01:55<00:00,  9.58it/s]\n",
      "  0%|                                                 | 0/15691 [00:00<?, ?it/s]"
     ]
    },
    {
     "name": "stdout",
     "output_type": "stream",
     "text": [
      "[valid] epoch time: 115.90s, average batch time: 0.83s\n",
      "[valid] L1 : 0.0132 (best 0.0132), L1 : 0.0132 (best 0.0132)\n",
      "\n",
      "2022/03/14, 02:33:48 - [Epoch 150 / lr 3.00e-04]\n"
     ]
    },
    {
     "name": "stderr",
     "output_type": "stream",
     "text": [
      "100%|█████████████████████████████████████| 15691/15691 [29:45<00:00,  8.79it/s]\n",
      "  0%|                                                  | 0/1111 [00:00<?, ?it/s]"
     ]
    },
    {
     "name": "stdout",
     "output_type": "stream",
     "text": [
      "[train] epoch time: 1785.59s, average batch time: 0.91s\n",
      "[train] L1 : 0.0100 (best 0.0100), L1 : 0.0100 (best 0.0100)\n"
     ]
    },
    {
     "name": "stderr",
     "output_type": "stream",
     "text": [
      "100%|███████████████████████████████████████| 1111/1111 [01:57<00:00,  9.50it/s]\n",
      "  0%|                                                 | 0/15691 [00:00<?, ?it/s]"
     ]
    },
    {
     "name": "stdout",
     "output_type": "stream",
     "text": [
      "[valid] epoch time: 117.01s, average batch time: 0.84s\n",
      "[valid] L1 : 0.0147 (best 0.0132), L1 : 0.0147 (best 0.0132)\n",
      "\n",
      "2022/03/14, 03:05:30 - [Epoch 151 / lr 3.00e-04]\n"
     ]
    },
    {
     "name": "stderr",
     "output_type": "stream",
     "text": [
      "100%|█████████████████████████████████████| 15691/15691 [29:15<00:00,  8.94it/s]\n",
      "  0%|                                                  | 0/1111 [00:00<?, ?it/s]"
     ]
    },
    {
     "name": "stdout",
     "output_type": "stream",
     "text": [
      "[train] epoch time: 1755.37s, average batch time: 0.89s\n",
      "[train] L1 : 0.0101 (best 0.0100), L1 : 0.0101 (best 0.0100)\n"
     ]
    },
    {
     "name": "stderr",
     "output_type": "stream",
     "text": [
      "100%|███████████████████████████████████████| 1111/1111 [01:47<00:00, 10.31it/s]\n",
      "  0%|                                                 | 0/15691 [00:00<?, ?it/s]"
     ]
    },
    {
     "name": "stdout",
     "output_type": "stream",
     "text": [
      "[valid] epoch time: 107.79s, average batch time: 0.78s\n",
      "[valid] L1 : 0.0154 (best 0.0132), L1 : 0.0154 (best 0.0132)\n",
      "\n",
      "2022/03/14, 03:36:34 - [Epoch 152 / lr 3.00e-04]\n"
     ]
    },
    {
     "name": "stderr",
     "output_type": "stream",
     "text": [
      "100%|█████████████████████████████████████| 15691/15691 [29:31<00:00,  8.86it/s]\n",
      "  0%|                                                  | 0/1111 [00:00<?, ?it/s]"
     ]
    },
    {
     "name": "stdout",
     "output_type": "stream",
     "text": [
      "[train] epoch time: 1771.12s, average batch time: 0.90s\n",
      "[train] L1 : 0.0101 (best 0.0100), L1 : 0.0101 (best 0.0100)\n"
     ]
    },
    {
     "name": "stderr",
     "output_type": "stream",
     "text": [
      "100%|███████████████████████████████████████| 1111/1111 [01:33<00:00, 11.90it/s]\n",
      "  0%|                                                 | 0/15691 [00:00<?, ?it/s]"
     ]
    },
    {
     "name": "stdout",
     "output_type": "stream",
     "text": [
      "[valid] epoch time: 93.33s, average batch time: 0.67s\n",
      "[valid] L1 : 0.0146 (best 0.0132), L1 : 0.0146 (best 0.0132)\n",
      "\n",
      "2022/03/14, 04:07:38 - [Epoch 153 / lr 3.00e-04]\n"
     ]
    },
    {
     "name": "stderr",
     "output_type": "stream",
     "text": [
      "100%|█████████████████████████████████████| 15691/15691 [29:41<00:00,  8.81it/s]\n",
      "  0%|                                                  | 0/1111 [00:00<?, ?it/s]"
     ]
    },
    {
     "name": "stdout",
     "output_type": "stream",
     "text": [
      "[train] epoch time: 1781.88s, average batch time: 0.91s\n",
      "[train] L1 : 0.0101 (best 0.0100), L1 : 0.0101 (best 0.0100)\n"
     ]
    },
    {
     "name": "stderr",
     "output_type": "stream",
     "text": [
      "100%|███████████████████████████████████████| 1111/1111 [02:02<00:00,  9.10it/s]\n",
      "  0%|                                                 | 0/15691 [00:00<?, ?it/s]"
     ]
    },
    {
     "name": "stdout",
     "output_type": "stream",
     "text": [
      "[valid] epoch time: 122.07s, average batch time: 0.88s\n",
      "[valid] L1 : 0.0169 (best 0.0132), L1 : 0.0169 (best 0.0132)\n",
      "\n",
      "2022/03/14, 04:39:22 - [Epoch 154 / lr 3.00e-04]\n"
     ]
    },
    {
     "name": "stderr",
     "output_type": "stream",
     "text": [
      "100%|█████████████████████████████████████| 15691/15691 [29:54<00:00,  8.74it/s]\n",
      "  0%|                                                  | 0/1111 [00:00<?, ?it/s]"
     ]
    },
    {
     "name": "stdout",
     "output_type": "stream",
     "text": [
      "[train] epoch time: 1794.85s, average batch time: 0.91s\n",
      "[train] L1 : 0.0099 (best 0.0099), L1 : 0.0099 (best 0.0099)\n"
     ]
    },
    {
     "name": "stderr",
     "output_type": "stream",
     "text": [
      "100%|███████████████████████████████████████| 1111/1111 [01:33<00:00, 11.85it/s]\n",
      "  0%|                                                 | 0/15691 [00:00<?, ?it/s]"
     ]
    },
    {
     "name": "stdout",
     "output_type": "stream",
     "text": [
      "[valid] epoch time: 93.74s, average batch time: 0.67s\n",
      "[valid] L1 : 0.0156 (best 0.0132), L1 : 0.0156 (best 0.0132)\n",
      "\n",
      "2022/03/14, 05:10:51 - [Epoch 155 / lr 3.00e-04]\n"
     ]
    },
    {
     "name": "stderr",
     "output_type": "stream",
     "text": [
      "100%|█████████████████████████████████████| 15691/15691 [30:08<00:00,  8.68it/s]\n",
      "  0%|                                                  | 0/1111 [00:00<?, ?it/s]"
     ]
    },
    {
     "name": "stdout",
     "output_type": "stream",
     "text": [
      "[train] epoch time: 1808.14s, average batch time: 0.92s\n",
      "[train] L1 : 0.0099 (best 0.0099), L1 : 0.0099 (best 0.0099)\n"
     ]
    },
    {
     "name": "stderr",
     "output_type": "stream",
     "text": [
      "100%|███████████████████████████████████████| 1111/1111 [01:38<00:00, 11.25it/s]\n",
      "  0%|                                                 | 0/15691 [00:00<?, ?it/s]"
     ]
    },
    {
     "name": "stdout",
     "output_type": "stream",
     "text": [
      "[valid] epoch time: 98.73s, average batch time: 0.71s\n",
      "[valid] L1 : 0.0149 (best 0.0132), L1 : 0.0149 (best 0.0132)\n",
      "\n",
      "2022/03/14, 05:42:38 - [Epoch 156 / lr 3.00e-04]\n"
     ]
    },
    {
     "name": "stderr",
     "output_type": "stream",
     "text": [
      "100%|█████████████████████████████████████| 15691/15691 [30:36<00:00,  8.54it/s]\n",
      "  0%|                                                  | 0/1111 [00:00<?, ?it/s]"
     ]
    },
    {
     "name": "stdout",
     "output_type": "stream",
     "text": [
      "[train] epoch time: 1836.48s, average batch time: 0.94s\n",
      "[train] L1 : 0.0099 (best 0.0099), L1 : 0.0099 (best 0.0099)\n"
     ]
    },
    {
     "name": "stderr",
     "output_type": "stream",
     "text": [
      "100%|███████████████████████████████████████| 1111/1111 [01:53<00:00,  9.80it/s]\n",
      "  0%|                                                 | 0/15691 [00:00<?, ?it/s]"
     ]
    },
    {
     "name": "stdout",
     "output_type": "stream",
     "text": [
      "[valid] epoch time: 113.37s, average batch time: 0.82s\n",
      "[valid] L1 : 0.0156 (best 0.0132), L1 : 0.0156 (best 0.0132)\n",
      "\n",
      "2022/03/14, 06:15:08 - [Epoch 157 / lr 3.00e-04]\n"
     ]
    },
    {
     "name": "stderr",
     "output_type": "stream",
     "text": [
      "100%|█████████████████████████████████████| 15691/15691 [30:01<00:00,  8.71it/s]\n",
      "  0%|                                                  | 0/1111 [00:00<?, ?it/s]"
     ]
    },
    {
     "name": "stdout",
     "output_type": "stream",
     "text": [
      "[train] epoch time: 1801.25s, average batch time: 0.92s\n",
      "[train] L1 : 0.0099 (best 0.0099), L1 : 0.0099 (best 0.0099)\n"
     ]
    },
    {
     "name": "stderr",
     "output_type": "stream",
     "text": [
      "100%|███████████████████████████████████████| 1111/1111 [01:43<00:00, 10.74it/s]\n",
      "  0%|                                                 | 0/15691 [00:00<?, ?it/s]"
     ]
    },
    {
     "name": "stdout",
     "output_type": "stream",
     "text": [
      "[valid] epoch time: 103.47s, average batch time: 0.74s\n",
      "[valid] L1 : 0.0146 (best 0.0132), L1 : 0.0146 (best 0.0132)\n",
      "\n",
      "2022/03/14, 06:46:53 - [Epoch 158 / lr 3.00e-04]\n"
     ]
    },
    {
     "name": "stderr",
     "output_type": "stream",
     "text": [
      "100%|█████████████████████████████████████| 15691/15691 [29:14<00:00,  8.94it/s]\n",
      "  0%|                                                  | 0/1111 [00:00<?, ?it/s]"
     ]
    },
    {
     "name": "stdout",
     "output_type": "stream",
     "text": [
      "[train] epoch time: 1754.66s, average batch time: 0.89s\n",
      "[train] L1 : 0.0099 (best 0.0099), L1 : 0.0099 (best 0.0099)\n"
     ]
    },
    {
     "name": "stderr",
     "output_type": "stream",
     "text": [
      "100%|███████████████████████████████████████| 1111/1111 [01:52<00:00,  9.86it/s]\n",
      "  0%|                                                 | 0/15691 [00:00<?, ?it/s]"
     ]
    },
    {
     "name": "stdout",
     "output_type": "stream",
     "text": [
      "[valid] epoch time: 112.63s, average batch time: 0.81s\n",
      "[valid] L1 : 0.0152 (best 0.0132), L1 : 0.0152 (best 0.0132)\n",
      "\n",
      "2022/03/14, 07:18:00 - [Epoch 159 / lr 3.00e-04]\n"
     ]
    },
    {
     "name": "stderr",
     "output_type": "stream",
     "text": [
      "100%|█████████████████████████████████████| 15691/15691 [29:08<00:00,  8.98it/s]\n",
      "  0%|                                                  | 0/1111 [00:00<?, ?it/s]"
     ]
    },
    {
     "name": "stdout",
     "output_type": "stream",
     "text": [
      "[train] epoch time: 1748.23s, average batch time: 0.89s\n",
      "[train] L1 : 0.0098 (best 0.0098), L1 : 0.0098 (best 0.0098)\n"
     ]
    },
    {
     "name": "stderr",
     "output_type": "stream",
     "text": [
      "100%|███████████████████████████████████████| 1111/1111 [02:03<00:00,  8.97it/s]\n",
      "  0%|                                                 | 0/15691 [00:00<?, ?it/s]"
     ]
    },
    {
     "name": "stdout",
     "output_type": "stream",
     "text": [
      "[valid] epoch time: 123.85s, average batch time: 0.89s\n",
      "[valid] L1 : 0.0150 (best 0.0132), L1 : 0.0150 (best 0.0132)\n",
      "\n",
      "2022/03/14, 07:49:12 - [Epoch 160 / lr 3.00e-04]\n"
     ]
    },
    {
     "name": "stderr",
     "output_type": "stream",
     "text": [
      "100%|█████████████████████████████████████| 15691/15691 [29:10<00:00,  8.96it/s]\n",
      "  0%|                                                  | 0/1111 [00:00<?, ?it/s]"
     ]
    },
    {
     "name": "stdout",
     "output_type": "stream",
     "text": [
      "[train] epoch time: 1750.71s, average batch time: 0.89s\n",
      "[train] L1 : 0.0099 (best 0.0098), L1 : 0.0099 (best 0.0098)\n"
     ]
    },
    {
     "name": "stderr",
     "output_type": "stream",
     "text": [
      "100%|███████████████████████████████████████| 1111/1111 [01:29<00:00, 12.46it/s]\n",
      "  0%|                                                 | 0/15691 [00:00<?, ?it/s]"
     ]
    },
    {
     "name": "stdout",
     "output_type": "stream",
     "text": [
      "[valid] epoch time: 89.20s, average batch time: 0.64s\n",
      "[valid] L1 : 0.0170 (best 0.0132), L1 : 0.0170 (best 0.0132)\n",
      "\n",
      "2022/03/14, 08:19:52 - [Epoch 161 / lr 3.00e-04]\n"
     ]
    },
    {
     "name": "stderr",
     "output_type": "stream",
     "text": [
      "100%|█████████████████████████████████████| 15691/15691 [29:37<00:00,  8.83it/s]\n",
      "  0%|                                                  | 0/1111 [00:00<?, ?it/s]"
     ]
    },
    {
     "name": "stdout",
     "output_type": "stream",
     "text": [
      "[train] epoch time: 1777.82s, average batch time: 0.91s\n",
      "[train] L1 : 0.0098 (best 0.0098), L1 : 0.0098 (best 0.0098)\n"
     ]
    },
    {
     "name": "stderr",
     "output_type": "stream",
     "text": [
      "100%|███████████████████████████████████████| 1111/1111 [02:01<00:00,  9.16it/s]\n",
      "  0%|                                                 | 0/15691 [00:00<?, ?it/s]"
     ]
    },
    {
     "name": "stdout",
     "output_type": "stream",
     "text": [
      "[valid] epoch time: 121.35s, average batch time: 0.87s\n",
      "[valid] L1 : 0.0141 (best 0.0132), L1 : 0.0141 (best 0.0132)\n",
      "\n",
      "2022/03/14, 08:51:31 - [Epoch 162 / lr 3.00e-04]\n"
     ]
    },
    {
     "name": "stderr",
     "output_type": "stream",
     "text": [
      "100%|█████████████████████████████████████| 15691/15691 [37:39<00:00,  6.94it/s]\n",
      "  0%|                                                  | 0/1111 [00:00<?, ?it/s]"
     ]
    },
    {
     "name": "stdout",
     "output_type": "stream",
     "text": [
      "[train] epoch time: 2259.71s, average batch time: 1.15s\n",
      "[train] L1 : 0.0098 (best 0.0098), L1 : 0.0098 (best 0.0098)\n"
     ]
    },
    {
     "name": "stderr",
     "output_type": "stream",
     "text": [
      "100%|███████████████████████████████████████| 1111/1111 [02:06<00:00,  8.76it/s]\n",
      "  0%|                                                 | 0/15691 [00:00<?, ?it/s]"
     ]
    },
    {
     "name": "stdout",
     "output_type": "stream",
     "text": [
      "[valid] epoch time: 126.85s, average batch time: 0.91s\n",
      "[valid] L1 : 0.0147 (best 0.0132), L1 : 0.0147 (best 0.0132)\n",
      "\n",
      "2022/03/14, 09:31:18 - [Epoch 163 / lr 3.00e-04]\n"
     ]
    },
    {
     "name": "stderr",
     "output_type": "stream",
     "text": [
      "100%|█████████████████████████████████████| 15691/15691 [29:42<00:00,  8.80it/s]\n",
      "  0%|                                                  | 0/1111 [00:00<?, ?it/s]"
     ]
    },
    {
     "name": "stdout",
     "output_type": "stream",
     "text": [
      "[train] epoch time: 1782.55s, average batch time: 0.91s\n",
      "[train] L1 : 0.0098 (best 0.0098), L1 : 0.0098 (best 0.0098)\n"
     ]
    },
    {
     "name": "stderr",
     "output_type": "stream",
     "text": [
      "100%|███████████████████████████████████████| 1111/1111 [01:51<00:00,  9.92it/s]\n",
      "  0%|                                                 | 0/15691 [00:00<?, ?it/s]"
     ]
    },
    {
     "name": "stdout",
     "output_type": "stream",
     "text": [
      "[valid] epoch time: 111.95s, average batch time: 0.81s\n",
      "[valid] L1 : 0.0147 (best 0.0132), L1 : 0.0147 (best 0.0132)\n",
      "\n",
      "2022/03/14, 10:02:53 - [Epoch 164 / lr 3.00e-04]\n"
     ]
    },
    {
     "name": "stderr",
     "output_type": "stream",
     "text": [
      "100%|█████████████████████████████████████| 15691/15691 [30:03<00:00,  8.70it/s]\n",
      "  0%|                                                  | 0/1111 [00:00<?, ?it/s]"
     ]
    },
    {
     "name": "stdout",
     "output_type": "stream",
     "text": [
      "[train] epoch time: 1803.08s, average batch time: 0.92s\n",
      "[train] L1 : 0.0098 (best 0.0098), L1 : 0.0098 (best 0.0098)\n"
     ]
    },
    {
     "name": "stderr",
     "output_type": "stream",
     "text": [
      "100%|███████████████████████████████████████| 1111/1111 [01:45<00:00, 10.53it/s]\n",
      "  0%|                                                 | 0/15691 [00:00<?, ?it/s]"
     ]
    },
    {
     "name": "stdout",
     "output_type": "stream",
     "text": [
      "[valid] epoch time: 105.52s, average batch time: 0.76s\n",
      "[valid] L1 : 0.0159 (best 0.0132), L1 : 0.0159 (best 0.0132)\n",
      "\n",
      "2022/03/14, 10:34:41 - [Epoch 165 / lr 3.00e-04]\n"
     ]
    },
    {
     "name": "stderr",
     "output_type": "stream",
     "text": [
      "100%|█████████████████████████████████████| 15691/15691 [29:43<00:00,  8.80it/s]\n",
      "  0%|                                                  | 0/1111 [00:00<?, ?it/s]"
     ]
    },
    {
     "name": "stdout",
     "output_type": "stream",
     "text": [
      "[train] epoch time: 1783.29s, average batch time: 0.91s\n",
      "[train] L1 : 0.0097 (best 0.0097), L1 : 0.0097 (best 0.0097)\n"
     ]
    },
    {
     "name": "stderr",
     "output_type": "stream",
     "text": [
      "100%|███████████████████████████████████████| 1111/1111 [01:30<00:00, 12.24it/s]\n",
      "  0%|                                                 | 0/15691 [00:00<?, ?it/s]"
     ]
    },
    {
     "name": "stdout",
     "output_type": "stream",
     "text": [
      "[valid] epoch time: 90.75s, average batch time: 0.65s\n",
      "[valid] L1 : 0.0148 (best 0.0132), L1 : 0.0148 (best 0.0132)\n",
      "\n",
      "2022/03/14, 11:05:55 - [Epoch 166 / lr 3.00e-04]\n"
     ]
    },
    {
     "name": "stderr",
     "output_type": "stream",
     "text": [
      "100%|█████████████████████████████████████| 15691/15691 [29:18<00:00,  8.92it/s]\n",
      "  0%|                                                  | 0/1111 [00:00<?, ?it/s]"
     ]
    },
    {
     "name": "stdout",
     "output_type": "stream",
     "text": [
      "[train] epoch time: 1758.85s, average batch time: 0.90s\n",
      "[train] L1 : 0.0097 (best 0.0097), L1 : 0.0097 (best 0.0097)\n"
     ]
    },
    {
     "name": "stderr",
     "output_type": "stream",
     "text": [
      "100%|███████████████████████████████████████| 1111/1111 [01:56<00:00,  9.51it/s]\n",
      "  0%|                                                 | 0/15691 [00:00<?, ?it/s]"
     ]
    },
    {
     "name": "stdout",
     "output_type": "stream",
     "text": [
      "[valid] epoch time: 116.78s, average batch time: 0.84s\n",
      "[valid] L1 : 0.0159 (best 0.0132), L1 : 0.0159 (best 0.0132)\n",
      "\n",
      "2022/03/14, 11:37:11 - [Epoch 167 / lr 3.00e-04]\n"
     ]
    },
    {
     "name": "stderr",
     "output_type": "stream",
     "text": [
      "100%|█████████████████████████████████████| 15691/15691 [28:56<00:00,  9.04it/s]\n",
      "  0%|                                                  | 0/1111 [00:00<?, ?it/s]"
     ]
    },
    {
     "name": "stdout",
     "output_type": "stream",
     "text": [
      "[train] epoch time: 1736.57s, average batch time: 0.89s\n",
      "[train] L1 : 0.0097 (best 0.0097), L1 : 0.0097 (best 0.0097)\n"
     ]
    },
    {
     "name": "stderr",
     "output_type": "stream",
     "text": [
      "100%|███████████████████████████████████████| 1111/1111 [01:40<00:00, 11.05it/s]\n",
      "  0%|                                                 | 0/15691 [00:00<?, ?it/s]"
     ]
    },
    {
     "name": "stdout",
     "output_type": "stream",
     "text": [
      "[valid] epoch time: 100.51s, average batch time: 0.72s\n",
      "[valid] L1 : 0.0138 (best 0.0132), L1 : 0.0138 (best 0.0132)\n",
      "\n",
      "2022/03/14, 12:07:48 - [Epoch 168 / lr 3.00e-04]\n"
     ]
    },
    {
     "name": "stderr",
     "output_type": "stream",
     "text": [
      "100%|█████████████████████████████████████| 15691/15691 [29:41<00:00,  8.81it/s]\n",
      "  0%|                                                  | 0/1111 [00:00<?, ?it/s]"
     ]
    },
    {
     "name": "stdout",
     "output_type": "stream",
     "text": [
      "[train] epoch time: 1781.23s, average batch time: 0.91s\n",
      "[train] L1 : 0.0098 (best 0.0097), L1 : 0.0098 (best 0.0097)\n"
     ]
    },
    {
     "name": "stderr",
     "output_type": "stream",
     "text": [
      "100%|███████████████████████████████████████| 1111/1111 [01:40<00:00, 11.08it/s]\n",
      "  0%|                                                 | 0/15691 [00:00<?, ?it/s]"
     ]
    },
    {
     "name": "stdout",
     "output_type": "stream",
     "text": [
      "[valid] epoch time: 100.30s, average batch time: 0.72s\n",
      "[valid] L1 : 0.0140 (best 0.0132), L1 : 0.0140 (best 0.0132)\n",
      "\n",
      "2022/03/14, 12:39:10 - [Epoch 169 / lr 3.00e-04]\n"
     ]
    },
    {
     "name": "stderr",
     "output_type": "stream",
     "text": [
      "100%|█████████████████████████████████████| 15691/15691 [29:30<00:00,  8.86it/s]\n",
      "  0%|                                                  | 0/1111 [00:00<?, ?it/s]"
     ]
    },
    {
     "name": "stdout",
     "output_type": "stream",
     "text": [
      "[train] epoch time: 1770.66s, average batch time: 0.90s\n",
      "[train] L1 : 0.0095 (best 0.0095), L1 : 0.0095 (best 0.0095)\n"
     ]
    },
    {
     "name": "stderr",
     "output_type": "stream",
     "text": [
      "100%|███████████████████████████████████████| 1111/1111 [01:40<00:00, 11.03it/s]\n",
      "  0%|                                                 | 0/15691 [00:00<?, ?it/s]"
     ]
    },
    {
     "name": "stdout",
     "output_type": "stream",
     "text": [
      "[valid] epoch time: 100.73s, average batch time: 0.72s\n",
      "[valid] L1 : 0.0157 (best 0.0132), L1 : 0.0157 (best 0.0132)\n",
      "\n",
      "2022/03/14, 13:10:21 - [Epoch 170 / lr 3.00e-04]\n"
     ]
    },
    {
     "name": "stderr",
     "output_type": "stream",
     "text": [
      "100%|█████████████████████████████████████| 15691/15691 [29:00<00:00,  9.01it/s]\n",
      "  0%|                                                  | 0/1111 [00:00<?, ?it/s]"
     ]
    },
    {
     "name": "stdout",
     "output_type": "stream",
     "text": [
      "[train] epoch time: 1741.00s, average batch time: 0.89s\n",
      "[train] L1 : 0.0097 (best 0.0095), L1 : 0.0097 (best 0.0095)\n"
     ]
    },
    {
     "name": "stderr",
     "output_type": "stream",
     "text": [
      "100%|███████████████████████████████████████| 1111/1111 [01:56<00:00,  9.56it/s]\n",
      "  0%|                                                 | 0/15691 [00:00<?, ?it/s]"
     ]
    },
    {
     "name": "stdout",
     "output_type": "stream",
     "text": [
      "[valid] epoch time: 116.27s, average batch time: 0.84s\n",
      "[valid] L1 : 0.0149 (best 0.0132), L1 : 0.0149 (best 0.0132)\n",
      "\n",
      "2022/03/14, 13:41:19 - [Epoch 171 / lr 3.00e-04]\n"
     ]
    },
    {
     "name": "stderr",
     "output_type": "stream",
     "text": [
      "100%|█████████████████████████████████████| 15691/15691 [29:56<00:00,  8.74it/s]\n",
      "  0%|                                                  | 0/1111 [00:00<?, ?it/s]"
     ]
    },
    {
     "name": "stdout",
     "output_type": "stream",
     "text": [
      "[train] epoch time: 1796.19s, average batch time: 0.92s\n",
      "[train] L1 : 0.0096 (best 0.0095), L1 : 0.0096 (best 0.0095)\n"
     ]
    },
    {
     "name": "stderr",
     "output_type": "stream",
     "text": [
      "100%|███████████████████████████████████████| 1111/1111 [01:44<00:00, 10.64it/s]\n",
      "  0%|                                                 | 0/15691 [00:00<?, ?it/s]"
     ]
    },
    {
     "name": "stdout",
     "output_type": "stream",
     "text": [
      "[valid] epoch time: 104.46s, average batch time: 0.75s\n",
      "[valid] L1 : 0.0150 (best 0.0132), L1 : 0.0150 (best 0.0132)\n",
      "\n",
      "2022/03/14, 14:12:59 - [Epoch 172 / lr 3.00e-04]\n"
     ]
    },
    {
     "name": "stderr",
     "output_type": "stream",
     "text": [
      "100%|█████████████████████████████████████| 15691/15691 [29:20<00:00,  8.91it/s]\n",
      "  0%|                                                  | 0/1111 [00:00<?, ?it/s]"
     ]
    },
    {
     "name": "stdout",
     "output_type": "stream",
     "text": [
      "[train] epoch time: 1760.55s, average batch time: 0.90s\n",
      "[train] L1 : 0.0096 (best 0.0095), L1 : 0.0096 (best 0.0095)\n"
     ]
    },
    {
     "name": "stderr",
     "output_type": "stream",
     "text": [
      "100%|███████████████████████████████████████| 1111/1111 [01:55<00:00,  9.66it/s]\n",
      "  0%|                                                 | 0/15691 [00:00<?, ?it/s]"
     ]
    },
    {
     "name": "stdout",
     "output_type": "stream",
     "text": [
      "[valid] epoch time: 115.04s, average batch time: 0.83s\n",
      "[valid] L1 : 0.0136 (best 0.0132), L1 : 0.0136 (best 0.0132)\n",
      "\n",
      "2022/03/14, 14:44:15 - [Epoch 173 / lr 3.00e-04]\n"
     ]
    },
    {
     "name": "stderr",
     "output_type": "stream",
     "text": [
      "100%|█████████████████████████████████████| 15691/15691 [29:38<00:00,  8.82it/s]\n",
      "  0%|                                                  | 0/1111 [00:00<?, ?it/s]"
     ]
    },
    {
     "name": "stdout",
     "output_type": "stream",
     "text": [
      "[train] epoch time: 1778.50s, average batch time: 0.91s\n",
      "[train] L1 : 0.0096 (best 0.0095), L1 : 0.0096 (best 0.0095)\n"
     ]
    },
    {
     "name": "stderr",
     "output_type": "stream",
     "text": [
      "100%|███████████████████████████████████████| 1111/1111 [01:39<00:00, 11.11it/s]\n",
      "  0%|                                                 | 0/15691 [00:00<?, ?it/s]"
     ]
    },
    {
     "name": "stdout",
     "output_type": "stream",
     "text": [
      "[valid] epoch time: 99.97s, average batch time: 0.72s\n",
      "[valid] L1 : 0.0155 (best 0.0132), L1 : 0.0155 (best 0.0132)\n",
      "\n",
      "2022/03/14, 15:15:33 - [Epoch 174 / lr 3.00e-04]\n"
     ]
    },
    {
     "name": "stderr",
     "output_type": "stream",
     "text": [
      "100%|█████████████████████████████████████| 15691/15691 [29:38<00:00,  8.82it/s]\n",
      "  0%|                                                  | 0/1111 [00:00<?, ?it/s]"
     ]
    },
    {
     "name": "stdout",
     "output_type": "stream",
     "text": [
      "[train] epoch time: 1778.45s, average batch time: 0.91s\n",
      "[train] L1 : 0.0096 (best 0.0095), L1 : 0.0096 (best 0.0095)\n"
     ]
    },
    {
     "name": "stderr",
     "output_type": "stream",
     "text": [
      "100%|███████████████████████████████████████| 1111/1111 [01:56<00:00,  9.57it/s]\n",
      "  0%|                                                 | 0/15691 [00:00<?, ?it/s]"
     ]
    },
    {
     "name": "stdout",
     "output_type": "stream",
     "text": [
      "[valid] epoch time: 116.07s, average batch time: 0.84s\n",
      "[valid] L1 : 0.0152 (best 0.0132), L1 : 0.0152 (best 0.0132)\n",
      "\n",
      "2022/03/14, 15:47:08 - [Epoch 175 / lr 3.00e-04]\n"
     ]
    },
    {
     "name": "stderr",
     "output_type": "stream",
     "text": [
      "100%|█████████████████████████████████████| 15691/15691 [29:59<00:00,  8.72it/s]\n",
      "  0%|                                                  | 0/1111 [00:00<?, ?it/s]"
     ]
    },
    {
     "name": "stdout",
     "output_type": "stream",
     "text": [
      "[train] epoch time: 1799.20s, average batch time: 0.92s\n",
      "[train] L1 : 0.0096 (best 0.0095), L1 : 0.0096 (best 0.0095)\n"
     ]
    },
    {
     "name": "stderr",
     "output_type": "stream",
     "text": [
      "100%|███████████████████████████████████████| 1111/1111 [02:06<00:00,  8.77it/s]\n",
      "  0%|                                                 | 0/15691 [00:00<?, ?it/s]"
     ]
    },
    {
     "name": "stdout",
     "output_type": "stream",
     "text": [
      "[valid] epoch time: 126.75s, average batch time: 0.91s\n",
      "[valid] L1 : 0.0162 (best 0.0132), L1 : 0.0162 (best 0.0132)\n",
      "\n",
      "2022/03/14, 16:19:14 - [Epoch 176 / lr 3.00e-04]\n"
     ]
    },
    {
     "name": "stderr",
     "output_type": "stream",
     "text": [
      "100%|█████████████████████████████████████| 15691/15691 [29:32<00:00,  8.85it/s]\n",
      "  0%|                                                  | 0/1111 [00:00<?, ?it/s]"
     ]
    },
    {
     "name": "stdout",
     "output_type": "stream",
     "text": [
      "[train] epoch time: 1772.34s, average batch time: 0.90s\n",
      "[train] L1 : 0.0096 (best 0.0095), L1 : 0.0096 (best 0.0095)\n"
     ]
    },
    {
     "name": "stderr",
     "output_type": "stream",
     "text": [
      "100%|███████████████████████████████████████| 1111/1111 [01:38<00:00, 11.31it/s]\n",
      "  0%|                                                 | 0/15691 [00:00<?, ?it/s]"
     ]
    },
    {
     "name": "stdout",
     "output_type": "stream",
     "text": [
      "[valid] epoch time: 98.28s, average batch time: 0.71s\n",
      "[valid] L1 : 0.0146 (best 0.0132), L1 : 0.0146 (best 0.0132)\n",
      "\n",
      "2022/03/14, 16:50:25 - [Epoch 177 / lr 3.00e-04]\n"
     ]
    },
    {
     "name": "stderr",
     "output_type": "stream",
     "text": [
      "100%|█████████████████████████████████████| 15691/15691 [29:13<00:00,  8.95it/s]\n",
      "  0%|                                                  | 0/1111 [00:00<?, ?it/s]"
     ]
    },
    {
     "name": "stdout",
     "output_type": "stream",
     "text": [
      "[train] epoch time: 1753.75s, average batch time: 0.89s\n",
      "[train] L1 : 0.0095 (best 0.0095), L1 : 0.0095 (best 0.0095)\n"
     ]
    },
    {
     "name": "stderr",
     "output_type": "stream",
     "text": [
      "100%|███████████████████████████████████████| 1111/1111 [01:56<00:00,  9.51it/s]\n",
      "  0%|                                                 | 0/15691 [00:00<?, ?it/s]"
     ]
    },
    {
     "name": "stdout",
     "output_type": "stream",
     "text": [
      "[valid] epoch time: 116.87s, average batch time: 0.84s\n",
      "[valid] L1 : 0.0156 (best 0.0132), L1 : 0.0156 (best 0.0132)\n",
      "\n",
      "2022/03/14, 17:21:35 - [Epoch 178 / lr 3.00e-04]\n"
     ]
    },
    {
     "name": "stderr",
     "output_type": "stream",
     "text": [
      "100%|█████████████████████████████████████| 15691/15691 [29:07<00:00,  8.98it/s]\n",
      "  0%|                                                  | 0/1111 [00:00<?, ?it/s]"
     ]
    },
    {
     "name": "stdout",
     "output_type": "stream",
     "text": [
      "[train] epoch time: 1747.67s, average batch time: 0.89s\n",
      "[train] L1 : 0.0095 (best 0.0095), L1 : 0.0095 (best 0.0095)\n"
     ]
    },
    {
     "name": "stderr",
     "output_type": "stream",
     "text": [
      "100%|███████████████████████████████████████| 1111/1111 [01:41<00:00, 10.93it/s]\n",
      "  0%|                                                 | 0/15691 [00:00<?, ?it/s]"
     ]
    },
    {
     "name": "stdout",
     "output_type": "stream",
     "text": [
      "[valid] epoch time: 101.66s, average batch time: 0.73s\n",
      "[valid] L1 : 0.0187 (best 0.0132), L1 : 0.0187 (best 0.0132)\n",
      "\n",
      "2022/03/14, 17:52:25 - [Epoch 179 / lr 3.00e-04]\n"
     ]
    },
    {
     "name": "stderr",
     "output_type": "stream",
     "text": [
      "100%|█████████████████████████████████████| 15691/15691 [29:35<00:00,  8.84it/s]\n",
      "  0%|                                                  | 0/1111 [00:00<?, ?it/s]"
     ]
    },
    {
     "name": "stdout",
     "output_type": "stream",
     "text": [
      "[train] epoch time: 1775.64s, average batch time: 0.91s\n",
      "[train] L1 : 0.0095 (best 0.0095), L1 : 0.0095 (best 0.0095)\n"
     ]
    },
    {
     "name": "stderr",
     "output_type": "stream",
     "text": [
      "100%|███████████████████████████████████████| 1111/1111 [01:57<00:00,  9.43it/s]\n",
      "  0%|                                                 | 0/15691 [00:00<?, ?it/s]"
     ]
    },
    {
     "name": "stdout",
     "output_type": "stream",
     "text": [
      "[valid] epoch time: 117.84s, average batch time: 0.85s\n",
      "[valid] L1 : 0.0162 (best 0.0132), L1 : 0.0162 (best 0.0132)\n",
      "\n",
      "2022/03/14, 18:23:58 - [Epoch 180 / lr 3.00e-04]\n"
     ]
    },
    {
     "name": "stderr",
     "output_type": "stream",
     "text": [
      "100%|█████████████████████████████████████| 15691/15691 [28:46<00:00,  9.09it/s]\n",
      "  0%|                                                  | 0/1111 [00:00<?, ?it/s]"
     ]
    },
    {
     "name": "stdout",
     "output_type": "stream",
     "text": [
      "[train] epoch time: 1726.95s, average batch time: 0.88s\n",
      "[train] L1 : 0.0094 (best 0.0094), L1 : 0.0094 (best 0.0094)\n"
     ]
    },
    {
     "name": "stderr",
     "output_type": "stream",
     "text": [
      "100%|███████████████████████████████████████| 1111/1111 [01:51<00:00,  9.98it/s]\n",
      "  0%|                                                 | 0/15691 [00:00<?, ?it/s]"
     ]
    },
    {
     "name": "stdout",
     "output_type": "stream",
     "text": [
      "[valid] epoch time: 111.37s, average batch time: 0.80s\n",
      "[valid] L1 : 0.0163 (best 0.0132), L1 : 0.0163 (best 0.0132)\n",
      "\n",
      "2022/03/14, 18:54:37 - [Epoch 181 / lr 3.00e-04]\n"
     ]
    },
    {
     "name": "stderr",
     "output_type": "stream",
     "text": [
      "100%|█████████████████████████████████████| 15691/15691 [29:43<00:00,  8.80it/s]\n",
      "  0%|                                                  | 0/1111 [00:00<?, ?it/s]"
     ]
    },
    {
     "name": "stdout",
     "output_type": "stream",
     "text": [
      "[train] epoch time: 1783.50s, average batch time: 0.91s\n",
      "[train] L1 : 0.0095 (best 0.0094), L1 : 0.0095 (best 0.0094)\n"
     ]
    },
    {
     "name": "stderr",
     "output_type": "stream",
     "text": [
      "100%|███████████████████████████████████████| 1111/1111 [01:45<00:00, 10.57it/s]\n",
      "  0%|                                                 | 0/15691 [00:00<?, ?it/s]"
     ]
    },
    {
     "name": "stdout",
     "output_type": "stream",
     "text": [
      "[valid] epoch time: 105.13s, average batch time: 0.76s\n",
      "[valid] L1 : 0.0154 (best 0.0132), L1 : 0.0154 (best 0.0132)\n",
      "\n",
      "2022/03/14, 19:26:05 - [Epoch 182 / lr 3.00e-04]\n"
     ]
    },
    {
     "name": "stderr",
     "output_type": "stream",
     "text": [
      "100%|█████████████████████████████████████| 15691/15691 [34:00<00:00,  7.69it/s]\n",
      "  0%|                                                  | 0/1111 [00:00<?, ?it/s]"
     ]
    },
    {
     "name": "stdout",
     "output_type": "stream",
     "text": [
      "[train] epoch time: 2040.75s, average batch time: 1.04s\n",
      "[train] L1 : 0.0094 (best 0.0094), L1 : 0.0094 (best 0.0094)\n"
     ]
    },
    {
     "name": "stderr",
     "output_type": "stream",
     "text": [
      "100%|███████████████████████████████████████| 1111/1111 [02:21<00:00,  7.83it/s]\n",
      "  0%|                                                 | 0/15691 [00:00<?, ?it/s]"
     ]
    },
    {
     "name": "stdout",
     "output_type": "stream",
     "text": [
      "[valid] epoch time: 141.96s, average batch time: 1.02s\n",
      "[valid] L1 : 0.0172 (best 0.0132), L1 : 0.0172 (best 0.0132)\n",
      "\n",
      "2022/03/14, 20:02:28 - [Epoch 183 / lr 3.00e-04]\n"
     ]
    },
    {
     "name": "stderr",
     "output_type": "stream",
     "text": [
      "100%|█████████████████████████████████████| 15691/15691 [31:07<00:00,  8.40it/s]\n",
      "  0%|                                                  | 0/1111 [00:00<?, ?it/s]"
     ]
    },
    {
     "name": "stdout",
     "output_type": "stream",
     "text": [
      "[train] epoch time: 1867.62s, average batch time: 0.95s\n",
      "[train] L1 : 0.0094 (best 0.0094), L1 : 0.0094 (best 0.0094)\n"
     ]
    },
    {
     "name": "stderr",
     "output_type": "stream",
     "text": [
      "100%|███████████████████████████████████████| 1111/1111 [01:57<00:00,  9.44it/s]\n",
      "  0%|                                                 | 0/15691 [00:00<?, ?it/s]"
     ]
    },
    {
     "name": "stdout",
     "output_type": "stream",
     "text": [
      "[valid] epoch time: 117.69s, average batch time: 0.85s\n",
      "[valid] L1 : 0.0131 (best 0.0131), L1 : 0.0131 (best 0.0131)\n",
      "\n",
      "2022/03/14, 20:35:34 - [Epoch 184 / lr 3.00e-04]\n"
     ]
    },
    {
     "name": "stderr",
     "output_type": "stream",
     "text": [
      "100%|█████████████████████████████████████| 15691/15691 [29:22<00:00,  8.90it/s]\n",
      "  0%|                                                  | 0/1111 [00:00<?, ?it/s]"
     ]
    },
    {
     "name": "stdout",
     "output_type": "stream",
     "text": [
      "[train] epoch time: 1762.22s, average batch time: 0.90s\n",
      "[train] L1 : 0.0094 (best 0.0094), L1 : 0.0094 (best 0.0094)\n"
     ]
    },
    {
     "name": "stderr",
     "output_type": "stream",
     "text": [
      "100%|███████████████████████████████████████| 1111/1111 [01:53<00:00,  9.80it/s]\n",
      "  0%|                                                 | 0/15691 [00:00<?, ?it/s]"
     ]
    },
    {
     "name": "stdout",
     "output_type": "stream",
     "text": [
      "[valid] epoch time: 113.39s, average batch time: 0.82s\n",
      "[valid] L1 : 0.0145 (best 0.0131), L1 : 0.0145 (best 0.0131)\n",
      "\n",
      "2022/03/14, 21:06:49 - [Epoch 185 / lr 3.00e-04]\n"
     ]
    },
    {
     "name": "stderr",
     "output_type": "stream",
     "text": [
      "100%|█████████████████████████████████████| 15691/15691 [29:00<00:00,  9.02it/s]\n",
      "  0%|                                                  | 0/1111 [00:00<?, ?it/s]"
     ]
    },
    {
     "name": "stdout",
     "output_type": "stream",
     "text": [
      "[train] epoch time: 1740.12s, average batch time: 0.89s\n",
      "[train] L1 : 0.0094 (best 0.0094), L1 : 0.0094 (best 0.0094)\n"
     ]
    },
    {
     "name": "stderr",
     "output_type": "stream",
     "text": [
      "100%|███████████████████████████████████████| 1111/1111 [01:56<00:00,  9.53it/s]\n",
      "  0%|                                                 | 0/15691 [00:00<?, ?it/s]"
     ]
    },
    {
     "name": "stdout",
     "output_type": "stream",
     "text": [
      "[valid] epoch time: 116.62s, average batch time: 0.84s\n",
      "[valid] L1 : 0.0142 (best 0.0131), L1 : 0.0142 (best 0.0131)\n",
      "\n",
      "2022/03/14, 21:37:46 - [Epoch 186 / lr 3.00e-04]\n"
     ]
    },
    {
     "name": "stderr",
     "output_type": "stream",
     "text": [
      "100%|█████████████████████████████████████| 15691/15691 [29:27<00:00,  8.88it/s]\n",
      "  0%|                                                  | 0/1111 [00:00<?, ?it/s]"
     ]
    },
    {
     "name": "stdout",
     "output_type": "stream",
     "text": [
      "[train] epoch time: 1767.04s, average batch time: 0.90s\n",
      "[train] L1 : 0.0094 (best 0.0094), L1 : 0.0094 (best 0.0094)\n"
     ]
    },
    {
     "name": "stderr",
     "output_type": "stream",
     "text": [
      "100%|███████████████████████████████████████| 1111/1111 [01:23<00:00, 13.35it/s]\n",
      "  0%|                                                 | 0/15691 [00:00<?, ?it/s]"
     ]
    },
    {
     "name": "stdout",
     "output_type": "stream",
     "text": [
      "[valid] epoch time: 83.25s, average batch time: 0.60s\n",
      "[valid] L1 : 0.0137 (best 0.0131), L1 : 0.0137 (best 0.0131)\n",
      "\n",
      "2022/03/14, 22:08:36 - [Epoch 187 / lr 3.00e-04]\n"
     ]
    },
    {
     "name": "stderr",
     "output_type": "stream",
     "text": [
      "100%|█████████████████████████████████████| 15691/15691 [29:09<00:00,  8.97it/s]\n",
      "  0%|                                                  | 0/1111 [00:00<?, ?it/s]"
     ]
    },
    {
     "name": "stdout",
     "output_type": "stream",
     "text": [
      "[train] epoch time: 1749.89s, average batch time: 0.89s\n",
      "[train] L1 : 0.0093 (best 0.0093), L1 : 0.0093 (best 0.0093)\n"
     ]
    },
    {
     "name": "stderr",
     "output_type": "stream",
     "text": [
      "100%|███████████████████████████████████████| 1111/1111 [01:55<00:00,  9.58it/s]\n",
      "  0%|                                                 | 0/15691 [00:00<?, ?it/s]"
     ]
    },
    {
     "name": "stdout",
     "output_type": "stream",
     "text": [
      "[valid] epoch time: 115.96s, average batch time: 0.83s\n",
      "[valid] L1 : 0.0150 (best 0.0131), L1 : 0.0150 (best 0.0131)\n",
      "\n",
      "2022/03/14, 22:39:42 - [Epoch 188 / lr 3.00e-04]\n"
     ]
    },
    {
     "name": "stderr",
     "output_type": "stream",
     "text": [
      "100%|█████████████████████████████████████| 15691/15691 [29:24<00:00,  8.89it/s]\n",
      "  0%|                                                  | 0/1111 [00:00<?, ?it/s]"
     ]
    },
    {
     "name": "stdout",
     "output_type": "stream",
     "text": [
      "[train] epoch time: 1764.14s, average batch time: 0.90s\n",
      "[train] L1 : 0.0093 (best 0.0093), L1 : 0.0093 (best 0.0093)\n"
     ]
    },
    {
     "name": "stderr",
     "output_type": "stream",
     "text": [
      "100%|███████████████████████████████████████| 1111/1111 [01:41<00:00, 10.94it/s]\n",
      "  0%|                                                 | 0/15691 [00:00<?, ?it/s]"
     ]
    },
    {
     "name": "stdout",
     "output_type": "stream",
     "text": [
      "[valid] epoch time: 101.51s, average batch time: 0.73s\n",
      "[valid] L1 : 0.0144 (best 0.0131), L1 : 0.0144 (best 0.0131)\n",
      "\n",
      "2022/03/14, 23:10:48 - [Epoch 189 / lr 3.00e-04]\n"
     ]
    },
    {
     "name": "stderr",
     "output_type": "stream",
     "text": [
      "100%|█████████████████████████████████████| 15691/15691 [29:36<00:00,  8.83it/s]\n",
      "  0%|                                                  | 0/1111 [00:00<?, ?it/s]"
     ]
    },
    {
     "name": "stdout",
     "output_type": "stream",
     "text": [
      "[train] epoch time: 1776.75s, average batch time: 0.91s\n",
      "[train] L1 : 0.0093 (best 0.0093), L1 : 0.0093 (best 0.0093)\n"
     ]
    },
    {
     "name": "stderr",
     "output_type": "stream",
     "text": [
      "100%|███████████████████████████████████████| 1111/1111 [01:22<00:00, 13.50it/s]\n",
      "  0%|                                                 | 0/15691 [00:00<?, ?it/s]"
     ]
    },
    {
     "name": "stdout",
     "output_type": "stream",
     "text": [
      "[valid] epoch time: 82.30s, average batch time: 0.59s\n",
      "[valid] L1 : 0.0156 (best 0.0131), L1 : 0.0156 (best 0.0131)\n",
      "\n",
      "2022/03/14, 23:41:47 - [Epoch 190 / lr 3.00e-04]\n"
     ]
    },
    {
     "name": "stderr",
     "output_type": "stream",
     "text": [
      "100%|█████████████████████████████████████| 15691/15691 [29:06<00:00,  8.98it/s]\n",
      "  0%|                                                  | 0/1111 [00:00<?, ?it/s]"
     ]
    },
    {
     "name": "stdout",
     "output_type": "stream",
     "text": [
      "[train] epoch time: 1746.85s, average batch time: 0.89s\n",
      "[train] L1 : 0.0092 (best 0.0092), L1 : 0.0092 (best 0.0092)\n"
     ]
    },
    {
     "name": "stderr",
     "output_type": "stream",
     "text": [
      "100%|███████████████████████████████████████| 1111/1111 [01:58<00:00,  9.36it/s]\n",
      "  0%|                                                 | 0/15691 [00:00<?, ?it/s]"
     ]
    },
    {
     "name": "stdout",
     "output_type": "stream",
     "text": [
      "[valid] epoch time: 118.68s, average batch time: 0.85s\n",
      "[valid] L1 : 0.0147 (best 0.0131), L1 : 0.0147 (best 0.0131)\n",
      "\n",
      "2022/03/15, 00:12:53 - [Epoch 191 / lr 3.00e-04]\n"
     ]
    },
    {
     "name": "stderr",
     "output_type": "stream",
     "text": [
      "100%|█████████████████████████████████████| 15691/15691 [29:12<00:00,  8.95it/s]\n",
      "  0%|                                                  | 0/1111 [00:00<?, ?it/s]"
     ]
    },
    {
     "name": "stdout",
     "output_type": "stream",
     "text": [
      "[train] epoch time: 1752.98s, average batch time: 0.89s\n",
      "[train] L1 : 0.0093 (best 0.0092), L1 : 0.0093 (best 0.0092)\n"
     ]
    },
    {
     "name": "stderr",
     "output_type": "stream",
     "text": [
      "100%|███████████████████████████████████████| 1111/1111 [01:42<00:00, 10.87it/s]\n",
      "  0%|                                                 | 0/15691 [00:00<?, ?it/s]"
     ]
    },
    {
     "name": "stdout",
     "output_type": "stream",
     "text": [
      "[valid] epoch time: 102.19s, average batch time: 0.74s\n",
      "[valid] L1 : 0.0146 (best 0.0131), L1 : 0.0146 (best 0.0131)\n",
      "\n",
      "2022/03/15, 00:43:48 - [Epoch 192 / lr 3.00e-04]\n"
     ]
    },
    {
     "name": "stderr",
     "output_type": "stream",
     "text": [
      "100%|█████████████████████████████████████| 15691/15691 [29:12<00:00,  8.96it/s]\n",
      "  0%|                                                  | 0/1111 [00:00<?, ?it/s]"
     ]
    },
    {
     "name": "stdout",
     "output_type": "stream",
     "text": [
      "[train] epoch time: 1752.08s, average batch time: 0.89s\n",
      "[train] L1 : 0.0093 (best 0.0092), L1 : 0.0093 (best 0.0092)\n"
     ]
    },
    {
     "name": "stderr",
     "output_type": "stream",
     "text": [
      "100%|███████████████████████████████████████| 1111/1111 [02:16<00:00,  8.16it/s]\n",
      "  0%|                                                 | 0/15691 [00:00<?, ?it/s]"
     ]
    },
    {
     "name": "stdout",
     "output_type": "stream",
     "text": [
      "[valid] epoch time: 136.09s, average batch time: 0.98s\n",
      "[valid] L1 : 0.0159 (best 0.0131), L1 : 0.0159 (best 0.0131)\n",
      "\n",
      "2022/03/15, 01:15:16 - [Epoch 193 / lr 3.00e-04]\n"
     ]
    },
    {
     "name": "stderr",
     "output_type": "stream",
     "text": [
      "100%|█████████████████████████████████████| 15691/15691 [29:14<00:00,  8.94it/s]\n",
      "  0%|                                                  | 0/1111 [00:00<?, ?it/s]"
     ]
    },
    {
     "name": "stdout",
     "output_type": "stream",
     "text": [
      "[train] epoch time: 1754.62s, average batch time: 0.89s\n",
      "[train] L1 : 0.0094 (best 0.0092), L1 : 0.0094 (best 0.0092)\n"
     ]
    },
    {
     "name": "stderr",
     "output_type": "stream",
     "text": [
      "100%|███████████████████████████████████████| 1111/1111 [01:54<00:00,  9.66it/s]\n",
      "  0%|                                                 | 0/15691 [00:00<?, ?it/s]"
     ]
    },
    {
     "name": "stdout",
     "output_type": "stream",
     "text": [
      "[valid] epoch time: 114.96s, average batch time: 0.83s\n",
      "[valid] L1 : 0.0159 (best 0.0131), L1 : 0.0159 (best 0.0131)\n",
      "\n",
      "2022/03/15, 01:46:26 - [Epoch 194 / lr 3.00e-04]\n"
     ]
    },
    {
     "name": "stderr",
     "output_type": "stream",
     "text": [
      "100%|█████████████████████████████████████| 15691/15691 [29:29<00:00,  8.87it/s]\n",
      "  0%|                                                  | 0/1111 [00:00<?, ?it/s]"
     ]
    },
    {
     "name": "stdout",
     "output_type": "stream",
     "text": [
      "[train] epoch time: 1769.37s, average batch time: 0.90s\n",
      "[train] L1 : 0.0093 (best 0.0092), L1 : 0.0093 (best 0.0092)\n"
     ]
    },
    {
     "name": "stderr",
     "output_type": "stream",
     "text": [
      "100%|███████████████████████████████████████| 1111/1111 [01:29<00:00, 12.44it/s]\n",
      "  0%|                                                 | 0/15691 [00:00<?, ?it/s]"
     ]
    },
    {
     "name": "stdout",
     "output_type": "stream",
     "text": [
      "[valid] epoch time: 89.32s, average batch time: 0.64s\n",
      "[valid] L1 : 0.0158 (best 0.0131), L1 : 0.0158 (best 0.0131)\n",
      "\n",
      "2022/03/15, 02:17:25 - [Epoch 195 / lr 3.00e-04]\n"
     ]
    },
    {
     "name": "stderr",
     "output_type": "stream",
     "text": [
      "100%|█████████████████████████████████████| 15691/15691 [29:28<00:00,  8.87it/s]\n",
      "  0%|                                                  | 0/1111 [00:00<?, ?it/s]"
     ]
    },
    {
     "name": "stdout",
     "output_type": "stream",
     "text": [
      "[train] epoch time: 1768.99s, average batch time: 0.90s\n",
      "[train] L1 : 0.0092 (best 0.0092), L1 : 0.0092 (best 0.0092)\n"
     ]
    },
    {
     "name": "stderr",
     "output_type": "stream",
     "text": [
      "100%|███████████████████████████████████████| 1111/1111 [02:09<00:00,  8.59it/s]\n",
      "  0%|                                                 | 0/15691 [00:00<?, ?it/s]"
     ]
    },
    {
     "name": "stdout",
     "output_type": "stream",
     "text": [
      "[valid] epoch time: 129.31s, average batch time: 0.93s\n",
      "[valid] L1 : 0.0138 (best 0.0131), L1 : 0.0138 (best 0.0131)\n",
      "\n",
      "2022/03/15, 02:49:03 - [Epoch 196 / lr 3.00e-04]\n"
     ]
    },
    {
     "name": "stderr",
     "output_type": "stream",
     "text": [
      "100%|█████████████████████████████████████| 15691/15691 [29:37<00:00,  8.83it/s]\n",
      "  0%|                                                  | 0/1111 [00:00<?, ?it/s]"
     ]
    },
    {
     "name": "stdout",
     "output_type": "stream",
     "text": [
      "[train] epoch time: 1777.07s, average batch time: 0.91s\n",
      "[train] L1 : 0.0092 (best 0.0092), L1 : 0.0092 (best 0.0092)\n"
     ]
    },
    {
     "name": "stderr",
     "output_type": "stream",
     "text": [
      "100%|███████████████████████████████████████| 1111/1111 [02:06<00:00,  8.81it/s]\n",
      "  0%|                                                 | 0/15691 [00:00<?, ?it/s]"
     ]
    },
    {
     "name": "stdout",
     "output_type": "stream",
     "text": [
      "[valid] epoch time: 126.08s, average batch time: 0.91s\n",
      "[valid] L1 : 0.0138 (best 0.0131), L1 : 0.0138 (best 0.0131)\n",
      "\n",
      "2022/03/15, 03:20:46 - [Epoch 197 / lr 3.00e-04]\n"
     ]
    },
    {
     "name": "stderr",
     "output_type": "stream",
     "text": [
      "100%|█████████████████████████████████████| 15691/15691 [29:21<00:00,  8.91it/s]\n",
      "  0%|                                                  | 0/1111 [00:00<?, ?it/s]"
     ]
    },
    {
     "name": "stdout",
     "output_type": "stream",
     "text": [
      "[train] epoch time: 1761.81s, average batch time: 0.90s\n",
      "[train] L1 : 0.0093 (best 0.0092), L1 : 0.0093 (best 0.0092)\n"
     ]
    },
    {
     "name": "stderr",
     "output_type": "stream",
     "text": [
      "100%|███████████████████████████████████████| 1111/1111 [02:07<00:00,  8.69it/s]\n",
      "  0%|                                                 | 0/15691 [00:00<?, ?it/s]"
     ]
    },
    {
     "name": "stdout",
     "output_type": "stream",
     "text": [
      "[valid] epoch time: 127.87s, average batch time: 0.92s\n",
      "[valid] L1 : 0.0140 (best 0.0131), L1 : 0.0140 (best 0.0131)\n",
      "\n",
      "2022/03/15, 03:52:16 - [Epoch 198 / lr 3.00e-04]\n"
     ]
    },
    {
     "name": "stderr",
     "output_type": "stream",
     "text": [
      "100%|█████████████████████████████████████| 15691/15691 [29:31<00:00,  8.86it/s]\n",
      "  0%|                                                  | 0/1111 [00:00<?, ?it/s]"
     ]
    },
    {
     "name": "stdout",
     "output_type": "stream",
     "text": [
      "[train] epoch time: 1771.92s, average batch time: 0.90s\n",
      "[train] L1 : 0.0092 (best 0.0092), L1 : 0.0092 (best 0.0092)\n"
     ]
    },
    {
     "name": "stderr",
     "output_type": "stream",
     "text": [
      "100%|███████████████████████████████████████| 1111/1111 [01:28<00:00, 12.55it/s]\n",
      "  0%|                                                 | 0/15691 [00:00<?, ?it/s]"
     ]
    },
    {
     "name": "stdout",
     "output_type": "stream",
     "text": [
      "[valid] epoch time: 88.49s, average batch time: 0.64s\n",
      "[valid] L1 : 0.0149 (best 0.0131), L1 : 0.0149 (best 0.0131)\n",
      "\n",
      "2022/03/15, 04:23:16 - [Epoch 199 / lr 3.00e-04]\n"
     ]
    },
    {
     "name": "stderr",
     "output_type": "stream",
     "text": [
      "100%|█████████████████████████████████████| 15691/15691 [29:14<00:00,  8.94it/s]\n",
      "  0%|                                                  | 0/1111 [00:00<?, ?it/s]"
     ]
    },
    {
     "name": "stdout",
     "output_type": "stream",
     "text": [
      "[train] epoch time: 1754.74s, average batch time: 0.89s\n",
      "[train] L1 : 0.0093 (best 0.0092), L1 : 0.0093 (best 0.0092)\n"
     ]
    },
    {
     "name": "stderr",
     "output_type": "stream",
     "text": [
      "100%|███████████████████████████████████████| 1111/1111 [01:40<00:00, 11.03it/s]\n",
      "  0%|                                                 | 0/15691 [00:00<?, ?it/s]"
     ]
    },
    {
     "name": "stdout",
     "output_type": "stream",
     "text": [
      "[valid] epoch time: 100.72s, average batch time: 0.72s\n",
      "[valid] L1 : 0.0148 (best 0.0131), L1 : 0.0148 (best 0.0131)\n",
      "\n",
      "2022/03/15, 04:54:12 - [Epoch 200 / lr 1.50e-04]\n"
     ]
    },
    {
     "name": "stderr",
     "output_type": "stream",
     "text": [
      "100%|█████████████████████████████████████| 15691/15691 [29:57<00:00,  8.73it/s]\n",
      "  0%|                                                  | 0/1111 [00:00<?, ?it/s]"
     ]
    },
    {
     "name": "stdout",
     "output_type": "stream",
     "text": [
      "[train] epoch time: 1797.55s, average batch time: 0.92s\n",
      "[train] L1 : 0.0085 (best 0.0085), L1 : 0.0085 (best 0.0085)\n"
     ]
    },
    {
     "name": "stderr",
     "output_type": "stream",
     "text": [
      "100%|███████████████████████████████████████| 1111/1111 [01:55<00:00,  9.59it/s]\n",
      "  0%|                                                 | 0/15691 [00:00<?, ?it/s]"
     ]
    },
    {
     "name": "stdout",
     "output_type": "stream",
     "text": [
      "[valid] epoch time: 115.89s, average batch time: 0.83s\n",
      "[valid] L1 : 0.0139 (best 0.0131), L1 : 0.0139 (best 0.0131)\n",
      "\n",
      "2022/03/15, 05:26:06 - [Epoch 201 / lr 1.50e-04]\n"
     ]
    },
    {
     "name": "stderr",
     "output_type": "stream",
     "text": [
      "100%|█████████████████████████████████████| 15691/15691 [30:19<00:00,  8.63it/s]\n",
      "  0%|                                                  | 0/1111 [00:00<?, ?it/s]"
     ]
    },
    {
     "name": "stdout",
     "output_type": "stream",
     "text": [
      "[train] epoch time: 1819.19s, average batch time: 0.93s\n",
      "[train] L1 : 0.0085 (best 0.0085), L1 : 0.0085 (best 0.0085)\n"
     ]
    },
    {
     "name": "stderr",
     "output_type": "stream",
     "text": [
      "100%|███████████████████████████████████████| 1111/1111 [01:40<00:00, 11.10it/s]\n",
      "  0%|                                                 | 0/15691 [00:00<?, ?it/s]"
     ]
    },
    {
     "name": "stdout",
     "output_type": "stream",
     "text": [
      "[valid] epoch time: 100.13s, average batch time: 0.72s\n",
      "[valid] L1 : 0.0143 (best 0.0131), L1 : 0.0143 (best 0.0131)\n",
      "\n",
      "2022/03/15, 05:58:05 - [Epoch 202 / lr 1.50e-04]\n"
     ]
    },
    {
     "name": "stderr",
     "output_type": "stream",
     "text": [
      "100%|█████████████████████████████████████| 15691/15691 [29:37<00:00,  8.83it/s]\n",
      "  0%|                                                  | 0/1111 [00:00<?, ?it/s]"
     ]
    },
    {
     "name": "stdout",
     "output_type": "stream",
     "text": [
      "[train] epoch time: 1777.76s, average batch time: 0.91s\n",
      "[train] L1 : 0.0085 (best 0.0085), L1 : 0.0085 (best 0.0085)\n"
     ]
    },
    {
     "name": "stderr",
     "output_type": "stream",
     "text": [
      "100%|███████████████████████████████████████| 1111/1111 [01:33<00:00, 11.88it/s]\n",
      "  0%|                                                 | 0/15691 [00:00<?, ?it/s]"
     ]
    },
    {
     "name": "stdout",
     "output_type": "stream",
     "text": [
      "[valid] epoch time: 93.49s, average batch time: 0.67s\n",
      "[valid] L1 : 0.0138 (best 0.0131), L1 : 0.0138 (best 0.0131)\n",
      "\n",
      "2022/03/15, 06:29:16 - [Epoch 203 / lr 1.50e-04]\n"
     ]
    },
    {
     "name": "stderr",
     "output_type": "stream",
     "text": [
      "100%|█████████████████████████████████████| 15691/15691 [31:18<00:00,  8.35it/s]\n",
      "  0%|                                                  | 0/1111 [00:00<?, ?it/s]"
     ]
    },
    {
     "name": "stdout",
     "output_type": "stream",
     "text": [
      "[train] epoch time: 1878.26s, average batch time: 0.96s\n",
      "[train] L1 : 0.0084 (best 0.0084), L1 : 0.0084 (best 0.0084)\n"
     ]
    },
    {
     "name": "stderr",
     "output_type": "stream",
     "text": [
      "100%|███████████████████████████████████████| 1111/1111 [02:23<00:00,  7.74it/s]\n",
      "  0%|                                                 | 0/15691 [00:00<?, ?it/s]"
     ]
    },
    {
     "name": "stdout",
     "output_type": "stream",
     "text": [
      "[valid] epoch time: 143.56s, average batch time: 1.03s\n",
      "[valid] L1 : 0.0145 (best 0.0131), L1 : 0.0145 (best 0.0131)\n",
      "\n",
      "2022/03/15, 07:02:58 - [Epoch 204 / lr 1.50e-04]\n"
     ]
    },
    {
     "name": "stderr",
     "output_type": "stream",
     "text": [
      "100%|█████████████████████████████████████| 15691/15691 [35:35<00:00,  7.35it/s]\n",
      "  0%|                                                  | 0/1111 [00:00<?, ?it/s]"
     ]
    },
    {
     "name": "stdout",
     "output_type": "stream",
     "text": [
      "[train] epoch time: 2135.16s, average batch time: 1.09s\n",
      "[train] L1 : 0.0085 (best 0.0084), L1 : 0.0085 (best 0.0084)\n"
     ]
    },
    {
     "name": "stderr",
     "output_type": "stream",
     "text": [
      "100%|███████████████████████████████████████| 1111/1111 [01:52<00:00,  9.87it/s]\n",
      "  0%|                                                 | 0/15691 [00:00<?, ?it/s]"
     ]
    },
    {
     "name": "stdout",
     "output_type": "stream",
     "text": [
      "[valid] epoch time: 112.57s, average batch time: 0.81s\n",
      "[valid] L1 : 0.0136 (best 0.0131), L1 : 0.0136 (best 0.0131)\n",
      "\n",
      "2022/03/15, 07:40:26 - [Epoch 205 / lr 1.50e-04]\n"
     ]
    },
    {
     "name": "stderr",
     "output_type": "stream",
     "text": [
      "100%|█████████████████████████████████████| 15691/15691 [29:38<00:00,  8.82it/s]\n",
      "  0%|                                                  | 0/1111 [00:00<?, ?it/s]"
     ]
    },
    {
     "name": "stdout",
     "output_type": "stream",
     "text": [
      "[train] epoch time: 1778.87s, average batch time: 0.91s\n",
      "[train] L1 : 0.0083 (best 0.0083), L1 : 0.0083 (best 0.0083)\n"
     ]
    },
    {
     "name": "stderr",
     "output_type": "stream",
     "text": [
      "100%|███████████████████████████████████████| 1111/1111 [01:34<00:00, 11.71it/s]\n",
      "  0%|                                                 | 0/15691 [00:00<?, ?it/s]"
     ]
    },
    {
     "name": "stdout",
     "output_type": "stream",
     "text": [
      "[valid] epoch time: 94.91s, average batch time: 0.68s\n",
      "[valid] L1 : 0.0138 (best 0.0131), L1 : 0.0138 (best 0.0131)\n",
      "\n",
      "2022/03/15, 08:11:40 - [Epoch 206 / lr 1.50e-04]\n"
     ]
    },
    {
     "name": "stderr",
     "output_type": "stream",
     "text": [
      "100%|█████████████████████████████████████| 15691/15691 [29:03<00:00,  9.00it/s]\n",
      "  0%|                                                  | 0/1111 [00:00<?, ?it/s]"
     ]
    },
    {
     "name": "stdout",
     "output_type": "stream",
     "text": [
      "[train] epoch time: 1743.35s, average batch time: 0.89s\n",
      "[train] L1 : 0.0083 (best 0.0083), L1 : 0.0083 (best 0.0083)\n"
     ]
    },
    {
     "name": "stderr",
     "output_type": "stream",
     "text": [
      "100%|███████████████████████████████████████| 1111/1111 [01:38<00:00, 11.33it/s]\n",
      "  0%|                                                 | 0/15691 [00:00<?, ?it/s]"
     ]
    },
    {
     "name": "stdout",
     "output_type": "stream",
     "text": [
      "[valid] epoch time: 98.05s, average batch time: 0.71s\n",
      "[valid] L1 : 0.0139 (best 0.0131), L1 : 0.0139 (best 0.0131)\n",
      "\n",
      "2022/03/15, 08:42:21 - [Epoch 207 / lr 1.50e-04]\n"
     ]
    },
    {
     "name": "stderr",
     "output_type": "stream",
     "text": [
      "100%|█████████████████████████████████████| 15691/15691 [29:18<00:00,  8.92it/s]\n",
      "  0%|                                                  | 0/1111 [00:00<?, ?it/s]"
     ]
    },
    {
     "name": "stdout",
     "output_type": "stream",
     "text": [
      "[train] epoch time: 1758.96s, average batch time: 0.90s\n",
      "[train] L1 : 0.0083 (best 0.0083), L1 : 0.0083 (best 0.0083)\n"
     ]
    },
    {
     "name": "stderr",
     "output_type": "stream",
     "text": [
      "100%|███████████████████████████████████████| 1111/1111 [01:57<00:00,  9.49it/s]\n",
      "  0%|                                                 | 0/15691 [00:00<?, ?it/s]"
     ]
    },
    {
     "name": "stdout",
     "output_type": "stream",
     "text": [
      "[valid] epoch time: 117.04s, average batch time: 0.84s\n",
      "[valid] L1 : 0.0138 (best 0.0131), L1 : 0.0138 (best 0.0131)\n",
      "\n",
      "2022/03/15, 09:13:37 - [Epoch 208 / lr 1.50e-04]\n"
     ]
    },
    {
     "name": "stderr",
     "output_type": "stream",
     "text": [
      "100%|█████████████████████████████████████| 15691/15691 [28:30<00:00,  9.18it/s]\n",
      "  0%|                                                  | 0/1111 [00:00<?, ?it/s]"
     ]
    },
    {
     "name": "stdout",
     "output_type": "stream",
     "text": [
      "[train] epoch time: 1710.16s, average batch time: 0.87s\n",
      "[train] L1 : 0.0084 (best 0.0083), L1 : 0.0084 (best 0.0083)\n"
     ]
    },
    {
     "name": "stderr",
     "output_type": "stream",
     "text": [
      "100%|███████████████████████████████████████| 1111/1111 [02:01<00:00,  9.18it/s]\n",
      "  0%|                                                 | 0/15691 [00:00<?, ?it/s]"
     ]
    },
    {
     "name": "stdout",
     "output_type": "stream",
     "text": [
      "[valid] epoch time: 121.06s, average batch time: 0.87s\n",
      "[valid] L1 : 0.0139 (best 0.0131), L1 : 0.0139 (best 0.0131)\n",
      "\n",
      "2022/03/15, 09:44:09 - [Epoch 209 / lr 1.50e-04]\n"
     ]
    },
    {
     "name": "stderr",
     "output_type": "stream",
     "text": [
      "100%|█████████████████████████████████████| 15691/15691 [28:51<00:00,  9.06it/s]\n",
      "  0%|                                                  | 0/1111 [00:00<?, ?it/s]"
     ]
    },
    {
     "name": "stdout",
     "output_type": "stream",
     "text": [
      "[train] epoch time: 1731.61s, average batch time: 0.88s\n",
      "[train] L1 : 0.0083 (best 0.0083), L1 : 0.0083 (best 0.0083)\n"
     ]
    },
    {
     "name": "stderr",
     "output_type": "stream",
     "text": [
      "100%|███████████████████████████████████████| 1111/1111 [02:05<00:00,  8.84it/s]\n",
      "  0%|                                                 | 0/15691 [00:00<?, ?it/s]"
     ]
    },
    {
     "name": "stdout",
     "output_type": "stream",
     "text": [
      "[valid] epoch time: 125.63s, average batch time: 0.90s\n",
      "[valid] L1 : 0.0138 (best 0.0131), L1 : 0.0138 (best 0.0131)\n",
      "\n",
      "2022/03/15, 10:15:06 - [Epoch 210 / lr 1.50e-04]\n"
     ]
    },
    {
     "name": "stderr",
     "output_type": "stream",
     "text": [
      "100%|█████████████████████████████████████| 15691/15691 [29:09<00:00,  8.97it/s]\n",
      "  0%|                                                  | 0/1111 [00:00<?, ?it/s]"
     ]
    },
    {
     "name": "stdout",
     "output_type": "stream",
     "text": [
      "[train] epoch time: 1749.66s, average batch time: 0.89s\n",
      "[train] L1 : 0.0083 (best 0.0083), L1 : 0.0083 (best 0.0083)\n"
     ]
    },
    {
     "name": "stderr",
     "output_type": "stream",
     "text": [
      "100%|███████████████████████████████████████| 1111/1111 [01:35<00:00, 11.69it/s]\n",
      "  0%|                                                 | 0/15691 [00:00<?, ?it/s]"
     ]
    },
    {
     "name": "stdout",
     "output_type": "stream",
     "text": [
      "[valid] epoch time: 95.03s, average batch time: 0.68s\n",
      "[valid] L1 : 0.0142 (best 0.0131), L1 : 0.0142 (best 0.0131)\n",
      "\n",
      "2022/03/15, 10:45:51 - [Epoch 211 / lr 1.50e-04]\n"
     ]
    },
    {
     "name": "stderr",
     "output_type": "stream",
     "text": [
      "100%|█████████████████████████████████████| 15691/15691 [29:51<00:00,  8.76it/s]\n",
      "  0%|                                                  | 0/1111 [00:00<?, ?it/s]"
     ]
    },
    {
     "name": "stdout",
     "output_type": "stream",
     "text": [
      "[train] epoch time: 1791.09s, average batch time: 0.91s\n",
      "[train] L1 : 0.0083 (best 0.0083), L1 : 0.0083 (best 0.0083)\n"
     ]
    },
    {
     "name": "stderr",
     "output_type": "stream",
     "text": [
      "100%|███████████████████████████████████████| 1111/1111 [01:50<00:00, 10.09it/s]\n",
      "  0%|                                                 | 0/15691 [00:00<?, ?it/s]"
     ]
    },
    {
     "name": "stdout",
     "output_type": "stream",
     "text": [
      "[valid] epoch time: 110.08s, average batch time: 0.79s\n",
      "[valid] L1 : 0.0161 (best 0.0131), L1 : 0.0161 (best 0.0131)\n",
      "\n",
      "2022/03/15, 11:17:32 - [Epoch 212 / lr 1.50e-04]\n"
     ]
    },
    {
     "name": "stderr",
     "output_type": "stream",
     "text": [
      "100%|█████████████████████████████████████| 15691/15691 [29:46<00:00,  8.78it/s]\n",
      "  0%|                                                  | 0/1111 [00:00<?, ?it/s]"
     ]
    },
    {
     "name": "stdout",
     "output_type": "stream",
     "text": [
      "[train] epoch time: 1786.53s, average batch time: 0.91s\n",
      "[train] L1 : 0.0083 (best 0.0083), L1 : 0.0083 (best 0.0083)\n"
     ]
    },
    {
     "name": "stderr",
     "output_type": "stream",
     "text": [
      "100%|███████████████████████████████████████| 1111/1111 [01:46<00:00, 10.48it/s]\n",
      "  0%|                                                 | 0/15691 [00:00<?, ?it/s]"
     ]
    },
    {
     "name": "stdout",
     "output_type": "stream",
     "text": [
      "[valid] epoch time: 106.04s, average batch time: 0.76s\n",
      "[valid] L1 : 0.0131 (best 0.0131), L1 : 0.0131 (best 0.0131)\n",
      "\n",
      "2022/03/15, 11:49:05 - [Epoch 213 / lr 1.50e-04]\n"
     ]
    },
    {
     "name": "stderr",
     "output_type": "stream",
     "text": [
      "100%|█████████████████████████████████████| 15691/15691 [29:30<00:00,  8.86it/s]\n",
      "  0%|                                                  | 0/1111 [00:00<?, ?it/s]"
     ]
    },
    {
     "name": "stdout",
     "output_type": "stream",
     "text": [
      "[train] epoch time: 1770.69s, average batch time: 0.90s\n",
      "[train] L1 : 0.0082 (best 0.0082), L1 : 0.0082 (best 0.0082)\n"
     ]
    },
    {
     "name": "stderr",
     "output_type": "stream",
     "text": [
      "100%|███████████████████████████████████████| 1111/1111 [01:52<00:00,  9.91it/s]\n",
      "  0%|                                                 | 0/15691 [00:00<?, ?it/s]"
     ]
    },
    {
     "name": "stdout",
     "output_type": "stream",
     "text": [
      "[valid] epoch time: 112.15s, average batch time: 0.81s\n",
      "[valid] L1 : 0.0138 (best 0.0131), L1 : 0.0138 (best 0.0131)\n",
      "\n",
      "2022/03/15, 12:20:27 - [Epoch 214 / lr 1.50e-04]\n"
     ]
    },
    {
     "name": "stderr",
     "output_type": "stream",
     "text": [
      "100%|█████████████████████████████████████| 15691/15691 [28:56<00:00,  9.03it/s]\n",
      "  0%|                                                  | 0/1111 [00:00<?, ?it/s]"
     ]
    },
    {
     "name": "stdout",
     "output_type": "stream",
     "text": [
      "[train] epoch time: 1736.70s, average batch time: 0.89s\n",
      "[train] L1 : 0.0082 (best 0.0082), L1 : 0.0082 (best 0.0082)\n"
     ]
    },
    {
     "name": "stderr",
     "output_type": "stream",
     "text": [
      "100%|███████████████████████████████████████| 1111/1111 [01:46<00:00, 10.47it/s]\n",
      "  0%|                                                 | 0/15691 [00:00<?, ?it/s]"
     ]
    },
    {
     "name": "stdout",
     "output_type": "stream",
     "text": [
      "[valid] epoch time: 106.14s, average batch time: 0.76s\n",
      "[valid] L1 : 0.0152 (best 0.0131), L1 : 0.0152 (best 0.0131)\n",
      "\n",
      "2022/03/15, 12:51:10 - [Epoch 215 / lr 1.50e-04]\n"
     ]
    },
    {
     "name": "stderr",
     "output_type": "stream",
     "text": [
      "100%|█████████████████████████████████████| 15691/15691 [28:49<00:00,  9.07it/s]\n",
      "  0%|                                                  | 0/1111 [00:00<?, ?it/s]"
     ]
    },
    {
     "name": "stdout",
     "output_type": "stream",
     "text": [
      "[train] epoch time: 1729.46s, average batch time: 0.88s\n",
      "[train] L1 : 0.0083 (best 0.0082), L1 : 0.0083 (best 0.0082)\n"
     ]
    },
    {
     "name": "stderr",
     "output_type": "stream",
     "text": [
      "100%|███████████████████████████████████████| 1111/1111 [01:50<00:00, 10.09it/s]\n",
      "  0%|                                                 | 0/15691 [00:00<?, ?it/s]"
     ]
    },
    {
     "name": "stdout",
     "output_type": "stream",
     "text": [
      "[valid] epoch time: 110.15s, average batch time: 0.79s\n",
      "[valid] L1 : 0.0144 (best 0.0131), L1 : 0.0144 (best 0.0131)\n",
      "\n",
      "2022/03/15, 13:21:50 - [Epoch 216 / lr 1.50e-04]\n"
     ]
    },
    {
     "name": "stderr",
     "output_type": "stream",
     "text": [
      "100%|█████████████████████████████████████| 15691/15691 [29:12<00:00,  8.95it/s]\n",
      "  0%|                                                  | 0/1111 [00:00<?, ?it/s]"
     ]
    },
    {
     "name": "stdout",
     "output_type": "stream",
     "text": [
      "[train] epoch time: 1752.56s, average batch time: 0.89s\n",
      "[train] L1 : 0.0082 (best 0.0082), L1 : 0.0082 (best 0.0082)\n"
     ]
    },
    {
     "name": "stderr",
     "output_type": "stream",
     "text": [
      "100%|███████████████████████████████████████| 1111/1111 [01:45<00:00, 10.49it/s]\n",
      "  0%|                                                 | 0/15691 [00:00<?, ?it/s]"
     ]
    },
    {
     "name": "stdout",
     "output_type": "stream",
     "text": [
      "[valid] epoch time: 105.89s, average batch time: 0.76s\n",
      "[valid] L1 : 0.0147 (best 0.0131), L1 : 0.0147 (best 0.0131)\n",
      "\n",
      "2022/03/15, 13:52:49 - [Epoch 217 / lr 1.50e-04]\n"
     ]
    },
    {
     "name": "stderr",
     "output_type": "stream",
     "text": [
      "100%|█████████████████████████████████████| 15691/15691 [29:02<00:00,  9.01it/s]\n",
      "  0%|                                                  | 0/1111 [00:00<?, ?it/s]"
     ]
    },
    {
     "name": "stdout",
     "output_type": "stream",
     "text": [
      "[train] epoch time: 1742.34s, average batch time: 0.89s\n",
      "[train] L1 : 0.0082 (best 0.0082), L1 : 0.0082 (best 0.0082)\n"
     ]
    },
    {
     "name": "stderr",
     "output_type": "stream",
     "text": [
      "100%|███████████████████████████████████████| 1111/1111 [02:01<00:00,  9.16it/s]\n",
      "  0%|                                                 | 0/15691 [00:00<?, ?it/s]"
     ]
    },
    {
     "name": "stdout",
     "output_type": "stream",
     "text": [
      "[valid] epoch time: 121.23s, average batch time: 0.87s\n",
      "[valid] L1 : 0.0156 (best 0.0131), L1 : 0.0156 (best 0.0131)\n",
      "\n",
      "2022/03/15, 14:23:52 - [Epoch 218 / lr 1.50e-04]\n"
     ]
    },
    {
     "name": "stderr",
     "output_type": "stream",
     "text": [
      "100%|█████████████████████████████████████| 15691/15691 [29:06<00:00,  8.98it/s]\n",
      "  0%|                                                  | 0/1111 [00:00<?, ?it/s]"
     ]
    },
    {
     "name": "stdout",
     "output_type": "stream",
     "text": [
      "[train] epoch time: 1746.54s, average batch time: 0.89s\n",
      "[train] L1 : 0.0083 (best 0.0082), L1 : 0.0083 (best 0.0082)\n"
     ]
    },
    {
     "name": "stderr",
     "output_type": "stream",
     "text": [
      "100%|███████████████████████████████████████| 1111/1111 [01:41<00:00, 10.91it/s]\n",
      "  0%|                                                 | 0/15691 [00:00<?, ?it/s]"
     ]
    },
    {
     "name": "stdout",
     "output_type": "stream",
     "text": [
      "[valid] epoch time: 101.81s, average batch time: 0.73s\n",
      "[valid] L1 : 0.0135 (best 0.0131), L1 : 0.0135 (best 0.0131)\n",
      "\n",
      "2022/03/15, 14:54:41 - [Epoch 219 / lr 1.50e-04]\n"
     ]
    },
    {
     "name": "stderr",
     "output_type": "stream",
     "text": [
      "100%|█████████████████████████████████████| 15691/15691 [29:43<00:00,  8.80it/s]\n",
      "  0%|                                                  | 0/1111 [00:00<?, ?it/s]"
     ]
    },
    {
     "name": "stdout",
     "output_type": "stream",
     "text": [
      "[train] epoch time: 1783.52s, average batch time: 0.91s\n",
      "[train] L1 : 0.0082 (best 0.0082), L1 : 0.0082 (best 0.0082)\n"
     ]
    },
    {
     "name": "stderr",
     "output_type": "stream",
     "text": [
      "100%|███████████████████████████████████████| 1111/1111 [01:54<00:00,  9.73it/s]\n",
      "  0%|                                                 | 0/15691 [00:00<?, ?it/s]"
     ]
    },
    {
     "name": "stdout",
     "output_type": "stream",
     "text": [
      "[valid] epoch time: 114.18s, average batch time: 0.82s\n",
      "[valid] L1 : 0.0150 (best 0.0131), L1 : 0.0150 (best 0.0131)\n",
      "\n",
      "2022/03/15, 15:26:18 - [Epoch 220 / lr 1.50e-04]\n"
     ]
    },
    {
     "name": "stderr",
     "output_type": "stream",
     "text": [
      "100%|█████████████████████████████████████| 15691/15691 [28:45<00:00,  9.09it/s]\n",
      "  0%|                                                  | 0/1111 [00:00<?, ?it/s]"
     ]
    },
    {
     "name": "stdout",
     "output_type": "stream",
     "text": [
      "[train] epoch time: 1725.75s, average batch time: 0.88s\n",
      "[train] L1 : 0.0083 (best 0.0082), L1 : 0.0083 (best 0.0082)\n"
     ]
    },
    {
     "name": "stderr",
     "output_type": "stream",
     "text": [
      "100%|███████████████████████████████████████| 1111/1111 [01:49<00:00, 10.14it/s]\n",
      "  0%|                                                 | 0/15691 [00:00<?, ?it/s]"
     ]
    },
    {
     "name": "stdout",
     "output_type": "stream",
     "text": [
      "[valid] epoch time: 109.52s, average batch time: 0.79s\n",
      "[valid] L1 : 0.0150 (best 0.0131), L1 : 0.0150 (best 0.0131)\n",
      "\n",
      "2022/03/15, 15:56:54 - [Epoch 221 / lr 1.50e-04]\n"
     ]
    },
    {
     "name": "stderr",
     "output_type": "stream",
     "text": [
      "100%|█████████████████████████████████████| 15691/15691 [29:53<00:00,  8.75it/s]\n",
      "  0%|                                                  | 0/1111 [00:00<?, ?it/s]"
     ]
    },
    {
     "name": "stdout",
     "output_type": "stream",
     "text": [
      "[train] epoch time: 1793.90s, average batch time: 0.91s\n",
      "[train] L1 : 0.0082 (best 0.0082), L1 : 0.0082 (best 0.0082)\n"
     ]
    },
    {
     "name": "stderr",
     "output_type": "stream",
     "text": [
      "100%|███████████████████████████████████████| 1111/1111 [02:12<00:00,  8.37it/s]\n",
      "  0%|                                                 | 0/15691 [00:00<?, ?it/s]"
     ]
    },
    {
     "name": "stdout",
     "output_type": "stream",
     "text": [
      "[valid] epoch time: 132.74s, average batch time: 0.95s\n",
      "[valid] L1 : 0.0154 (best 0.0131), L1 : 0.0154 (best 0.0131)\n",
      "\n",
      "2022/03/15, 16:29:00 - [Epoch 222 / lr 1.50e-04]\n"
     ]
    },
    {
     "name": "stderr",
     "output_type": "stream",
     "text": [
      "100%|█████████████████████████████████████| 15691/15691 [28:41<00:00,  9.12it/s]\n",
      "  0%|                                                  | 0/1111 [00:00<?, ?it/s]"
     ]
    },
    {
     "name": "stdout",
     "output_type": "stream",
     "text": [
      "[train] epoch time: 1721.33s, average batch time: 0.88s\n",
      "[train] L1 : 0.0081 (best 0.0081), L1 : 0.0081 (best 0.0081)\n"
     ]
    },
    {
     "name": "stderr",
     "output_type": "stream",
     "text": [
      "100%|███████████████████████████████████████| 1111/1111 [01:22<00:00, 13.45it/s]\n",
      "  0%|                                                 | 0/15691 [00:00<?, ?it/s]"
     ]
    },
    {
     "name": "stdout",
     "output_type": "stream",
     "text": [
      "[valid] epoch time: 82.60s, average batch time: 0.59s\n",
      "[valid] L1 : 0.0147 (best 0.0131), L1 : 0.0147 (best 0.0131)\n",
      "\n",
      "2022/03/15, 16:59:04 - [Epoch 223 / lr 1.50e-04]\n"
     ]
    },
    {
     "name": "stderr",
     "output_type": "stream",
     "text": [
      "100%|█████████████████████████████████████| 15691/15691 [29:38<00:00,  8.82it/s]\n",
      "  0%|                                                  | 0/1111 [00:00<?, ?it/s]"
     ]
    },
    {
     "name": "stdout",
     "output_type": "stream",
     "text": [
      "[train] epoch time: 1778.18s, average batch time: 0.91s\n",
      "[train] L1 : 0.0082 (best 0.0081), L1 : 0.0082 (best 0.0081)\n"
     ]
    },
    {
     "name": "stderr",
     "output_type": "stream",
     "text": [
      "100%|███████████████████████████████████████| 1111/1111 [01:57<00:00,  9.42it/s]\n",
      "  0%|                                                 | 0/15691 [00:00<?, ?it/s]"
     ]
    },
    {
     "name": "stdout",
     "output_type": "stream",
     "text": [
      "[valid] epoch time: 117.96s, average batch time: 0.85s\n",
      "[valid] L1 : 0.0149 (best 0.0131), L1 : 0.0149 (best 0.0131)\n",
      "\n",
      "2022/03/15, 17:30:41 - [Epoch 224 / lr 1.50e-04]\n"
     ]
    },
    {
     "name": "stderr",
     "output_type": "stream",
     "text": [
      "100%|█████████████████████████████████████| 15691/15691 [29:01<00:00,  9.01it/s]\n",
      "  0%|                                                  | 0/1111 [00:00<?, ?it/s]"
     ]
    },
    {
     "name": "stdout",
     "output_type": "stream",
     "text": [
      "[train] epoch time: 1741.28s, average batch time: 0.89s\n",
      "[train] L1 : 0.0082 (best 0.0081), L1 : 0.0082 (best 0.0081)\n"
     ]
    },
    {
     "name": "stderr",
     "output_type": "stream",
     "text": [
      "100%|███████████████████████████████████████| 1111/1111 [01:41<00:00, 10.99it/s]\n",
      "  0%|                                                 | 0/15691 [00:00<?, ?it/s]"
     ]
    },
    {
     "name": "stdout",
     "output_type": "stream",
     "text": [
      "[valid] epoch time: 101.09s, average batch time: 0.73s\n",
      "[valid] L1 : 0.0140 (best 0.0131), L1 : 0.0140 (best 0.0131)\n",
      "\n",
      "2022/03/15, 18:01:23 - [Epoch 225 / lr 1.50e-04]\n"
     ]
    },
    {
     "name": "stderr",
     "output_type": "stream",
     "text": [
      "100%|█████████████████████████████████████| 15691/15691 [29:37<00:00,  8.83it/s]\n",
      "  0%|                                                  | 0/1111 [00:00<?, ?it/s]"
     ]
    },
    {
     "name": "stdout",
     "output_type": "stream",
     "text": [
      "[train] epoch time: 1777.34s, average batch time: 0.91s\n",
      "[train] L1 : 0.0082 (best 0.0081), L1 : 0.0082 (best 0.0081)\n"
     ]
    },
    {
     "name": "stderr",
     "output_type": "stream",
     "text": [
      "100%|███████████████████████████████████████| 1111/1111 [01:56<00:00,  9.52it/s]\n",
      "  0%|                                                 | 0/15691 [00:00<?, ?it/s]"
     ]
    },
    {
     "name": "stdout",
     "output_type": "stream",
     "text": [
      "[valid] epoch time: 116.73s, average batch time: 0.84s\n",
      "[valid] L1 : 0.0142 (best 0.0131), L1 : 0.0142 (best 0.0131)\n",
      "\n",
      "2022/03/15, 18:32:57 - [Epoch 226 / lr 1.50e-04]\n"
     ]
    },
    {
     "name": "stderr",
     "output_type": "stream",
     "text": [
      "100%|█████████████████████████████████████| 15691/15691 [28:50<00:00,  9.07it/s]\n",
      "  0%|                                                  | 0/1111 [00:00<?, ?it/s]"
     ]
    },
    {
     "name": "stdout",
     "output_type": "stream",
     "text": [
      "[train] epoch time: 1730.45s, average batch time: 0.88s\n",
      "[train] L1 : 0.0082 (best 0.0081), L1 : 0.0082 (best 0.0081)\n"
     ]
    },
    {
     "name": "stderr",
     "output_type": "stream",
     "text": [
      "100%|███████████████████████████████████████| 1111/1111 [01:40<00:00, 11.02it/s]\n",
      "  0%|                                                 | 0/15691 [00:00<?, ?it/s]"
     ]
    },
    {
     "name": "stdout",
     "output_type": "stream",
     "text": [
      "[valid] epoch time: 100.80s, average batch time: 0.73s\n",
      "[valid] L1 : 0.0136 (best 0.0131), L1 : 0.0136 (best 0.0131)\n",
      "\n",
      "2022/03/15, 19:03:29 - [Epoch 227 / lr 1.50e-04]\n"
     ]
    },
    {
     "name": "stderr",
     "output_type": "stream",
     "text": [
      "100%|█████████████████████████████████████| 15691/15691 [29:24<00:00,  8.89it/s]\n",
      "  0%|                                                  | 0/1111 [00:00<?, ?it/s]"
     ]
    },
    {
     "name": "stdout",
     "output_type": "stream",
     "text": [
      "[train] epoch time: 1764.83s, average batch time: 0.90s\n",
      "[train] L1 : 0.0081 (best 0.0081), L1 : 0.0081 (best 0.0081)\n"
     ]
    },
    {
     "name": "stderr",
     "output_type": "stream",
     "text": [
      "100%|███████████████████████████████████████| 1111/1111 [01:54<00:00,  9.70it/s]\n",
      "  0%|                                                 | 0/15691 [00:00<?, ?it/s]"
     ]
    },
    {
     "name": "stdout",
     "output_type": "stream",
     "text": [
      "[valid] epoch time: 114.50s, average batch time: 0.82s\n",
      "[valid] L1 : 0.0143 (best 0.0131), L1 : 0.0143 (best 0.0131)\n",
      "\n",
      "2022/03/15, 19:34:48 - [Epoch 228 / lr 1.50e-04]\n"
     ]
    },
    {
     "name": "stderr",
     "output_type": "stream",
     "text": [
      "100%|█████████████████████████████████████| 15691/15691 [29:16<00:00,  8.93it/s]\n",
      "  0%|                                                  | 0/1111 [00:00<?, ?it/s]"
     ]
    },
    {
     "name": "stdout",
     "output_type": "stream",
     "text": [
      "[train] epoch time: 1756.42s, average batch time: 0.90s\n",
      "[train] L1 : 0.0082 (best 0.0081), L1 : 0.0082 (best 0.0081)\n"
     ]
    },
    {
     "name": "stderr",
     "output_type": "stream",
     "text": [
      "100%|███████████████████████████████████████| 1111/1111 [01:50<00:00, 10.01it/s]\n",
      "  0%|                                                 | 0/15691 [00:00<?, ?it/s]"
     ]
    },
    {
     "name": "stdout",
     "output_type": "stream",
     "text": [
      "[valid] epoch time: 110.95s, average batch time: 0.80s\n",
      "[valid] L1 : 0.0149 (best 0.0131), L1 : 0.0149 (best 0.0131)\n",
      "\n",
      "2022/03/15, 20:05:55 - [Epoch 229 / lr 1.50e-04]\n"
     ]
    },
    {
     "name": "stderr",
     "output_type": "stream",
     "text": [
      "100%|█████████████████████████████████████| 15691/15691 [29:04<00:00,  8.99it/s]\n",
      "  0%|                                                  | 0/1111 [00:00<?, ?it/s]"
     ]
    },
    {
     "name": "stdout",
     "output_type": "stream",
     "text": [
      "[train] epoch time: 1744.91s, average batch time: 0.89s\n",
      "[train] L1 : 0.0081 (best 0.0081), L1 : 0.0081 (best 0.0081)\n"
     ]
    },
    {
     "name": "stderr",
     "output_type": "stream",
     "text": [
      "100%|███████████████████████████████████████| 1111/1111 [01:30<00:00, 12.33it/s]\n",
      "  0%|                                                 | 0/15691 [00:00<?, ?it/s]"
     ]
    },
    {
     "name": "stdout",
     "output_type": "stream",
     "text": [
      "[valid] epoch time: 90.13s, average batch time: 0.65s\n",
      "[valid] L1 : 0.0139 (best 0.0131), L1 : 0.0139 (best 0.0131)\n",
      "\n",
      "2022/03/15, 20:36:30 - [Epoch 230 / lr 1.50e-04]\n"
     ]
    },
    {
     "name": "stderr",
     "output_type": "stream",
     "text": [
      "100%|█████████████████████████████████████| 15691/15691 [29:31<00:00,  8.86it/s]\n",
      "  0%|                                                  | 0/1111 [00:00<?, ?it/s]"
     ]
    },
    {
     "name": "stdout",
     "output_type": "stream",
     "text": [
      "[train] epoch time: 1771.88s, average batch time: 0.90s\n",
      "[train] L1 : 0.0081 (best 0.0081), L1 : 0.0081 (best 0.0081)\n"
     ]
    },
    {
     "name": "stderr",
     "output_type": "stream",
     "text": [
      "100%|███████████████████████████████████████| 1111/1111 [01:57<00:00,  9.45it/s]\n",
      "  0%|                                                 | 0/15691 [00:00<?, ?it/s]"
     ]
    },
    {
     "name": "stdout",
     "output_type": "stream",
     "text": [
      "[valid] epoch time: 117.60s, average batch time: 0.85s\n",
      "[valid] L1 : 0.0147 (best 0.0131), L1 : 0.0147 (best 0.0131)\n",
      "\n",
      "2022/03/15, 21:08:00 - [Epoch 231 / lr 1.50e-04]\n"
     ]
    },
    {
     "name": "stderr",
     "output_type": "stream",
     "text": [
      "100%|█████████████████████████████████████| 15691/15691 [29:57<00:00,  8.73it/s]\n",
      "  0%|                                                  | 0/1111 [00:00<?, ?it/s]"
     ]
    },
    {
     "name": "stdout",
     "output_type": "stream",
     "text": [
      "[train] epoch time: 1797.00s, average batch time: 0.92s\n",
      "[train] L1 : 0.0081 (best 0.0081), L1 : 0.0081 (best 0.0081)\n"
     ]
    },
    {
     "name": "stderr",
     "output_type": "stream",
     "text": [
      "100%|███████████████████████████████████████| 1111/1111 [01:39<00:00, 11.15it/s]\n",
      "  0%|                                                 | 0/15691 [00:00<?, ?it/s]"
     ]
    },
    {
     "name": "stdout",
     "output_type": "stream",
     "text": [
      "[valid] epoch time: 99.60s, average batch time: 0.72s\n",
      "[valid] L1 : 0.0146 (best 0.0131), L1 : 0.0146 (best 0.0131)\n",
      "\n",
      "2022/03/15, 21:39:37 - [Epoch 232 / lr 1.50e-04]\n"
     ]
    },
    {
     "name": "stderr",
     "output_type": "stream",
     "text": [
      "100%|█████████████████████████████████████| 15691/15691 [29:27<00:00,  8.88it/s]\n",
      "  0%|                                                  | 0/1111 [00:00<?, ?it/s]"
     ]
    },
    {
     "name": "stdout",
     "output_type": "stream",
     "text": [
      "[train] epoch time: 1767.52s, average batch time: 0.90s\n",
      "[train] L1 : 0.0082 (best 0.0081), L1 : 0.0082 (best 0.0081)\n"
     ]
    },
    {
     "name": "stderr",
     "output_type": "stream",
     "text": [
      "100%|███████████████████████████████████████| 1111/1111 [01:45<00:00, 10.55it/s]\n",
      "  0%|                                                 | 0/15691 [00:00<?, ?it/s]"
     ]
    },
    {
     "name": "stdout",
     "output_type": "stream",
     "text": [
      "[valid] epoch time: 105.29s, average batch time: 0.76s\n",
      "[valid] L1 : 0.0151 (best 0.0131), L1 : 0.0151 (best 0.0131)\n",
      "\n",
      "2022/03/15, 22:10:50 - [Epoch 233 / lr 1.50e-04]\n"
     ]
    },
    {
     "name": "stderr",
     "output_type": "stream",
     "text": [
      "100%|█████████████████████████████████████| 15691/15691 [28:55<00:00,  9.04it/s]\n",
      "  0%|                                                  | 0/1111 [00:00<?, ?it/s]"
     ]
    },
    {
     "name": "stdout",
     "output_type": "stream",
     "text": [
      "[train] epoch time: 1736.00s, average batch time: 0.88s\n",
      "[train] L1 : 0.0081 (best 0.0081), L1 : 0.0081 (best 0.0081)\n"
     ]
    },
    {
     "name": "stderr",
     "output_type": "stream",
     "text": [
      "100%|███████████████████████████████████████| 1111/1111 [01:43<00:00, 10.70it/s]\n",
      "  0%|                                                 | 0/15691 [00:00<?, ?it/s]"
     ]
    },
    {
     "name": "stdout",
     "output_type": "stream",
     "text": [
      "[valid] epoch time: 103.88s, average batch time: 0.75s\n",
      "[valid] L1 : 0.0132 (best 0.0131), L1 : 0.0132 (best 0.0131)\n",
      "\n",
      "2022/03/15, 22:41:30 - [Epoch 234 / lr 1.50e-04]\n"
     ]
    },
    {
     "name": "stderr",
     "output_type": "stream",
     "text": [
      "100%|█████████████████████████████████████| 15691/15691 [29:11<00:00,  8.96it/s]\n",
      "  0%|                                                  | 0/1111 [00:00<?, ?it/s]"
     ]
    },
    {
     "name": "stdout",
     "output_type": "stream",
     "text": [
      "[train] epoch time: 1751.47s, average batch time: 0.89s\n",
      "[train] L1 : 0.0081 (best 0.0081), L1 : 0.0081 (best 0.0081)\n"
     ]
    },
    {
     "name": "stderr",
     "output_type": "stream",
     "text": [
      "100%|███████████████████████████████████████| 1111/1111 [01:36<00:00, 11.49it/s]\n",
      "  0%|                                                 | 0/15691 [00:00<?, ?it/s]"
     ]
    },
    {
     "name": "stdout",
     "output_type": "stream",
     "text": [
      "[valid] epoch time: 96.66s, average batch time: 0.70s\n",
      "[valid] L1 : 0.0149 (best 0.0131), L1 : 0.0149 (best 0.0131)\n",
      "\n",
      "2022/03/15, 23:12:18 - [Epoch 235 / lr 1.50e-04]\n"
     ]
    },
    {
     "name": "stderr",
     "output_type": "stream",
     "text": [
      "100%|█████████████████████████████████████| 15691/15691 [29:07<00:00,  8.98it/s]\n",
      "  0%|                                                  | 0/1111 [00:00<?, ?it/s]"
     ]
    },
    {
     "name": "stdout",
     "output_type": "stream",
     "text": [
      "[train] epoch time: 1747.99s, average batch time: 0.89s\n",
      "[train] L1 : 0.0081 (best 0.0081), L1 : 0.0081 (best 0.0081)\n"
     ]
    },
    {
     "name": "stderr",
     "output_type": "stream",
     "text": [
      "100%|███████████████████████████████████████| 1111/1111 [01:59<00:00,  9.28it/s]\n",
      "  0%|                                                 | 0/15691 [00:00<?, ?it/s]"
     ]
    },
    {
     "name": "stdout",
     "output_type": "stream",
     "text": [
      "[valid] epoch time: 119.75s, average batch time: 0.86s\n",
      "[valid] L1 : 0.0148 (best 0.0131), L1 : 0.0148 (best 0.0131)\n",
      "\n",
      "2022/03/15, 23:43:26 - [Epoch 236 / lr 1.50e-04]\n"
     ]
    },
    {
     "name": "stderr",
     "output_type": "stream",
     "text": [
      "100%|█████████████████████████████████████| 15691/15691 [29:25<00:00,  8.89it/s]\n",
      "  0%|                                                  | 0/1111 [00:00<?, ?it/s]"
     ]
    },
    {
     "name": "stdout",
     "output_type": "stream",
     "text": [
      "[train] epoch time: 1765.15s, average batch time: 0.90s\n",
      "[train] L1 : 0.0081 (best 0.0081), L1 : 0.0081 (best 0.0081)\n"
     ]
    },
    {
     "name": "stderr",
     "output_type": "stream",
     "text": [
      "100%|███████████████████████████████████████| 1111/1111 [01:38<00:00, 11.28it/s]\n",
      "  0%|                                                 | 0/15691 [00:00<?, ?it/s]"
     ]
    },
    {
     "name": "stdout",
     "output_type": "stream",
     "text": [
      "[valid] epoch time: 98.47s, average batch time: 0.71s\n",
      "[valid] L1 : 0.0135 (best 0.0131), L1 : 0.0135 (best 0.0131)\n",
      "\n",
      "2022/03/16, 00:14:29 - [Epoch 237 / lr 1.50e-04]\n"
     ]
    },
    {
     "name": "stderr",
     "output_type": "stream",
     "text": [
      "100%|█████████████████████████████████████| 15691/15691 [29:24<00:00,  8.89it/s]\n",
      "  0%|                                                  | 0/1111 [00:00<?, ?it/s]"
     ]
    },
    {
     "name": "stdout",
     "output_type": "stream",
     "text": [
      "[train] epoch time: 1764.15s, average batch time: 0.90s\n",
      "[train] L1 : 0.0080 (best 0.0080), L1 : 0.0080 (best 0.0080)\n"
     ]
    },
    {
     "name": "stderr",
     "output_type": "stream",
     "text": [
      "100%|███████████████████████████████████████| 1111/1111 [01:52<00:00,  9.84it/s]\n",
      "  0%|                                                 | 0/15691 [00:00<?, ?it/s]"
     ]
    },
    {
     "name": "stdout",
     "output_type": "stream",
     "text": [
      "[valid] epoch time: 112.85s, average batch time: 0.81s\n",
      "[valid] L1 : 0.0144 (best 0.0131), L1 : 0.0144 (best 0.0131)\n",
      "\n",
      "2022/03/16, 00:45:46 - [Epoch 238 / lr 1.50e-04]\n"
     ]
    },
    {
     "name": "stderr",
     "output_type": "stream",
     "text": [
      "100%|█████████████████████████████████████| 15691/15691 [29:11<00:00,  8.96it/s]\n",
      "  0%|                                                  | 0/1111 [00:00<?, ?it/s]"
     ]
    },
    {
     "name": "stdout",
     "output_type": "stream",
     "text": [
      "[train] epoch time: 1751.89s, average batch time: 0.89s\n",
      "[train] L1 : 0.0081 (best 0.0080), L1 : 0.0081 (best 0.0080)\n"
     ]
    },
    {
     "name": "stderr",
     "output_type": "stream",
     "text": [
      "100%|███████████████████████████████████████| 1111/1111 [01:31<00:00, 12.17it/s]\n",
      "  0%|                                                 | 0/15691 [00:00<?, ?it/s]"
     ]
    },
    {
     "name": "stdout",
     "output_type": "stream",
     "text": [
      "[valid] epoch time: 91.32s, average batch time: 0.66s\n",
      "[valid] L1 : 0.0142 (best 0.0131), L1 : 0.0142 (best 0.0131)\n",
      "\n",
      "2022/03/16, 01:16:30 - [Epoch 239 / lr 1.50e-04]\n"
     ]
    },
    {
     "name": "stderr",
     "output_type": "stream",
     "text": [
      "100%|█████████████████████████████████████| 15691/15691 [28:46<00:00,  9.09it/s]\n",
      "  0%|                                                  | 0/1111 [00:00<?, ?it/s]"
     ]
    },
    {
     "name": "stdout",
     "output_type": "stream",
     "text": [
      "[train] epoch time: 1726.29s, average batch time: 0.88s\n",
      "[train] L1 : 0.0081 (best 0.0080), L1 : 0.0081 (best 0.0080)\n"
     ]
    },
    {
     "name": "stderr",
     "output_type": "stream",
     "text": [
      "100%|███████████████████████████████████████| 1111/1111 [01:54<00:00,  9.66it/s]\n",
      "  0%|                                                 | 0/15691 [00:00<?, ?it/s]"
     ]
    },
    {
     "name": "stdout",
     "output_type": "stream",
     "text": [
      "[valid] epoch time: 114.96s, average batch time: 0.83s\n",
      "[valid] L1 : 0.0135 (best 0.0131), L1 : 0.0135 (best 0.0131)\n",
      "\n",
      "2022/03/16, 01:47:11 - [Epoch 240 / lr 1.50e-04]\n"
     ]
    },
    {
     "name": "stderr",
     "output_type": "stream",
     "text": [
      "100%|█████████████████████████████████████| 15691/15691 [29:01<00:00,  9.01it/s]\n",
      "  0%|                                                  | 0/1111 [00:00<?, ?it/s]"
     ]
    },
    {
     "name": "stdout",
     "output_type": "stream",
     "text": [
      "[train] epoch time: 1741.22s, average batch time: 0.89s\n",
      "[train] L1 : 0.0080 (best 0.0080), L1 : 0.0080 (best 0.0080)\n"
     ]
    },
    {
     "name": "stderr",
     "output_type": "stream",
     "text": [
      "100%|███████████████████████████████████████| 1111/1111 [01:42<00:00, 10.81it/s]\n",
      "  0%|                                                 | 0/15691 [00:00<?, ?it/s]"
     ]
    },
    {
     "name": "stdout",
     "output_type": "stream",
     "text": [
      "[valid] epoch time: 102.77s, average batch time: 0.74s\n",
      "[valid] L1 : 0.0147 (best 0.0131), L1 : 0.0147 (best 0.0131)\n",
      "\n",
      "2022/03/16, 02:17:55 - [Epoch 241 / lr 1.50e-04]\n"
     ]
    },
    {
     "name": "stderr",
     "output_type": "stream",
     "text": [
      "100%|█████████████████████████████████████| 15691/15691 [29:30<00:00,  8.86it/s]\n",
      "  0%|                                                  | 0/1111 [00:00<?, ?it/s]"
     ]
    },
    {
     "name": "stdout",
     "output_type": "stream",
     "text": [
      "[train] epoch time: 1770.72s, average batch time: 0.90s\n",
      "[train] L1 : 0.0080 (best 0.0080), L1 : 0.0080 (best 0.0080)\n"
     ]
    },
    {
     "name": "stderr",
     "output_type": "stream",
     "text": [
      "100%|███████████████████████████████████████| 1111/1111 [01:21<00:00, 13.69it/s]\n",
      "  0%|                                                 | 0/15691 [00:00<?, ?it/s]"
     ]
    },
    {
     "name": "stdout",
     "output_type": "stream",
     "text": [
      "[valid] epoch time: 81.13s, average batch time: 0.58s\n",
      "[valid] L1 : 0.0138 (best 0.0131), L1 : 0.0138 (best 0.0131)\n",
      "\n",
      "2022/03/16, 02:48:47 - [Epoch 242 / lr 1.50e-04]\n"
     ]
    },
    {
     "name": "stderr",
     "output_type": "stream",
     "text": [
      "100%|█████████████████████████████████████| 15691/15691 [29:16<00:00,  8.93it/s]\n",
      "  0%|                                                  | 0/1111 [00:00<?, ?it/s]"
     ]
    },
    {
     "name": "stdout",
     "output_type": "stream",
     "text": [
      "[train] epoch time: 1756.78s, average batch time: 0.90s\n",
      "[train] L1 : 0.0080 (best 0.0080), L1 : 0.0080 (best 0.0080)\n"
     ]
    },
    {
     "name": "stderr",
     "output_type": "stream",
     "text": [
      "100%|███████████████████████████████████████| 1111/1111 [02:06<00:00,  8.81it/s]\n",
      "  0%|                                                 | 0/15691 [00:00<?, ?it/s]"
     ]
    },
    {
     "name": "stdout",
     "output_type": "stream",
     "text": [
      "[valid] epoch time: 126.07s, average batch time: 0.91s\n",
      "[valid] L1 : 0.0151 (best 0.0131), L1 : 0.0151 (best 0.0131)\n",
      "\n",
      "2022/03/16, 03:20:10 - [Epoch 243 / lr 1.50e-04]\n"
     ]
    },
    {
     "name": "stderr",
     "output_type": "stream",
     "text": [
      "100%|█████████████████████████████████████| 15691/15691 [30:42<00:00,  8.51it/s]\n",
      "  0%|                                                  | 0/1111 [00:00<?, ?it/s]"
     ]
    },
    {
     "name": "stdout",
     "output_type": "stream",
     "text": [
      "[train] epoch time: 1842.81s, average batch time: 0.94s\n",
      "[train] L1 : 0.0081 (best 0.0080), L1 : 0.0081 (best 0.0080)\n"
     ]
    },
    {
     "name": "stderr",
     "output_type": "stream",
     "text": [
      "100%|███████████████████████████████████████| 1111/1111 [01:23<00:00, 13.33it/s]\n",
      "  0%|                                                 | 0/15691 [00:00<?, ?it/s]"
     ]
    },
    {
     "name": "stdout",
     "output_type": "stream",
     "text": [
      "[valid] epoch time: 83.36s, average batch time: 0.60s\n",
      "[valid] L1 : 0.0137 (best 0.0131), L1 : 0.0137 (best 0.0131)\n",
      "\n",
      "2022/03/16, 03:52:16 - [Epoch 244 / lr 1.50e-04]\n"
     ]
    },
    {
     "name": "stderr",
     "output_type": "stream",
     "text": [
      "100%|█████████████████████████████████████| 15691/15691 [28:54<00:00,  9.05it/s]\n",
      "  0%|                                                  | 0/1111 [00:00<?, ?it/s]"
     ]
    },
    {
     "name": "stdout",
     "output_type": "stream",
     "text": [
      "[train] epoch time: 1734.12s, average batch time: 0.88s\n",
      "[train] L1 : 0.0081 (best 0.0080), L1 : 0.0081 (best 0.0080)\n"
     ]
    },
    {
     "name": "stderr",
     "output_type": "stream",
     "text": [
      "100%|███████████████████████████████████████| 1111/1111 [01:59<00:00,  9.32it/s]\n",
      "  0%|                                                 | 0/15691 [00:00<?, ?it/s]"
     ]
    },
    {
     "name": "stdout",
     "output_type": "stream",
     "text": [
      "[valid] epoch time: 119.22s, average batch time: 0.86s\n",
      "[valid] L1 : 0.0138 (best 0.0131), L1 : 0.0138 (best 0.0131)\n",
      "\n",
      "2022/03/16, 04:23:09 - [Epoch 245 / lr 1.50e-04]\n"
     ]
    },
    {
     "name": "stderr",
     "output_type": "stream",
     "text": [
      "100%|█████████████████████████████████████| 15691/15691 [29:48<00:00,  8.77it/s]\n",
      "  0%|                                                  | 0/1111 [00:00<?, ?it/s]"
     ]
    },
    {
     "name": "stdout",
     "output_type": "stream",
     "text": [
      "[train] epoch time: 1788.42s, average batch time: 0.91s\n",
      "[train] L1 : 0.0080 (best 0.0080), L1 : 0.0080 (best 0.0080)\n"
     ]
    },
    {
     "name": "stderr",
     "output_type": "stream",
     "text": [
      "100%|███████████████████████████████████████| 1111/1111 [01:53<00:00,  9.83it/s]\n",
      "  0%|                                                 | 0/15691 [00:00<?, ?it/s]"
     ]
    },
    {
     "name": "stdout",
     "output_type": "stream",
     "text": [
      "[valid] epoch time: 113.03s, average batch time: 0.81s\n",
      "[valid] L1 : 0.0127 (best 0.0127), L1 : 0.0127 (best 0.0127)\n",
      "\n",
      "2022/03/16, 04:54:51 - [Epoch 246 / lr 1.50e-04]\n"
     ]
    },
    {
     "name": "stderr",
     "output_type": "stream",
     "text": [
      "100%|█████████████████████████████████████| 15691/15691 [31:23<00:00,  8.33it/s]\n",
      "  0%|                                                  | 0/1111 [00:00<?, ?it/s]"
     ]
    },
    {
     "name": "stdout",
     "output_type": "stream",
     "text": [
      "[train] epoch time: 1883.98s, average batch time: 0.96s\n",
      "[train] L1 : 0.0081 (best 0.0080), L1 : 0.0081 (best 0.0080)\n"
     ]
    },
    {
     "name": "stderr",
     "output_type": "stream",
     "text": [
      "100%|███████████████████████████████████████| 1111/1111 [02:20<00:00,  7.91it/s]\n",
      "  0%|                                                 | 0/15691 [00:00<?, ?it/s]"
     ]
    },
    {
     "name": "stdout",
     "output_type": "stream",
     "text": [
      "[valid] epoch time: 140.43s, average batch time: 1.01s\n",
      "[valid] L1 : 0.0136 (best 0.0127), L1 : 0.0136 (best 0.0127)\n",
      "\n",
      "2022/03/16, 05:28:35 - [Epoch 247 / lr 1.50e-04]\n"
     ]
    },
    {
     "name": "stderr",
     "output_type": "stream",
     "text": [
      "100%|█████████████████████████████████████| 15691/15691 [33:28<00:00,  7.81it/s]\n",
      "  0%|                                                  | 0/1111 [00:00<?, ?it/s]"
     ]
    },
    {
     "name": "stdout",
     "output_type": "stream",
     "text": [
      "[train] epoch time: 2008.11s, average batch time: 1.02s\n",
      "[train] L1 : 0.0081 (best 0.0080), L1 : 0.0081 (best 0.0080)\n"
     ]
    },
    {
     "name": "stderr",
     "output_type": "stream",
     "text": [
      "100%|███████████████████████████████████████| 1111/1111 [01:57<00:00,  9.44it/s]\n",
      "  0%|                                                 | 0/15691 [00:00<?, ?it/s]"
     ]
    },
    {
     "name": "stdout",
     "output_type": "stream",
     "text": [
      "[valid] epoch time: 117.75s, average batch time: 0.85s\n",
      "[valid] L1 : 0.0132 (best 0.0127), L1 : 0.0132 (best 0.0127)\n",
      "\n",
      "2022/03/16, 06:04:01 - [Epoch 248 / lr 1.50e-04]\n"
     ]
    },
    {
     "name": "stderr",
     "output_type": "stream",
     "text": [
      "100%|█████████████████████████████████████| 15691/15691 [29:31<00:00,  8.86it/s]\n",
      "  0%|                                                  | 0/1111 [00:00<?, ?it/s]"
     ]
    },
    {
     "name": "stdout",
     "output_type": "stream",
     "text": [
      "[train] epoch time: 1771.48s, average batch time: 0.90s\n",
      "[train] L1 : 0.0080 (best 0.0080), L1 : 0.0080 (best 0.0080)\n"
     ]
    },
    {
     "name": "stderr",
     "output_type": "stream",
     "text": [
      "100%|███████████████████████████████████████| 1111/1111 [01:41<00:00, 10.92it/s]\n",
      "  0%|                                                 | 0/15691 [00:00<?, ?it/s]"
     ]
    },
    {
     "name": "stdout",
     "output_type": "stream",
     "text": [
      "[valid] epoch time: 101.71s, average batch time: 0.73s\n",
      "[valid] L1 : 0.0137 (best 0.0127), L1 : 0.0137 (best 0.0127)\n",
      "\n",
      "2022/03/16, 06:35:15 - [Epoch 249 / lr 1.50e-04]\n"
     ]
    },
    {
     "name": "stderr",
     "output_type": "stream",
     "text": [
      "100%|█████████████████████████████████████| 15691/15691 [29:11<00:00,  8.96it/s]\n",
      "  0%|                                                  | 0/1111 [00:00<?, ?it/s]"
     ]
    },
    {
     "name": "stdout",
     "output_type": "stream",
     "text": [
      "[train] epoch time: 1751.71s, average batch time: 0.89s\n",
      "[train] L1 : 0.0080 (best 0.0080), L1 : 0.0080 (best 0.0080)\n"
     ]
    },
    {
     "name": "stderr",
     "output_type": "stream",
     "text": [
      "100%|███████████████████████████████████████| 1111/1111 [01:28<00:00, 12.55it/s]\n",
      "  0%|                                                 | 0/15691 [00:00<?, ?it/s]"
     ]
    },
    {
     "name": "stdout",
     "output_type": "stream",
     "text": [
      "[valid] epoch time: 88.51s, average batch time: 0.64s\n",
      "[valid] L1 : 0.0146 (best 0.0127), L1 : 0.0146 (best 0.0127)\n",
      "\n",
      "2022/03/16, 07:05:55 - [Epoch 250 / lr 1.50e-04]\n"
     ]
    },
    {
     "name": "stderr",
     "output_type": "stream",
     "text": [
      "100%|█████████████████████████████████████| 15691/15691 [29:26<00:00,  8.88it/s]\n",
      "  0%|                                                  | 0/1111 [00:00<?, ?it/s]"
     ]
    },
    {
     "name": "stdout",
     "output_type": "stream",
     "text": [
      "[train] epoch time: 1766.36s, average batch time: 0.90s\n",
      "[train] L1 : 0.0080 (best 0.0080), L1 : 0.0080 (best 0.0080)\n"
     ]
    },
    {
     "name": "stderr",
     "output_type": "stream",
     "text": [
      "100%|███████████████████████████████████████| 1111/1111 [02:04<00:00,  8.94it/s]\n",
      "  0%|                                                 | 0/15691 [00:00<?, ?it/s]"
     ]
    },
    {
     "name": "stdout",
     "output_type": "stream",
     "text": [
      "[valid] epoch time: 124.32s, average batch time: 0.89s\n",
      "[valid] L1 : 0.0141 (best 0.0127), L1 : 0.0141 (best 0.0127)\n",
      "\n",
      "2022/03/16, 07:37:26 - [Epoch 251 / lr 1.50e-04]\n"
     ]
    },
    {
     "name": "stderr",
     "output_type": "stream",
     "text": [
      "100%|█████████████████████████████████████| 15691/15691 [30:03<00:00,  8.70it/s]\n",
      "  0%|                                                  | 0/1111 [00:00<?, ?it/s]"
     ]
    },
    {
     "name": "stdout",
     "output_type": "stream",
     "text": [
      "[train] epoch time: 1803.85s, average batch time: 0.92s\n",
      "[train] L1 : 0.0080 (best 0.0080), L1 : 0.0080 (best 0.0080)\n"
     ]
    },
    {
     "name": "stderr",
     "output_type": "stream",
     "text": [
      "100%|███████████████████████████████████████| 1111/1111 [01:33<00:00, 11.84it/s]\n",
      "  0%|                                                 | 0/15691 [00:00<?, ?it/s]"
     ]
    },
    {
     "name": "stdout",
     "output_type": "stream",
     "text": [
      "[valid] epoch time: 93.83s, average batch time: 0.68s\n",
      "[valid] L1 : 0.0146 (best 0.0127), L1 : 0.0146 (best 0.0127)\n",
      "\n",
      "2022/03/16, 08:09:03 - [Epoch 252 / lr 1.50e-04]\n"
     ]
    },
    {
     "name": "stderr",
     "output_type": "stream",
     "text": [
      "100%|█████████████████████████████████████| 15691/15691 [29:08<00:00,  8.97it/s]\n",
      "  0%|                                                  | 0/1111 [00:00<?, ?it/s]"
     ]
    },
    {
     "name": "stdout",
     "output_type": "stream",
     "text": [
      "[train] epoch time: 1748.64s, average batch time: 0.89s\n",
      "[train] L1 : 0.0079 (best 0.0079), L1 : 0.0079 (best 0.0079)\n"
     ]
    },
    {
     "name": "stderr",
     "output_type": "stream",
     "text": [
      "100%|███████████████████████████████████████| 1111/1111 [01:39<00:00, 11.13it/s]\n",
      "  0%|                                                 | 0/15691 [00:00<?, ?it/s]"
     ]
    },
    {
     "name": "stdout",
     "output_type": "stream",
     "text": [
      "[valid] epoch time: 99.79s, average batch time: 0.72s\n",
      "[valid] L1 : 0.0141 (best 0.0127), L1 : 0.0141 (best 0.0127)\n",
      "\n",
      "2022/03/16, 08:39:52 - [Epoch 253 / lr 1.50e-04]\n"
     ]
    },
    {
     "name": "stderr",
     "output_type": "stream",
     "text": [
      "100%|█████████████████████████████████████| 15691/15691 [28:54<00:00,  9.05it/s]\n",
      "  0%|                                                  | 0/1111 [00:00<?, ?it/s]"
     ]
    },
    {
     "name": "stdout",
     "output_type": "stream",
     "text": [
      "[train] epoch time: 1734.13s, average batch time: 0.88s\n",
      "[train] L1 : 0.0080 (best 0.0079), L1 : 0.0080 (best 0.0079)\n"
     ]
    },
    {
     "name": "stderr",
     "output_type": "stream",
     "text": [
      "100%|███████████████████████████████████████| 1111/1111 [02:13<00:00,  8.34it/s]\n",
      "  0%|                                                 | 0/15691 [00:00<?, ?it/s]"
     ]
    },
    {
     "name": "stdout",
     "output_type": "stream",
     "text": [
      "[valid] epoch time: 133.27s, average batch time: 0.96s\n",
      "[valid] L1 : 0.0143 (best 0.0127), L1 : 0.0143 (best 0.0127)\n",
      "\n",
      "2022/03/16, 09:10:59 - [Epoch 254 / lr 1.50e-04]\n"
     ]
    },
    {
     "name": "stderr",
     "output_type": "stream",
     "text": [
      "100%|█████████████████████████████████████| 15691/15691 [28:58<00:00,  9.02it/s]\n",
      "  0%|                                                  | 0/1111 [00:00<?, ?it/s]"
     ]
    },
    {
     "name": "stdout",
     "output_type": "stream",
     "text": [
      "[train] epoch time: 1738.90s, average batch time: 0.89s\n",
      "[train] L1 : 0.0080 (best 0.0079), L1 : 0.0080 (best 0.0079)\n"
     ]
    },
    {
     "name": "stderr",
     "output_type": "stream",
     "text": [
      "100%|███████████████████████████████████████| 1111/1111 [01:17<00:00, 14.36it/s]\n",
      "  0%|                                                 | 0/15691 [00:00<?, ?it/s]"
     ]
    },
    {
     "name": "stdout",
     "output_type": "stream",
     "text": [
      "[valid] epoch time: 77.38s, average batch time: 0.56s\n",
      "[valid] L1 : 0.0145 (best 0.0127), L1 : 0.0145 (best 0.0127)\n",
      "\n",
      "2022/03/16, 09:41:16 - [Epoch 255 / lr 1.50e-04]\n"
     ]
    },
    {
     "name": "stderr",
     "output_type": "stream",
     "text": [
      "100%|█████████████████████████████████████| 15691/15691 [29:21<00:00,  8.91it/s]\n",
      "  0%|                                                  | 0/1111 [00:00<?, ?it/s]"
     ]
    },
    {
     "name": "stdout",
     "output_type": "stream",
     "text": [
      "[train] epoch time: 1761.85s, average batch time: 0.90s\n",
      "[train] L1 : 0.0079 (best 0.0079), L1 : 0.0079 (best 0.0079)\n"
     ]
    },
    {
     "name": "stderr",
     "output_type": "stream",
     "text": [
      "100%|███████████████████████████████████████| 1111/1111 [01:33<00:00, 11.86it/s]\n",
      "  0%|                                                 | 0/15691 [00:00<?, ?it/s]"
     ]
    },
    {
     "name": "stdout",
     "output_type": "stream",
     "text": [
      "[valid] epoch time: 93.71s, average batch time: 0.67s\n",
      "[valid] L1 : 0.0131 (best 0.0127), L1 : 0.0131 (best 0.0127)\n",
      "\n",
      "2022/03/16, 10:12:11 - [Epoch 256 / lr 1.50e-04]\n"
     ]
    },
    {
     "name": "stderr",
     "output_type": "stream",
     "text": [
      "100%|█████████████████████████████████████| 15691/15691 [29:16<00:00,  8.93it/s]\n",
      "  0%|                                                  | 0/1111 [00:00<?, ?it/s]"
     ]
    },
    {
     "name": "stdout",
     "output_type": "stream",
     "text": [
      "[train] epoch time: 1756.88s, average batch time: 0.90s\n",
      "[train] L1 : 0.0080 (best 0.0079), L1 : 0.0080 (best 0.0079)\n"
     ]
    },
    {
     "name": "stderr",
     "output_type": "stream",
     "text": [
      "100%|███████████████████████████████████████| 1111/1111 [02:15<00:00,  8.22it/s]\n",
      "  0%|                                                 | 0/15691 [00:00<?, ?it/s]"
     ]
    },
    {
     "name": "stdout",
     "output_type": "stream",
     "text": [
      "[valid] epoch time: 135.25s, average batch time: 0.97s\n",
      "[valid] L1 : 0.0148 (best 0.0127), L1 : 0.0148 (best 0.0127)\n",
      "\n",
      "2022/03/16, 10:43:44 - [Epoch 257 / lr 1.50e-04]\n"
     ]
    },
    {
     "name": "stderr",
     "output_type": "stream",
     "text": [
      "100%|█████████████████████████████████████| 15691/15691 [29:36<00:00,  8.83it/s]\n",
      "  0%|                                                  | 0/1111 [00:00<?, ?it/s]"
     ]
    },
    {
     "name": "stdout",
     "output_type": "stream",
     "text": [
      "[train] epoch time: 1776.70s, average batch time: 0.91s\n",
      "[train] L1 : 0.0080 (best 0.0079), L1 : 0.0080 (best 0.0079)\n"
     ]
    },
    {
     "name": "stderr",
     "output_type": "stream",
     "text": [
      "100%|███████████████████████████████████████| 1111/1111 [01:17<00:00, 14.35it/s]\n",
      "  0%|                                                 | 0/15691 [00:00<?, ?it/s]"
     ]
    },
    {
     "name": "stdout",
     "output_type": "stream",
     "text": [
      "[valid] epoch time: 77.43s, average batch time: 0.56s\n",
      "[valid] L1 : 0.0150 (best 0.0127), L1 : 0.0150 (best 0.0127)\n",
      "\n",
      "2022/03/16, 11:14:38 - [Epoch 258 / lr 1.50e-04]\n"
     ]
    },
    {
     "name": "stderr",
     "output_type": "stream",
     "text": [
      "100%|█████████████████████████████████████| 15691/15691 [29:07<00:00,  8.98it/s]\n",
      "  0%|                                                  | 0/1111 [00:00<?, ?it/s]"
     ]
    },
    {
     "name": "stdout",
     "output_type": "stream",
     "text": [
      "[train] epoch time: 1747.32s, average batch time: 0.89s\n",
      "[train] L1 : 0.0080 (best 0.0079), L1 : 0.0080 (best 0.0079)\n"
     ]
    },
    {
     "name": "stderr",
     "output_type": "stream",
     "text": [
      "100%|███████████████████████████████████████| 1111/1111 [02:01<00:00,  9.18it/s]\n",
      "  0%|                                                 | 0/15691 [00:00<?, ?it/s]"
     ]
    },
    {
     "name": "stdout",
     "output_type": "stream",
     "text": [
      "[valid] epoch time: 121.06s, average batch time: 0.87s\n",
      "[valid] L1 : 0.0136 (best 0.0127), L1 : 0.0136 (best 0.0127)\n",
      "\n",
      "2022/03/16, 11:45:46 - [Epoch 259 / lr 1.50e-04]\n"
     ]
    },
    {
     "name": "stderr",
     "output_type": "stream",
     "text": [
      "100%|█████████████████████████████████████| 15691/15691 [29:36<00:00,  8.83it/s]\n",
      "  0%|                                                  | 0/1111 [00:00<?, ?it/s]"
     ]
    },
    {
     "name": "stdout",
     "output_type": "stream",
     "text": [
      "[train] epoch time: 1776.43s, average batch time: 0.91s\n",
      "[train] L1 : 0.0079 (best 0.0079), L1 : 0.0079 (best 0.0079)\n"
     ]
    },
    {
     "name": "stderr",
     "output_type": "stream",
     "text": [
      "100%|███████████████████████████████████████| 1111/1111 [02:06<00:00,  8.81it/s]\n",
      "  0%|                                                 | 0/15691 [00:00<?, ?it/s]"
     ]
    },
    {
     "name": "stdout",
     "output_type": "stream",
     "text": [
      "[valid] epoch time: 126.15s, average batch time: 0.91s\n",
      "[valid] L1 : 0.0140 (best 0.0127), L1 : 0.0140 (best 0.0127)\n",
      "\n",
      "2022/03/16, 12:17:29 - [Epoch 260 / lr 1.50e-04]\n"
     ]
    },
    {
     "name": "stderr",
     "output_type": "stream",
     "text": [
      "100%|█████████████████████████████████████| 15691/15691 [29:06<00:00,  8.98it/s]\n",
      "  0%|                                                  | 0/1111 [00:00<?, ?it/s]"
     ]
    },
    {
     "name": "stdout",
     "output_type": "stream",
     "text": [
      "[train] epoch time: 1746.96s, average batch time: 0.89s\n",
      "[train] L1 : 0.0079 (best 0.0079), L1 : 0.0079 (best 0.0079)\n"
     ]
    },
    {
     "name": "stderr",
     "output_type": "stream",
     "text": [
      "100%|███████████████████████████████████████| 1111/1111 [01:37<00:00, 11.41it/s]\n",
      "  0%|                                                 | 0/15691 [00:00<?, ?it/s]"
     ]
    },
    {
     "name": "stdout",
     "output_type": "stream",
     "text": [
      "[valid] epoch time: 97.38s, average batch time: 0.70s\n",
      "[valid] L1 : 0.0126 (best 0.0126), L1 : 0.0126 (best 0.0126)\n",
      "\n",
      "2022/03/16, 12:48:13 - [Epoch 261 / lr 1.50e-04]\n"
     ]
    },
    {
     "name": "stderr",
     "output_type": "stream",
     "text": [
      "100%|█████████████████████████████████████| 15691/15691 [29:53<00:00,  8.75it/s]\n",
      "  0%|                                                  | 0/1111 [00:00<?, ?it/s]"
     ]
    },
    {
     "name": "stdout",
     "output_type": "stream",
     "text": [
      "[train] epoch time: 1793.08s, average batch time: 0.91s\n",
      "[train] L1 : 0.0080 (best 0.0079), L1 : 0.0080 (best 0.0079)\n"
     ]
    },
    {
     "name": "stderr",
     "output_type": "stream",
     "text": [
      "100%|███████████████████████████████████████| 1111/1111 [01:51<00:00,  9.97it/s]\n",
      "  0%|                                                 | 0/15691 [00:00<?, ?it/s]"
     ]
    },
    {
     "name": "stdout",
     "output_type": "stream",
     "text": [
      "[valid] epoch time: 111.43s, average batch time: 0.80s\n",
      "[valid] L1 : 0.0142 (best 0.0126), L1 : 0.0142 (best 0.0126)\n",
      "\n",
      "2022/03/16, 13:19:58 - [Epoch 262 / lr 1.50e-04]\n"
     ]
    },
    {
     "name": "stderr",
     "output_type": "stream",
     "text": [
      "100%|█████████████████████████████████████| 15691/15691 [28:45<00:00,  9.09it/s]\n",
      "  0%|                                                  | 0/1111 [00:00<?, ?it/s]"
     ]
    },
    {
     "name": "stdout",
     "output_type": "stream",
     "text": [
      "[train] epoch time: 1725.44s, average batch time: 0.88s\n",
      "[train] L1 : 0.0079 (best 0.0079), L1 : 0.0079 (best 0.0079)\n"
     ]
    },
    {
     "name": "stderr",
     "output_type": "stream",
     "text": [
      "100%|███████████████████████████████████████| 1111/1111 [01:45<00:00, 10.57it/s]\n",
      "  0%|                                                 | 0/15691 [00:00<?, ?it/s]"
     ]
    },
    {
     "name": "stdout",
     "output_type": "stream",
     "text": [
      "[valid] epoch time: 105.15s, average batch time: 0.76s\n",
      "[valid] L1 : 0.0136 (best 0.0126), L1 : 0.0136 (best 0.0126)\n",
      "\n",
      "2022/03/16, 13:50:29 - [Epoch 263 / lr 1.50e-04]\n"
     ]
    },
    {
     "name": "stderr",
     "output_type": "stream",
     "text": [
      "100%|█████████████████████████████████████| 15691/15691 [29:24<00:00,  8.89it/s]\n",
      "  0%|                                                  | 0/1111 [00:00<?, ?it/s]"
     ]
    },
    {
     "name": "stdout",
     "output_type": "stream",
     "text": [
      "[train] epoch time: 1764.37s, average batch time: 0.90s\n",
      "[train] L1 : 0.0080 (best 0.0079), L1 : 0.0080 (best 0.0079)\n"
     ]
    },
    {
     "name": "stderr",
     "output_type": "stream",
     "text": [
      "100%|███████████████████████████████████████| 1111/1111 [01:44<00:00, 10.58it/s]\n",
      "  0%|                                                 | 0/15691 [00:00<?, ?it/s]"
     ]
    },
    {
     "name": "stdout",
     "output_type": "stream",
     "text": [
      "[valid] epoch time: 104.98s, average batch time: 0.76s\n",
      "[valid] L1 : 0.0140 (best 0.0126), L1 : 0.0140 (best 0.0126)\n",
      "\n",
      "2022/03/16, 14:21:38 - [Epoch 264 / lr 1.50e-04]\n"
     ]
    },
    {
     "name": "stderr",
     "output_type": "stream",
     "text": [
      "100%|█████████████████████████████████████| 15691/15691 [29:27<00:00,  8.88it/s]\n",
      "  0%|                                                  | 0/1111 [00:00<?, ?it/s]"
     ]
    },
    {
     "name": "stdout",
     "output_type": "stream",
     "text": [
      "[train] epoch time: 1767.94s, average batch time: 0.90s\n",
      "[train] L1 : 0.0079 (best 0.0079), L1 : 0.0079 (best 0.0079)\n"
     ]
    },
    {
     "name": "stderr",
     "output_type": "stream",
     "text": [
      "100%|███████████████████████████████████████| 1111/1111 [01:35<00:00, 11.59it/s]\n",
      "  0%|                                                 | 0/15691 [00:00<?, ?it/s]"
     ]
    },
    {
     "name": "stdout",
     "output_type": "stream",
     "text": [
      "[valid] epoch time: 95.82s, average batch time: 0.69s\n",
      "[valid] L1 : 0.0129 (best 0.0126), L1 : 0.0129 (best 0.0126)\n",
      "\n",
      "2022/03/16, 14:52:42 - [Epoch 265 / lr 1.50e-04]\n"
     ]
    },
    {
     "name": "stderr",
     "output_type": "stream",
     "text": [
      "100%|█████████████████████████████████████| 15691/15691 [28:48<00:00,  9.08it/s]\n",
      "  0%|                                                  | 0/1111 [00:00<?, ?it/s]"
     ]
    },
    {
     "name": "stdout",
     "output_type": "stream",
     "text": [
      "[train] epoch time: 1728.28s, average batch time: 0.88s\n",
      "[train] L1 : 0.0080 (best 0.0079), L1 : 0.0080 (best 0.0079)\n"
     ]
    },
    {
     "name": "stderr",
     "output_type": "stream",
     "text": [
      "100%|███████████████████████████████████████| 1111/1111 [02:03<00:00,  8.97it/s]\n",
      "  0%|                                                 | 0/15691 [00:00<?, ?it/s]"
     ]
    },
    {
     "name": "stdout",
     "output_type": "stream",
     "text": [
      "[valid] epoch time: 123.90s, average batch time: 0.89s\n",
      "[valid] L1 : 0.0140 (best 0.0126), L1 : 0.0140 (best 0.0126)\n",
      "\n",
      "2022/03/16, 15:23:34 - [Epoch 266 / lr 1.50e-04]\n"
     ]
    },
    {
     "name": "stderr",
     "output_type": "stream",
     "text": [
      "100%|█████████████████████████████████████| 15691/15691 [29:35<00:00,  8.84it/s]\n",
      "  0%|                                                  | 0/1111 [00:00<?, ?it/s]"
     ]
    },
    {
     "name": "stdout",
     "output_type": "stream",
     "text": [
      "[train] epoch time: 1775.56s, average batch time: 0.90s\n",
      "[train] L1 : 0.0079 (best 0.0079), L1 : 0.0079 (best 0.0079)\n"
     ]
    },
    {
     "name": "stderr",
     "output_type": "stream",
     "text": [
      "100%|███████████████████████████████████████| 1111/1111 [01:38<00:00, 11.25it/s]\n",
      "  0%|                                                 | 0/15691 [00:00<?, ?it/s]"
     ]
    },
    {
     "name": "stdout",
     "output_type": "stream",
     "text": [
      "[valid] epoch time: 98.79s, average batch time: 0.71s\n",
      "[valid] L1 : 0.0132 (best 0.0126), L1 : 0.0132 (best 0.0126)\n",
      "\n",
      "2022/03/16, 15:54:49 - [Epoch 267 / lr 1.50e-04]\n"
     ]
    },
    {
     "name": "stderr",
     "output_type": "stream",
     "text": [
      "100%|█████████████████████████████████████| 15691/15691 [29:13<00:00,  8.95it/s]\n",
      "  0%|                                                  | 0/1111 [00:00<?, ?it/s]"
     ]
    },
    {
     "name": "stdout",
     "output_type": "stream",
     "text": [
      "[train] epoch time: 1753.33s, average batch time: 0.89s\n",
      "[train] L1 : 0.0080 (best 0.0079), L1 : 0.0080 (best 0.0079)\n"
     ]
    },
    {
     "name": "stderr",
     "output_type": "stream",
     "text": [
      "100%|███████████████████████████████████████| 1111/1111 [02:01<00:00,  9.15it/s]\n",
      "  0%|                                                 | 0/15691 [00:00<?, ?it/s]"
     ]
    },
    {
     "name": "stdout",
     "output_type": "stream",
     "text": [
      "[valid] epoch time: 121.48s, average batch time: 0.87s\n",
      "[valid] L1 : 0.0143 (best 0.0126), L1 : 0.0143 (best 0.0126)\n",
      "\n",
      "2022/03/16, 16:26:03 - [Epoch 268 / lr 1.50e-04]\n"
     ]
    },
    {
     "name": "stderr",
     "output_type": "stream",
     "text": [
      "100%|█████████████████████████████████████| 15691/15691 [29:23<00:00,  8.90it/s]\n",
      "  0%|                                                  | 0/1111 [00:00<?, ?it/s]"
     ]
    },
    {
     "name": "stdout",
     "output_type": "stream",
     "text": [
      "[train] epoch time: 1763.09s, average batch time: 0.90s\n",
      "[train] L1 : 0.0079 (best 0.0079), L1 : 0.0079 (best 0.0079)\n"
     ]
    },
    {
     "name": "stderr",
     "output_type": "stream",
     "text": [
      "100%|███████████████████████████████████████| 1111/1111 [01:29<00:00, 12.48it/s]\n",
      "  0%|                                                 | 0/15691 [00:00<?, ?it/s]"
     ]
    },
    {
     "name": "stdout",
     "output_type": "stream",
     "text": [
      "[valid] epoch time: 89.04s, average batch time: 0.64s\n",
      "[valid] L1 : 0.0136 (best 0.0126), L1 : 0.0136 (best 0.0126)\n",
      "\n",
      "2022/03/16, 16:56:56 - [Epoch 269 / lr 1.50e-04]\n"
     ]
    },
    {
     "name": "stderr",
     "output_type": "stream",
     "text": [
      "100%|█████████████████████████████████████| 15691/15691 [29:58<00:00,  8.73it/s]\n",
      "  0%|                                                  | 0/1111 [00:00<?, ?it/s]"
     ]
    },
    {
     "name": "stdout",
     "output_type": "stream",
     "text": [
      "[train] epoch time: 1798.20s, average batch time: 0.92s\n",
      "[train] L1 : 0.0079 (best 0.0079), L1 : 0.0079 (best 0.0079)\n"
     ]
    },
    {
     "name": "stderr",
     "output_type": "stream",
     "text": [
      "100%|███████████████████████████████████████| 1111/1111 [01:30<00:00, 12.22it/s]\n",
      "  0%|                                                 | 0/15691 [00:00<?, ?it/s]"
     ]
    },
    {
     "name": "stdout",
     "output_type": "stream",
     "text": [
      "[valid] epoch time: 90.91s, average batch time: 0.65s\n",
      "[valid] L1 : 0.0145 (best 0.0126), L1 : 0.0145 (best 0.0126)\n",
      "\n",
      "2022/03/16, 17:28:25 - [Epoch 270 / lr 1.50e-04]\n"
     ]
    },
    {
     "name": "stderr",
     "output_type": "stream",
     "text": [
      "100%|█████████████████████████████████████| 15691/15691 [28:48<00:00,  9.08it/s]\n",
      "  0%|                                                  | 0/1111 [00:00<?, ?it/s]"
     ]
    },
    {
     "name": "stdout",
     "output_type": "stream",
     "text": [
      "[train] epoch time: 1728.58s, average batch time: 0.88s\n",
      "[train] L1 : 0.0079 (best 0.0079), L1 : 0.0079 (best 0.0079)\n"
     ]
    },
    {
     "name": "stderr",
     "output_type": "stream",
     "text": [
      "100%|███████████████████████████████████████| 1111/1111 [02:21<00:00,  7.85it/s]\n",
      "  0%|                                                 | 0/15691 [00:00<?, ?it/s]"
     ]
    },
    {
     "name": "stdout",
     "output_type": "stream",
     "text": [
      "[valid] epoch time: 141.53s, average batch time: 1.02s\n",
      "[valid] L1 : 0.0127 (best 0.0126), L1 : 0.0127 (best 0.0126)\n",
      "\n",
      "2022/03/16, 17:59:35 - [Epoch 271 / lr 1.50e-04]\n"
     ]
    },
    {
     "name": "stderr",
     "output_type": "stream",
     "text": [
      "100%|█████████████████████████████████████| 15691/15691 [29:38<00:00,  8.82it/s]\n",
      "  0%|                                                  | 0/1111 [00:00<?, ?it/s]"
     ]
    },
    {
     "name": "stdout",
     "output_type": "stream",
     "text": [
      "[train] epoch time: 1778.30s, average batch time: 0.91s\n",
      "[train] L1 : 0.0079 (best 0.0079), L1 : 0.0079 (best 0.0079)\n"
     ]
    },
    {
     "name": "stderr",
     "output_type": "stream",
     "text": [
      "100%|███████████████████████████████████████| 1111/1111 [01:26<00:00, 12.92it/s]\n",
      "  0%|                                                 | 0/15691 [00:00<?, ?it/s]"
     ]
    },
    {
     "name": "stdout",
     "output_type": "stream",
     "text": [
      "[valid] epoch time: 86.02s, average batch time: 0.62s\n",
      "[valid] L1 : 0.0139 (best 0.0126), L1 : 0.0139 (best 0.0126)\n",
      "\n",
      "2022/03/16, 18:30:39 - [Epoch 272 / lr 1.50e-04]\n"
     ]
    },
    {
     "name": "stderr",
     "output_type": "stream",
     "text": [
      "100%|█████████████████████████████████████| 15691/15691 [29:00<00:00,  9.02it/s]\n",
      "  0%|                                                  | 0/1111 [00:00<?, ?it/s]"
     ]
    },
    {
     "name": "stdout",
     "output_type": "stream",
     "text": [
      "[train] epoch time: 1740.13s, average batch time: 0.89s\n",
      "[train] L1 : 0.0079 (best 0.0079), L1 : 0.0079 (best 0.0079)\n"
     ]
    },
    {
     "name": "stderr",
     "output_type": "stream",
     "text": [
      "100%|███████████████████████████████████████| 1111/1111 [01:51<00:00,  9.94it/s]\n",
      "  0%|                                                 | 0/15691 [00:00<?, ?it/s]"
     ]
    },
    {
     "name": "stdout",
     "output_type": "stream",
     "text": [
      "[valid] epoch time: 111.79s, average batch time: 0.80s\n",
      "[valid] L1 : 0.0129 (best 0.0126), L1 : 0.0129 (best 0.0126)\n",
      "\n",
      "2022/03/16, 19:01:31 - [Epoch 273 / lr 1.50e-04]\n"
     ]
    },
    {
     "name": "stderr",
     "output_type": "stream",
     "text": [
      "100%|█████████████████████████████████████| 15691/15691 [29:20<00:00,  8.91it/s]\n",
      "  0%|                                                  | 0/1111 [00:00<?, ?it/s]"
     ]
    },
    {
     "name": "stdout",
     "output_type": "stream",
     "text": [
      "[train] epoch time: 1760.30s, average batch time: 0.90s\n",
      "[train] L1 : 0.0079 (best 0.0079), L1 : 0.0079 (best 0.0079)\n"
     ]
    },
    {
     "name": "stderr",
     "output_type": "stream",
     "text": [
      "100%|███████████████████████████████████████| 1111/1111 [01:43<00:00, 10.71it/s]\n",
      "  0%|                                                 | 0/15691 [00:00<?, ?it/s]"
     ]
    },
    {
     "name": "stdout",
     "output_type": "stream",
     "text": [
      "[valid] epoch time: 103.77s, average batch time: 0.75s\n",
      "[valid] L1 : 0.0135 (best 0.0126), L1 : 0.0135 (best 0.0126)\n",
      "\n",
      "2022/03/16, 19:32:35 - [Epoch 274 / lr 1.50e-04]\n"
     ]
    },
    {
     "name": "stderr",
     "output_type": "stream",
     "text": [
      "100%|█████████████████████████████████████| 15691/15691 [29:46<00:00,  8.78it/s]\n",
      "  0%|                                                  | 0/1111 [00:00<?, ?it/s]"
     ]
    },
    {
     "name": "stdout",
     "output_type": "stream",
     "text": [
      "[train] epoch time: 1786.31s, average batch time: 0.91s\n",
      "[train] L1 : 0.0078 (best 0.0078), L1 : 0.0078 (best 0.0078)\n"
     ]
    },
    {
     "name": "stderr",
     "output_type": "stream",
     "text": [
      "100%|███████████████████████████████████████| 1111/1111 [01:19<00:00, 13.92it/s]\n",
      "  0%|                                                 | 0/15691 [00:00<?, ?it/s]"
     ]
    },
    {
     "name": "stdout",
     "output_type": "stream",
     "text": [
      "[valid] epoch time: 79.79s, average batch time: 0.57s\n",
      "[valid] L1 : 0.0137 (best 0.0126), L1 : 0.0137 (best 0.0126)\n",
      "\n",
      "2022/03/16, 20:03:42 - [Epoch 275 / lr 1.50e-04]\n"
     ]
    },
    {
     "name": "stderr",
     "output_type": "stream",
     "text": [
      "100%|█████████████████████████████████████| 15691/15691 [29:40<00:00,  8.81it/s]\n",
      "  0%|                                                  | 0/1111 [00:00<?, ?it/s]"
     ]
    },
    {
     "name": "stdout",
     "output_type": "stream",
     "text": [
      "[train] epoch time: 1780.77s, average batch time: 0.91s\n",
      "[train] L1 : 0.0079 (best 0.0078), L1 : 0.0079 (best 0.0078)\n"
     ]
    },
    {
     "name": "stderr",
     "output_type": "stream",
     "text": [
      "100%|███████████████████████████████████████| 1111/1111 [01:46<00:00, 10.48it/s]\n",
      "  0%|                                                 | 0/15691 [00:00<?, ?it/s]"
     ]
    },
    {
     "name": "stdout",
     "output_type": "stream",
     "text": [
      "[valid] epoch time: 106.04s, average batch time: 0.76s\n",
      "[valid] L1 : 0.0142 (best 0.0126), L1 : 0.0142 (best 0.0126)\n",
      "\n",
      "2022/03/16, 20:35:09 - [Epoch 276 / lr 1.50e-04]\n"
     ]
    },
    {
     "name": "stderr",
     "output_type": "stream",
     "text": [
      "100%|█████████████████████████████████████| 15691/15691 [29:12<00:00,  8.95it/s]\n",
      "  0%|                                                  | 0/1111 [00:00<?, ?it/s]"
     ]
    },
    {
     "name": "stdout",
     "output_type": "stream",
     "text": [
      "[train] epoch time: 1752.69s, average batch time: 0.89s\n",
      "[train] L1 : 0.0079 (best 0.0078), L1 : 0.0079 (best 0.0078)\n"
     ]
    },
    {
     "name": "stderr",
     "output_type": "stream",
     "text": [
      "100%|███████████████████████████████████████| 1111/1111 [02:05<00:00,  8.83it/s]\n",
      "  0%|                                                 | 0/15691 [00:00<?, ?it/s]"
     ]
    },
    {
     "name": "stdout",
     "output_type": "stream",
     "text": [
      "[valid] epoch time: 125.77s, average batch time: 0.90s\n",
      "[valid] L1 : 0.0137 (best 0.0126), L1 : 0.0137 (best 0.0126)\n",
      "\n",
      "2022/03/16, 21:06:27 - [Epoch 277 / lr 1.50e-04]\n"
     ]
    },
    {
     "name": "stderr",
     "output_type": "stream",
     "text": [
      "100%|█████████████████████████████████████| 15691/15691 [28:48<00:00,  9.08it/s]\n",
      "  0%|                                                  | 0/1111 [00:00<?, ?it/s]"
     ]
    },
    {
     "name": "stdout",
     "output_type": "stream",
     "text": [
      "[train] epoch time: 1728.04s, average batch time: 0.88s\n",
      "[train] L1 : 0.0079 (best 0.0078), L1 : 0.0079 (best 0.0078)\n"
     ]
    },
    {
     "name": "stderr",
     "output_type": "stream",
     "text": [
      "100%|███████████████████████████████████████| 1111/1111 [01:54<00:00,  9.71it/s]\n",
      "  0%|                                                 | 0/15691 [00:00<?, ?it/s]"
     ]
    },
    {
     "name": "stdout",
     "output_type": "stream",
     "text": [
      "[valid] epoch time: 114.37s, average batch time: 0.82s\n",
      "[valid] L1 : 0.0131 (best 0.0126), L1 : 0.0131 (best 0.0126)\n",
      "\n",
      "2022/03/16, 21:37:10 - [Epoch 278 / lr 1.50e-04]\n"
     ]
    },
    {
     "name": "stderr",
     "output_type": "stream",
     "text": [
      "100%|█████████████████████████████████████| 15691/15691 [29:47<00:00,  8.78it/s]\n",
      "  0%|                                                  | 0/1111 [00:00<?, ?it/s]"
     ]
    },
    {
     "name": "stdout",
     "output_type": "stream",
     "text": [
      "[train] epoch time: 1787.61s, average batch time: 0.91s\n",
      "[train] L1 : 0.0078 (best 0.0078), L1 : 0.0078 (best 0.0078)\n"
     ]
    },
    {
     "name": "stderr",
     "output_type": "stream",
     "text": [
      "100%|███████████████████████████████████████| 1111/1111 [01:18<00:00, 14.19it/s]\n",
      "  0%|                                                 | 0/15691 [00:00<?, ?it/s]"
     ]
    },
    {
     "name": "stdout",
     "output_type": "stream",
     "text": [
      "[valid] epoch time: 78.30s, average batch time: 0.56s\n",
      "[valid] L1 : 0.0137 (best 0.0126), L1 : 0.0137 (best 0.0126)\n",
      "\n",
      "2022/03/16, 22:08:16 - [Epoch 279 / lr 1.50e-04]\n"
     ]
    },
    {
     "name": "stderr",
     "output_type": "stream",
     "text": [
      "100%|█████████████████████████████████████| 15691/15691 [29:43<00:00,  8.80it/s]\n",
      "  0%|                                                  | 0/1111 [00:00<?, ?it/s]"
     ]
    },
    {
     "name": "stdout",
     "output_type": "stream",
     "text": [
      "[train] epoch time: 1783.24s, average batch time: 0.91s\n",
      "[train] L1 : 0.0078 (best 0.0078), L1 : 0.0078 (best 0.0078)\n"
     ]
    },
    {
     "name": "stderr",
     "output_type": "stream",
     "text": [
      "100%|███████████████████████████████████████| 1111/1111 [01:50<00:00, 10.02it/s]\n",
      "  0%|                                                 | 0/15691 [00:00<?, ?it/s]"
     ]
    },
    {
     "name": "stdout",
     "output_type": "stream",
     "text": [
      "[valid] epoch time: 110.92s, average batch time: 0.80s\n",
      "[valid] L1 : 0.0142 (best 0.0126), L1 : 0.0142 (best 0.0126)\n",
      "\n",
      "2022/03/16, 22:39:50 - [Epoch 280 / lr 1.50e-04]\n"
     ]
    },
    {
     "name": "stderr",
     "output_type": "stream",
     "text": [
      "100%|█████████████████████████████████████| 15691/15691 [29:49<00:00,  8.77it/s]\n",
      "  0%|                                                  | 0/1111 [00:00<?, ?it/s]"
     ]
    },
    {
     "name": "stdout",
     "output_type": "stream",
     "text": [
      "[train] epoch time: 1789.29s, average batch time: 0.91s\n",
      "[train] L1 : 0.0078 (best 0.0078), L1 : 0.0078 (best 0.0078)\n"
     ]
    },
    {
     "name": "stderr",
     "output_type": "stream",
     "text": [
      "100%|███████████████████████████████████████| 1111/1111 [01:39<00:00, 11.13it/s]\n",
      "  0%|                                                 | 0/15691 [00:00<?, ?it/s]"
     ]
    },
    {
     "name": "stdout",
     "output_type": "stream",
     "text": [
      "[valid] epoch time: 99.87s, average batch time: 0.72s\n",
      "[valid] L1 : 0.0138 (best 0.0126), L1 : 0.0138 (best 0.0126)\n",
      "\n",
      "2022/03/16, 23:11:19 - [Epoch 281 / lr 1.50e-04]\n"
     ]
    },
    {
     "name": "stderr",
     "output_type": "stream",
     "text": [
      "100%|█████████████████████████████████████| 15691/15691 [29:34<00:00,  8.84it/s]\n",
      "  0%|                                                  | 0/1111 [00:00<?, ?it/s]"
     ]
    },
    {
     "name": "stdout",
     "output_type": "stream",
     "text": [
      "[train] epoch time: 1774.05s, average batch time: 0.90s\n",
      "[train] L1 : 0.0078 (best 0.0078), L1 : 0.0078 (best 0.0078)\n"
     ]
    },
    {
     "name": "stderr",
     "output_type": "stream",
     "text": [
      "100%|███████████████████████████████████████| 1111/1111 [01:40<00:00, 11.10it/s]\n",
      "  0%|                                                 | 0/15691 [00:00<?, ?it/s]"
     ]
    },
    {
     "name": "stdout",
     "output_type": "stream",
     "text": [
      "[valid] epoch time: 100.09s, average batch time: 0.72s\n",
      "[valid] L1 : 0.0137 (best 0.0126), L1 : 0.0137 (best 0.0126)\n",
      "\n",
      "2022/03/16, 23:42:33 - [Epoch 282 / lr 1.50e-04]\n"
     ]
    },
    {
     "name": "stderr",
     "output_type": "stream",
     "text": [
      "100%|█████████████████████████████████████| 15691/15691 [28:51<00:00,  9.06it/s]\n",
      "  0%|                                                  | 0/1111 [00:00<?, ?it/s]"
     ]
    },
    {
     "name": "stdout",
     "output_type": "stream",
     "text": [
      "[train] epoch time: 1731.99s, average batch time: 0.88s\n",
      "[train] L1 : 0.0078 (best 0.0078), L1 : 0.0078 (best 0.0078)\n"
     ]
    },
    {
     "name": "stderr",
     "output_type": "stream",
     "text": [
      "100%|███████████████████████████████████████| 1111/1111 [02:05<00:00,  8.85it/s]\n",
      "  0%|                                                 | 0/15691 [00:00<?, ?it/s]"
     ]
    },
    {
     "name": "stdout",
     "output_type": "stream",
     "text": [
      "[valid] epoch time: 125.58s, average batch time: 0.90s\n",
      "[valid] L1 : 0.0137 (best 0.0126), L1 : 0.0137 (best 0.0126)\n",
      "\n",
      "2022/03/17, 00:13:31 - [Epoch 283 / lr 1.50e-04]\n"
     ]
    },
    {
     "name": "stderr",
     "output_type": "stream",
     "text": [
      "100%|█████████████████████████████████████| 15691/15691 [30:00<00:00,  8.71it/s]\n",
      "  0%|                                                  | 0/1111 [00:00<?, ?it/s]"
     ]
    },
    {
     "name": "stdout",
     "output_type": "stream",
     "text": [
      "[train] epoch time: 1800.48s, average batch time: 0.92s\n",
      "[train] L1 : 0.0078 (best 0.0078), L1 : 0.0078 (best 0.0078)\n"
     ]
    },
    {
     "name": "stderr",
     "output_type": "stream",
     "text": [
      "100%|███████████████████████████████████████| 1111/1111 [01:25<00:00, 13.05it/s]\n",
      "  0%|                                                 | 0/15691 [00:00<?, ?it/s]"
     ]
    },
    {
     "name": "stdout",
     "output_type": "stream",
     "text": [
      "[valid] epoch time: 85.11s, average batch time: 0.61s\n",
      "[valid] L1 : 0.0134 (best 0.0126), L1 : 0.0134 (best 0.0126)\n",
      "\n",
      "2022/03/17, 00:44:57 - [Epoch 284 / lr 1.50e-04]\n"
     ]
    },
    {
     "name": "stderr",
     "output_type": "stream",
     "text": [
      "100%|█████████████████████████████████████| 15691/15691 [29:39<00:00,  8.82it/s]\n",
      "  0%|                                                  | 0/1111 [00:00<?, ?it/s]"
     ]
    },
    {
     "name": "stdout",
     "output_type": "stream",
     "text": [
      "[train] epoch time: 1779.91s, average batch time: 0.91s\n",
      "[train] L1 : 0.0079 (best 0.0078), L1 : 0.0079 (best 0.0078)\n"
     ]
    },
    {
     "name": "stderr",
     "output_type": "stream",
     "text": [
      "100%|███████████████████████████████████████| 1111/1111 [01:32<00:00, 12.02it/s]\n",
      "  0%|                                                 | 0/15691 [00:00<?, ?it/s]"
     ]
    },
    {
     "name": "stdout",
     "output_type": "stream",
     "text": [
      "[valid] epoch time: 92.40s, average batch time: 0.66s\n",
      "[valid] L1 : 0.0146 (best 0.0126), L1 : 0.0146 (best 0.0126)\n",
      "\n",
      "2022/03/17, 01:16:09 - [Epoch 285 / lr 1.50e-04]\n"
     ]
    },
    {
     "name": "stderr",
     "output_type": "stream",
     "text": [
      "100%|█████████████████████████████████████| 15691/15691 [29:32<00:00,  8.85it/s]\n",
      "  0%|                                                  | 0/1111 [00:00<?, ?it/s]"
     ]
    },
    {
     "name": "stdout",
     "output_type": "stream",
     "text": [
      "[train] epoch time: 1772.41s, average batch time: 0.90s\n",
      "[train] L1 : 0.0078 (best 0.0078), L1 : 0.0078 (best 0.0078)\n"
     ]
    },
    {
     "name": "stderr",
     "output_type": "stream",
     "text": [
      "100%|███████████████████████████████████████| 1111/1111 [01:55<00:00,  9.65it/s]\n",
      "  0%|                                                 | 0/15691 [00:00<?, ?it/s]"
     ]
    },
    {
     "name": "stdout",
     "output_type": "stream",
     "text": [
      "[valid] epoch time: 115.14s, average batch time: 0.83s\n",
      "[valid] L1 : 0.0140 (best 0.0126), L1 : 0.0140 (best 0.0126)\n",
      "\n",
      "2022/03/17, 01:47:37 - [Epoch 286 / lr 1.50e-04]\n"
     ]
    },
    {
     "name": "stderr",
     "output_type": "stream",
     "text": [
      "100%|█████████████████████████████████████| 15691/15691 [29:48<00:00,  8.77it/s]\n",
      "  0%|                                                  | 0/1111 [00:00<?, ?it/s]"
     ]
    },
    {
     "name": "stdout",
     "output_type": "stream",
     "text": [
      "[train] epoch time: 1788.79s, average batch time: 0.91s\n",
      "[train] L1 : 0.0079 (best 0.0078), L1 : 0.0079 (best 0.0078)\n"
     ]
    },
    {
     "name": "stderr",
     "output_type": "stream",
     "text": [
      "100%|███████████████████████████████████████| 1111/1111 [01:18<00:00, 14.15it/s]\n",
      "  0%|                                                 | 0/15691 [00:00<?, ?it/s]"
     ]
    },
    {
     "name": "stdout",
     "output_type": "stream",
     "text": [
      "[valid] epoch time: 78.52s, average batch time: 0.56s\n",
      "[valid] L1 : 0.0140 (best 0.0126), L1 : 0.0140 (best 0.0126)\n",
      "\n",
      "2022/03/17, 02:18:44 - [Epoch 287 / lr 1.50e-04]\n"
     ]
    },
    {
     "name": "stderr",
     "output_type": "stream",
     "text": [
      "100%|█████████████████████████████████████| 15691/15691 [30:01<00:00,  8.71it/s]\n",
      "  0%|                                                  | 0/1111 [00:00<?, ?it/s]"
     ]
    },
    {
     "name": "stdout",
     "output_type": "stream",
     "text": [
      "[train] epoch time: 1801.37s, average batch time: 0.92s\n",
      "[train] L1 : 0.0078 (best 0.0078), L1 : 0.0078 (best 0.0078)\n"
     ]
    },
    {
     "name": "stderr",
     "output_type": "stream",
     "text": [
      "100%|███████████████████████████████████████| 1111/1111 [01:55<00:00,  9.61it/s]\n",
      "  0%|                                                 | 0/15691 [00:00<?, ?it/s]"
     ]
    },
    {
     "name": "stdout",
     "output_type": "stream",
     "text": [
      "[valid] epoch time: 115.62s, average batch time: 0.83s\n",
      "[valid] L1 : 0.0148 (best 0.0126), L1 : 0.0148 (best 0.0126)\n",
      "\n",
      "2022/03/17, 02:50:41 - [Epoch 288 / lr 1.50e-04]\n"
     ]
    },
    {
     "name": "stderr",
     "output_type": "stream",
     "text": [
      "100%|█████████████████████████████████████| 15691/15691 [29:55<00:00,  8.74it/s]\n",
      "  0%|                                                  | 0/1111 [00:00<?, ?it/s]"
     ]
    },
    {
     "name": "stdout",
     "output_type": "stream",
     "text": [
      "[train] epoch time: 1795.26s, average batch time: 0.92s\n",
      "[train] L1 : 0.0078 (best 0.0078), L1 : 0.0078 (best 0.0078)\n"
     ]
    },
    {
     "name": "stderr",
     "output_type": "stream",
     "text": [
      "100%|███████████████████████████████████████| 1111/1111 [01:48<00:00, 10.25it/s]\n",
      "  0%|                                                 | 0/15691 [00:00<?, ?it/s]"
     ]
    },
    {
     "name": "stdout",
     "output_type": "stream",
     "text": [
      "[valid] epoch time: 108.43s, average batch time: 0.78s\n",
      "[valid] L1 : 0.0139 (best 0.0126), L1 : 0.0139 (best 0.0126)\n",
      "\n",
      "2022/03/17, 03:22:25 - [Epoch 289 / lr 1.50e-04]\n"
     ]
    },
    {
     "name": "stderr",
     "output_type": "stream",
     "text": [
      "100%|█████████████████████████████████████| 15691/15691 [33:33<00:00,  7.79it/s]\n",
      "  0%|                                                  | 0/1111 [00:00<?, ?it/s]"
     ]
    },
    {
     "name": "stdout",
     "output_type": "stream",
     "text": [
      "[train] epoch time: 2013.79s, average batch time: 1.03s\n",
      "[train] L1 : 0.0078 (best 0.0078), L1 : 0.0078 (best 0.0078)\n"
     ]
    },
    {
     "name": "stderr",
     "output_type": "stream",
     "text": [
      "100%|███████████████████████████████████████| 1111/1111 [02:18<00:00,  8.01it/s]\n",
      "  0%|                                                 | 0/15691 [00:00<?, ?it/s]"
     ]
    },
    {
     "name": "stdout",
     "output_type": "stream",
     "text": [
      "[valid] epoch time: 138.72s, average batch time: 1.00s\n",
      "[valid] L1 : 0.0142 (best 0.0126), L1 : 0.0142 (best 0.0126)\n",
      "\n",
      "2022/03/17, 03:58:17 - [Epoch 290 / lr 1.50e-04]\n"
     ]
    },
    {
     "name": "stderr",
     "output_type": "stream",
     "text": [
      "100%|█████████████████████████████████████| 15691/15691 [31:42<00:00,  8.25it/s]\n",
      "  0%|                                                  | 0/1111 [00:00<?, ?it/s]"
     ]
    },
    {
     "name": "stdout",
     "output_type": "stream",
     "text": [
      "[train] epoch time: 1902.63s, average batch time: 0.97s\n",
      "[train] L1 : 0.0079 (best 0.0078), L1 : 0.0079 (best 0.0078)\n"
     ]
    },
    {
     "name": "stderr",
     "output_type": "stream",
     "text": [
      "100%|███████████████████████████████████████| 1111/1111 [02:16<00:00,  8.13it/s]\n",
      "  0%|                                                 | 0/15691 [00:00<?, ?it/s]"
     ]
    },
    {
     "name": "stdout",
     "output_type": "stream",
     "text": [
      "[valid] epoch time: 136.61s, average batch time: 0.98s\n",
      "[valid] L1 : 0.0140 (best 0.0126), L1 : 0.0140 (best 0.0126)\n",
      "\n",
      "2022/03/17, 04:32:17 - [Epoch 291 / lr 1.50e-04]\n"
     ]
    },
    {
     "name": "stderr",
     "output_type": "stream",
     "text": [
      "100%|█████████████████████████████████████| 15691/15691 [29:52<00:00,  8.75it/s]\n",
      "  0%|                                                  | 0/1111 [00:00<?, ?it/s]"
     ]
    },
    {
     "name": "stdout",
     "output_type": "stream",
     "text": [
      "[train] epoch time: 1792.45s, average batch time: 0.91s\n",
      "[train] L1 : 0.0078 (best 0.0078), L1 : 0.0078 (best 0.0078)\n"
     ]
    },
    {
     "name": "stderr",
     "output_type": "stream",
     "text": [
      "100%|███████████████████████████████████████| 1111/1111 [01:24<00:00, 13.20it/s]\n",
      "  0%|                                                 | 0/15691 [00:00<?, ?it/s]"
     ]
    },
    {
     "name": "stdout",
     "output_type": "stream",
     "text": [
      "[valid] epoch time: 84.17s, average batch time: 0.61s\n",
      "[valid] L1 : 0.0138 (best 0.0126), L1 : 0.0138 (best 0.0126)\n",
      "\n",
      "2022/03/17, 05:03:33 - [Epoch 292 / lr 1.50e-04]\n"
     ]
    },
    {
     "name": "stderr",
     "output_type": "stream",
     "text": [
      "100%|█████████████████████████████████████| 15691/15691 [29:41<00:00,  8.81it/s]\n",
      "  0%|                                                  | 0/1111 [00:00<?, ?it/s]"
     ]
    },
    {
     "name": "stdout",
     "output_type": "stream",
     "text": [
      "[train] epoch time: 1781.80s, average batch time: 0.91s\n",
      "[train] L1 : 0.0077 (best 0.0077), L1 : 0.0077 (best 0.0077)\n"
     ]
    },
    {
     "name": "stderr",
     "output_type": "stream",
     "text": [
      "100%|███████████████████████████████████████| 1111/1111 [01:55<00:00,  9.61it/s]\n",
      "  0%|                                                 | 0/15691 [00:00<?, ?it/s]"
     ]
    },
    {
     "name": "stdout",
     "output_type": "stream",
     "text": [
      "[valid] epoch time: 115.64s, average batch time: 0.83s\n",
      "[valid] L1 : 0.0142 (best 0.0126), L1 : 0.0142 (best 0.0126)\n",
      "\n",
      "2022/03/17, 05:35:11 - [Epoch 293 / lr 1.50e-04]\n"
     ]
    },
    {
     "name": "stderr",
     "output_type": "stream",
     "text": [
      "100%|█████████████████████████████████████| 15691/15691 [29:49<00:00,  8.77it/s]\n",
      "  0%|                                                  | 0/1111 [00:00<?, ?it/s]"
     ]
    },
    {
     "name": "stdout",
     "output_type": "stream",
     "text": [
      "[train] epoch time: 1789.40s, average batch time: 0.91s\n",
      "[train] L1 : 0.0078 (best 0.0077), L1 : 0.0078 (best 0.0077)\n"
     ]
    },
    {
     "name": "stderr",
     "output_type": "stream",
     "text": [
      "100%|███████████████████████████████████████| 1111/1111 [01:38<00:00, 11.24it/s]\n",
      "  0%|                                                 | 0/15691 [00:00<?, ?it/s]"
     ]
    },
    {
     "name": "stdout",
     "output_type": "stream",
     "text": [
      "[valid] epoch time: 98.85s, average batch time: 0.71s\n",
      "[valid] L1 : 0.0155 (best 0.0126), L1 : 0.0155 (best 0.0126)\n",
      "\n",
      "2022/03/17, 06:06:39 - [Epoch 294 / lr 1.50e-04]\n"
     ]
    },
    {
     "name": "stderr",
     "output_type": "stream",
     "text": [
      "100%|█████████████████████████████████████| 15691/15691 [29:47<00:00,  8.78it/s]\n",
      "  0%|                                                  | 0/1111 [00:00<?, ?it/s]"
     ]
    },
    {
     "name": "stdout",
     "output_type": "stream",
     "text": [
      "[train] epoch time: 1787.29s, average batch time: 0.91s\n",
      "[train] L1 : 0.0078 (best 0.0077), L1 : 0.0078 (best 0.0077)\n"
     ]
    },
    {
     "name": "stderr",
     "output_type": "stream",
     "text": [
      "100%|███████████████████████████████████████| 1111/1111 [01:32<00:00, 12.07it/s]\n",
      "  0%|                                                 | 0/15691 [00:00<?, ?it/s]"
     ]
    },
    {
     "name": "stdout",
     "output_type": "stream",
     "text": [
      "[valid] epoch time: 92.07s, average batch time: 0.66s\n",
      "[valid] L1 : 0.0138 (best 0.0126), L1 : 0.0138 (best 0.0126)\n",
      "\n",
      "2022/03/17, 06:37:59 - [Epoch 295 / lr 1.50e-04]\n"
     ]
    },
    {
     "name": "stderr",
     "output_type": "stream",
     "text": [
      "100%|█████████████████████████████████████| 15691/15691 [30:59<00:00,  8.44it/s]\n",
      "  0%|                                                  | 0/1111 [00:00<?, ?it/s]"
     ]
    },
    {
     "name": "stdout",
     "output_type": "stream",
     "text": [
      "[train] epoch time: 1859.96s, average batch time: 0.95s\n",
      "[train] L1 : 0.0078 (best 0.0077), L1 : 0.0078 (best 0.0077)\n"
     ]
    },
    {
     "name": "stderr",
     "output_type": "stream",
     "text": [
      "100%|███████████████████████████████████████| 1111/1111 [02:21<00:00,  7.87it/s]\n",
      "  0%|                                                 | 0/15691 [00:00<?, ?it/s]"
     ]
    },
    {
     "name": "stdout",
     "output_type": "stream",
     "text": [
      "[valid] epoch time: 141.17s, average batch time: 1.02s\n",
      "[valid] L1 : 0.0139 (best 0.0126), L1 : 0.0139 (best 0.0126)\n",
      "\n",
      "2022/03/17, 07:11:20 - [Epoch 296 / lr 1.50e-04]\n"
     ]
    },
    {
     "name": "stderr",
     "output_type": "stream",
     "text": [
      "100%|█████████████████████████████████████| 15691/15691 [36:05<00:00,  7.24it/s]\n",
      "  0%|                                                  | 0/1111 [00:00<?, ?it/s]"
     ]
    },
    {
     "name": "stdout",
     "output_type": "stream",
     "text": [
      "[train] epoch time: 2165.79s, average batch time: 1.10s\n",
      "[train] L1 : 0.0078 (best 0.0077), L1 : 0.0078 (best 0.0077)\n"
     ]
    },
    {
     "name": "stderr",
     "output_type": "stream",
     "text": [
      "100%|███████████████████████████████████████| 1111/1111 [01:17<00:00, 14.25it/s]\n",
      "  0%|                                                 | 0/15691 [00:00<?, ?it/s]"
     ]
    },
    {
     "name": "stdout",
     "output_type": "stream",
     "text": [
      "[valid] epoch time: 77.99s, average batch time: 0.56s\n",
      "[valid] L1 : 0.0139 (best 0.0126), L1 : 0.0139 (best 0.0126)\n",
      "\n",
      "2022/03/17, 07:48:44 - [Epoch 297 / lr 1.50e-04]\n"
     ]
    },
    {
     "name": "stderr",
     "output_type": "stream",
     "text": [
      "100%|█████████████████████████████████████| 15691/15691 [30:01<00:00,  8.71it/s]\n",
      "  0%|                                                  | 0/1111 [00:00<?, ?it/s]"
     ]
    },
    {
     "name": "stdout",
     "output_type": "stream",
     "text": [
      "[train] epoch time: 1801.01s, average batch time: 0.92s\n",
      "[train] L1 : 0.0077 (best 0.0077), L1 : 0.0077 (best 0.0077)\n"
     ]
    },
    {
     "name": "stderr",
     "output_type": "stream",
     "text": [
      "100%|███████████████████████████████████████| 1111/1111 [02:05<00:00,  8.85it/s]\n",
      "  0%|                                                 | 0/15691 [00:00<?, ?it/s]"
     ]
    },
    {
     "name": "stdout",
     "output_type": "stream",
     "text": [
      "[valid] epoch time: 125.54s, average batch time: 0.90s\n",
      "[valid] L1 : 0.0133 (best 0.0126), L1 : 0.0133 (best 0.0126)\n",
      "\n",
      "2022/03/17, 08:20:50 - [Epoch 298 / lr 1.50e-04]\n"
     ]
    },
    {
     "name": "stderr",
     "output_type": "stream",
     "text": [
      "100%|█████████████████████████████████████| 15691/15691 [28:34<00:00,  9.15it/s]\n",
      "  0%|                                                  | 0/1111 [00:00<?, ?it/s]"
     ]
    },
    {
     "name": "stdout",
     "output_type": "stream",
     "text": [
      "[train] epoch time: 1714.73s, average batch time: 0.87s\n",
      "[train] L1 : 0.0077 (best 0.0077), L1 : 0.0077 (best 0.0077)\n"
     ]
    },
    {
     "name": "stderr",
     "output_type": "stream",
     "text": [
      "100%|███████████████████████████████████████| 1111/1111 [01:50<00:00, 10.10it/s]\n",
      "  0%|                                                 | 0/15691 [00:00<?, ?it/s]"
     ]
    },
    {
     "name": "stdout",
     "output_type": "stream",
     "text": [
      "[valid] epoch time: 110.01s, average batch time: 0.79s\n",
      "[valid] L1 : 0.0142 (best 0.0126), L1 : 0.0142 (best 0.0126)\n",
      "\n",
      "2022/03/17, 08:51:15 - [Epoch 299 / lr 1.50e-04]\n"
     ]
    },
    {
     "name": "stderr",
     "output_type": "stream",
     "text": [
      "100%|█████████████████████████████████████| 15691/15691 [29:43<00:00,  8.80it/s]\n",
      "  0%|                                                  | 0/1111 [00:00<?, ?it/s]"
     ]
    },
    {
     "name": "stdout",
     "output_type": "stream",
     "text": [
      "[train] epoch time: 1783.88s, average batch time: 0.91s\n",
      "[train] L1 : 0.0078 (best 0.0077), L1 : 0.0078 (best 0.0077)\n"
     ]
    },
    {
     "name": "stderr",
     "output_type": "stream",
     "text": [
      "100%|███████████████████████████████████████| 1111/1111 [01:21<00:00, 13.71it/s]\n",
      "  0%|                                                 | 0/15691 [00:00<?, ?it/s]"
     ]
    },
    {
     "name": "stdout",
     "output_type": "stream",
     "text": [
      "[valid] epoch time: 81.05s, average batch time: 0.58s\n",
      "[valid] L1 : 0.0129 (best 0.0126), L1 : 0.0129 (best 0.0126)\n",
      "\n",
      "2022/03/17, 09:22:20 - [Epoch 300 / lr 1.50e-04]\n"
     ]
    },
    {
     "name": "stderr",
     "output_type": "stream",
     "text": [
      "100%|█████████████████████████████████████| 15691/15691 [29:35<00:00,  8.84it/s]\n",
      "  0%|                                                  | 0/1111 [00:00<?, ?it/s]"
     ]
    },
    {
     "name": "stdout",
     "output_type": "stream",
     "text": [
      "[train] epoch time: 1775.99s, average batch time: 0.91s\n",
      "[train] L1 : 0.0078 (best 0.0077), L1 : 0.0078 (best 0.0077)\n"
     ]
    },
    {
     "name": "stderr",
     "output_type": "stream",
     "text": [
      "100%|███████████████████████████████████████| 1111/1111 [02:09<00:00,  8.60it/s]\n",
      "  0%|                                                 | 0/15691 [00:00<?, ?it/s]"
     ]
    },
    {
     "name": "stdout",
     "output_type": "stream",
     "text": [
      "[valid] epoch time: 129.24s, average batch time: 0.93s\n",
      "[valid] L1 : 0.0133 (best 0.0126), L1 : 0.0133 (best 0.0126)\n",
      "\n",
      "2022/03/17, 09:54:05 - [Epoch 301 / lr 1.50e-04]\n"
     ]
    },
    {
     "name": "stderr",
     "output_type": "stream",
     "text": [
      "100%|█████████████████████████████████████| 15691/15691 [30:31<00:00,  8.57it/s]\n",
      "  0%|                                                  | 0/1111 [00:00<?, ?it/s]"
     ]
    },
    {
     "name": "stdout",
     "output_type": "stream",
     "text": [
      "[train] epoch time: 1831.36s, average batch time: 0.93s\n",
      "[train] L1 : 0.0078 (best 0.0077), L1 : 0.0078 (best 0.0077)\n"
     ]
    },
    {
     "name": "stderr",
     "output_type": "stream",
     "text": [
      "100%|███████████████████████████████████████| 1111/1111 [01:57<00:00,  9.45it/s]\n",
      "  0%|                                                 | 0/15691 [00:00<?, ?it/s]"
     ]
    },
    {
     "name": "stdout",
     "output_type": "stream",
     "text": [
      "[valid] epoch time: 117.56s, average batch time: 0.85s\n",
      "[valid] L1 : 0.0142 (best 0.0126), L1 : 0.0142 (best 0.0126)\n",
      "\n",
      "2022/03/17, 10:26:34 - [Epoch 302 / lr 1.50e-04]\n"
     ]
    },
    {
     "name": "stderr",
     "output_type": "stream",
     "text": [
      "100%|█████████████████████████████████████| 15691/15691 [28:55<00:00,  9.04it/s]\n",
      "  0%|                                                  | 0/1111 [00:00<?, ?it/s]"
     ]
    },
    {
     "name": "stdout",
     "output_type": "stream",
     "text": [
      "[train] epoch time: 1735.25s, average batch time: 0.88s\n",
      "[train] L1 : 0.0078 (best 0.0077), L1 : 0.0078 (best 0.0077)\n"
     ]
    },
    {
     "name": "stderr",
     "output_type": "stream",
     "text": [
      "100%|███████████████████████████████████████| 1111/1111 [01:38<00:00, 11.33it/s]\n",
      "  0%|                                                 | 0/15691 [00:00<?, ?it/s]"
     ]
    },
    {
     "name": "stdout",
     "output_type": "stream",
     "text": [
      "[valid] epoch time: 98.06s, average batch time: 0.71s\n",
      "[valid] L1 : 0.0147 (best 0.0126), L1 : 0.0147 (best 0.0126)\n",
      "\n",
      "2022/03/17, 10:57:08 - [Epoch 303 / lr 1.50e-04]\n"
     ]
    },
    {
     "name": "stderr",
     "output_type": "stream",
     "text": [
      "100%|█████████████████████████████████████| 15691/15691 [29:25<00:00,  8.89it/s]\n",
      "  0%|                                                  | 0/1111 [00:00<?, ?it/s]"
     ]
    },
    {
     "name": "stdout",
     "output_type": "stream",
     "text": [
      "[train] epoch time: 1765.03s, average batch time: 0.90s\n",
      "[train] L1 : 0.0077 (best 0.0077), L1 : 0.0077 (best 0.0077)\n"
     ]
    },
    {
     "name": "stderr",
     "output_type": "stream",
     "text": [
      "100%|███████████████████████████████████████| 1111/1111 [01:51<00:00,  9.99it/s]\n",
      "  0%|                                                 | 0/15691 [00:00<?, ?it/s]"
     ]
    },
    {
     "name": "stdout",
     "output_type": "stream",
     "text": [
      "[valid] epoch time: 111.17s, average batch time: 0.80s\n",
      "[valid] L1 : 0.0150 (best 0.0126), L1 : 0.0150 (best 0.0126)\n",
      "\n",
      "2022/03/17, 11:28:24 - [Epoch 304 / lr 1.50e-04]\n"
     ]
    },
    {
     "name": "stderr",
     "output_type": "stream",
     "text": [
      "100%|█████████████████████████████████████| 15691/15691 [30:12<00:00,  8.66it/s]\n",
      "  0%|                                                  | 0/1111 [00:00<?, ?it/s]"
     ]
    },
    {
     "name": "stdout",
     "output_type": "stream",
     "text": [
      "[train] epoch time: 1812.35s, average batch time: 0.92s\n",
      "[train] L1 : 0.0078 (best 0.0077), L1 : 0.0078 (best 0.0077)\n"
     ]
    },
    {
     "name": "stderr",
     "output_type": "stream",
     "text": [
      "100%|███████████████████████████████████████| 1111/1111 [01:46<00:00, 10.45it/s]\n",
      "  0%|                                                 | 0/15691 [00:00<?, ?it/s]"
     ]
    },
    {
     "name": "stdout",
     "output_type": "stream",
     "text": [
      "[valid] epoch time: 106.30s, average batch time: 0.76s\n",
      "[valid] L1 : 0.0134 (best 0.0126), L1 : 0.0134 (best 0.0126)\n",
      "\n",
      "2022/03/17, 12:00:23 - [Epoch 305 / lr 1.50e-04]\n"
     ]
    },
    {
     "name": "stderr",
     "output_type": "stream",
     "text": [
      "100%|█████████████████████████████████████| 15691/15691 [29:55<00:00,  8.74it/s]\n",
      "  0%|                                                  | 0/1111 [00:00<?, ?it/s]"
     ]
    },
    {
     "name": "stdout",
     "output_type": "stream",
     "text": [
      "[train] epoch time: 1795.34s, average batch time: 0.92s\n",
      "[train] L1 : 0.0077 (best 0.0077), L1 : 0.0077 (best 0.0077)\n"
     ]
    },
    {
     "name": "stderr",
     "output_type": "stream",
     "text": [
      "100%|███████████████████████████████████████| 1111/1111 [01:53<00:00,  9.77it/s]\n",
      "  0%|                                                 | 0/15691 [00:00<?, ?it/s]"
     ]
    },
    {
     "name": "stdout",
     "output_type": "stream",
     "text": [
      "[valid] epoch time: 113.76s, average batch time: 0.82s\n",
      "[valid] L1 : 0.0139 (best 0.0126), L1 : 0.0139 (best 0.0126)\n",
      "\n",
      "2022/03/17, 12:32:12 - [Epoch 306 / lr 1.50e-04]\n"
     ]
    },
    {
     "name": "stderr",
     "output_type": "stream",
     "text": [
      "100%|█████████████████████████████████████| 15691/15691 [31:21<00:00,  8.34it/s]\n",
      "  0%|                                                  | 0/1111 [00:00<?, ?it/s]"
     ]
    },
    {
     "name": "stdout",
     "output_type": "stream",
     "text": [
      "[train] epoch time: 1881.80s, average batch time: 0.96s\n",
      "[train] L1 : 0.0077 (best 0.0077), L1 : 0.0077 (best 0.0077)\n"
     ]
    },
    {
     "name": "stderr",
     "output_type": "stream",
     "text": [
      "100%|███████████████████████████████████████| 1111/1111 [02:20<00:00,  7.92it/s]\n",
      "  0%|                                                 | 0/15691 [00:00<?, ?it/s]"
     ]
    },
    {
     "name": "stdout",
     "output_type": "stream",
     "text": [
      "[valid] epoch time: 140.25s, average batch time: 1.01s\n",
      "[valid] L1 : 0.0137 (best 0.0126), L1 : 0.0137 (best 0.0126)\n",
      "\n",
      "2022/03/17, 13:05:54 - [Epoch 307 / lr 1.50e-04]\n"
     ]
    },
    {
     "name": "stderr",
     "output_type": "stream",
     "text": [
      "100%|█████████████████████████████████████| 15691/15691 [35:04<00:00,  7.46it/s]\n",
      "  0%|                                                  | 0/1111 [00:00<?, ?it/s]"
     ]
    },
    {
     "name": "stdout",
     "output_type": "stream",
     "text": [
      "[train] epoch time: 2104.26s, average batch time: 1.07s\n",
      "[train] L1 : 0.0077 (best 0.0077), L1 : 0.0077 (best 0.0077)\n"
     ]
    },
    {
     "name": "stderr",
     "output_type": "stream",
     "text": [
      "100%|███████████████████████████████████████| 1111/1111 [01:27<00:00, 12.72it/s]\n",
      "  0%|                                                 | 0/15691 [00:00<?, ?it/s]"
     ]
    },
    {
     "name": "stdout",
     "output_type": "stream",
     "text": [
      "[valid] epoch time: 87.38s, average batch time: 0.63s\n",
      "[valid] L1 : 0.0145 (best 0.0126), L1 : 0.0145 (best 0.0126)\n",
      "\n",
      "2022/03/17, 13:42:26 - [Epoch 308 / lr 1.50e-04]\n"
     ]
    },
    {
     "name": "stderr",
     "output_type": "stream",
     "text": [
      "100%|█████████████████████████████████████| 15691/15691 [29:21<00:00,  8.91it/s]\n",
      "  0%|                                                  | 0/1111 [00:00<?, ?it/s]"
     ]
    },
    {
     "name": "stdout",
     "output_type": "stream",
     "text": [
      "[train] epoch time: 1761.00s, average batch time: 0.90s\n",
      "[train] L1 : 0.0077 (best 0.0077), L1 : 0.0077 (best 0.0077)\n"
     ]
    },
    {
     "name": "stderr",
     "output_type": "stream",
     "text": [
      "100%|███████████████████████████████████████| 1111/1111 [01:19<00:00, 14.00it/s]\n",
      "  0%|                                                 | 0/15691 [00:00<?, ?it/s]"
     ]
    },
    {
     "name": "stdout",
     "output_type": "stream",
     "text": [
      "[valid] epoch time: 79.36s, average batch time: 0.57s\n",
      "[valid] L1 : 0.0140 (best 0.0126), L1 : 0.0140 (best 0.0126)\n",
      "\n",
      "2022/03/17, 14:13:06 - [Epoch 309 / lr 1.50e-04]\n"
     ]
    },
    {
     "name": "stderr",
     "output_type": "stream",
     "text": [
      "100%|█████████████████████████████████████| 15691/15691 [29:17<00:00,  8.93it/s]\n",
      "  0%|                                                  | 0/1111 [00:00<?, ?it/s]"
     ]
    },
    {
     "name": "stdout",
     "output_type": "stream",
     "text": [
      "[train] epoch time: 1757.92s, average batch time: 0.90s\n",
      "[train] L1 : 0.0077 (best 0.0077), L1 : 0.0077 (best 0.0077)\n"
     ]
    },
    {
     "name": "stderr",
     "output_type": "stream",
     "text": [
      "100%|███████████████████████████████████████| 1111/1111 [02:09<00:00,  8.59it/s]\n",
      "  0%|                                                 | 0/15691 [00:00<?, ?it/s]"
     ]
    },
    {
     "name": "stdout",
     "output_type": "stream",
     "text": [
      "[valid] epoch time: 129.39s, average batch time: 0.93s\n",
      "[valid] L1 : 0.0152 (best 0.0126), L1 : 0.0152 (best 0.0126)\n",
      "\n",
      "2022/03/17, 14:44:34 - [Epoch 310 / lr 1.50e-04]\n"
     ]
    },
    {
     "name": "stderr",
     "output_type": "stream",
     "text": [
      "100%|█████████████████████████████████████| 15691/15691 [33:08<00:00,  7.89it/s]\n",
      "  0%|                                                  | 0/1111 [00:00<?, ?it/s]"
     ]
    },
    {
     "name": "stdout",
     "output_type": "stream",
     "text": [
      "[train] epoch time: 1988.66s, average batch time: 1.01s\n",
      "[train] L1 : 0.0077 (best 0.0077), L1 : 0.0077 (best 0.0077)\n"
     ]
    },
    {
     "name": "stderr",
     "output_type": "stream",
     "text": [
      "100%|███████████████████████████████████████| 1111/1111 [02:08<00:00,  8.64it/s]\n",
      "  0%|                                                 | 0/15691 [00:00<?, ?it/s]"
     ]
    },
    {
     "name": "stdout",
     "output_type": "stream",
     "text": [
      "[valid] epoch time: 128.64s, average batch time: 0.93s\n",
      "[valid] L1 : 0.0137 (best 0.0126), L1 : 0.0137 (best 0.0126)\n",
      "\n",
      "2022/03/17, 15:19:51 - [Epoch 311 / lr 1.50e-04]\n"
     ]
    },
    {
     "name": "stderr",
     "output_type": "stream",
     "text": [
      "100%|█████████████████████████████████████| 15691/15691 [30:13<00:00,  8.65it/s]\n",
      "  0%|                                                  | 0/1111 [00:00<?, ?it/s]"
     ]
    },
    {
     "name": "stdout",
     "output_type": "stream",
     "text": [
      "[train] epoch time: 1813.42s, average batch time: 0.92s\n",
      "[train] L1 : 0.0077 (best 0.0077), L1 : 0.0077 (best 0.0077)\n"
     ]
    },
    {
     "name": "stderr",
     "output_type": "stream",
     "text": [
      "100%|███████████████████████████████████████| 1111/1111 [01:16<00:00, 14.43it/s]\n",
      "  0%|                                                 | 0/15691 [00:00<?, ?it/s]"
     ]
    },
    {
     "name": "stdout",
     "output_type": "stream",
     "text": [
      "[valid] epoch time: 76.97s, average batch time: 0.55s\n",
      "[valid] L1 : 0.0133 (best 0.0126), L1 : 0.0133 (best 0.0126)\n",
      "\n",
      "2022/03/17, 15:51:21 - [Epoch 312 / lr 1.50e-04]\n"
     ]
    },
    {
     "name": "stderr",
     "output_type": "stream",
     "text": [
      "100%|█████████████████████████████████████| 15691/15691 [29:53<00:00,  8.75it/s]\n",
      "  0%|                                                  | 0/1111 [00:00<?, ?it/s]"
     ]
    },
    {
     "name": "stdout",
     "output_type": "stream",
     "text": [
      "[train] epoch time: 1793.30s, average batch time: 0.91s\n",
      "[train] L1 : 0.0077 (best 0.0077), L1 : 0.0077 (best 0.0077)\n"
     ]
    },
    {
     "name": "stderr",
     "output_type": "stream",
     "text": [
      "100%|███████████████████████████████████████| 1111/1111 [02:05<00:00,  8.87it/s]\n",
      "  0%|                                                 | 0/15691 [00:00<?, ?it/s]"
     ]
    },
    {
     "name": "stdout",
     "output_type": "stream",
     "text": [
      "[valid] epoch time: 125.19s, average batch time: 0.90s\n",
      "[valid] L1 : 0.0140 (best 0.0126), L1 : 0.0140 (best 0.0126)\n",
      "\n",
      "2022/03/17, 16:23:20 - [Epoch 313 / lr 1.50e-04]\n"
     ]
    },
    {
     "name": "stderr",
     "output_type": "stream",
     "text": [
      "100%|█████████████████████████████████████| 15691/15691 [30:12<00:00,  8.66it/s]\n",
      "  0%|                                                  | 0/1111 [00:00<?, ?it/s]"
     ]
    },
    {
     "name": "stdout",
     "output_type": "stream",
     "text": [
      "[train] epoch time: 1812.37s, average batch time: 0.92s\n",
      "[train] L1 : 0.0077 (best 0.0077), L1 : 0.0077 (best 0.0077)\n"
     ]
    },
    {
     "name": "stderr",
     "output_type": "stream",
     "text": [
      "100%|███████████████████████████████████████| 1111/1111 [01:31<00:00, 12.17it/s]\n",
      "  0%|                                                 | 0/15691 [00:00<?, ?it/s]"
     ]
    },
    {
     "name": "stdout",
     "output_type": "stream",
     "text": [
      "[valid] epoch time: 91.27s, average batch time: 0.66s\n",
      "[valid] L1 : 0.0136 (best 0.0126), L1 : 0.0136 (best 0.0126)\n",
      "\n",
      "2022/03/17, 16:55:04 - [Epoch 314 / lr 1.50e-04]\n"
     ]
    },
    {
     "name": "stderr",
     "output_type": "stream",
     "text": [
      "100%|█████████████████████████████████████| 15691/15691 [29:43<00:00,  8.80it/s]\n",
      "  0%|                                                  | 0/1111 [00:00<?, ?it/s]"
     ]
    },
    {
     "name": "stdout",
     "output_type": "stream",
     "text": [
      "[train] epoch time: 1783.30s, average batch time: 0.91s\n",
      "[train] L1 : 0.0077 (best 0.0077), L1 : 0.0077 (best 0.0077)\n"
     ]
    },
    {
     "name": "stderr",
     "output_type": "stream",
     "text": [
      "100%|███████████████████████████████████████| 1111/1111 [01:33<00:00, 11.86it/s]\n",
      "  0%|                                                 | 0/15691 [00:00<?, ?it/s]"
     ]
    },
    {
     "name": "stdout",
     "output_type": "stream",
     "text": [
      "[valid] epoch time: 93.65s, average batch time: 0.67s\n",
      "[valid] L1 : 0.0139 (best 0.0126), L1 : 0.0139 (best 0.0126)\n",
      "\n",
      "2022/03/17, 17:26:21 - [Epoch 315 / lr 1.50e-04]\n"
     ]
    },
    {
     "name": "stderr",
     "output_type": "stream",
     "text": [
      "100%|█████████████████████████████████████| 15691/15691 [28:57<00:00,  9.03it/s]\n",
      "  0%|                                                  | 0/1111 [00:00<?, ?it/s]"
     ]
    },
    {
     "name": "stdout",
     "output_type": "stream",
     "text": [
      "[train] epoch time: 1737.44s, average batch time: 0.89s\n",
      "[train] L1 : 0.0077 (best 0.0077), L1 : 0.0077 (best 0.0077)\n"
     ]
    },
    {
     "name": "stderr",
     "output_type": "stream",
     "text": [
      "100%|███████████████████████████████████████| 1111/1111 [02:28<00:00,  7.51it/s]\n",
      "  0%|                                                 | 0/15691 [00:00<?, ?it/s]"
     ]
    },
    {
     "name": "stdout",
     "output_type": "stream",
     "text": [
      "[valid] epoch time: 148.00s, average batch time: 1.06s\n",
      "[valid] L1 : 0.0146 (best 0.0126), L1 : 0.0146 (best 0.0126)\n",
      "\n",
      "2022/03/17, 17:57:46 - [Epoch 316 / lr 1.50e-04]\n"
     ]
    },
    {
     "name": "stderr",
     "output_type": "stream",
     "text": [
      "100%|█████████████████████████████████████| 15691/15691 [29:00<00:00,  9.02it/s]\n",
      "  0%|                                                  | 0/1111 [00:00<?, ?it/s]"
     ]
    },
    {
     "name": "stdout",
     "output_type": "stream",
     "text": [
      "[train] epoch time: 1740.51s, average batch time: 0.89s\n",
      "[train] L1 : 0.0077 (best 0.0077), L1 : 0.0077 (best 0.0077)\n"
     ]
    },
    {
     "name": "stderr",
     "output_type": "stream",
     "text": [
      "100%|███████████████████████████████████████| 1111/1111 [01:28<00:00, 12.54it/s]\n",
      "  0%|                                                 | 0/15691 [00:00<?, ?it/s]"
     ]
    },
    {
     "name": "stdout",
     "output_type": "stream",
     "text": [
      "[valid] epoch time: 88.58s, average batch time: 0.64s\n",
      "[valid] L1 : 0.0133 (best 0.0126), L1 : 0.0133 (best 0.0126)\n",
      "\n",
      "2022/03/17, 18:28:15 - [Epoch 317 / lr 1.50e-04]\n"
     ]
    },
    {
     "name": "stderr",
     "output_type": "stream",
     "text": [
      "100%|█████████████████████████████████████| 15691/15691 [30:11<00:00,  8.66it/s]\n",
      "  0%|                                                  | 0/1111 [00:00<?, ?it/s]"
     ]
    },
    {
     "name": "stdout",
     "output_type": "stream",
     "text": [
      "[train] epoch time: 1811.89s, average batch time: 0.92s\n",
      "[train] L1 : 0.0077 (best 0.0077), L1 : 0.0077 (best 0.0077)\n"
     ]
    },
    {
     "name": "stderr",
     "output_type": "stream",
     "text": [
      "100%|███████████████████████████████████████| 1111/1111 [02:03<00:00,  8.97it/s]\n",
      "  0%|                                                 | 0/15691 [00:00<?, ?it/s]"
     ]
    },
    {
     "name": "stdout",
     "output_type": "stream",
     "text": [
      "[valid] epoch time: 123.81s, average batch time: 0.89s\n",
      "[valid] L1 : 0.0141 (best 0.0126), L1 : 0.0141 (best 0.0126)\n",
      "\n",
      "2022/03/17, 19:00:31 - [Epoch 318 / lr 1.50e-04]\n"
     ]
    },
    {
     "name": "stderr",
     "output_type": "stream",
     "text": [
      "100%|█████████████████████████████████████| 15691/15691 [29:23<00:00,  8.90it/s]\n",
      "  0%|                                                  | 0/1111 [00:00<?, ?it/s]"
     ]
    },
    {
     "name": "stdout",
     "output_type": "stream",
     "text": [
      "[train] epoch time: 1763.74s, average batch time: 0.90s\n",
      "[train] L1 : 0.0077 (best 0.0077), L1 : 0.0077 (best 0.0077)\n"
     ]
    },
    {
     "name": "stderr",
     "output_type": "stream",
     "text": [
      "100%|███████████████████████████████████████| 1111/1111 [01:26<00:00, 12.80it/s]\n",
      "  0%|                                                 | 0/15691 [00:00<?, ?it/s]"
     ]
    },
    {
     "name": "stdout",
     "output_type": "stream",
     "text": [
      "[valid] epoch time: 86.77s, average batch time: 0.62s\n",
      "[valid] L1 : 0.0141 (best 0.0126), L1 : 0.0141 (best 0.0126)\n",
      "\n",
      "2022/03/17, 19:31:22 - [Epoch 319 / lr 1.50e-04]\n"
     ]
    },
    {
     "name": "stderr",
     "output_type": "stream",
     "text": [
      "100%|█████████████████████████████████████| 15691/15691 [30:14<00:00,  8.65it/s]\n",
      "  0%|                                                  | 0/1111 [00:00<?, ?it/s]"
     ]
    },
    {
     "name": "stdout",
     "output_type": "stream",
     "text": [
      "[train] epoch time: 1814.29s, average batch time: 0.92s\n",
      "[train] L1 : 0.0077 (best 0.0077), L1 : 0.0077 (best 0.0077)\n"
     ]
    },
    {
     "name": "stderr",
     "output_type": "stream",
     "text": [
      "100%|███████████████████████████████████████| 1111/1111 [01:47<00:00, 10.33it/s]\n",
      "  0%|                                                 | 0/15691 [00:00<?, ?it/s]"
     ]
    },
    {
     "name": "stdout",
     "output_type": "stream",
     "text": [
      "[valid] epoch time: 107.51s, average batch time: 0.77s\n",
      "[valid] L1 : 0.0141 (best 0.0126), L1 : 0.0141 (best 0.0126)\n",
      "\n",
      "2022/03/17, 20:03:24 - [Epoch 320 / lr 1.50e-04]\n"
     ]
    },
    {
     "name": "stderr",
     "output_type": "stream",
     "text": [
      "100%|█████████████████████████████████████| 15691/15691 [29:39<00:00,  8.82it/s]\n",
      "  0%|                                                  | 0/1111 [00:00<?, ?it/s]"
     ]
    },
    {
     "name": "stdout",
     "output_type": "stream",
     "text": [
      "[train] epoch time: 1779.53s, average batch time: 0.91s\n",
      "[train] L1 : 0.0077 (best 0.0077), L1 : 0.0077 (best 0.0077)\n"
     ]
    },
    {
     "name": "stderr",
     "output_type": "stream",
     "text": [
      "100%|███████████████████████████████████████| 1111/1111 [01:45<00:00, 10.55it/s]\n",
      "  0%|                                                 | 0/15691 [00:00<?, ?it/s]"
     ]
    },
    {
     "name": "stdout",
     "output_type": "stream",
     "text": [
      "[valid] epoch time: 105.32s, average batch time: 0.76s\n",
      "[valid] L1 : 0.0124 (best 0.0124), L1 : 0.0124 (best 0.0124)\n",
      "\n",
      "2022/03/17, 20:34:49 - [Epoch 321 / lr 1.50e-04]\n"
     ]
    },
    {
     "name": "stderr",
     "output_type": "stream",
     "text": [
      "100%|█████████████████████████████████████| 15691/15691 [29:30<00:00,  8.86it/s]\n",
      "  0%|                                                  | 0/1111 [00:00<?, ?it/s]"
     ]
    },
    {
     "name": "stdout",
     "output_type": "stream",
     "text": [
      "[train] epoch time: 1770.74s, average batch time: 0.90s\n",
      "[train] L1 : 0.0077 (best 0.0077), L1 : 0.0077 (best 0.0077)\n"
     ]
    },
    {
     "name": "stderr",
     "output_type": "stream",
     "text": [
      "100%|███████████████████████████████████████| 1111/1111 [01:35<00:00, 11.65it/s]\n",
      "  0%|                                                 | 0/15691 [00:00<?, ?it/s]"
     ]
    },
    {
     "name": "stdout",
     "output_type": "stream",
     "text": [
      "[valid] epoch time: 95.31s, average batch time: 0.69s\n",
      "[valid] L1 : 0.0135 (best 0.0124), L1 : 0.0135 (best 0.0124)\n",
      "\n",
      "2022/03/17, 21:05:55 - [Epoch 322 / lr 1.50e-04]\n"
     ]
    },
    {
     "name": "stderr",
     "output_type": "stream",
     "text": [
      "100%|█████████████████████████████████████| 15691/15691 [29:31<00:00,  8.86it/s]\n",
      "  0%|                                                  | 0/1111 [00:00<?, ?it/s]"
     ]
    },
    {
     "name": "stdout",
     "output_type": "stream",
     "text": [
      "[train] epoch time: 1771.60s, average batch time: 0.90s\n",
      "[train] L1 : 0.0077 (best 0.0077), L1 : 0.0077 (best 0.0077)\n"
     ]
    },
    {
     "name": "stderr",
     "output_type": "stream",
     "text": [
      "100%|███████████████████████████████████████| 1111/1111 [02:05<00:00,  8.83it/s]\n",
      "  0%|                                                 | 0/15691 [00:00<?, ?it/s]"
     ]
    },
    {
     "name": "stdout",
     "output_type": "stream",
     "text": [
      "[valid] epoch time: 125.81s, average batch time: 0.91s\n",
      "[valid] L1 : 0.0145 (best 0.0124), L1 : 0.0145 (best 0.0124)\n",
      "\n",
      "2022/03/17, 21:37:32 - [Epoch 323 / lr 1.50e-04]\n"
     ]
    },
    {
     "name": "stderr",
     "output_type": "stream",
     "text": [
      "100%|█████████████████████████████████████| 15691/15691 [29:52<00:00,  8.75it/s]\n",
      "  0%|                                                  | 0/1111 [00:00<?, ?it/s]"
     ]
    },
    {
     "name": "stdout",
     "output_type": "stream",
     "text": [
      "[train] epoch time: 1792.42s, average batch time: 0.91s\n",
      "[train] L1 : 0.0077 (best 0.0077), L1 : 0.0077 (best 0.0077)\n"
     ]
    },
    {
     "name": "stderr",
     "output_type": "stream",
     "text": [
      "100%|███████████████████████████████████████| 1111/1111 [01:39<00:00, 11.19it/s]\n",
      "  0%|                                                 | 0/15691 [00:00<?, ?it/s]"
     ]
    },
    {
     "name": "stdout",
     "output_type": "stream",
     "text": [
      "[valid] epoch time: 99.31s, average batch time: 0.71s\n",
      "[valid] L1 : 0.0143 (best 0.0124), L1 : 0.0143 (best 0.0124)\n",
      "\n",
      "2022/03/17, 22:09:04 - [Epoch 324 / lr 1.50e-04]\n"
     ]
    },
    {
     "name": "stderr",
     "output_type": "stream",
     "text": [
      "100%|█████████████████████████████████████| 15691/15691 [29:13<00:00,  8.95it/s]\n",
      "  0%|                                                  | 0/1111 [00:00<?, ?it/s]"
     ]
    },
    {
     "name": "stdout",
     "output_type": "stream",
     "text": [
      "[train] epoch time: 1753.74s, average batch time: 0.89s\n",
      "[train] L1 : 0.0076 (best 0.0076), L1 : 0.0076 (best 0.0076)\n"
     ]
    },
    {
     "name": "stderr",
     "output_type": "stream",
     "text": [
      "100%|███████████████████████████████████████| 1111/1111 [01:52<00:00,  9.84it/s]\n",
      "  0%|                                                 | 0/15691 [00:00<?, ?it/s]"
     ]
    },
    {
     "name": "stdout",
     "output_type": "stream",
     "text": [
      "[valid] epoch time: 112.85s, average batch time: 0.81s\n",
      "[valid] L1 : 0.0133 (best 0.0124), L1 : 0.0133 (best 0.0124)\n",
      "\n",
      "2022/03/17, 22:40:11 - [Epoch 325 / lr 1.50e-04]\n"
     ]
    },
    {
     "name": "stderr",
     "output_type": "stream",
     "text": [
      "100%|█████████████████████████████████████| 15691/15691 [29:22<00:00,  8.90it/s]\n",
      "  0%|                                                  | 0/1111 [00:00<?, ?it/s]"
     ]
    },
    {
     "name": "stdout",
     "output_type": "stream",
     "text": [
      "[train] epoch time: 1762.28s, average batch time: 0.90s\n",
      "[train] L1 : 0.0076 (best 0.0076), L1 : 0.0076 (best 0.0076)\n"
     ]
    },
    {
     "name": "stderr",
     "output_type": "stream",
     "text": [
      "100%|███████████████████████████████████████| 1111/1111 [01:32<00:00, 11.96it/s]\n",
      "  0%|                                                 | 0/15691 [00:00<?, ?it/s]"
     ]
    },
    {
     "name": "stdout",
     "output_type": "stream",
     "text": [
      "[valid] epoch time: 92.91s, average batch time: 0.67s\n",
      "[valid] L1 : 0.0130 (best 0.0124), L1 : 0.0130 (best 0.0124)\n",
      "\n",
      "2022/03/17, 23:11:06 - [Epoch 326 / lr 1.50e-04]\n"
     ]
    },
    {
     "name": "stderr",
     "output_type": "stream",
     "text": [
      "100%|█████████████████████████████████████| 15691/15691 [29:32<00:00,  8.85it/s]\n",
      "  0%|                                                  | 0/1111 [00:00<?, ?it/s]"
     ]
    },
    {
     "name": "stdout",
     "output_type": "stream",
     "text": [
      "[train] epoch time: 1772.82s, average batch time: 0.90s\n",
      "[train] L1 : 0.0077 (best 0.0076), L1 : 0.0077 (best 0.0076)\n"
     ]
    },
    {
     "name": "stderr",
     "output_type": "stream",
     "text": [
      "100%|███████████████████████████████████████| 1111/1111 [02:03<00:00,  9.00it/s]\n",
      "  0%|                                                 | 0/15691 [00:00<?, ?it/s]"
     ]
    },
    {
     "name": "stdout",
     "output_type": "stream",
     "text": [
      "[valid] epoch time: 123.49s, average batch time: 0.89s\n",
      "[valid] L1 : 0.0149 (best 0.0124), L1 : 0.0149 (best 0.0124)\n",
      "\n",
      "2022/03/17, 23:42:42 - [Epoch 327 / lr 1.50e-04]\n"
     ]
    },
    {
     "name": "stderr",
     "output_type": "stream",
     "text": [
      "100%|█████████████████████████████████████| 15691/15691 [29:57<00:00,  8.73it/s]\n",
      "  0%|                                                  | 0/1111 [00:00<?, ?it/s]"
     ]
    },
    {
     "name": "stdout",
     "output_type": "stream",
     "text": [
      "[train] epoch time: 1797.52s, average batch time: 0.92s\n",
      "[train] L1 : 0.0077 (best 0.0076), L1 : 0.0077 (best 0.0076)\n"
     ]
    },
    {
     "name": "stderr",
     "output_type": "stream",
     "text": [
      "100%|███████████████████████████████████████| 1111/1111 [01:23<00:00, 13.36it/s]\n",
      "  0%|                                                 | 0/15691 [00:00<?, ?it/s]"
     ]
    },
    {
     "name": "stdout",
     "output_type": "stream",
     "text": [
      "[valid] epoch time: 83.18s, average batch time: 0.60s\n",
      "[valid] L1 : 0.0133 (best 0.0124), L1 : 0.0133 (best 0.0124)\n",
      "\n",
      "2022/03/18, 00:14:03 - [Epoch 328 / lr 1.50e-04]\n"
     ]
    },
    {
     "name": "stderr",
     "output_type": "stream",
     "text": [
      "100%|█████████████████████████████████████| 15691/15691 [31:11<00:00,  8.38it/s]\n",
      "  0%|                                                  | 0/1111 [00:00<?, ?it/s]"
     ]
    },
    {
     "name": "stdout",
     "output_type": "stream",
     "text": [
      "[train] epoch time: 1871.58s, average batch time: 0.95s\n",
      "[train] L1 : 0.0077 (best 0.0076), L1 : 0.0077 (best 0.0076)\n"
     ]
    },
    {
     "name": "stderr",
     "output_type": "stream",
     "text": [
      "100%|███████████████████████████████████████| 1111/1111 [02:44<00:00,  6.74it/s]\n",
      "  0%|                                                 | 0/15691 [00:00<?, ?it/s]"
     ]
    },
    {
     "name": "stdout",
     "output_type": "stream",
     "text": [
      "[valid] epoch time: 164.85s, average batch time: 1.19s\n",
      "[valid] L1 : 0.0138 (best 0.0124), L1 : 0.0138 (best 0.0124)\n",
      "\n",
      "2022/03/18, 00:48:00 - [Epoch 329 / lr 1.50e-04]\n"
     ]
    },
    {
     "name": "stderr",
     "output_type": "stream",
     "text": [
      "100%|█████████████████████████████████████| 15691/15691 [33:32<00:00,  7.80it/s]\n",
      "  0%|                                                  | 0/1111 [00:00<?, ?it/s]"
     ]
    },
    {
     "name": "stdout",
     "output_type": "stream",
     "text": [
      "[train] epoch time: 2012.76s, average batch time: 1.03s\n",
      "[train] L1 : 0.0076 (best 0.0076), L1 : 0.0076 (best 0.0076)\n"
     ]
    },
    {
     "name": "stderr",
     "output_type": "stream",
     "text": [
      "100%|███████████████████████████████████████| 1111/1111 [01:45<00:00, 10.49it/s]\n",
      "  0%|                                                 | 0/15691 [00:00<?, ?it/s]"
     ]
    },
    {
     "name": "stdout",
     "output_type": "stream",
     "text": [
      "[valid] epoch time: 105.91s, average batch time: 0.76s\n",
      "[valid] L1 : 0.0138 (best 0.0124), L1 : 0.0138 (best 0.0124)\n",
      "\n",
      "2022/03/18, 01:23:18 - [Epoch 330 / lr 1.50e-04]\n"
     ]
    },
    {
     "name": "stderr",
     "output_type": "stream",
     "text": [
      "100%|█████████████████████████████████████| 15691/15691 [29:40<00:00,  8.81it/s]\n",
      "  0%|                                                  | 0/1111 [00:00<?, ?it/s]"
     ]
    },
    {
     "name": "stdout",
     "output_type": "stream",
     "text": [
      "[train] epoch time: 1780.21s, average batch time: 0.91s\n",
      "[train] L1 : 0.0076 (best 0.0076), L1 : 0.0076 (best 0.0076)\n"
     ]
    },
    {
     "name": "stderr",
     "output_type": "stream",
     "text": [
      "100%|███████████████████████████████████████| 1111/1111 [01:43<00:00, 10.77it/s]\n",
      "  0%|                                                 | 0/15691 [00:00<?, ?it/s]"
     ]
    },
    {
     "name": "stdout",
     "output_type": "stream",
     "text": [
      "[valid] epoch time: 103.12s, average batch time: 0.74s\n",
      "[valid] L1 : 0.0145 (best 0.0124), L1 : 0.0145 (best 0.0124)\n",
      "\n",
      "2022/03/18, 01:54:42 - [Epoch 331 / lr 1.50e-04]\n"
     ]
    },
    {
     "name": "stderr",
     "output_type": "stream",
     "text": [
      "100%|█████████████████████████████████████| 15691/15691 [30:23<00:00,  8.61it/s]\n",
      "  0%|                                                  | 0/1111 [00:00<?, ?it/s]"
     ]
    },
    {
     "name": "stdout",
     "output_type": "stream",
     "text": [
      "[train] epoch time: 1823.05s, average batch time: 0.93s\n",
      "[train] L1 : 0.0076 (best 0.0076), L1 : 0.0076 (best 0.0076)\n"
     ]
    },
    {
     "name": "stderr",
     "output_type": "stream",
     "text": [
      "100%|███████████████████████████████████████| 1111/1111 [01:55<00:00,  9.58it/s]\n",
      "  0%|                                                 | 0/15691 [00:00<?, ?it/s]"
     ]
    },
    {
     "name": "stdout",
     "output_type": "stream",
     "text": [
      "[valid] epoch time: 115.99s, average batch time: 0.83s\n",
      "[valid] L1 : 0.0141 (best 0.0124), L1 : 0.0141 (best 0.0124)\n",
      "\n",
      "2022/03/18, 02:27:01 - [Epoch 332 / lr 1.50e-04]\n"
     ]
    },
    {
     "name": "stderr",
     "output_type": "stream",
     "text": [
      "100%|█████████████████████████████████████| 15691/15691 [29:54<00:00,  8.74it/s]\n",
      "  0%|                                                  | 0/1111 [00:00<?, ?it/s]"
     ]
    },
    {
     "name": "stdout",
     "output_type": "stream",
     "text": [
      "[train] epoch time: 1794.69s, average batch time: 0.91s\n",
      "[train] L1 : 0.0076 (best 0.0076), L1 : 0.0076 (best 0.0076)\n"
     ]
    },
    {
     "name": "stderr",
     "output_type": "stream",
     "text": [
      "100%|███████████████████████████████████████| 1111/1111 [01:24<00:00, 13.11it/s]\n",
      "  0%|                                                 | 0/15691 [00:00<?, ?it/s]"
     ]
    },
    {
     "name": "stdout",
     "output_type": "stream",
     "text": [
      "[valid] epoch time: 84.73s, average batch time: 0.61s\n",
      "[valid] L1 : 0.0139 (best 0.0124), L1 : 0.0139 (best 0.0124)\n",
      "\n",
      "2022/03/18, 02:58:20 - [Epoch 333 / lr 1.50e-04]\n"
     ]
    },
    {
     "name": "stderr",
     "output_type": "stream",
     "text": [
      "100%|█████████████████████████████████████| 15691/15691 [30:02<00:00,  8.71it/s]\n",
      "  0%|                                                  | 0/1111 [00:00<?, ?it/s]"
     ]
    },
    {
     "name": "stdout",
     "output_type": "stream",
     "text": [
      "[train] epoch time: 1802.07s, average batch time: 0.92s\n",
      "[train] L1 : 0.0076 (best 0.0076), L1 : 0.0076 (best 0.0076)\n"
     ]
    },
    {
     "name": "stderr",
     "output_type": "stream",
     "text": [
      "100%|███████████████████████████████████████| 1111/1111 [01:59<00:00,  9.27it/s]\n",
      "  0%|                                                 | 0/15691 [00:00<?, ?it/s]"
     ]
    },
    {
     "name": "stdout",
     "output_type": "stream",
     "text": [
      "[valid] epoch time: 119.85s, average batch time: 0.86s\n",
      "[valid] L1 : 0.0134 (best 0.0124), L1 : 0.0134 (best 0.0124)\n",
      "\n",
      "2022/03/18, 03:30:22 - [Epoch 334 / lr 1.50e-04]\n"
     ]
    },
    {
     "name": "stderr",
     "output_type": "stream",
     "text": [
      "100%|█████████████████████████████████████| 15691/15691 [29:33<00:00,  8.85it/s]\n",
      "  0%|                                                  | 0/1111 [00:00<?, ?it/s]"
     ]
    },
    {
     "name": "stdout",
     "output_type": "stream",
     "text": [
      "[train] epoch time: 1773.83s, average batch time: 0.90s\n",
      "[train] L1 : 0.0076 (best 0.0076), L1 : 0.0076 (best 0.0076)\n"
     ]
    },
    {
     "name": "stderr",
     "output_type": "stream",
     "text": [
      "100%|███████████████████████████████████████| 1111/1111 [02:02<00:00,  9.09it/s]\n",
      "  0%|                                                 | 0/15691 [00:00<?, ?it/s]"
     ]
    },
    {
     "name": "stdout",
     "output_type": "stream",
     "text": [
      "[valid] epoch time: 122.17s, average batch time: 0.88s\n",
      "[valid] L1 : 0.0147 (best 0.0124), L1 : 0.0147 (best 0.0124)\n",
      "\n",
      "2022/03/18, 04:01:58 - [Epoch 335 / lr 1.50e-04]\n"
     ]
    },
    {
     "name": "stderr",
     "output_type": "stream",
     "text": [
      "100%|█████████████████████████████████████| 15691/15691 [29:53<00:00,  8.75it/s]\n",
      "  0%|                                                  | 0/1111 [00:00<?, ?it/s]"
     ]
    },
    {
     "name": "stdout",
     "output_type": "stream",
     "text": [
      "[train] epoch time: 1793.75s, average batch time: 0.91s\n",
      "[train] L1 : 0.0076 (best 0.0076), L1 : 0.0076 (best 0.0076)\n"
     ]
    },
    {
     "name": "stderr",
     "output_type": "stream",
     "text": [
      "100%|███████████████████████████████████████| 1111/1111 [01:52<00:00,  9.88it/s]\n",
      "  0%|                                                 | 0/15691 [00:00<?, ?it/s]"
     ]
    },
    {
     "name": "stdout",
     "output_type": "stream",
     "text": [
      "[valid] epoch time: 112.42s, average batch time: 0.81s\n",
      "[valid] L1 : 0.0135 (best 0.0124), L1 : 0.0135 (best 0.0124)\n",
      "\n",
      "2022/03/18, 04:33:45 - [Epoch 336 / lr 1.50e-04]\n"
     ]
    },
    {
     "name": "stderr",
     "output_type": "stream",
     "text": [
      "100%|█████████████████████████████████████| 15691/15691 [29:39<00:00,  8.82it/s]\n",
      "  0%|                                                  | 0/1111 [00:00<?, ?it/s]"
     ]
    },
    {
     "name": "stdout",
     "output_type": "stream",
     "text": [
      "[train] epoch time: 1779.80s, average batch time: 0.91s\n",
      "[train] L1 : 0.0076 (best 0.0076), L1 : 0.0076 (best 0.0076)\n"
     ]
    },
    {
     "name": "stderr",
     "output_type": "stream",
     "text": [
      "100%|███████████████████████████████████████| 1111/1111 [02:03<00:00,  8.96it/s]\n",
      "  0%|                                                 | 0/15691 [00:00<?, ?it/s]"
     ]
    },
    {
     "name": "stdout",
     "output_type": "stream",
     "text": [
      "[valid] epoch time: 123.93s, average batch time: 0.89s\n",
      "[valid] L1 : 0.0135 (best 0.0124), L1 : 0.0135 (best 0.0124)\n",
      "\n",
      "2022/03/18, 05:05:28 - [Epoch 337 / lr 1.50e-04]\n"
     ]
    },
    {
     "name": "stderr",
     "output_type": "stream",
     "text": [
      "100%|█████████████████████████████████████| 15691/15691 [29:45<00:00,  8.79it/s]\n",
      "  0%|                                                  | 0/1111 [00:00<?, ?it/s]"
     ]
    },
    {
     "name": "stdout",
     "output_type": "stream",
     "text": [
      "[train] epoch time: 1785.21s, average batch time: 0.91s\n",
      "[train] L1 : 0.0076 (best 0.0076), L1 : 0.0076 (best 0.0076)\n"
     ]
    },
    {
     "name": "stderr",
     "output_type": "stream",
     "text": [
      "100%|███████████████████████████████████████| 1111/1111 [01:17<00:00, 14.39it/s]\n",
      "  0%|                                                 | 0/15691 [00:00<?, ?it/s]"
     ]
    },
    {
     "name": "stdout",
     "output_type": "stream",
     "text": [
      "[valid] epoch time: 77.18s, average batch time: 0.56s\n",
      "[valid] L1 : 0.0153 (best 0.0124), L1 : 0.0153 (best 0.0124)\n",
      "\n",
      "2022/03/18, 05:36:31 - [Epoch 338 / lr 1.50e-04]\n"
     ]
    },
    {
     "name": "stderr",
     "output_type": "stream",
     "text": [
      "100%|█████████████████████████████████████| 15691/15691 [29:53<00:00,  8.75it/s]\n",
      "  0%|                                                  | 0/1111 [00:00<?, ?it/s]"
     ]
    },
    {
     "name": "stdout",
     "output_type": "stream",
     "text": [
      "[train] epoch time: 1793.30s, average batch time: 0.91s\n",
      "[train] L1 : 0.0076 (best 0.0076), L1 : 0.0076 (best 0.0076)\n"
     ]
    },
    {
     "name": "stderr",
     "output_type": "stream",
     "text": [
      "100%|███████████████████████████████████████| 1111/1111 [01:49<00:00, 10.14it/s]\n",
      "  0%|                                                 | 0/15691 [00:00<?, ?it/s]"
     ]
    },
    {
     "name": "stdout",
     "output_type": "stream",
     "text": [
      "[valid] epoch time: 109.59s, average batch time: 0.79s\n",
      "[valid] L1 : 0.0140 (best 0.0124), L1 : 0.0140 (best 0.0124)\n",
      "\n",
      "2022/03/18, 06:08:14 - [Epoch 339 / lr 1.50e-04]\n"
     ]
    },
    {
     "name": "stderr",
     "output_type": "stream",
     "text": [
      "100%|█████████████████████████████████████| 15691/15691 [29:46<00:00,  8.78it/s]\n",
      "  0%|                                                  | 0/1111 [00:00<?, ?it/s]"
     ]
    },
    {
     "name": "stdout",
     "output_type": "stream",
     "text": [
      "[train] epoch time: 1786.21s, average batch time: 0.91s\n",
      "[train] L1 : 0.0076 (best 0.0076), L1 : 0.0076 (best 0.0076)\n"
     ]
    },
    {
     "name": "stderr",
     "output_type": "stream",
     "text": [
      "100%|███████████████████████████████████████| 1111/1111 [01:23<00:00, 13.27it/s]\n",
      "  0%|                                                 | 0/15691 [00:00<?, ?it/s]"
     ]
    },
    {
     "name": "stdout",
     "output_type": "stream",
     "text": [
      "[valid] epoch time: 83.73s, average batch time: 0.60s\n",
      "[valid] L1 : 0.0145 (best 0.0124), L1 : 0.0145 (best 0.0124)\n",
      "\n",
      "2022/03/18, 06:39:24 - [Epoch 340 / lr 1.50e-04]\n"
     ]
    },
    {
     "name": "stderr",
     "output_type": "stream",
     "text": [
      "100%|█████████████████████████████████████| 15691/15691 [30:47<00:00,  8.50it/s]\n",
      "  0%|                                                  | 0/1111 [00:00<?, ?it/s]"
     ]
    },
    {
     "name": "stdout",
     "output_type": "stream",
     "text": [
      "[train] epoch time: 1847.05s, average batch time: 0.94s\n",
      "[train] L1 : 0.0076 (best 0.0076), L1 : 0.0076 (best 0.0076)\n"
     ]
    },
    {
     "name": "stderr",
     "output_type": "stream",
     "text": [
      "100%|███████████████████████████████████████| 1111/1111 [02:40<00:00,  6.91it/s]\n",
      "  0%|                                                 | 0/15691 [00:00<?, ?it/s]"
     ]
    },
    {
     "name": "stdout",
     "output_type": "stream",
     "text": [
      "[valid] epoch time: 160.88s, average batch time: 1.16s\n",
      "[valid] L1 : 0.0132 (best 0.0124), L1 : 0.0132 (best 0.0124)\n",
      "\n",
      "2022/03/18, 07:12:52 - [Epoch 341 / lr 1.50e-04]\n"
     ]
    },
    {
     "name": "stderr",
     "output_type": "stream",
     "text": [
      "100%|█████████████████████████████████████| 15691/15691 [35:01<00:00,  7.47it/s]\n",
      "  0%|                                                  | 0/1111 [00:00<?, ?it/s]"
     ]
    },
    {
     "name": "stdout",
     "output_type": "stream",
     "text": [
      "[train] epoch time: 2101.19s, average batch time: 1.07s\n",
      "[train] L1 : 0.0076 (best 0.0076), L1 : 0.0076 (best 0.0076)\n"
     ]
    },
    {
     "name": "stderr",
     "output_type": "stream",
     "text": [
      "100%|███████████████████████████████████████| 1111/1111 [01:32<00:00, 12.05it/s]\n",
      "  0%|                                                 | 0/15691 [00:00<?, ?it/s]"
     ]
    },
    {
     "name": "stdout",
     "output_type": "stream",
     "text": [
      "[valid] epoch time: 92.22s, average batch time: 0.66s\n",
      "[valid] L1 : 0.0130 (best 0.0124), L1 : 0.0130 (best 0.0124)\n",
      "\n",
      "2022/03/18, 07:49:25 - [Epoch 342 / lr 1.50e-04]\n"
     ]
    },
    {
     "name": "stderr",
     "output_type": "stream",
     "text": [
      "100%|█████████████████████████████████████| 15691/15691 [30:15<00:00,  8.64it/s]\n",
      "  0%|                                                  | 0/1111 [00:00<?, ?it/s]"
     ]
    },
    {
     "name": "stdout",
     "output_type": "stream",
     "text": [
      "[train] epoch time: 1815.74s, average batch time: 0.93s\n",
      "[train] L1 : 0.0075 (best 0.0075), L1 : 0.0075 (best 0.0075)\n"
     ]
    },
    {
     "name": "stderr",
     "output_type": "stream",
     "text": [
      "100%|███████████████████████████████████████| 1111/1111 [01:35<00:00, 11.63it/s]\n",
      "  0%|                                                 | 0/15691 [00:00<?, ?it/s]"
     ]
    },
    {
     "name": "stdout",
     "output_type": "stream",
     "text": [
      "[valid] epoch time: 95.53s, average batch time: 0.69s\n",
      "[valid] L1 : 0.0143 (best 0.0124), L1 : 0.0143 (best 0.0124)\n",
      "\n",
      "2022/03/18, 08:21:17 - [Epoch 343 / lr 1.50e-04]\n"
     ]
    },
    {
     "name": "stderr",
     "output_type": "stream",
     "text": [
      "100%|█████████████████████████████████████| 15691/15691 [29:14<00:00,  8.94it/s]\n",
      "  0%|                                                  | 0/1111 [00:00<?, ?it/s]"
     ]
    },
    {
     "name": "stdout",
     "output_type": "stream",
     "text": [
      "[train] epoch time: 1754.85s, average batch time: 0.89s\n",
      "[train] L1 : 0.0075 (best 0.0075), L1 : 0.0075 (best 0.0075)\n"
     ]
    },
    {
     "name": "stderr",
     "output_type": "stream",
     "text": [
      "100%|███████████████████████████████████████| 1111/1111 [02:31<00:00,  7.32it/s]\n",
      "  0%|                                                 | 0/15691 [00:00<?, ?it/s]"
     ]
    },
    {
     "name": "stdout",
     "output_type": "stream",
     "text": [
      "[valid] epoch time: 151.81s, average batch time: 1.09s\n",
      "[valid] L1 : 0.0134 (best 0.0124), L1 : 0.0134 (best 0.0124)\n",
      "\n",
      "2022/03/18, 08:53:03 - [Epoch 344 / lr 1.50e-04]\n"
     ]
    },
    {
     "name": "stderr",
     "output_type": "stream",
     "text": [
      "100%|█████████████████████████████████████| 15691/15691 [29:15<00:00,  8.94it/s]\n",
      "  0%|                                                  | 0/1111 [00:00<?, ?it/s]"
     ]
    },
    {
     "name": "stdout",
     "output_type": "stream",
     "text": [
      "[train] epoch time: 1755.68s, average batch time: 0.89s\n",
      "[train] L1 : 0.0076 (best 0.0075), L1 : 0.0076 (best 0.0075)\n"
     ]
    },
    {
     "name": "stderr",
     "output_type": "stream",
     "text": [
      "100%|███████████████████████████████████████| 1111/1111 [01:18<00:00, 14.10it/s]\n",
      "  0%|                                                 | 0/15691 [00:00<?, ?it/s]"
     ]
    },
    {
     "name": "stdout",
     "output_type": "stream",
     "text": [
      "[valid] epoch time: 78.78s, average batch time: 0.57s\n",
      "[valid] L1 : 0.0139 (best 0.0124), L1 : 0.0139 (best 0.0124)\n",
      "\n",
      "2022/03/18, 09:23:38 - [Epoch 345 / lr 1.50e-04]\n"
     ]
    },
    {
     "name": "stderr",
     "output_type": "stream",
     "text": [
      "100%|█████████████████████████████████████| 15691/15691 [29:50<00:00,  8.76it/s]\n",
      "  0%|                                                  | 0/1111 [00:00<?, ?it/s]"
     ]
    },
    {
     "name": "stdout",
     "output_type": "stream",
     "text": [
      "[train] epoch time: 1790.35s, average batch time: 0.91s\n",
      "[train] L1 : 0.0076 (best 0.0075), L1 : 0.0076 (best 0.0075)\n"
     ]
    },
    {
     "name": "stderr",
     "output_type": "stream",
     "text": [
      "100%|███████████████████████████████████████| 1111/1111 [01:49<00:00, 10.11it/s]\n",
      "  0%|                                                 | 0/15691 [00:00<?, ?it/s]"
     ]
    },
    {
     "name": "stdout",
     "output_type": "stream",
     "text": [
      "[valid] epoch time: 109.88s, average batch time: 0.79s\n",
      "[valid] L1 : 0.0132 (best 0.0124), L1 : 0.0132 (best 0.0124)\n",
      "\n",
      "2022/03/18, 09:55:18 - [Epoch 346 / lr 1.50e-04]\n"
     ]
    },
    {
     "name": "stderr",
     "output_type": "stream",
     "text": [
      "100%|█████████████████████████████████████| 15691/15691 [29:21<00:00,  8.91it/s]\n",
      "  0%|                                                  | 0/1111 [00:00<?, ?it/s]"
     ]
    },
    {
     "name": "stdout",
     "output_type": "stream",
     "text": [
      "[train] epoch time: 1761.97s, average batch time: 0.90s\n",
      "[train] L1 : 0.0075 (best 0.0075), L1 : 0.0075 (best 0.0075)\n"
     ]
    },
    {
     "name": "stderr",
     "output_type": "stream",
     "text": [
      "100%|███████████████████████████████████████| 1111/1111 [01:45<00:00, 10.48it/s]\n",
      "  0%|                                                 | 0/15691 [00:00<?, ?it/s]"
     ]
    },
    {
     "name": "stdout",
     "output_type": "stream",
     "text": [
      "[valid] epoch time: 105.99s, average batch time: 0.76s\n",
      "[valid] L1 : 0.0138 (best 0.0124), L1 : 0.0138 (best 0.0124)\n",
      "\n",
      "2022/03/18, 10:26:26 - [Epoch 347 / lr 1.50e-04]\n"
     ]
    },
    {
     "name": "stderr",
     "output_type": "stream",
     "text": [
      "100%|█████████████████████████████████████| 15691/15691 [29:11<00:00,  8.96it/s]\n",
      "  0%|                                                  | 0/1111 [00:00<?, ?it/s]"
     ]
    },
    {
     "name": "stdout",
     "output_type": "stream",
     "text": [
      "[train] epoch time: 1751.85s, average batch time: 0.89s\n",
      "[train] L1 : 0.0076 (best 0.0075), L1 : 0.0076 (best 0.0075)\n"
     ]
    },
    {
     "name": "stderr",
     "output_type": "stream",
     "text": [
      "100%|███████████████████████████████████████| 1111/1111 [01:42<00:00, 10.86it/s]\n",
      "  0%|                                                 | 0/15691 [00:00<?, ?it/s]"
     ]
    },
    {
     "name": "stdout",
     "output_type": "stream",
     "text": [
      "[valid] epoch time: 102.34s, average batch time: 0.74s\n",
      "[valid] L1 : 0.0131 (best 0.0124), L1 : 0.0131 (best 0.0124)\n",
      "\n",
      "2022/03/18, 10:57:20 - [Epoch 348 / lr 1.50e-04]\n"
     ]
    },
    {
     "name": "stderr",
     "output_type": "stream",
     "text": [
      "100%|█████████████████████████████████████| 15691/15691 [29:21<00:00,  8.91it/s]\n",
      "  0%|                                                  | 0/1111 [00:00<?, ?it/s]"
     ]
    },
    {
     "name": "stdout",
     "output_type": "stream",
     "text": [
      "[train] epoch time: 1761.10s, average batch time: 0.90s\n",
      "[train] L1 : 0.0075 (best 0.0075), L1 : 0.0075 (best 0.0075)\n"
     ]
    },
    {
     "name": "stderr",
     "output_type": "stream",
     "text": [
      "100%|███████████████████████████████████████| 1111/1111 [02:06<00:00,  8.78it/s]\n",
      "  0%|                                                 | 0/15691 [00:00<?, ?it/s]"
     ]
    },
    {
     "name": "stdout",
     "output_type": "stream",
     "text": [
      "[valid] epoch time: 126.58s, average batch time: 0.91s\n",
      "[valid] L1 : 0.0136 (best 0.0124), L1 : 0.0136 (best 0.0124)\n",
      "\n",
      "2022/03/18, 11:28:48 - [Epoch 349 / lr 1.50e-04]\n"
     ]
    },
    {
     "name": "stderr",
     "output_type": "stream",
     "text": [
      "100%|█████████████████████████████████████| 15691/15691 [29:36<00:00,  8.83it/s]\n",
      "  0%|                                                  | 0/1111 [00:00<?, ?it/s]"
     ]
    },
    {
     "name": "stdout",
     "output_type": "stream",
     "text": [
      "[train] epoch time: 1776.91s, average batch time: 0.91s\n",
      "[train] L1 : 0.0075 (best 0.0075), L1 : 0.0075 (best 0.0075)\n"
     ]
    },
    {
     "name": "stderr",
     "output_type": "stream",
     "text": [
      "100%|███████████████████████████████████████| 1111/1111 [01:18<00:00, 14.20it/s]\n",
      "  0%|                                                 | 0/15691 [00:00<?, ?it/s]"
     ]
    },
    {
     "name": "stdout",
     "output_type": "stream",
     "text": [
      "[valid] epoch time: 78.26s, average batch time: 0.56s\n",
      "[valid] L1 : 0.0136 (best 0.0124), L1 : 0.0136 (best 0.0124)\n",
      "\n",
      "2022/03/18, 11:59:43 - [Epoch 350 / lr 1.50e-04]\n"
     ]
    },
    {
     "name": "stderr",
     "output_type": "stream",
     "text": [
      "100%|█████████████████████████████████████| 15691/15691 [30:18<00:00,  8.63it/s]\n",
      "  0%|                                                  | 0/1111 [00:00<?, ?it/s]"
     ]
    },
    {
     "name": "stdout",
     "output_type": "stream",
     "text": [
      "[train] epoch time: 1818.67s, average batch time: 0.93s\n",
      "[train] L1 : 0.0076 (best 0.0075), L1 : 0.0076 (best 0.0075)\n"
     ]
    },
    {
     "name": "stderr",
     "output_type": "stream",
     "text": [
      "100%|███████████████████████████████████████| 1111/1111 [01:43<00:00, 10.72it/s]\n",
      "  0%|                                                 | 0/15691 [00:00<?, ?it/s]"
     ]
    },
    {
     "name": "stdout",
     "output_type": "stream",
     "text": [
      "[valid] epoch time: 103.64s, average batch time: 0.75s\n",
      "[valid] L1 : 0.0156 (best 0.0124), L1 : 0.0156 (best 0.0124)\n",
      "\n",
      "2022/03/18, 12:31:46 - [Epoch 351 / lr 1.50e-04]\n"
     ]
    },
    {
     "name": "stderr",
     "output_type": "stream",
     "text": [
      "100%|█████████████████████████████████████| 15691/15691 [29:58<00:00,  8.72it/s]\n",
      "  0%|                                                  | 0/1111 [00:00<?, ?it/s]"
     ]
    },
    {
     "name": "stdout",
     "output_type": "stream",
     "text": [
      "[train] epoch time: 1798.87s, average batch time: 0.92s\n",
      "[train] L1 : 0.0076 (best 0.0075), L1 : 0.0076 (best 0.0075)\n"
     ]
    },
    {
     "name": "stderr",
     "output_type": "stream",
     "text": [
      "100%|███████████████████████████████████████| 1111/1111 [01:40<00:00, 11.00it/s]\n",
      "  0%|                                                 | 0/15691 [00:00<?, ?it/s]"
     ]
    },
    {
     "name": "stdout",
     "output_type": "stream",
     "text": [
      "[valid] epoch time: 100.98s, average batch time: 0.73s\n",
      "[valid] L1 : 0.0145 (best 0.0124), L1 : 0.0145 (best 0.0124)\n",
      "\n",
      "2022/03/18, 13:03:26 - [Epoch 352 / lr 1.50e-04]\n"
     ]
    },
    {
     "name": "stderr",
     "output_type": "stream",
     "text": [
      "100%|█████████████████████████████████████| 15691/15691 [29:23<00:00,  8.90it/s]\n",
      "  0%|                                                  | 0/1111 [00:00<?, ?it/s]"
     ]
    },
    {
     "name": "stdout",
     "output_type": "stream",
     "text": [
      "[train] epoch time: 1763.10s, average batch time: 0.90s\n",
      "[train] L1 : 0.0076 (best 0.0075), L1 : 0.0076 (best 0.0075)\n"
     ]
    },
    {
     "name": "stderr",
     "output_type": "stream",
     "text": [
      "100%|███████████████████████████████████████| 1111/1111 [01:38<00:00, 11.26it/s]\n",
      "  0%|                                                 | 0/15691 [00:00<?, ?it/s]"
     ]
    },
    {
     "name": "stdout",
     "output_type": "stream",
     "text": [
      "[valid] epoch time: 98.64s, average batch time: 0.71s\n",
      "[valid] L1 : 0.0136 (best 0.0124), L1 : 0.0136 (best 0.0124)\n",
      "\n",
      "2022/03/18, 13:34:28 - [Epoch 353 / lr 1.50e-04]\n"
     ]
    },
    {
     "name": "stderr",
     "output_type": "stream",
     "text": [
      "100%|█████████████████████████████████████| 15691/15691 [30:08<00:00,  8.67it/s]\n",
      "  0%|                                                  | 0/1111 [00:00<?, ?it/s]"
     ]
    },
    {
     "name": "stdout",
     "output_type": "stream",
     "text": [
      "[train] epoch time: 1808.86s, average batch time: 0.92s\n",
      "[train] L1 : 0.0075 (best 0.0075), L1 : 0.0075 (best 0.0075)\n"
     ]
    },
    {
     "name": "stderr",
     "output_type": "stream",
     "text": [
      "100%|███████████████████████████████████████| 1111/1111 [02:28<00:00,  7.47it/s]\n",
      "  0%|                                                 | 0/15691 [00:00<?, ?it/s]"
     ]
    },
    {
     "name": "stdout",
     "output_type": "stream",
     "text": [
      "[valid] epoch time: 148.82s, average batch time: 1.07s\n",
      "[valid] L1 : 0.0150 (best 0.0124), L1 : 0.0150 (best 0.0124)\n",
      "\n",
      "2022/03/18, 14:07:05 - [Epoch 354 / lr 1.50e-04]\n"
     ]
    },
    {
     "name": "stderr",
     "output_type": "stream",
     "text": [
      "100%|█████████████████████████████████████| 15691/15691 [29:33<00:00,  8.85it/s]\n",
      "  0%|                                                  | 0/1111 [00:00<?, ?it/s]"
     ]
    },
    {
     "name": "stdout",
     "output_type": "stream",
     "text": [
      "[train] epoch time: 1773.45s, average batch time: 0.90s\n",
      "[train] L1 : 0.0075 (best 0.0075), L1 : 0.0075 (best 0.0075)\n"
     ]
    },
    {
     "name": "stderr",
     "output_type": "stream",
     "text": [
      "100%|███████████████████████████████████████| 1111/1111 [01:46<00:00, 10.46it/s]\n",
      "  0%|                                                 | 0/15691 [00:00<?, ?it/s]"
     ]
    },
    {
     "name": "stdout",
     "output_type": "stream",
     "text": [
      "[valid] epoch time: 106.25s, average batch time: 0.76s\n",
      "[valid] L1 : 0.0144 (best 0.0124), L1 : 0.0144 (best 0.0124)\n",
      "\n",
      "2022/03/18, 14:38:25 - [Epoch 355 / lr 1.50e-04]\n"
     ]
    },
    {
     "name": "stderr",
     "output_type": "stream",
     "text": [
      "100%|█████████████████████████████████████| 15691/15691 [30:05<00:00,  8.69it/s]\n",
      "  0%|                                                  | 0/1111 [00:00<?, ?it/s]"
     ]
    },
    {
     "name": "stdout",
     "output_type": "stream",
     "text": [
      "[train] epoch time: 1805.97s, average batch time: 0.92s\n",
      "[train] L1 : 0.0076 (best 0.0075), L1 : 0.0076 (best 0.0075)\n"
     ]
    },
    {
     "name": "stderr",
     "output_type": "stream",
     "text": [
      "100%|███████████████████████████████████████| 1111/1111 [01:28<00:00, 12.49it/s]\n",
      "  0%|                                                 | 0/15691 [00:00<?, ?it/s]"
     ]
    },
    {
     "name": "stdout",
     "output_type": "stream",
     "text": [
      "[valid] epoch time: 88.95s, average batch time: 0.64s\n",
      "[valid] L1 : 0.0134 (best 0.0124), L1 : 0.0134 (best 0.0124)\n",
      "\n",
      "2022/03/18, 15:10:00 - [Epoch 356 / lr 1.50e-04]\n"
     ]
    },
    {
     "name": "stderr",
     "output_type": "stream",
     "text": [
      "100%|█████████████████████████████████████| 15691/15691 [29:15<00:00,  8.94it/s]\n",
      "  0%|                                                  | 0/1111 [00:00<?, ?it/s]"
     ]
    },
    {
     "name": "stdout",
     "output_type": "stream",
     "text": [
      "[train] epoch time: 1755.19s, average batch time: 0.89s\n",
      "[train] L1 : 0.0075 (best 0.0075), L1 : 0.0075 (best 0.0075)\n"
     ]
    },
    {
     "name": "stderr",
     "output_type": "stream",
     "text": [
      "100%|███████████████████████████████████████| 1111/1111 [02:06<00:00,  8.80it/s]\n",
      "  0%|                                                 | 0/15691 [00:00<?, ?it/s]"
     ]
    },
    {
     "name": "stdout",
     "output_type": "stream",
     "text": [
      "[valid] epoch time: 126.19s, average batch time: 0.91s\n",
      "[valid] L1 : 0.0131 (best 0.0124), L1 : 0.0131 (best 0.0124)\n",
      "\n",
      "2022/03/18, 15:41:22 - [Epoch 357 / lr 1.50e-04]\n"
     ]
    },
    {
     "name": "stderr",
     "output_type": "stream",
     "text": [
      "100%|█████████████████████████████████████| 15691/15691 [29:40<00:00,  8.81it/s]\n",
      "  0%|                                                  | 0/1111 [00:00<?, ?it/s]"
     ]
    },
    {
     "name": "stdout",
     "output_type": "stream",
     "text": [
      "[train] epoch time: 1780.75s, average batch time: 0.91s\n",
      "[train] L1 : 0.0075 (best 0.0075), L1 : 0.0075 (best 0.0075)\n"
     ]
    },
    {
     "name": "stderr",
     "output_type": "stream",
     "text": [
      "100%|███████████████████████████████████████| 1111/1111 [01:19<00:00, 13.96it/s]\n",
      "  0%|                                                 | 0/15691 [00:00<?, ?it/s]"
     ]
    },
    {
     "name": "stdout",
     "output_type": "stream",
     "text": [
      "[valid] epoch time: 79.60s, average batch time: 0.57s\n",
      "[valid] L1 : 0.0135 (best 0.0124), L1 : 0.0135 (best 0.0124)\n",
      "\n",
      "2022/03/18, 16:12:22 - [Epoch 358 / lr 1.50e-04]\n"
     ]
    },
    {
     "name": "stderr",
     "output_type": "stream",
     "text": [
      "100%|█████████████████████████████████████| 15691/15691 [30:13<00:00,  8.65it/s]\n",
      "  0%|                                                  | 0/1111 [00:00<?, ?it/s]"
     ]
    },
    {
     "name": "stdout",
     "output_type": "stream",
     "text": [
      "[train] epoch time: 1813.19s, average batch time: 0.92s\n",
      "[train] L1 : 0.0075 (best 0.0075), L1 : 0.0075 (best 0.0075)\n"
     ]
    },
    {
     "name": "stderr",
     "output_type": "stream",
     "text": [
      "100%|███████████████████████████████████████| 1111/1111 [02:09<00:00,  8.60it/s]\n",
      "  0%|                                                 | 0/15691 [00:00<?, ?it/s]"
     ]
    },
    {
     "name": "stdout",
     "output_type": "stream",
     "text": [
      "[valid] epoch time: 129.17s, average batch time: 0.93s\n",
      "[valid] L1 : 0.0151 (best 0.0124), L1 : 0.0151 (best 0.0124)\n",
      "\n",
      "2022/03/18, 16:44:44 - [Epoch 359 / lr 1.50e-04]\n"
     ]
    },
    {
     "name": "stderr",
     "output_type": "stream",
     "text": [
      "100%|█████████████████████████████████████| 15691/15691 [30:13<00:00,  8.65it/s]\n",
      "  0%|                                                  | 0/1111 [00:00<?, ?it/s]"
     ]
    },
    {
     "name": "stdout",
     "output_type": "stream",
     "text": [
      "[train] epoch time: 1813.10s, average batch time: 0.92s\n",
      "[train] L1 : 0.0075 (best 0.0075), L1 : 0.0075 (best 0.0075)\n"
     ]
    },
    {
     "name": "stderr",
     "output_type": "stream",
     "text": [
      "100%|███████████████████████████████████████| 1111/1111 [01:47<00:00, 10.34it/s]\n",
      "  0%|                                                 | 0/15691 [00:00<?, ?it/s]"
     ]
    },
    {
     "name": "stdout",
     "output_type": "stream",
     "text": [
      "[valid] epoch time: 107.43s, average batch time: 0.77s\n",
      "[valid] L1 : 0.0139 (best 0.0124), L1 : 0.0139 (best 0.0124)\n",
      "\n",
      "2022/03/18, 17:16:45 - [Epoch 360 / lr 1.50e-04]\n"
     ]
    },
    {
     "name": "stderr",
     "output_type": "stream",
     "text": [
      "100%|█████████████████████████████████████| 15691/15691 [29:49<00:00,  8.77it/s]\n",
      "  0%|                                                  | 0/1111 [00:00<?, ?it/s]"
     ]
    },
    {
     "name": "stdout",
     "output_type": "stream",
     "text": [
      "[train] epoch time: 1789.79s, average batch time: 0.91s\n",
      "[train] L1 : 0.0076 (best 0.0075), L1 : 0.0076 (best 0.0075)\n"
     ]
    },
    {
     "name": "stderr",
     "output_type": "stream",
     "text": [
      "100%|███████████████████████████████████████| 1111/1111 [01:43<00:00, 10.73it/s]\n",
      "  0%|                                                 | 0/15691 [00:00<?, ?it/s]"
     ]
    },
    {
     "name": "stdout",
     "output_type": "stream",
     "text": [
      "[valid] epoch time: 103.59s, average batch time: 0.75s\n",
      "[valid] L1 : 0.0138 (best 0.0124), L1 : 0.0138 (best 0.0124)\n",
      "\n",
      "2022/03/18, 17:48:18 - [Epoch 361 / lr 1.50e-04]\n"
     ]
    },
    {
     "name": "stderr",
     "output_type": "stream",
     "text": [
      "100%|█████████████████████████████████████| 15691/15691 [30:00<00:00,  8.72it/s]\n",
      "  0%|                                                  | 0/1111 [00:00<?, ?it/s]"
     ]
    },
    {
     "name": "stdout",
     "output_type": "stream",
     "text": [
      "[train] epoch time: 1800.32s, average batch time: 0.92s\n",
      "[train] L1 : 0.0075 (best 0.0075), L1 : 0.0075 (best 0.0075)\n"
     ]
    },
    {
     "name": "stderr",
     "output_type": "stream",
     "text": [
      "100%|███████████████████████████████████████| 1111/1111 [01:57<00:00,  9.47it/s]\n",
      "  0%|                                                 | 0/15691 [00:00<?, ?it/s]"
     ]
    },
    {
     "name": "stdout",
     "output_type": "stream",
     "text": [
      "[valid] epoch time: 117.34s, average batch time: 0.84s\n",
      "[valid] L1 : 0.0133 (best 0.0124), L1 : 0.0133 (best 0.0124)\n",
      "\n",
      "2022/03/18, 18:20:16 - [Epoch 362 / lr 1.50e-04]\n"
     ]
    },
    {
     "name": "stderr",
     "output_type": "stream",
     "text": [
      "100%|█████████████████████████████████████| 15691/15691 [30:21<00:00,  8.61it/s]\n",
      "  0%|                                                  | 0/1111 [00:00<?, ?it/s]"
     ]
    },
    {
     "name": "stdout",
     "output_type": "stream",
     "text": [
      "[train] epoch time: 1821.66s, average batch time: 0.93s\n",
      "[train] L1 : 0.0075 (best 0.0075), L1 : 0.0075 (best 0.0075)\n"
     ]
    },
    {
     "name": "stderr",
     "output_type": "stream",
     "text": [
      "100%|███████████████████████████████████████| 1111/1111 [01:17<00:00, 14.33it/s]\n",
      "  0%|                                                 | 0/15691 [00:00<?, ?it/s]"
     ]
    },
    {
     "name": "stdout",
     "output_type": "stream",
     "text": [
      "[valid] epoch time: 77.54s, average batch time: 0.56s\n",
      "[valid] L1 : 0.0139 (best 0.0124), L1 : 0.0139 (best 0.0124)\n",
      "\n",
      "2022/03/18, 18:51:55 - [Epoch 363 / lr 1.50e-04]\n"
     ]
    },
    {
     "name": "stderr",
     "output_type": "stream",
     "text": [
      "100%|█████████████████████████████████████| 15691/15691 [29:08<00:00,  8.98it/s]\n",
      "  0%|                                                  | 0/1111 [00:00<?, ?it/s]"
     ]
    },
    {
     "name": "stdout",
     "output_type": "stream",
     "text": [
      "[train] epoch time: 1748.07s, average batch time: 0.89s\n",
      "[train] L1 : 0.0075 (best 0.0075), L1 : 0.0075 (best 0.0075)\n"
     ]
    },
    {
     "name": "stderr",
     "output_type": "stream",
     "text": [
      "100%|███████████████████████████████████████| 1111/1111 [02:24<00:00,  7.69it/s]\n",
      "  0%|                                                 | 0/15691 [00:00<?, ?it/s]"
     ]
    },
    {
     "name": "stdout",
     "output_type": "stream",
     "text": [
      "[valid] epoch time: 144.38s, average batch time: 1.04s\n",
      "[valid] L1 : 0.0132 (best 0.0124), L1 : 0.0132 (best 0.0124)\n",
      "\n",
      "2022/03/18, 19:23:28 - [Epoch 364 / lr 1.50e-04]\n"
     ]
    },
    {
     "name": "stderr",
     "output_type": "stream",
     "text": [
      "100%|█████████████████████████████████████| 15691/15691 [29:22<00:00,  8.90it/s]\n",
      "  0%|                                                  | 0/1111 [00:00<?, ?it/s]"
     ]
    },
    {
     "name": "stdout",
     "output_type": "stream",
     "text": [
      "[train] epoch time: 1762.30s, average batch time: 0.90s\n",
      "[train] L1 : 0.0075 (best 0.0075), L1 : 0.0075 (best 0.0075)\n"
     ]
    },
    {
     "name": "stderr",
     "output_type": "stream",
     "text": [
      "100%|███████████████████████████████████████| 1111/1111 [01:37<00:00, 11.44it/s]\n",
      "  0%|                                                 | 0/15691 [00:00<?, ?it/s]"
     ]
    },
    {
     "name": "stdout",
     "output_type": "stream",
     "text": [
      "[valid] epoch time: 97.08s, average batch time: 0.70s\n",
      "[valid] L1 : 0.0136 (best 0.0124), L1 : 0.0136 (best 0.0124)\n",
      "\n",
      "2022/03/18, 19:54:27 - [Epoch 365 / lr 1.50e-04]\n"
     ]
    },
    {
     "name": "stderr",
     "output_type": "stream",
     "text": [
      "100%|█████████████████████████████████████| 15691/15691 [29:29<00:00,  8.87it/s]\n",
      "  0%|                                                  | 0/1111 [00:00<?, ?it/s]"
     ]
    },
    {
     "name": "stdout",
     "output_type": "stream",
     "text": [
      "[train] epoch time: 1769.85s, average batch time: 0.90s\n",
      "[train] L1 : 0.0075 (best 0.0075), L1 : 0.0075 (best 0.0075)\n"
     ]
    },
    {
     "name": "stderr",
     "output_type": "stream",
     "text": [
      "100%|███████████████████████████████████████| 1111/1111 [01:54<00:00,  9.73it/s]\n",
      "  0%|                                                 | 0/15691 [00:00<?, ?it/s]"
     ]
    },
    {
     "name": "stdout",
     "output_type": "stream",
     "text": [
      "[valid] epoch time: 114.21s, average batch time: 0.82s\n",
      "[valid] L1 : 0.0131 (best 0.0124), L1 : 0.0131 (best 0.0124)\n",
      "\n",
      "2022/03/18, 20:25:52 - [Epoch 366 / lr 1.50e-04]\n"
     ]
    },
    {
     "name": "stderr",
     "output_type": "stream",
     "text": [
      "100%|█████████████████████████████████████| 15691/15691 [29:12<00:00,  8.95it/s]\n",
      "  0%|                                                  | 0/1111 [00:00<?, ?it/s]"
     ]
    },
    {
     "name": "stdout",
     "output_type": "stream",
     "text": [
      "[train] epoch time: 1752.70s, average batch time: 0.89s\n",
      "[train] L1 : 0.0075 (best 0.0075), L1 : 0.0075 (best 0.0075)\n"
     ]
    },
    {
     "name": "stderr",
     "output_type": "stream",
     "text": [
      "100%|███████████████████████████████████████| 1111/1111 [01:58<00:00,  9.36it/s]\n",
      "  0%|                                                 | 0/15691 [00:00<?, ?it/s]"
     ]
    },
    {
     "name": "stdout",
     "output_type": "stream",
     "text": [
      "[valid] epoch time: 118.64s, average batch time: 0.85s\n",
      "[valid] L1 : 0.0130 (best 0.0124), L1 : 0.0130 (best 0.0124)\n",
      "\n",
      "2022/03/18, 20:57:03 - [Epoch 367 / lr 1.50e-04]\n"
     ]
    },
    {
     "name": "stderr",
     "output_type": "stream",
     "text": [
      "100%|█████████████████████████████████████| 15691/15691 [30:00<00:00,  8.72it/s]\n",
      "  0%|                                                  | 0/1111 [00:00<?, ?it/s]"
     ]
    },
    {
     "name": "stdout",
     "output_type": "stream",
     "text": [
      "[train] epoch time: 1800.36s, average batch time: 0.92s\n",
      "[train] L1 : 0.0075 (best 0.0075), L1 : 0.0075 (best 0.0075)\n"
     ]
    },
    {
     "name": "stderr",
     "output_type": "stream",
     "text": [
      "100%|███████████████████████████████████████| 1111/1111 [01:17<00:00, 14.27it/s]\n",
      "  0%|                                                 | 0/15691 [00:00<?, ?it/s]"
     ]
    },
    {
     "name": "stdout",
     "output_type": "stream",
     "text": [
      "[valid] epoch time: 77.87s, average batch time: 0.56s\n",
      "[valid] L1 : 0.0145 (best 0.0124), L1 : 0.0145 (best 0.0124)\n",
      "\n",
      "2022/03/18, 21:28:21 - [Epoch 368 / lr 1.50e-04]\n"
     ]
    },
    {
     "name": "stderr",
     "output_type": "stream",
     "text": [
      "100%|█████████████████████████████████████| 15691/15691 [29:32<00:00,  8.85it/s]\n",
      "  0%|                                                  | 0/1111 [00:00<?, ?it/s]"
     ]
    },
    {
     "name": "stdout",
     "output_type": "stream",
     "text": [
      "[train] epoch time: 1772.39s, average batch time: 0.90s\n",
      "[train] L1 : 0.0075 (best 0.0075), L1 : 0.0075 (best 0.0075)\n"
     ]
    },
    {
     "name": "stderr",
     "output_type": "stream",
     "text": [
      "100%|███████████████████████████████████████| 1111/1111 [01:54<00:00,  9.68it/s]\n",
      "  0%|                                                 | 0/15691 [00:00<?, ?it/s]"
     ]
    },
    {
     "name": "stdout",
     "output_type": "stream",
     "text": [
      "[valid] epoch time: 114.73s, average batch time: 0.83s\n",
      "[valid] L1 : 0.0131 (best 0.0124), L1 : 0.0131 (best 0.0124)\n",
      "\n",
      "2022/03/18, 21:59:48 - [Epoch 369 / lr 1.50e-04]\n"
     ]
    },
    {
     "name": "stderr",
     "output_type": "stream",
     "text": [
      " 89%|█████████████████████████████████    | 14040/15691 [27:05<12:12,  2.25it/s]"
     ]
    },
    {
     "ename": "IndexError",
     "evalue": "too many indices for array: array is 0-dimensional, but 2 were indexed",
     "output_type": "error",
     "traceback": [
      "\u001b[1;31m---------------------------------------------------------------------------\u001b[0m",
      "\u001b[1;31mIndexError\u001b[0m                                Traceback (most recent call last)",
      "\u001b[1;32m<ipython-input-25-f1da75b41ed5>\u001b[0m in \u001b[0;36m<module>\u001b[1;34m\u001b[0m\n\u001b[0;32m     54\u001b[0m     \u001b[0mend\u001b[0m \u001b[1;33m=\u001b[0m \u001b[0mtime\u001b[0m\u001b[1;33m.\u001b[0m\u001b[0mtime\u001b[0m\u001b[1;33m(\u001b[0m\u001b[1;33m)\u001b[0m\u001b[1;33m\u001b[0m\u001b[1;33m\u001b[0m\u001b[0m\n\u001b[0;32m     55\u001b[0m     \u001b[0mpbar\u001b[0m \u001b[1;33m=\u001b[0m \u001b[0mtqdm\u001b[0m\u001b[1;33m(\u001b[0m\u001b[0mtotal\u001b[0m\u001b[1;33m=\u001b[0m\u001b[0mlen\u001b[0m\u001b[1;33m(\u001b[0m\u001b[0mble_dataset_train\u001b[0m\u001b[1;33m)\u001b[0m\u001b[1;33m,\u001b[0m \u001b[0mncols\u001b[0m\u001b[1;33m=\u001b[0m\u001b[1;36m80\u001b[0m\u001b[1;33m)\u001b[0m\u001b[1;33m\u001b[0m\u001b[1;33m\u001b[0m\u001b[0m\n\u001b[1;32m---> 56\u001b[1;33m     \u001b[1;32mfor\u001b[0m \u001b[0mi\u001b[0m\u001b[1;33m,\u001b[0m\u001b[0mdata\u001b[0m \u001b[1;32min\u001b[0m \u001b[0menumerate\u001b[0m\u001b[1;33m(\u001b[0m\u001b[0mtrain_dl\u001b[0m\u001b[1;33m)\u001b[0m\u001b[1;33m:\u001b[0m\u001b[1;33m\u001b[0m\u001b[1;33m\u001b[0m\u001b[0m\n\u001b[0m\u001b[0;32m     57\u001b[0m \u001b[1;33m\u001b[0m\u001b[0m\n\u001b[0;32m     58\u001b[0m \u001b[1;33m\u001b[0m\u001b[0m\n",
      "\u001b[1;32mC:\\ProgramData\\Anaconda3\\lib\\site-packages\\torch\\utils\\data\\dataloader.py\u001b[0m in \u001b[0;36m__next__\u001b[1;34m(self)\u001b[0m\n\u001b[0;32m    517\u001b[0m         \u001b[1;32mif\u001b[0m \u001b[0mself\u001b[0m\u001b[1;33m.\u001b[0m\u001b[0m_sampler_iter\u001b[0m \u001b[1;32mis\u001b[0m \u001b[1;32mNone\u001b[0m\u001b[1;33m:\u001b[0m\u001b[1;33m\u001b[0m\u001b[1;33m\u001b[0m\u001b[0m\n\u001b[0;32m    518\u001b[0m             \u001b[0mself\u001b[0m\u001b[1;33m.\u001b[0m\u001b[0m_reset\u001b[0m\u001b[1;33m(\u001b[0m\u001b[1;33m)\u001b[0m\u001b[1;33m\u001b[0m\u001b[1;33m\u001b[0m\u001b[0m\n\u001b[1;32m--> 519\u001b[1;33m         \u001b[0mdata\u001b[0m \u001b[1;33m=\u001b[0m \u001b[0mself\u001b[0m\u001b[1;33m.\u001b[0m\u001b[0m_next_data\u001b[0m\u001b[1;33m(\u001b[0m\u001b[1;33m)\u001b[0m\u001b[1;33m\u001b[0m\u001b[1;33m\u001b[0m\u001b[0m\n\u001b[0m\u001b[0;32m    520\u001b[0m         \u001b[0mself\u001b[0m\u001b[1;33m.\u001b[0m\u001b[0m_num_yielded\u001b[0m \u001b[1;33m+=\u001b[0m \u001b[1;36m1\u001b[0m\u001b[1;33m\u001b[0m\u001b[1;33m\u001b[0m\u001b[0m\n\u001b[0;32m    521\u001b[0m         \u001b[1;32mif\u001b[0m \u001b[0mself\u001b[0m\u001b[1;33m.\u001b[0m\u001b[0m_dataset_kind\u001b[0m \u001b[1;33m==\u001b[0m \u001b[0m_DatasetKind\u001b[0m\u001b[1;33m.\u001b[0m\u001b[0mIterable\u001b[0m \u001b[1;32mand\u001b[0m\u001b[0;31m \u001b[0m\u001b[0;31m\\\u001b[0m\u001b[1;33m\u001b[0m\u001b[1;33m\u001b[0m\u001b[0m\n",
      "\u001b[1;32mC:\\ProgramData\\Anaconda3\\lib\\site-packages\\torch\\utils\\data\\dataloader.py\u001b[0m in \u001b[0;36m_next_data\u001b[1;34m(self)\u001b[0m\n\u001b[0;32m    557\u001b[0m     \u001b[1;32mdef\u001b[0m \u001b[0m_next_data\u001b[0m\u001b[1;33m(\u001b[0m\u001b[0mself\u001b[0m\u001b[1;33m)\u001b[0m\u001b[1;33m:\u001b[0m\u001b[1;33m\u001b[0m\u001b[1;33m\u001b[0m\u001b[0m\n\u001b[0;32m    558\u001b[0m         \u001b[0mindex\u001b[0m \u001b[1;33m=\u001b[0m \u001b[0mself\u001b[0m\u001b[1;33m.\u001b[0m\u001b[0m_next_index\u001b[0m\u001b[1;33m(\u001b[0m\u001b[1;33m)\u001b[0m  \u001b[1;31m# may raise StopIteration\u001b[0m\u001b[1;33m\u001b[0m\u001b[1;33m\u001b[0m\u001b[0m\n\u001b[1;32m--> 559\u001b[1;33m         \u001b[0mdata\u001b[0m \u001b[1;33m=\u001b[0m \u001b[0mself\u001b[0m\u001b[1;33m.\u001b[0m\u001b[0m_dataset_fetcher\u001b[0m\u001b[1;33m.\u001b[0m\u001b[0mfetch\u001b[0m\u001b[1;33m(\u001b[0m\u001b[0mindex\u001b[0m\u001b[1;33m)\u001b[0m  \u001b[1;31m# may raise StopIteration\u001b[0m\u001b[1;33m\u001b[0m\u001b[1;33m\u001b[0m\u001b[0m\n\u001b[0m\u001b[0;32m    560\u001b[0m         \u001b[1;32mif\u001b[0m \u001b[0mself\u001b[0m\u001b[1;33m.\u001b[0m\u001b[0m_pin_memory\u001b[0m\u001b[1;33m:\u001b[0m\u001b[1;33m\u001b[0m\u001b[1;33m\u001b[0m\u001b[0m\n\u001b[0;32m    561\u001b[0m             \u001b[0mdata\u001b[0m \u001b[1;33m=\u001b[0m \u001b[0m_utils\u001b[0m\u001b[1;33m.\u001b[0m\u001b[0mpin_memory\u001b[0m\u001b[1;33m.\u001b[0m\u001b[0mpin_memory\u001b[0m\u001b[1;33m(\u001b[0m\u001b[0mdata\u001b[0m\u001b[1;33m)\u001b[0m\u001b[1;33m\u001b[0m\u001b[1;33m\u001b[0m\u001b[0m\n",
      "\u001b[1;32mC:\\ProgramData\\Anaconda3\\lib\\site-packages\\torch\\utils\\data\\_utils\\fetch.py\u001b[0m in \u001b[0;36mfetch\u001b[1;34m(self, possibly_batched_index)\u001b[0m\n\u001b[0;32m     42\u001b[0m     \u001b[1;32mdef\u001b[0m \u001b[0mfetch\u001b[0m\u001b[1;33m(\u001b[0m\u001b[0mself\u001b[0m\u001b[1;33m,\u001b[0m \u001b[0mpossibly_batched_index\u001b[0m\u001b[1;33m)\u001b[0m\u001b[1;33m:\u001b[0m\u001b[1;33m\u001b[0m\u001b[1;33m\u001b[0m\u001b[0m\n\u001b[0;32m     43\u001b[0m         \u001b[1;32mif\u001b[0m \u001b[0mself\u001b[0m\u001b[1;33m.\u001b[0m\u001b[0mauto_collation\u001b[0m\u001b[1;33m:\u001b[0m\u001b[1;33m\u001b[0m\u001b[1;33m\u001b[0m\u001b[0m\n\u001b[1;32m---> 44\u001b[1;33m             \u001b[0mdata\u001b[0m \u001b[1;33m=\u001b[0m \u001b[1;33m[\u001b[0m\u001b[0mself\u001b[0m\u001b[1;33m.\u001b[0m\u001b[0mdataset\u001b[0m\u001b[1;33m[\u001b[0m\u001b[0midx\u001b[0m\u001b[1;33m]\u001b[0m \u001b[1;32mfor\u001b[0m \u001b[0midx\u001b[0m \u001b[1;32min\u001b[0m \u001b[0mpossibly_batched_index\u001b[0m\u001b[1;33m]\u001b[0m\u001b[1;33m\u001b[0m\u001b[1;33m\u001b[0m\u001b[0m\n\u001b[0m\u001b[0;32m     45\u001b[0m         \u001b[1;32melse\u001b[0m\u001b[1;33m:\u001b[0m\u001b[1;33m\u001b[0m\u001b[1;33m\u001b[0m\u001b[0m\n\u001b[0;32m     46\u001b[0m             \u001b[0mdata\u001b[0m \u001b[1;33m=\u001b[0m \u001b[0mself\u001b[0m\u001b[1;33m.\u001b[0m\u001b[0mdataset\u001b[0m\u001b[1;33m[\u001b[0m\u001b[0mpossibly_batched_index\u001b[0m\u001b[1;33m]\u001b[0m\u001b[1;33m\u001b[0m\u001b[1;33m\u001b[0m\u001b[0m\n",
      "\u001b[1;32mC:\\ProgramData\\Anaconda3\\lib\\site-packages\\torch\\utils\\data\\_utils\\fetch.py\u001b[0m in \u001b[0;36m<listcomp>\u001b[1;34m(.0)\u001b[0m\n\u001b[0;32m     42\u001b[0m     \u001b[1;32mdef\u001b[0m \u001b[0mfetch\u001b[0m\u001b[1;33m(\u001b[0m\u001b[0mself\u001b[0m\u001b[1;33m,\u001b[0m \u001b[0mpossibly_batched_index\u001b[0m\u001b[1;33m)\u001b[0m\u001b[1;33m:\u001b[0m\u001b[1;33m\u001b[0m\u001b[1;33m\u001b[0m\u001b[0m\n\u001b[0;32m     43\u001b[0m         \u001b[1;32mif\u001b[0m \u001b[0mself\u001b[0m\u001b[1;33m.\u001b[0m\u001b[0mauto_collation\u001b[0m\u001b[1;33m:\u001b[0m\u001b[1;33m\u001b[0m\u001b[1;33m\u001b[0m\u001b[0m\n\u001b[1;32m---> 44\u001b[1;33m             \u001b[0mdata\u001b[0m \u001b[1;33m=\u001b[0m \u001b[1;33m[\u001b[0m\u001b[0mself\u001b[0m\u001b[1;33m.\u001b[0m\u001b[0mdataset\u001b[0m\u001b[1;33m[\u001b[0m\u001b[0midx\u001b[0m\u001b[1;33m]\u001b[0m \u001b[1;32mfor\u001b[0m \u001b[0midx\u001b[0m \u001b[1;32min\u001b[0m \u001b[0mpossibly_batched_index\u001b[0m\u001b[1;33m]\u001b[0m\u001b[1;33m\u001b[0m\u001b[1;33m\u001b[0m\u001b[0m\n\u001b[0m\u001b[0;32m     45\u001b[0m         \u001b[1;32melse\u001b[0m\u001b[1;33m:\u001b[0m\u001b[1;33m\u001b[0m\u001b[1;33m\u001b[0m\u001b[0m\n\u001b[0;32m     46\u001b[0m             \u001b[0mdata\u001b[0m \u001b[1;33m=\u001b[0m \u001b[0mself\u001b[0m\u001b[1;33m.\u001b[0m\u001b[0mdataset\u001b[0m\u001b[1;33m[\u001b[0m\u001b[0mpossibly_batched_index\u001b[0m\u001b[1;33m]\u001b[0m\u001b[1;33m\u001b[0m\u001b[1;33m\u001b[0m\u001b[0m\n",
      "\u001b[1;32m<ipython-input-18-61bf4a8e577a>\u001b[0m in \u001b[0;36m__getitem__\u001b[1;34m(self, idx)\u001b[0m\n\u001b[0;32m     73\u001b[0m             \u001b[0mble\u001b[0m\u001b[1;33m=\u001b[0m\u001b[0mnp\u001b[0m\u001b[1;33m.\u001b[0m\u001b[0masarray\u001b[0m\u001b[1;33m(\u001b[0m\u001b[0mble\u001b[0m\u001b[1;33m)\u001b[0m\u001b[1;33m\u001b[0m\u001b[1;33m\u001b[0m\u001b[0m\n\u001b[0;32m     74\u001b[0m             \u001b[0msample\u001b[0m\u001b[1;33m[\u001b[0m\u001b[1;34m'label'\u001b[0m\u001b[1;33m]\u001b[0m \u001b[1;33m=\u001b[0m \u001b[0mnp\u001b[0m\u001b[1;33m.\u001b[0m\u001b[0masarray\u001b[0m\u001b[1;33m(\u001b[0m\u001b[0mble\u001b[0m\u001b[1;33m[\u001b[0m\u001b[1;33m:\u001b[0m\u001b[1;33m,\u001b[0m\u001b[1;33m:\u001b[0m\u001b[1;33m,\u001b[0m\u001b[0mnp\u001b[0m\u001b[1;33m.\u001b[0m\u001b[0mnewaxis\u001b[0m\u001b[1;33m]\u001b[0m\u001b[1;33m)\u001b[0m\u001b[1;33m\u001b[0m\u001b[1;33m\u001b[0m\u001b[0m\n\u001b[1;32m---> 75\u001b[1;33m             \u001b[0msample\u001b[0m \u001b[1;33m=\u001b[0m \u001b[0mself\u001b[0m\u001b[1;33m.\u001b[0m\u001b[0mtransform\u001b[0m\u001b[1;33m(\u001b[0m\u001b[0msample\u001b[0m\u001b[1;33m)\u001b[0m\u001b[1;33m\u001b[0m\u001b[1;33m\u001b[0m\u001b[0m\n\u001b[0m\u001b[0;32m     76\u001b[0m \u001b[1;33m\u001b[0m\u001b[0m\n\u001b[0;32m     77\u001b[0m         \u001b[1;32melse\u001b[0m\u001b[1;33m:\u001b[0m\u001b[1;33m\u001b[0m\u001b[1;33m\u001b[0m\u001b[0m\n",
      "\u001b[1;32mC:\\ProgramData\\Anaconda3\\lib\\site-packages\\torchvision\\transforms\\transforms.py\u001b[0m in \u001b[0;36m__call__\u001b[1;34m(self, img)\u001b[0m\n\u001b[0;32m     57\u001b[0m     \u001b[1;32mdef\u001b[0m \u001b[0m__call__\u001b[0m\u001b[1;33m(\u001b[0m\u001b[0mself\u001b[0m\u001b[1;33m,\u001b[0m \u001b[0mimg\u001b[0m\u001b[1;33m)\u001b[0m\u001b[1;33m:\u001b[0m\u001b[1;33m\u001b[0m\u001b[1;33m\u001b[0m\u001b[0m\n\u001b[0;32m     58\u001b[0m         \u001b[1;32mfor\u001b[0m \u001b[0mt\u001b[0m \u001b[1;32min\u001b[0m \u001b[0mself\u001b[0m\u001b[1;33m.\u001b[0m\u001b[0mtransforms\u001b[0m\u001b[1;33m:\u001b[0m\u001b[1;33m\u001b[0m\u001b[1;33m\u001b[0m\u001b[0m\n\u001b[1;32m---> 59\u001b[1;33m             \u001b[0mimg\u001b[0m \u001b[1;33m=\u001b[0m \u001b[0mt\u001b[0m\u001b[1;33m(\u001b[0m\u001b[0mimg\u001b[0m\u001b[1;33m)\u001b[0m\u001b[1;33m\u001b[0m\u001b[1;33m\u001b[0m\u001b[0m\n\u001b[0m\u001b[0;32m     60\u001b[0m         \u001b[1;32mreturn\u001b[0m \u001b[0mimg\u001b[0m\u001b[1;33m\u001b[0m\u001b[1;33m\u001b[0m\u001b[0m\n\u001b[0;32m     61\u001b[0m \u001b[1;33m\u001b[0m\u001b[0m\n",
      "\u001b[1;32m<ipython-input-17-60350b13adab>\u001b[0m in \u001b[0;36m__call__\u001b[1;34m(self, sample)\u001b[0m\n\u001b[0;32m     20\u001b[0m         \u001b[0mtop\u001b[0m\u001b[1;33m,\u001b[0m \u001b[0mleft\u001b[0m \u001b[1;33m=\u001b[0m \u001b[0msample\u001b[0m\u001b[1;33m[\u001b[0m\u001b[1;34m'top'\u001b[0m\u001b[1;33m]\u001b[0m\u001b[1;33m,\u001b[0m \u001b[0msample\u001b[0m\u001b[1;33m[\u001b[0m\u001b[1;34m'left'\u001b[0m\u001b[1;33m]\u001b[0m\u001b[1;33m\u001b[0m\u001b[1;33m\u001b[0m\u001b[0m\n\u001b[0;32m     21\u001b[0m         \u001b[0mnew_h\u001b[0m\u001b[1;33m,\u001b[0m \u001b[0mnew_w\u001b[0m \u001b[1;33m=\u001b[0m \u001b[0mself\u001b[0m\u001b[1;33m.\u001b[0m\u001b[0moutput_size\u001b[0m\u001b[1;33m\u001b[0m\u001b[1;33m\u001b[0m\u001b[0m\n\u001b[1;32m---> 22\u001b[1;33m         sample['image'] = image[top: top + new_h,\n\u001b[0m\u001b[0;32m     23\u001b[0m                           left: left + new_w]\n\u001b[0;32m     24\u001b[0m         sample['label'] = label[top: top + new_h,\n",
      "\u001b[1;31mIndexError\u001b[0m: too many indices for array: array is 0-dimensional, but 2 were indexed"
     ]
    }
   ],
   "source": [
    "import numpy as np\n",
    "import torch\n",
    "import torch.nn as nn\n",
    "import torch.nn.functional as F\n",
    "import time\n",
    "\n",
    "from torch.utils.tensorboard import SummaryWriter\n",
    "from tqdm import tqdm\n",
    "\n",
    "\n",
    "torch.backends.cudnn.enabled = True\n",
    "torch.backends.cudnn.benchmark = True\n",
    "\n",
    "# set random seed\n",
    "torch.manual_seed(39)\n",
    "torch.cuda.manual_seed(39)\n",
    "random.seed(39)\n",
    "np.random.seed(39)\n",
    "\n",
    "logger = Logger()\n",
    "logger.writer = SummaryWriter(\"E:/gopro/experiment\")\n",
    "logger('building {} model ...')\n",
    "model = UNet().cuda()\n",
    "\n",
    "#model = torch.nn.DataParallel(RAFT(args))\n",
    "#model.load_state_dict(torch.load(args.model))\n",
    "\n",
    "#model = model.module\n",
    "#model.to(DEVICE)\n",
    "\n",
    "logger('model structure:', model, verbose=False)\n",
    "model_name=\"flownet\"\n",
    "\n",
    "L1 = nn.L1Loss()\n",
    "\n",
    "L1Grad = L1GradientLoss()\n",
    "\n",
    "opt = Optimizer(model)\n",
    "    \n",
    "for epoch in range(400):\n",
    "    #training\n",
    "    model.train()\n",
    "    logger('[Epoch {} / lr {:.2e}]'.format(epoch, opt.get_lr()), prefix='\\n')\n",
    "\n",
    "    losses_meter = {}\n",
    "    losses_name = \"L1\"\n",
    "    \n",
    "    losses_meter= AverageMeter()\n",
    "\n",
    "    measure_meter = AverageMeter()\n",
    "    batchtime_meter = AverageMeter()\n",
    "\n",
    "    start = time.time()\n",
    "    end = time.time()\n",
    "    pbar = tqdm(total=len(ble_dataset_train), ncols=80)\n",
    "    for i,data in enumerate(train_dl):\n",
    "        \n",
    "        \n",
    "        blur,label=data\n",
    "        blur,label=blur.cuda(),label.cuda()\n",
    "        \n",
    "       # blur = (blur+0.5)*255\n",
    "       # label =  label*150\n",
    "        \n",
    "       # padder = InputPadder(blur.shape)\n",
    "       # blur, _ = padder.pad(blur, blur)\n",
    "\n",
    "        #flow_low_12, flow_up_12 = model(blur, blur, iters=20, test_mode=True)\n",
    "        ble=model(blur)\n",
    "        #ble = torch.sqrt(flow_up_12[:,0,:,:]**2+flow_up_12[:,1,:,:]**2)\n",
    "        #ble = ble.unsqueeze(1)\n",
    "        \n",
    "        loss=L1(ble,label)+0.5*L1Grad(ble,label)\n",
    "        measure=L1(ble,label)\n",
    "        losses_meter.update(loss.detach().item(), blur.size(0))\n",
    "        measure_meter.update(measure.detach().item(), blur.size(0))\n",
    "        \n",
    "        opt.zero_grad() \n",
    "        loss.backward()\n",
    "        opt.step()\n",
    "        batchtime_meter.update(time.time() - end)\n",
    "        end = time.time()\n",
    "        pbar.update(blur.size(0))\n",
    "\n",
    "      \n",
    "    pbar.close()\n",
    "    logger.register(losses_name + '_train', epoch, losses_meter.avg)\n",
    "    logger.register(losses_name + '_train', epoch, measure_meter.avg)\n",
    "    logger.writer.add_scalar(losses_name + '_loss_train', losses_meter.avg, epoch)\n",
    "    logger.writer.add_scalar(losses_name + '_train', measure_meter.avg, epoch)\n",
    "    logger.writer.add_scalar('lr', opt.get_lr(), epoch)\n",
    "    logger('[train] epoch time: {:.2f}s, average batch time: {:.2f}s'.format(end - start, batchtime_meter.avg),\n",
    "           timestamp=False)\n",
    "    logger.report([[losses_name, 'min'], [losses_name, 'min']], state='train', epoch=epoch)\n",
    "    opt.lr_schedule()\n",
    "    \n",
    "    #eval\n",
    "    model.eval()\n",
    "\n",
    "    with torch.no_grad():\n",
    "        losses_meter = {}\n",
    "        losses_name = \"L1\"\n",
    "    \n",
    "        losses_meter= AverageMeter()\n",
    "\n",
    "        measure_meter = AverageMeter()\n",
    "        batchtime_meter = AverageMeter()\n",
    "        start = time.time()\n",
    "        end = time.time()\n",
    "        pbar = tqdm(total=len(ble_dataset_test), ncols=80)\n",
    "        for i,data in enumerate(test_dl):\n",
    "            blur,label=data\n",
    "            blur,label=blur.cuda(),label.cuda()\n",
    "            #ble=model(blur)\n",
    "          #  blur = (blur+0.5)*255\n",
    "          #  label =  label*150\n",
    "            \n",
    "          #  padder = InputPadder(blur.shape)\n",
    "          #  blur, _ = padder.pad(blur, blur)\n",
    "\n",
    "           # flow_low_12, flow_up_12 = model(blur, blur, iters=20, test_mode=True)\n",
    "            ble=model(blur)\n",
    "          #  ble = torch.sqrt(flow_up_12[:,0,:,:]**2+flow_up_12[:,1,:,:]**2)\n",
    "          #  ble = ble.unsqueeze(1)\n",
    "            \n",
    "            loss=L1(ble,label)\n",
    "            measure=L1(ble,label)\n",
    "            losses_meter.update(loss.detach().item(), blur.size(0))\n",
    "            measure_meter.update(measure.detach().item(), blur.size(0))\n",
    "            \n",
    "            batchtime_meter.update(time.time() - end)\n",
    "            end = time.time()\n",
    "            pbar.update(blur.size(0))\n",
    "            \n",
    "  \n",
    "            \n",
    "    pbar.close()\n",
    "    logger.register(losses_name + '_valid', epoch, losses_meter.avg)\n",
    "    logger.register(losses_name + '_valid', epoch, measure_meter.avg)\n",
    "    logger.writer.add_scalar(losses_name + '_loss_valid', losses_meter.avg, epoch)\n",
    "    logger.writer.add_scalar(losses_name + '_valid', measure_meter.avg, epoch)\n",
    "    logger.writer.add_scalar('lr', opt.get_lr(), epoch)\n",
    "    logger('[valid] epoch time: {:.2f}s, average batch time: {:.2f}s'.format(end - start, batchtime_meter.avg),\n",
    "           timestamp=False)\n",
    "    logger.report([[losses_name, 'min'], [losses_name, 'min']], state='valid', epoch=epoch)\n",
    "    \n",
    "    checkpoint = {\n",
    "            'epoch': epoch,\n",
    "            'model': model_name,\n",
    "            'state_dict': model.state_dict(),\n",
    "            'register_dict': logger.register_dict,\n",
    "            'optimizer': opt.optimizer.state_dict(),\n",
    "            'scheduler': opt.scheduler.state_dict()\n",
    "        }\n",
    "    logger.save(checkpoint)"
   ]
  },
  {
   "cell_type": "code",
   "execution_count": null,
   "metadata": {},
   "outputs": [],
   "source": [
    "## model.eval()\n",
    "with torch.no_grad():\n",
    "       \n",
    "    for i,data in enumerate(train_dl):\n",
    "        \n",
    "        blur,label=data\n",
    "        blur,label=blur.cuda(),label.cuda()\n",
    "        #blur = (blur+0.5)*255\n",
    "        \n",
    "        \n",
    "        #padder = InputPadder(blur.shape)\n",
    "        #blur, _ = padder.pad(blur, blur)\n",
    "\n",
    "        #flow_low_12, flow_up_12 = model(blur, blur, iters=20, test_mode=True)\n",
    "        #ble=model(blur)\n",
    "        #ble = torch.sqrt(flow_up_12[:,0,:,:]**2+flow_up_12[:,1,:,:]**2)\n",
    "        #ble = ble.unsqueeze(1)\n",
    "        \n",
    "        ble=model(blur)\n",
    "        \n",
    "        blr = blur[0].to('cpu').detach().numpy().transpose(1,2,0)+0.5\n",
    "        bl = ble[0].to('cpu').detach().numpy().squeeze()\n",
    "        gt = label[0].to('cpu').detach().numpy().squeeze()\n",
    "        \n",
    "        \n",
    "        plt.figure()\n",
    "        plt.imshow(blr)\n",
    "        \n",
    "        plt.figure()\n",
    "        plt.imshow(bl)\n",
    "        \n",
    "        plt.figure()\n",
    "        plt.imshow(gt)\n",
    "        \n",
    "        break"
   ]
  },
  {
   "cell_type": "code",
   "execution_count": null,
   "metadata": {},
   "outputs": [],
   "source": []
  },
  {
   "cell_type": "code",
   "execution_count": null,
   "metadata": {},
   "outputs": [],
   "source": []
  },
  {
   "cell_type": "markdown",
   "metadata": {},
   "source": [
    "# "
   ]
  },
  {
   "cell_type": "code",
   "execution_count": 19,
   "metadata": {},
   "outputs": [
    {
     "data": {
      "text/plain": [
       "RAFT(\n",
       "  (fnet): SmallEncoder(\n",
       "    (norm1): InstanceNorm2d(32, eps=1e-05, momentum=0.1, affine=False, track_running_stats=False)\n",
       "    (conv1): Conv2d(3, 32, kernel_size=(7, 7), stride=(2, 2), padding=(3, 3))\n",
       "    (relu1): ReLU(inplace=True)\n",
       "    (layer1): Sequential(\n",
       "      (0): BottleneckBlock(\n",
       "        (conv1): Conv2d(32, 8, kernel_size=(1, 1), stride=(1, 1))\n",
       "        (conv2): Conv2d(8, 8, kernel_size=(3, 3), stride=(1, 1), padding=(1, 1))\n",
       "        (conv3): Conv2d(8, 32, kernel_size=(1, 1), stride=(1, 1))\n",
       "        (relu): ReLU(inplace=True)\n",
       "        (norm1): InstanceNorm2d(8, eps=1e-05, momentum=0.1, affine=False, track_running_stats=False)\n",
       "        (norm2): InstanceNorm2d(8, eps=1e-05, momentum=0.1, affine=False, track_running_stats=False)\n",
       "        (norm3): InstanceNorm2d(32, eps=1e-05, momentum=0.1, affine=False, track_running_stats=False)\n",
       "      )\n",
       "      (1): BottleneckBlock(\n",
       "        (conv1): Conv2d(32, 8, kernel_size=(1, 1), stride=(1, 1))\n",
       "        (conv2): Conv2d(8, 8, kernel_size=(3, 3), stride=(1, 1), padding=(1, 1))\n",
       "        (conv3): Conv2d(8, 32, kernel_size=(1, 1), stride=(1, 1))\n",
       "        (relu): ReLU(inplace=True)\n",
       "        (norm1): InstanceNorm2d(8, eps=1e-05, momentum=0.1, affine=False, track_running_stats=False)\n",
       "        (norm2): InstanceNorm2d(8, eps=1e-05, momentum=0.1, affine=False, track_running_stats=False)\n",
       "        (norm3): InstanceNorm2d(32, eps=1e-05, momentum=0.1, affine=False, track_running_stats=False)\n",
       "      )\n",
       "    )\n",
       "    (layer2): Sequential(\n",
       "      (0): BottleneckBlock(\n",
       "        (conv1): Conv2d(32, 16, kernel_size=(1, 1), stride=(1, 1))\n",
       "        (conv2): Conv2d(16, 16, kernel_size=(3, 3), stride=(2, 2), padding=(1, 1))\n",
       "        (conv3): Conv2d(16, 64, kernel_size=(1, 1), stride=(1, 1))\n",
       "        (relu): ReLU(inplace=True)\n",
       "        (norm1): InstanceNorm2d(16, eps=1e-05, momentum=0.1, affine=False, track_running_stats=False)\n",
       "        (norm2): InstanceNorm2d(16, eps=1e-05, momentum=0.1, affine=False, track_running_stats=False)\n",
       "        (norm3): InstanceNorm2d(64, eps=1e-05, momentum=0.1, affine=False, track_running_stats=False)\n",
       "        (norm4): InstanceNorm2d(64, eps=1e-05, momentum=0.1, affine=False, track_running_stats=False)\n",
       "        (downsample): Sequential(\n",
       "          (0): Conv2d(32, 64, kernel_size=(1, 1), stride=(2, 2))\n",
       "          (1): InstanceNorm2d(64, eps=1e-05, momentum=0.1, affine=False, track_running_stats=False)\n",
       "        )\n",
       "      )\n",
       "      (1): BottleneckBlock(\n",
       "        (conv1): Conv2d(64, 16, kernel_size=(1, 1), stride=(1, 1))\n",
       "        (conv2): Conv2d(16, 16, kernel_size=(3, 3), stride=(1, 1), padding=(1, 1))\n",
       "        (conv3): Conv2d(16, 64, kernel_size=(1, 1), stride=(1, 1))\n",
       "        (relu): ReLU(inplace=True)\n",
       "        (norm1): InstanceNorm2d(16, eps=1e-05, momentum=0.1, affine=False, track_running_stats=False)\n",
       "        (norm2): InstanceNorm2d(16, eps=1e-05, momentum=0.1, affine=False, track_running_stats=False)\n",
       "        (norm3): InstanceNorm2d(64, eps=1e-05, momentum=0.1, affine=False, track_running_stats=False)\n",
       "      )\n",
       "    )\n",
       "    (layer3): Sequential(\n",
       "      (0): BottleneckBlock(\n",
       "        (conv1): Conv2d(64, 24, kernel_size=(1, 1), stride=(1, 1))\n",
       "        (conv2): Conv2d(24, 24, kernel_size=(3, 3), stride=(2, 2), padding=(1, 1))\n",
       "        (conv3): Conv2d(24, 96, kernel_size=(1, 1), stride=(1, 1))\n",
       "        (relu): ReLU(inplace=True)\n",
       "        (norm1): InstanceNorm2d(24, eps=1e-05, momentum=0.1, affine=False, track_running_stats=False)\n",
       "        (norm2): InstanceNorm2d(24, eps=1e-05, momentum=0.1, affine=False, track_running_stats=False)\n",
       "        (norm3): InstanceNorm2d(96, eps=1e-05, momentum=0.1, affine=False, track_running_stats=False)\n",
       "        (norm4): InstanceNorm2d(96, eps=1e-05, momentum=0.1, affine=False, track_running_stats=False)\n",
       "        (downsample): Sequential(\n",
       "          (0): Conv2d(64, 96, kernel_size=(1, 1), stride=(2, 2))\n",
       "          (1): InstanceNorm2d(96, eps=1e-05, momentum=0.1, affine=False, track_running_stats=False)\n",
       "        )\n",
       "      )\n",
       "      (1): BottleneckBlock(\n",
       "        (conv1): Conv2d(96, 24, kernel_size=(1, 1), stride=(1, 1))\n",
       "        (conv2): Conv2d(24, 24, kernel_size=(3, 3), stride=(1, 1), padding=(1, 1))\n",
       "        (conv3): Conv2d(24, 96, kernel_size=(1, 1), stride=(1, 1))\n",
       "        (relu): ReLU(inplace=True)\n",
       "        (norm1): InstanceNorm2d(24, eps=1e-05, momentum=0.1, affine=False, track_running_stats=False)\n",
       "        (norm2): InstanceNorm2d(24, eps=1e-05, momentum=0.1, affine=False, track_running_stats=False)\n",
       "        (norm3): InstanceNorm2d(96, eps=1e-05, momentum=0.1, affine=False, track_running_stats=False)\n",
       "      )\n",
       "    )\n",
       "    (conv2): Conv2d(96, 128, kernel_size=(1, 1), stride=(1, 1))\n",
       "  )\n",
       "  (cnet): SmallEncoder(\n",
       "    (norm1): Sequential()\n",
       "    (conv1): Conv2d(3, 32, kernel_size=(7, 7), stride=(2, 2), padding=(3, 3))\n",
       "    (relu1): ReLU(inplace=True)\n",
       "    (layer1): Sequential(\n",
       "      (0): BottleneckBlock(\n",
       "        (conv1): Conv2d(32, 8, kernel_size=(1, 1), stride=(1, 1))\n",
       "        (conv2): Conv2d(8, 8, kernel_size=(3, 3), stride=(1, 1), padding=(1, 1))\n",
       "        (conv3): Conv2d(8, 32, kernel_size=(1, 1), stride=(1, 1))\n",
       "        (relu): ReLU(inplace=True)\n",
       "        (norm1): Sequential()\n",
       "        (norm2): Sequential()\n",
       "        (norm3): Sequential()\n",
       "      )\n",
       "      (1): BottleneckBlock(\n",
       "        (conv1): Conv2d(32, 8, kernel_size=(1, 1), stride=(1, 1))\n",
       "        (conv2): Conv2d(8, 8, kernel_size=(3, 3), stride=(1, 1), padding=(1, 1))\n",
       "        (conv3): Conv2d(8, 32, kernel_size=(1, 1), stride=(1, 1))\n",
       "        (relu): ReLU(inplace=True)\n",
       "        (norm1): Sequential()\n",
       "        (norm2): Sequential()\n",
       "        (norm3): Sequential()\n",
       "      )\n",
       "    )\n",
       "    (layer2): Sequential(\n",
       "      (0): BottleneckBlock(\n",
       "        (conv1): Conv2d(32, 16, kernel_size=(1, 1), stride=(1, 1))\n",
       "        (conv2): Conv2d(16, 16, kernel_size=(3, 3), stride=(2, 2), padding=(1, 1))\n",
       "        (conv3): Conv2d(16, 64, kernel_size=(1, 1), stride=(1, 1))\n",
       "        (relu): ReLU(inplace=True)\n",
       "        (norm1): Sequential()\n",
       "        (norm2): Sequential()\n",
       "        (norm3): Sequential()\n",
       "        (norm4): Sequential()\n",
       "        (downsample): Sequential(\n",
       "          (0): Conv2d(32, 64, kernel_size=(1, 1), stride=(2, 2))\n",
       "          (1): Sequential()\n",
       "        )\n",
       "      )\n",
       "      (1): BottleneckBlock(\n",
       "        (conv1): Conv2d(64, 16, kernel_size=(1, 1), stride=(1, 1))\n",
       "        (conv2): Conv2d(16, 16, kernel_size=(3, 3), stride=(1, 1), padding=(1, 1))\n",
       "        (conv3): Conv2d(16, 64, kernel_size=(1, 1), stride=(1, 1))\n",
       "        (relu): ReLU(inplace=True)\n",
       "        (norm1): Sequential()\n",
       "        (norm2): Sequential()\n",
       "        (norm3): Sequential()\n",
       "      )\n",
       "    )\n",
       "    (layer3): Sequential(\n",
       "      (0): BottleneckBlock(\n",
       "        (conv1): Conv2d(64, 24, kernel_size=(1, 1), stride=(1, 1))\n",
       "        (conv2): Conv2d(24, 24, kernel_size=(3, 3), stride=(2, 2), padding=(1, 1))\n",
       "        (conv3): Conv2d(24, 96, kernel_size=(1, 1), stride=(1, 1))\n",
       "        (relu): ReLU(inplace=True)\n",
       "        (norm1): Sequential()\n",
       "        (norm2): Sequential()\n",
       "        (norm3): Sequential()\n",
       "        (norm4): Sequential()\n",
       "        (downsample): Sequential(\n",
       "          (0): Conv2d(64, 96, kernel_size=(1, 1), stride=(2, 2))\n",
       "          (1): Sequential()\n",
       "        )\n",
       "      )\n",
       "      (1): BottleneckBlock(\n",
       "        (conv1): Conv2d(96, 24, kernel_size=(1, 1), stride=(1, 1))\n",
       "        (conv2): Conv2d(24, 24, kernel_size=(3, 3), stride=(1, 1), padding=(1, 1))\n",
       "        (conv3): Conv2d(24, 96, kernel_size=(1, 1), stride=(1, 1))\n",
       "        (relu): ReLU(inplace=True)\n",
       "        (norm1): Sequential()\n",
       "        (norm2): Sequential()\n",
       "        (norm3): Sequential()\n",
       "      )\n",
       "    )\n",
       "    (conv2): Conv2d(96, 160, kernel_size=(1, 1), stride=(1, 1))\n",
       "  )\n",
       "  (update_block): SmallUpdateBlock(\n",
       "    (encoder): SmallMotionEncoder(\n",
       "      (convc1): Conv2d(196, 96, kernel_size=(1, 1), stride=(1, 1))\n",
       "      (convf1): Conv2d(2, 64, kernel_size=(7, 7), stride=(1, 1), padding=(3, 3))\n",
       "      (convf2): Conv2d(64, 32, kernel_size=(3, 3), stride=(1, 1), padding=(1, 1))\n",
       "      (conv): Conv2d(128, 80, kernel_size=(3, 3), stride=(1, 1), padding=(1, 1))\n",
       "    )\n",
       "    (gru): ConvGRU(\n",
       "      (convz): Conv2d(242, 96, kernel_size=(3, 3), stride=(1, 1), padding=(1, 1))\n",
       "      (convr): Conv2d(242, 96, kernel_size=(3, 3), stride=(1, 1), padding=(1, 1))\n",
       "      (convq): Conv2d(242, 96, kernel_size=(3, 3), stride=(1, 1), padding=(1, 1))\n",
       "    )\n",
       "    (flow_head): FlowHead(\n",
       "      (conv1): Conv2d(96, 128, kernel_size=(3, 3), stride=(1, 1), padding=(1, 1))\n",
       "      (conv2): Conv2d(128, 2, kernel_size=(3, 3), stride=(1, 1), padding=(1, 1))\n",
       "      (relu): ReLU(inplace=True)\n",
       "    )\n",
       "  )\n",
       ")"
      ]
     },
     "execution_count": 19,
     "metadata": {},
     "output_type": "execute_result"
    }
   ],
   "source": [
    "model = torch.nn.DataParallel(RAFT(args))\n",
    "model.load_state_dict(torch.load(args.model))\n",
    "\n",
    "model = model.module\n",
    "model.to(DEVICE)"
   ]
  },
  {
   "cell_type": "code",
   "execution_count": null,
   "metadata": {},
   "outputs": [],
   "source": []
  }
 ],
 "metadata": {
  "kernelspec": {
   "display_name": "Python 3",
   "language": "python",
   "name": "python3"
  },
  "language_info": {
   "codemirror_mode": {
    "name": "ipython",
    "version": 3
   },
   "file_extension": ".py",
   "mimetype": "text/x-python",
   "name": "python",
   "nbconvert_exporter": "python",
   "pygments_lexer": "ipython3",
   "version": "3.8.5"
  }
 },
 "nbformat": 4,
 "nbformat_minor": 4
}
